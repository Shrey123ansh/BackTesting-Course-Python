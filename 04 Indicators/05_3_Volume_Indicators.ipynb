{
 "cells": [
  {
   "cell_type": "code",
   "execution_count": 4,
   "metadata": {},
   "outputs": [
    {
     "data": {
      "application/vnd.plotly.v1+json": {
       "config": {
        "plotlyServerURL": "https://plot.ly"
       },
       "data": [
        {
         "close": {
          "bdata": "egbTBtgGQQecBsYG6gYZB1wHkgdnCKkIfgmkCcMIAwnMCO8IawmACUEKOAuzCr4KEwvzCY4K+Qk7CbgJFAq+CmQKcAqUCjQJmgkjCv8JyAn+CREKNAomCtMJUQkaCVcJIwlwCH4ILQnPCKoKQgrICqcJyAkYCsQKRgu5CoMK3woQCw4Ndw0iDWENBA6nEOgPABHsENEQnQ/pDyYQihDpEPQQ9RHfEYYSgxIPEWwR2RHgEZgQYRBUEDoPQA2ODqcPQg94D0EOIA5mD0QPOhBFEE0QKRG9EGkQ+xD1EOwSCRPbEscU8RUvFssVhBVFFlUXGhfcFTEW1BZ8FtQX6hi0GZIbPRzdG6MbYBzSG7gZbBnBGX4c1R4bHjogyB8NIOgfOiC5Jdkm2ie+JZcq7CwCLls0uz4fPf5CbkNxQXpA4UTzSAlCWz8ZPKU3GTY6PmY7cjbpN+w5DjuTOvJBlDr/ONA4zDTlNYI2/CmpLDUtkiyiKBgrAiwlLMQqKizZJ1En2CO7If8bhB7KHyYgniG0IqIhfyTDJpongSvwLVoo5SbyJr8oPCpWKewqSCuTLYoqOifmJO8jpyPQI+AgrCC8IVIhHSMDI98h9CEcH4EfJx8EHBsbXBsyHfgapxoTGlEaABs2G3seHh97HzYfRiByIJMhLCMzJbkj5iNXI4IkhCMmJAUmHiYoJRMkcCTGIzYhsCKHIaUgTSBjIBch7R/lHbQdVh1wHIsd7Ry2HU8dqB0QHgEeLh4fHqUawhm1GEIaoxmIGmoanRp+GvoXphhkGCkY2RdKFxwaFRpbGqUZ5RlnGjAZDhlXGGUYQBrOHOUcOB32HFUeXiAyIAggYCAWIEkedB22HRgdRhsaG+gYqBloGL8Y8xcgGasYhxlzGW0Z9xhPGQ8agBrnG8EbPhvEG8EcAx1lG24ZaRndGKwY5xh/GcMZhRjqGFQZJRl7GiIaMRmiGWIaNBrkGc4ZfhnsGeUZNBofGvkZoRimGDUZdRlfGTQZKhlKGTMZVRk7GUEZoBi5GNsY/hgOGT4ZUhmjGVAZ9RjjGMMY6xWZFYIV6xIsEZ4RiBHfEIcO8g65EJQQlw9cD3cPxw5HDnoNhQ1oDawN8gySDOENCg6QDtYPRQ8dEB4Q+w49DnEPlQ6UDmkPDg82D+IP2w/fD2sOfQ6MDi0OTw5kDlgO/Q0xDhQOLw4iDpUNhQ2kDZUNtg2WDZsNYg1bDUYORA40Di8OLg4oDkgPbA+FD3UPoQ8ZDwoP4Q4VDzEPsA42D0EPWg9XD0MPVQ9ID0gPdg+/D9QP5g+8D8YPZw+AD+AP4g8mEFYQ+RLmFCoTxBPAFA==",
          "dtype": "i2"
         },
         "high": {
          "bdata": "kQbZBukGXwcsBwsH9gZAB18Hqwf7COAIkgnxCncKMQlCCSEJugmSCUYKfQtGC/0KLwu7C+QKAwv/Cd4JGwrZCt0KqQqwCgEKpgknCi0KCAoZClIKPwpGCjIK7QlpCW4Jcgk0CY0IXQlhCasK1gryCt0KMwonChQLTQtwC8gK9go+C2MNoQ2FDYINBg73EGQRAxF/EQcRORAwEKkQoRBmERIRIxIgEqESiRIhEsIRUhJTElYSHBEiEXQQdg8ODx8QHBDOD4cPsw55D30PYRC1EH4QdhFPEQERCBFCEQcTPxMMEw8V7BZ+FpoW7RVtFrAXqxcsFz4WYRdsF0wYHhn6GekcGx0VHT0cyx5DHbQcrBpcGrIc2h4/H2MguCBwIFsgjCAXJvcmrywvKr4qPi1bLqc050TfQhhEsESlRAdDLEY4TEJKvEW8Q8M9JTkeP3ZAjzz1OsE7cjxrPFRCf0A9PJ05pjpWNyY4lTYtLksv0S6cLq8sGS3zLZAtOy4qLMsoOyhHJBchMB++IeghSSL6IkQjyyQgKGooKCwXLjIu4yrgKAYpnypvK4Ar3Cv7LcIt8irmJzQlFSduJfQkTiEGInsilCMfJMojiiIQIo8g7h+KH+McEhycHVwdSxsIG08cGxt8G5ofZCAiIScgcCCuILYhbSM/JWQmHiTpJC8liCQrJFkmkCYEJjslziXxJOwj7yLMIqEhViGSIMMhJSHuH20eIh5MHaIdwx3uHfcdjB4vHjoehx5PHuoaPBsWGnAaXhrLGvUa2xrDGpoa9xi7GKgYXRjbF0oaSRq9GmgaIhqgGswaQBknGfoYcRpXHdYdkB06HrIe3SBdIbkgiiCKIEIglx5QHsodMRwpHPwa0RkcGr8ZxxgUGoYZ1BnNGYsZFhuPGS4apxoRHAwc0xvrG9ocKB0XHYEbwBk2GUEZAhm7GfIZvhksGa8Zbhm1Gn0aIxrNGYgayRozGhEa4RkdGgwaZRpEGkkaGxrgGNAcmBmRGZUZRBliGU0ZeBlaGW4ZTxnOGA4Z/xgnGWUZcRnGGa0ZVhksGfQY0RhFFiUW8xVWE1ASKRKXETcQEg8+EWYRBRF5EPoPhQ89D2EOPw6eDdsNrg0ZDTgOMA6OD4gQfRDIEB4QTg87D68PPw+VDncPhQ9GDyIQQhADEP0Pqg61DqEOjQ6GDn4OJg5VDlsORg41DhIOrQ2/DcsNug2pDaMNrw1yDbkOgA5fDmYOQA5dDogPvw+3D84Prw9QDzIPKw9oDz8PGQ9aD28Pbg+CD4MPYA9dD3UPgQ/qD+YP7g8TENYPwA+OD/gP+w88EGwQDBTzFBcVBRQdFQ==",
          "dtype": "i2"
         },
         "low": {
          "bdata": "FQZaBo0G8QZzBrIGrgbSBgMHTQfPB8YHkwiyCMMILQijCFYI6AhGCcgJggqzCjQKvQqRCU4K2wkdCAAJnAkaCk0KCwpoCtAI3Qh8CccJsgmsCfEJ9AkVCroJOQnQCMMIBglpCD8HYQisCMUIOAqhCpIJZAmUCRgKhwpWCmwKWgrNCnkMDQ2mDOQMTA2QD+IO2w9ZEGEQfw++DrQP/A96EF8Q9BCUEc0RdxJGECoQPxGDESwQEhDwD5kOrgyfC3kOCw/9DvUNtw1QDg8PIw8fELIPCRGMEFkQMhDJEM0RhBJmErcSnxR9FZUV9hNvFfMVEBa7Ff4UChY6FowXxRfcGK4ZHRsmGxQbgxuWGxQZ5RUAGY4Z1BtwHQwfeB4jH6EfwR4/JFMlPCNEI6EkUCnGLLItEzRDNs84rD+MPb0+qT/HRmFByz0GOhoq2TJhNSs5vzRnNt0yQDm7NyY6jTaCN7A0LDJTMoM0qCgJJJYpvCpgJxgnMynDKnkoVyuAJtQl/SHwHfEZXhdIHKMdfh6GH+cgXCFWJBsmhyhoKzwoOCaqJdok0ifMKCgoWip/LKspRCXfIyYhviL/In8gZx5XH+If8CB/InUhqyD9HosegB4EHAUasBpUG5Qa/Bm3GSMaTBrJGrEaZh4oH9seBh/sH2MggSIfI4UiHSJGI+kjzCJgIxgkhCUvJKIjVSOcIwEhnyAzIeYfACA6H7wg1x9SHaoc6hxAHM0brBzeHPocVR3/HIEdAh66HTMadBk2GJ8YdhkzGU8a4BlcGsMXARgxGKkXyRfcFsAYwhlKGXEZcBlFGvUYwRg7GAIY+BgzGoYcrxyqHOscUB61H/Mfsx7xHi4eZR1MHbYcIxv2GiwYaxg9GEcYOxfzF4MYmBgvGZUY1hioGE8ZOxp2GjwbyxomG1YcfhwMG7sY9RiCGGEYdhjYGDMZfhiEGBwYABkVGesZ+BgkGVwZxhmmGXgZSRldGcAZxBnmGYIZJRg/GHwYKhlHGREZERkkGRIZMhkWGSkZfRiYGHcY0xj4GCEZLxlRGTQZ4xjfGK8Y+BSRFH0VjBIPEJgQRhE5EP0NIQ7dDjMQVg/dDtEOjQ4WDscMWA0bDTkN1Qx7DKsMpg3/DYoO+Q6ADx4Qog4tDisObw6UDrcO7Q7ODr0PqA+4DywOQA7iDRcOKw4UDjYO8A2fDf4NBA70DWgNSQ1oDX8NaA18DYINQw1VDUoNNw4YDiIODA4WDj4OMg9WD1cPaQ/NDvEOhw7ZDgUPkw6eDh8PMQ9EDyUPEw8uDwUPQg+ZD6oPuA+MD7EPSw9hD3wP0g/eDw4QVRDkEuoSIBNHFA==",
          "dtype": "i2"
         },
         "open": {
          "bdata": "FwZ6BrEG+AYsBwcHzAbqBhQHXAfmB2gIugh4CbUJSAgJCdUI7whtCcoJggo4C7QKvgprC2EKjwr5CToJpgklCr4KZQpwCqkJLQmaCSMK/gnDCf4JEQo0CiYK4QlRCRoJVgkiCUkHfQguCc8IqgrkCsgKpAnICRgKyQpJC7QKgwrfCsIMDw13DSwNYQ2rD6cQ6A/lEOgQFxC/DukPJhCKEA4R9BD1Ed8RhhISEg8RbBHZEfYRwRBkEFQQOg9ADaQOpw9HD3cPQg5WDmYPRA86EEUQJBEoEbwQaRD7EOcR6xIJE9sSxhSVFTEWyhWFFUUW+hYaF90VMRbUFiEY1BfpGLQZlRvBHNkboxtfHNEbBhdrGcEZfxzWHlYfOiDIHw8g6B93JLUlwibYJ70lyyrtLAIuEzS4PtU5/kJmQ3JBi0ApSvNIYEJVPx48dDPaNT0+YTt3Nh81BzoCO5A6cz+KOuA42jj1NJQ0cjaGKZMsNC2gLJUoGiv4KyksNC4aLNMnSSfhI7YfHhyHHsMfICCYILQirSF5JOgmOiqXK/EtdCjeJq0lvyg9Kl0p6irVLJctiio/J9okriWoI88j4CCsIHUgUiEdIwMj3yH5IR8fhR8nHwQc7hpgGzEd/xqmGpwbURoAGzQbgB65IHsfNh9HIHIgGiMqIzYluSPfI7QkgiSEIyYk/yWNJSwlFCRtJMYjEiKuIoghmSBMII0hGCHsH+IdtB3eHGwckh3tHLUdTB6oHRIeAh4uHpYapxrCGbQYQhqhGYoaaRqeGn8aaximGGQYKhjbFwAZGhoWGloaqBmYGmcaNhkOGVcYJxlAGs8c1Bw7HaYdVR5jIDMgCCBCIBkgUx50HbQdyhtGG/sa7hi1Gf8YvxjzFyEZqxi9GXMZcBn3GFAZUxp/GucbwRs+G7AcwRwDHWUbbhkwGd0YqhjkGH8ZoRmEGPIYVRklGVMaIxoxGaIZYxrfGeIZyBl8GegZzRk1Gh8a9hmkGLoYNhl1GWAZNBlfGUkZNRlVGT4ZOBmgGLgY2xj+GEoZPRlSGaIZUBnqGOIYwxjlFaQV5RXrEi0RnxGKEQwQjA7yDrkQlBBuEFwPdw/HDkcOAA6EDWgNrA3yDL8M4A0KDpAO1g+pDx4QDA/8Dj0OKQ+VDsMOaQ8OD/0P4g/bD98Paw74DYwOLQ5QDmUOEA7+DTEOFA4vDhIOlQ2FDaUNlQ1/DZYNmw1iDVsNUg5EDjQOMA4uDj4OSA9sD4UPdQ8FDxkPCw/hDhUPCg+wDjYPQQ9aD3UPRA9VD0gPSA/ED78P1A/nD7wPrQ9mD4EP4A/iDzQQXBD/EuYULRNPFA==",
          "dtype": "i2"
         },
         "type": "candlestick",
         "x": {
          "bdata": "AAABAAIAAwAEAAUABgAHAAgACQAKAAsADAANAA4ADwAQABEAEgATABQAFQAWABcAGAAZABoAGwAcAB0AHgAfACAAIQAiACMAJAAlACYAJwAoACkAKgArACwALQAuAC8AMAAxADIAMwA0ADUANgA3ADgAOQA6ADsAPAA9AD4APwBAAEEAQgBDAEQARQBGAEcASABJAEoASwBMAE0ATgBPAFAAUQBSAFMAVABVAFYAVwBYAFkAWgBbAFwAXQBeAF8AYABhAGIAYwBkAGUAZgBnAGgAaQBqAGsAbABtAG4AbwBwAHEAcgBzAHQAdQB2AHcAeAB5AHoAewB8AH0AfgB/AIAAgQCCAIMAhACFAIYAhwCIAIkAigCLAIwAjQCOAI8AkACRAJIAkwCUAJUAlgCXAJgAmQCaAJsAnACdAJ4AnwCgAKEAogCjAKQApQCmAKcAqACpAKoAqwCsAK0ArgCvALAAsQCyALMAtAC1ALYAtwC4ALkAugC7ALwAvQC+AL8AwADBAMIAwwDEAMUAxgDHAMgAyQDKAMsAzADNAM4AzwDQANEA0gDTANQA1QDWANcA2ADZANoA2wDcAN0A3gDfAOAA4QDiAOMA5ADlAOYA5wDoAOkA6gDrAOwA7QDuAO8A8ADxAPIA8wD0APUA9gD3APgA+QD6APsA/AD9AP4A/wAAAQEBAgEDAQQBBQEGAQcBCAEJAQoBCwEMAQ0BDgEPARABEQESARMBFAEVARYBFwEYARkBGgEbARwBHQEeAR8BIAEhASIBIwEkASUBJgEnASgBKQEqASsBLAEtAS4BLwEwATEBMgEzATQBNQE2ATcBOAE5AToBOwE8AT0BPgE/AUABQQFCAUMBRAFFAUYBRwFIAUkBSgFLAUwBTQFOAU8BUAFRAVIBUwFUAVUBVgFXAVgBWQFaAVsBXAFdAV4BXwFgAWEBYgFjAWQBZQFmAWcBaAFpAWoBawFsAW0BbgFvAXABcQFyAXMBdAF1AXYBdwF4AXkBegF7AXwBfQF+AX8BgAGBAYIBgwGEAYUBhgGHAYgBiQGKAYsBjAGNAY4BjwGQAZEBkgGTAZQBlQGWAZcBmAGZAZoBmwGcAZ0BngGfAaABoQGiAaMBpAGlAaYBpwGoAakBqgGrAawBrQGuAa8BsAGxAbIBswG0AbUBtgG3AbgBuQG6AbsBvAG9Ab4BvwHAAcEBwgHDAcQBxQHGAccByAHJAcoBywHMAc0BzgHPAdAB0QHSAdMB1AHVAdYB1wHYAdkB2gHbAdwB3QHeAd8B4AHhAeIB4wHkAeUB5gHnAegB6QHqAesB7AHtAe4B7wHwAfEB8gHzAQ==",
          "dtype": "i2"
         },
         "xaxis": "x",
         "yaxis": "y"
        },
        {
         "name": "OBV",
         "type": "scatter",
         "x": {
          "bdata": "AAABAAIAAwAEAAUABgAHAAgACQAKAAsADAANAA4ADwAQABEAEgATABQAFQAWABcAGAAZABoAGwAcAB0AHgAfACAAIQAiACMAJAAlACYAJwAoACkAKgArACwALQAuAC8AMAAxADIAMwA0ADUANgA3ADgAOQA6ADsAPAA9AD4APwBAAEEAQgBDAEQARQBGAEcASABJAEoASwBMAE0ATgBPAFAAUQBSAFMAVABVAFYAVwBYAFkAWgBbAFwAXQBeAF8AYABhAGIAYwBkAGUAZgBnAGgAaQBqAGsAbABtAG4AbwBwAHEAcgBzAHQAdQB2AHcAeAB5AHoAewB8AH0AfgB/AIAAgQCCAIMAhACFAIYAhwCIAIkAigCLAIwAjQCOAI8AkACRAJIAkwCUAJUAlgCXAJgAmQCaAJsAnACdAJ4AnwCgAKEAogCjAKQApQCmAKcAqACpAKoAqwCsAK0ArgCvALAAsQCyALMAtAC1ALYAtwC4ALkAugC7ALwAvQC+AL8AwADBAMIAwwDEAMUAxgDHAMgAyQDKAMsAzADNAM4AzwDQANEA0gDTANQA1QDWANcA2ADZANoA2wDcAN0A3gDfAOAA4QDiAOMA5ADlAOYA5wDoAOkA6gDrAOwA7QDuAO8A8ADxAPIA8wD0APUA9gD3APgA+QD6APsA/AD9AP4A/wAAAQEBAgEDAQQBBQEGAQcBCAEJAQoBCwEMAQ0BDgEPARABEQESARMBFAEVARYBFwEYARkBGgEbARwBHQEeAR8BIAEhASIBIwEkASUBJgEnASgBKQEqASsBLAEtAS4BLwEwATEBMgEzATQBNQE2ATcBOAE5AToBOwE8AT0BPgE/AUABQQFCAUMBRAFFAUYBRwFIAUkBSgFLAUwBTQFOAU8BUAFRAVIBUwFUAVUBVgFXAVgBWQFaAVsBXAFdAV4BXwFgAWEBYgFjAWQBZQFmAWcBaAFpAWoBawFsAW0BbgFvAXABcQFyAXMBdAF1AXYBdwF4AXkBegF7AXwBfQF+AX8BgAGBAYIBgwGEAYUBhgGHAYgBiQGKAYsBjAGNAY4BjwGQAZEBkgGTAZQBlQGWAZcBmAGZAZoBmwGcAZ0BngGfAaABoQGiAaMBpAGlAaYBpwGoAakBqgGrAawBrQGuAa8BsAGxAbIBswG0AbUBtgG3AbgBuQG6AbsBvAG9Ab4BvwHAAcEBwgHDAcQBxQHGAccByAHJAcoBywHMAc0BzgHPAdAB0QHSAdMB1AHVAdYB1wHYAdkB2gHbAdwB3QHeAd8B4AHhAeIB4wHkAeUB5gHnAegB6QHqAesB7AHtAe4B7wHwAfEB8gHzAQ==",
          "dtype": "i2"
         },
         "xaxis": "x2",
         "y": {
          "bdata": "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",
          "dtype": "f8"
         },
         "yaxis": "y2"
        }
       ],
       "layout": {
        "annotations": [
         {
          "font": {
           "size": 16
          },
          "showarrow": false,
          "text": "Price",
          "x": 0.5,
          "xanchor": "center",
          "xref": "paper",
          "y": 1,
          "yanchor": "bottom",
          "yref": "paper"
         },
         {
          "font": {
           "size": 16
          },
          "showarrow": false,
          "text": "OBV",
          "x": 0.5,
          "xanchor": "center",
          "xref": "paper",
          "y": 0.375,
          "yanchor": "bottom",
          "yref": "paper"
         }
        ],
        "template": {
         "data": {
          "bar": [
           {
            "error_x": {
             "color": "#2a3f5f"
            },
            "error_y": {
             "color": "#2a3f5f"
            },
            "marker": {
             "line": {
              "color": "#E5ECF6",
              "width": 0.5
             },
             "pattern": {
              "fillmode": "overlay",
              "size": 10,
              "solidity": 0.2
             }
            },
            "type": "bar"
           }
          ],
          "barpolar": [
           {
            "marker": {
             "line": {
              "color": "#E5ECF6",
              "width": 0.5
             },
             "pattern": {
              "fillmode": "overlay",
              "size": 10,
              "solidity": 0.2
             }
            },
            "type": "barpolar"
           }
          ],
          "carpet": [
           {
            "aaxis": {
             "endlinecolor": "#2a3f5f",
             "gridcolor": "white",
             "linecolor": "white",
             "minorgridcolor": "white",
             "startlinecolor": "#2a3f5f"
            },
            "baxis": {
             "endlinecolor": "#2a3f5f",
             "gridcolor": "white",
             "linecolor": "white",
             "minorgridcolor": "white",
             "startlinecolor": "#2a3f5f"
            },
            "type": "carpet"
           }
          ],
          "choropleth": [
           {
            "colorbar": {
             "outlinewidth": 0,
             "ticks": ""
            },
            "type": "choropleth"
           }
          ],
          "contour": [
           {
            "colorbar": {
             "outlinewidth": 0,
             "ticks": ""
            },
            "colorscale": [
             [
              0,
              "#0d0887"
             ],
             [
              0.1111111111111111,
              "#46039f"
             ],
             [
              0.2222222222222222,
              "#7201a8"
             ],
             [
              0.3333333333333333,
              "#9c179e"
             ],
             [
              0.4444444444444444,
              "#bd3786"
             ],
             [
              0.5555555555555556,
              "#d8576b"
             ],
             [
              0.6666666666666666,
              "#ed7953"
             ],
             [
              0.7777777777777778,
              "#fb9f3a"
             ],
             [
              0.8888888888888888,
              "#fdca26"
             ],
             [
              1,
              "#f0f921"
             ]
            ],
            "type": "contour"
           }
          ],
          "contourcarpet": [
           {
            "colorbar": {
             "outlinewidth": 0,
             "ticks": ""
            },
            "type": "contourcarpet"
           }
          ],
          "heatmap": [
           {
            "colorbar": {
             "outlinewidth": 0,
             "ticks": ""
            },
            "colorscale": [
             [
              0,
              "#0d0887"
             ],
             [
              0.1111111111111111,
              "#46039f"
             ],
             [
              0.2222222222222222,
              "#7201a8"
             ],
             [
              0.3333333333333333,
              "#9c179e"
             ],
             [
              0.4444444444444444,
              "#bd3786"
             ],
             [
              0.5555555555555556,
              "#d8576b"
             ],
             [
              0.6666666666666666,
              "#ed7953"
             ],
             [
              0.7777777777777778,
              "#fb9f3a"
             ],
             [
              0.8888888888888888,
              "#fdca26"
             ],
             [
              1,
              "#f0f921"
             ]
            ],
            "type": "heatmap"
           }
          ],
          "histogram": [
           {
            "marker": {
             "pattern": {
              "fillmode": "overlay",
              "size": 10,
              "solidity": 0.2
             }
            },
            "type": "histogram"
           }
          ],
          "histogram2d": [
           {
            "colorbar": {
             "outlinewidth": 0,
             "ticks": ""
            },
            "colorscale": [
             [
              0,
              "#0d0887"
             ],
             [
              0.1111111111111111,
              "#46039f"
             ],
             [
              0.2222222222222222,
              "#7201a8"
             ],
             [
              0.3333333333333333,
              "#9c179e"
             ],
             [
              0.4444444444444444,
              "#bd3786"
             ],
             [
              0.5555555555555556,
              "#d8576b"
             ],
             [
              0.6666666666666666,
              "#ed7953"
             ],
             [
              0.7777777777777778,
              "#fb9f3a"
             ],
             [
              0.8888888888888888,
              "#fdca26"
             ],
             [
              1,
              "#f0f921"
             ]
            ],
            "type": "histogram2d"
           }
          ],
          "histogram2dcontour": [
           {
            "colorbar": {
             "outlinewidth": 0,
             "ticks": ""
            },
            "colorscale": [
             [
              0,
              "#0d0887"
             ],
             [
              0.1111111111111111,
              "#46039f"
             ],
             [
              0.2222222222222222,
              "#7201a8"
             ],
             [
              0.3333333333333333,
              "#9c179e"
             ],
             [
              0.4444444444444444,
              "#bd3786"
             ],
             [
              0.5555555555555556,
              "#d8576b"
             ],
             [
              0.6666666666666666,
              "#ed7953"
             ],
             [
              0.7777777777777778,
              "#fb9f3a"
             ],
             [
              0.8888888888888888,
              "#fdca26"
             ],
             [
              1,
              "#f0f921"
             ]
            ],
            "type": "histogram2dcontour"
           }
          ],
          "mesh3d": [
           {
            "colorbar": {
             "outlinewidth": 0,
             "ticks": ""
            },
            "type": "mesh3d"
           }
          ],
          "parcoords": [
           {
            "line": {
             "colorbar": {
              "outlinewidth": 0,
              "ticks": ""
             }
            },
            "type": "parcoords"
           }
          ],
          "pie": [
           {
            "automargin": true,
            "type": "pie"
           }
          ],
          "scatter": [
           {
            "fillpattern": {
             "fillmode": "overlay",
             "size": 10,
             "solidity": 0.2
            },
            "type": "scatter"
           }
          ],
          "scatter3d": [
           {
            "line": {
             "colorbar": {
              "outlinewidth": 0,
              "ticks": ""
             }
            },
            "marker": {
             "colorbar": {
              "outlinewidth": 0,
              "ticks": ""
             }
            },
            "type": "scatter3d"
           }
          ],
          "scattercarpet": [
           {
            "marker": {
             "colorbar": {
              "outlinewidth": 0,
              "ticks": ""
             }
            },
            "type": "scattercarpet"
           }
          ],
          "scattergeo": [
           {
            "marker": {
             "colorbar": {
              "outlinewidth": 0,
              "ticks": ""
             }
            },
            "type": "scattergeo"
           }
          ],
          "scattergl": [
           {
            "marker": {
             "colorbar": {
              "outlinewidth": 0,
              "ticks": ""
             }
            },
            "type": "scattergl"
           }
          ],
          "scattermap": [
           {
            "marker": {
             "colorbar": {
              "outlinewidth": 0,
              "ticks": ""
             }
            },
            "type": "scattermap"
           }
          ],
          "scattermapbox": [
           {
            "marker": {
             "colorbar": {
              "outlinewidth": 0,
              "ticks": ""
             }
            },
            "type": "scattermapbox"
           }
          ],
          "scatterpolar": [
           {
            "marker": {
             "colorbar": {
              "outlinewidth": 0,
              "ticks": ""
             }
            },
            "type": "scatterpolar"
           }
          ],
          "scatterpolargl": [
           {
            "marker": {
             "colorbar": {
              "outlinewidth": 0,
              "ticks": ""
             }
            },
            "type": "scatterpolargl"
           }
          ],
          "scatterternary": [
           {
            "marker": {
             "colorbar": {
              "outlinewidth": 0,
              "ticks": ""
             }
            },
            "type": "scatterternary"
           }
          ],
          "surface": [
           {
            "colorbar": {
             "outlinewidth": 0,
             "ticks": ""
            },
            "colorscale": [
             [
              0,
              "#0d0887"
             ],
             [
              0.1111111111111111,
              "#46039f"
             ],
             [
              0.2222222222222222,
              "#7201a8"
             ],
             [
              0.3333333333333333,
              "#9c179e"
             ],
             [
              0.4444444444444444,
              "#bd3786"
             ],
             [
              0.5555555555555556,
              "#d8576b"
             ],
             [
              0.6666666666666666,
              "#ed7953"
             ],
             [
              0.7777777777777778,
              "#fb9f3a"
             ],
             [
              0.8888888888888888,
              "#fdca26"
             ],
             [
              1,
              "#f0f921"
             ]
            ],
            "type": "surface"
           }
          ],
          "table": [
           {
            "cells": {
             "fill": {
              "color": "#EBF0F8"
             },
             "line": {
              "color": "white"
             }
            },
            "header": {
             "fill": {
              "color": "#C8D4E3"
             },
             "line": {
              "color": "white"
             }
            },
            "type": "table"
           }
          ]
         },
         "layout": {
          "annotationdefaults": {
           "arrowcolor": "#2a3f5f",
           "arrowhead": 0,
           "arrowwidth": 1
          },
          "autotypenumbers": "strict",
          "coloraxis": {
           "colorbar": {
            "outlinewidth": 0,
            "ticks": ""
           }
          },
          "colorscale": {
           "diverging": [
            [
             0,
             "#8e0152"
            ],
            [
             0.1,
             "#c51b7d"
            ],
            [
             0.2,
             "#de77ae"
            ],
            [
             0.3,
             "#f1b6da"
            ],
            [
             0.4,
             "#fde0ef"
            ],
            [
             0.5,
             "#f7f7f7"
            ],
            [
             0.6,
             "#e6f5d0"
            ],
            [
             0.7,
             "#b8e186"
            ],
            [
             0.8,
             "#7fbc41"
            ],
            [
             0.9,
             "#4d9221"
            ],
            [
             1,
             "#276419"
            ]
           ],
           "sequential": [
            [
             0,
             "#0d0887"
            ],
            [
             0.1111111111111111,
             "#46039f"
            ],
            [
             0.2222222222222222,
             "#7201a8"
            ],
            [
             0.3333333333333333,
             "#9c179e"
            ],
            [
             0.4444444444444444,
             "#bd3786"
            ],
            [
             0.5555555555555556,
             "#d8576b"
            ],
            [
             0.6666666666666666,
             "#ed7953"
            ],
            [
             0.7777777777777778,
             "#fb9f3a"
            ],
            [
             0.8888888888888888,
             "#fdca26"
            ],
            [
             1,
             "#f0f921"
            ]
           ],
           "sequentialminus": [
            [
             0,
             "#0d0887"
            ],
            [
             0.1111111111111111,
             "#46039f"
            ],
            [
             0.2222222222222222,
             "#7201a8"
            ],
            [
             0.3333333333333333,
             "#9c179e"
            ],
            [
             0.4444444444444444,
             "#bd3786"
            ],
            [
             0.5555555555555556,
             "#d8576b"
            ],
            [
             0.6666666666666666,
             "#ed7953"
            ],
            [
             0.7777777777777778,
             "#fb9f3a"
            ],
            [
             0.8888888888888888,
             "#fdca26"
            ],
            [
             1,
             "#f0f921"
            ]
           ]
          },
          "colorway": [
           "#636efa",
           "#EF553B",
           "#00cc96",
           "#ab63fa",
           "#FFA15A",
           "#19d3f3",
           "#FF6692",
           "#B6E880",
           "#FF97FF",
           "#FECB52"
          ],
          "font": {
           "color": "#2a3f5f"
          },
          "geo": {
           "bgcolor": "white",
           "lakecolor": "white",
           "landcolor": "#E5ECF6",
           "showlakes": true,
           "showland": true,
           "subunitcolor": "white"
          },
          "hoverlabel": {
           "align": "left"
          },
          "hovermode": "closest",
          "mapbox": {
           "style": "light"
          },
          "paper_bgcolor": "white",
          "plot_bgcolor": "#E5ECF6",
          "polar": {
           "angularaxis": {
            "gridcolor": "white",
            "linecolor": "white",
            "ticks": ""
           },
           "bgcolor": "#E5ECF6",
           "radialaxis": {
            "gridcolor": "white",
            "linecolor": "white",
            "ticks": ""
           }
          },
          "scene": {
           "xaxis": {
            "backgroundcolor": "#E5ECF6",
            "gridcolor": "white",
            "gridwidth": 2,
            "linecolor": "white",
            "showbackground": true,
            "ticks": "",
            "zerolinecolor": "white"
           },
           "yaxis": {
            "backgroundcolor": "#E5ECF6",
            "gridcolor": "white",
            "gridwidth": 2,
            "linecolor": "white",
            "showbackground": true,
            "ticks": "",
            "zerolinecolor": "white"
           },
           "zaxis": {
            "backgroundcolor": "#E5ECF6",
            "gridcolor": "white",
            "gridwidth": 2,
            "linecolor": "white",
            "showbackground": true,
            "ticks": "",
            "zerolinecolor": "white"
           }
          },
          "shapedefaults": {
           "line": {
            "color": "#2a3f5f"
           }
          },
          "ternary": {
           "aaxis": {
            "gridcolor": "white",
            "linecolor": "white",
            "ticks": ""
           },
           "baxis": {
            "gridcolor": "white",
            "linecolor": "white",
            "ticks": ""
           },
           "bgcolor": "#E5ECF6",
           "caxis": {
            "gridcolor": "white",
            "linecolor": "white",
            "ticks": ""
           }
          },
          "title": {
           "x": 0.05
          },
          "xaxis": {
           "automargin": true,
           "gridcolor": "white",
           "linecolor": "white",
           "ticks": "",
           "title": {
            "standoff": 15
           },
           "zerolinecolor": "white",
           "zerolinewidth": 2
          },
          "yaxis": {
           "automargin": true,
           "gridcolor": "white",
           "linecolor": "white",
           "ticks": "",
           "title": {
            "standoff": 15
           },
           "zerolinecolor": "white",
           "zerolinewidth": 2
          }
         }
        },
        "xaxis": {
         "anchor": "y",
         "domain": [
          0,
          1
         ],
         "matches": "x2",
         "rangeslider": {
          "visible": false
         },
         "showticklabels": false
        },
        "xaxis2": {
         "anchor": "y2",
         "domain": [
          0,
          1
         ]
        },
        "yaxis": {
         "anchor": "x",
         "domain": [
          0.625,
          1
         ]
        },
        "yaxis2": {
         "anchor": "x2",
         "domain": [
          0,
          0.375
         ]
        }
       }
      }
     },
     "metadata": {},
     "output_type": "display_data"
    }
   ],
   "source": [
    "import yfinance as yf\n",
    "import pandas_ta as ta\n",
    "import plotly.graph_objects as go\n",
    "from plotly.subplots import make_subplots\n",
    "import pandas as pd\n",
    "\n",
    "# data = yf.download(tickers='BTC-USD', period='max', interval='1d')\n",
    "data = pd.read_csv(\"BTCUSD_Candlestick_1_D_ASK_08.05.2017-16.10.2021.csv\")\n",
    "\n",
    "data['OBV'] = ta.obv(data.Close, data.Volume)\n",
    "\n",
    "df = data[:500]\n",
    "\n",
    "fig = make_subplots(rows=2, cols=1, subplot_titles=['Price', 'OBV'], shared_xaxes=True)\n",
    "\n",
    "fig.add_trace(go.Candlestick(x=df.index,\n",
    "                open=df['Open'],\n",
    "                high=df['High'],\n",
    "                low=df['Low'],\n",
    "                close=df['Close']), row=1, col=1)\n",
    "fig.add_trace(go.Scatter(x=df.index, y=df['OBV'], name='OBV'), row=2, col=1)\n",
    "\n",
    "fig.update_layout(\n",
    "    xaxis=dict(rangeslider=dict(visible=False))\n",
    ")\n",
    "\n",
    "fig.show()"
   ]
  },
  {
   "cell_type": "code",
   "execution_count": 5,
   "metadata": {},
   "outputs": [
    {
     "data": {
      "application/vnd.plotly.v1+json": {
       "config": {
        "plotlyServerURL": "https://plot.ly"
       },
       "data": [
        {
         "close": {
          "bdata": "+0sAAPVSAAAeWQAAlFkAANVdAACUWwAAhloAAKtbAAAcWwAAilsAAHlfAABAaAAAI2cAAP9nAAAqaQAABnEAAFxxAAD0ewAAVoMAAFp5AAAqhAAAgIwAAFebAAClnAAAw58AANWUAADchAAAvocAAMmRAACclwAAwI0AAIGMAADajgAAoo0AAJyOAAB2iAAAAnoAAEqCAACNfgAA5nwAAOZ/AAAufQAANnkAAPyBAABohwAApocAAHt/AACcgwAAhIsAAMyRAABSkwAA/5MAALicAADglgAA6a4AABe5AAAhsAAAfrcAAIO7AACAuAAAF78AAIC8AAD3vQAA08wAAHfLAACH2QAAA90AAELgAADE1gAAjLsAAKq+AAD0uwAAnLIAADK3AADpsAAACb8AAIa5AAAqxwAAYLsAANG/AAAGvgAA7sMAANrKAABb1AAAk94AADzhAAC43gAArOsAAEPuAACN3AAAc9wAAMvhAADI4AAAWuQAAOPkAAAJ4gAATdUAAODUAABU0wAARssAACTTAACF2gAAaNYAANDfAABb5QAAfeYAABnmAABi5QAA7+IAAO/iAADh5QAAsuMAALjbAABz4QAACeQAAPrkAAA+6QAAd+oAAA73AADh8wAA3/cAAGjyAADW7QAAydsAALPbAAAJ3gAA/9YAAK/JAAC9xQAAT8cAACe8AAA50AAAw9cAANXUAAApzwAAJt4AAI7hAAD73gAAEt4AACHWAABw3gAAwNoAAIfhAACW5gAAbeIAAC7YAABw3gAA+NQAAMzAAABZwAAApbwAAFasAAA+rwAAR6kAAPOVAAChnAAA6okAAOyUAADNgwAAi5gAADiTAACKlwAAdZYAAMKJAAAMhgAAE40AAH6PAAAQjgAAoJMAAF+XAADxkAAAOowAALOMAAC8hgAAiYMAAFOOAACsjgAAWJEAANuMAACdmQAAxJsAAD2cAACplgAAnpMAAOGKAABCjQAAHIwAAHh/AACygAAASYEAAFqIAAAVfgAAeHoAAKd/AACbhwAAfo0AAEmHAAC9ggAApIEAANyHAAANiwAAc4QAANWEAAAhhwAAY4AAACKDAABoggAAcIQAAIeAAAAtfwAAWoAAADt8AACKfAAAKnwAAM57AABleAAA1HQAAIh8AAApfgAAIX8AAMCEAADkhgAAm5MAAMuUAABYnAAAU5sAABufAAB0ogAAY6EAAPeXAADrlAAAf5sAAACgAAD+pgAA8asAAH2rAADUsQAAgLIAADq1AAAErgAA7rkAAHq2AACvtgAAPbQAAAGwAAA6rgAAP7YAAFC+AACsvwAAVb0AAKHBAAATvQAAe74AAPC3AABLvwAAo74AAE2/AABIvgAA2rcAAM28AADSwQAAFsQAAD/EAAD+yQAAGssAACO3AAAktAAA9rQAAEmwAAA5sQAAX7AAAMKwAAAmtwAAfbsAAGK4AAC6twAArbsAABq6AABTqgAAJKAAAPapAADcrgAAF6gAAOCmAACmqgAAB6cAAHejAADpoAAA7KkAAE28AADNuwAAhL0AAKa/AABOyQAA2NYAAOfTAAAx0wAAytUAAMXYAABD4AAAidgAANfeAACh4AAAe/QAAJXuAABL6AAA",
          "dtype": "i4"
         },
         "high": {
          "bdata": "gUwAAE5TAADMXAAAClsAAINeAAABXwAATV4AAFtcAAAqXgAAHFwAAF9gAADGaAAA6m4AAF9rAABJagAAXHEAAI5yAABIggAA7YcAAJ2DAAAAhgAA0Y4AAOedAAAjpAAAB6IAAA6iAACkmAAAJI8AAD2SAADHnAAAMpsAAFOUAAAEkAAAT5IAAPqTAADPjwAAc4sAAFuEAAB3gwAAVYEAAFqIAABagAAAyIAAAFWCAAD/lgAAOIoAAAeIAACshwAAwowAAGqSAAB2lwAA6pUAAD2gAABZngAAIK8AAGq8AAAWuQAATb4AACy/AAB7vAAATMIAANzAAAC5xQAAxc0AAGvNAAAr3AAAzOAAACHkAABp4QAAFdcAAPrIAACNywAA4r4AAA69AAA4twAAlMEAAGjEAADEzQAAesoAAF/BAAAawQAAxsgAADfLAABN1gAAROAAAFjiAABF4wAAe/EAABnxAABp7QAAmN4AAPDjAADL6gAAYugAAAzqAADy5QAAXuQAAEbaAACg3wAA9NMAADrUAAD62wAAQN0AAEXkAAA06AAAwOkAAIHoAADV6gAAtukAAK7kAAB+5wAAcugAADnlAABN4wAAKOYAACfvAAAj7QAAS+8AACb5AACD/QAAvfgAAGP5AACZ9AAAW+4AAAvhAAAf3wAAM98AAMnYAAAczAAAS8gAAJHHAACZ1AAAZdgAALbcAADD1wAAQ+AAANfkAACc4gAAduYAALTgAAB74gAAQOQAAG/lAACo6AAAsOcAANroAACF3gAAsOIAAC3WAAB5yQAASMYAAJ/CAABXtgAALLMAAFqqAAA2pgAAKKUAAPWXAAANlgAA/5sAALqbAADAnwAA2J0AADyZAADkkQAApY4AAJSSAAA1lAAAfJUAAGOaAACQmQAAS5QAAJqOAADhjwAAa4cAAGiQAAAalgAAQZMAAKCSAADnmQAAYKAAAH+hAABJngAAlpoAAGSVAACBjgAAcY0AAF2MAAA5ggAALIgAAO2JAADVigAA3X8AAEGDAAAAigAAI48AAPyNAACriQAA1YQAAKKIAACgiwAAn4wAADyJAAARiQAAIYcAAMeDAAAIhgAAZIUAAIGHAABdggAAd4EAAMeBAAAjfgAA9XwAAOJ+AADXfAAAeXkAAEqAAAB9fwAAqIAAAASHAAA7iAAAhp4AAJ6XAADknwAA5J4AAJuiAACtpQAAkaYAAJ2hAACLmwAA15sAAMahAAB/qQAATq4AAEOxAAC6tQAAbLYAANC2AABdtQAATrsAADa8AABAuQAA2LsAAGG4AADqswAAV7cAAOi/AAC3wgAAcMEAAHnFAADwwgAAPMAAAAXBAAAvwAAA0sAAACPCAAAiwQAAXL4AAATAAADtxAAAf8cAAKbFAAAqygAAGswAAOXOAAAtuQAARbkAAN63AADXswAA4bQAACi3AACytwAAbr0AAKq9AABdvAAA0L4AACi9AABfugAA0asAACOsAADDrwAAmrAAAACpAAAAqwAAYq0AAMqpAACbpgAAhKwAAGu8AACbvQAAb8AAAI/BAAB3ygAApdgAAAXaAAA52wAA5NgAAObcAAAc4gAAcOEAAMfgAADI5AAAyvUAAJD0AAA68AAA",
          "dtype": "i4"
         },
         "low": {
          "bdata": "hkoAAHxLAADxUgAAc1cAABVZAABgWgAAz1UAAIxXAAA0WQAAhVgAAHJbAABIXwAA1mQAAP5lAAARZQAAKmkAAFVtAACNcQAA/HoAADBtAAAYdQAAeYIAAOyLAAAcjwAAr5cAAHuIAACEdgAALH8AAIt+AADQjwAAgoYAAPiKAABchAAA94cAAAiNAACbggAAIXkAAJ5wAADsegAAC3kAAO17AACZeAAASXIAAOZ0AAAYfQAAdIAAAOx9AABrfgAAyoIAAGiKAACXjQAAMo8AAHaTAAA7kgAAzJQAAEKtAAALqwAAMKwAAOy0AAACtQAAkLcAAHWzAAAIuAAAvL0AAN3GAABsxgAAVNcAADnTAABOugAAna8AAN23AADSuwAApawAAE2wAABMqAAAea8AABS4AAA+uQAAtrkAAPa0AAAnuAAAsb0AAN7AAAAWyQAAW88AADrUAAA61wAAWNsAAJrsAADX1QAANNAAALLTAADv3gAADtwAACziAAAm2QAABdQAADDPAAD2zwAANcUAAE/IAAAf0wAA39UAAEvWAAD43gAAXt4AAHziAACI5AAAIeIAAOHcAAAd3gAASeAAAM7YAADD2QAAleAAAD3iAACb5AAAN+gAAIzpAAC47wAAgvIAALrqAABy6QAAgswAADTUAADU0AAAaNQAAEnJAADVuQAAm74AAKm7AAAFuAAA0c0AAKHSAAC6zAAAfc4AAM/dAABW2wAA+tsAAD3QAAAQzwAAJNgAAC3YAAAq3gAAGtwAAP/RAAAV1QAAdNEAALezAABqvQAAo7cAAHqrAACupAAA2KUAAD91AADeiAAAtIkAAD6DAADPeQAAr4MAALuOAACFkgAAfpEAAHSJAACygwAAy4IAAMWFAACoiwAAjowAAH+RAAAviwAAIooAAFiIAAAwhQAAWnkAAM5+AAAXjAAAt4wAAJSHAAAhiAAAaJcAAKKaAADYlQAAKpIAAH6JAABxiAAAgYIAACV8AADKcAAAJnwAAIZ+AAA/ewAADnYAAPt4AAD6fgAAeoUAACuFAAD9fwAA8X8AAH6BAAAbhgAApYEAADODAACegwAAk30AAD1+AABHgQAANYIAAMJ/AAD0fQAAmXsAANR5AABheQAA/nkAAM55AAARdwAAo3IAAGdzAAD2ewAAKn0AAAZ/AABdhAAAxoYAAGuOAABxlAAAkpkAAO6VAAASnwAA8p4AAE6XAAA7kwAAt5IAAAKSAAAFnAAAZaYAAGKpAABspwAAnK4AAOSwAABGqwAAmqsAABG0AAAYsgAAmLIAACWuAADnrAAA36sAAD21AADhvAAAGbwAANu8AADQugAASrgAAB61AABEtQAAQL0AAPy6AABbuQAAp7YAAPW1AACnvAAAEb0AAD3BAACWwQAAcccAAC6oAADOrQAAIbIAAO6uAAC8rAAAC68AAPWpAADPrgAAgbUAAPa3AADatgAAALcAAD+4AABIpgAATJ0AAPyaAABSqAAAS58AABqjAACcnwAArqYAANqgAAB6nwAARKAAAFmpAACtuQAAUbgAAI23AAABvgAAMcUAANvQAAC+0QAACtIAALPTAACt1AAA3NIAADjUAABK3gAAbN4AAD/rAACj5gAA",
          "dtype": "i4"
         },
         "open": {
          "bdata": "I0sAAANMAAD5UgAAHlkAAJ5ZAADiXQAAlVsAAIdaAAC0WwAAHFsAAIpbAAB5XwAAQGgAACRnAAD/ZwAAKmkAAAZxAABbcgAA/3sAAFaDAABaeQAAMoQAAIGMAABWmwAAqJwAAMCfAACxlAAAFIUAAL6HAADLkQAAlpcAAL6NAACCjAAA9o4AAKKNAACcjgAAcogAAAZ6AABJggAAin4AAOd8AACVfwAAKH0AADV5AAD8gQAAYIcAAKaHAACvfwAAnIMAAISLAADNkQAAUZMAAP+TAAC1nAAA4JYAAOmuAADGuAAA1q8AAHK3AACEuwAAf7gAABe/AACDvAAA970AANPMAAB3ywAAi9kAAAXdAABM4AAAxNYAAIO7AACsvgAA9rsAAJyyAAAxtwAA+LAAAAq/AACFuQAAKscAAGe7AADRvwAABr4AANrDAADaygAAWdQAAJPeAAA74QAAud4AAMfuAACU6wAAj9wAAHTcAADK4QAAyOAAAFfkAADk5AAACeIAAErVAADi1AAAU9MAAE3LAAAo0wAAhdoAAHTWAADJ3wAAWeUAAH3mAAAa5gAAXOUAAALjAADt4gAA5OUAALXjAAC42wAAdOEAAAfkAAD65AAAO+kAAHPqAAAO9wAA4vMAAOD3AABr8gAA+O0AABLcAADB2wAACd4AAArXAACpyQAAv8UAAEvHAAAnvAAAOdAAANbXAADi1AAAK88AACveAACK4QAA+94AABLeAAAh1gAAcd4AAMDaAACK4QAAtOYAAG3iAABA2AAAe94AAP/UAADNwAAAV8AAAKK8AABVrAAAPq8AAEepAAD0lQAAupwAANKJAADslAAAvYMAAIuYAABEkwAAipcAAI2WAADFiQAAB4YAABONAAB9jwAAEI4AAKaTAABflwAA8ZAAADqMAACzjAAAvIYAAIyDAABTjgAAuY4AAFeRAADbjAAAl5kAAMWbAAA9nAAAqZYAAKOTAADiigAAQo0AAByMAAB4fwAAsoAAAEmBAABaiAAADX4AAHh6AACnfwAAm4cAAHqNAABdhwAAvIIAAKWBAADYhwAAGosAAHKEAADUhAAAIYcAAGGAAAAogwAAaIIAAH2EAACCgAAALX8AAFmAAAA7fAAAinwAACt8AADNewAAZHgAANh0AAB0fAAAJn4AAB5/AADEhAAA6YYAAJ+TAADLlAAAWJwAAFubAAAgnwAAdKIAAEqhAAD2lwAA6ZQAAHubAAAkoAAAo6YAAPyrAACBqwAALbIAAFmyAAAhtQAAC64AAFe6AAB9tgAAr7YAAAu0AADarwAADa4AABG2AABSvgAArb8AAFO9AAChwQAAFL0AAHu+AADVtwAAS78AAKO+AABNvwAAWL4AAJO3AACqvAAA0sEAABHEAABHxAAAAcoAACbLAABTtwAAJbQAAM20AABGsAAANbEAAFawAADDsAAAGLcAAIi7AACFuAAAuLcAAKm7AAAZugAAVKoAAD6gAADSqQAA2q4AABSoAADgpgAAsKoAAAinAAB3owAA6aAAAO6pAABNvAAAzbsAAIK9AAC/vwAAbMkAANbWAADn0wAALtMAAMrVAACk2AAAO+AAAInYAAD23gAAveAAAHv0AACV7gAA",
          "dtype": "i4"
         },
         "type": "candlestick",
         "x": {
          "bdata": "6APpA+oD6wPsA+0D7gPvA/AD8QPyA/MD9AP1A/YD9wP4A/kD+gP7A/wD/QP+A/8DAAQBBAIEAwQEBAUEBgQHBAgECQQKBAsEDAQNBA4EDwQQBBEEEgQTBBQEFQQWBBcEGAQZBBoEGwQcBB0EHgQfBCAEIQQiBCMEJAQlBCYEJwQoBCkEKgQrBCwELQQuBC8EMAQxBDIEMwQ0BDUENgQ3BDgEOQQ6BDsEPAQ9BD4EPwRABEEEQgRDBEQERQRGBEcESARJBEoESwRMBE0ETgRPBFAEUQRSBFMEVARVBFYEVwRYBFkEWgRbBFwEXQReBF8EYARhBGIEYwRkBGUEZgRnBGgEaQRqBGsEbARtBG4EbwRwBHEEcgRzBHQEdQR2BHcEeAR5BHoEewR8BH0EfgR/BIAEgQSCBIMEhASFBIYEhwSIBIkEigSLBIwEjQSOBI8EkASRBJIEkwSUBJUElgSXBJgEmQSaBJsEnASdBJ4EnwSgBKEEogSjBKQEpQSmBKcEqASpBKoEqwSsBK0ErgSvBLAEsQSyBLMEtAS1BLYEtwS4BLkEugS7BLwEvQS+BL8EwATBBMIEwwTEBMUExgTHBMgEyQTKBMsEzATNBM4EzwTQBNEE0gTTBNQE1QTWBNcE2ATZBNoE2wTcBN0E3gTfBOAE4QTiBOME5ATlBOYE5wToBOkE6gTrBOwE7QTuBO8E8ATxBPIE8wT0BPUE9gT3BPgE+QT6BPsE/AT9BP4E/wQABQEFAgUDBQQFBQUGBQcFCAUJBQoFCwUMBQ0FDgUPBRAFEQUSBRMFFAUVBRYFFwUYBRkF",
          "dtype": "i2"
         },
         "xaxis": "x",
         "yaxis": "y"
        },
        {
         "name": "CMF",
         "type": "scatter",
         "x": {
          "bdata": "6APpA+oD6wPsA+0D7gPvA/AD8QPyA/MD9AP1A/YD9wP4A/kD+gP7A/wD/QP+A/8DAAQBBAIEAwQEBAUEBgQHBAgECQQKBAsEDAQNBA4EDwQQBBEEEgQTBBQEFQQWBBcEGAQZBBoEGwQcBB0EHgQfBCAEIQQiBCMEJAQlBCYEJwQoBCkEKgQrBCwELQQuBC8EMAQxBDIEMwQ0BDUENgQ3BDgEOQQ6BDsEPAQ9BD4EPwRABEEEQgRDBEQERQRGBEcESARJBEoESwRMBE0ETgRPBFAEUQRSBFMEVARVBFYEVwRYBFkEWgRbBFwEXQReBF8EYARhBGIEYwRkBGUEZgRnBGgEaQRqBGsEbARtBG4EbwRwBHEEcgRzBHQEdQR2BHcEeAR5BHoEewR8BH0EfgR/BIAEgQSCBIMEhASFBIYEhwSIBIkEigSLBIwEjQSOBI8EkASRBJIEkwSUBJUElgSXBJgEmQSaBJsEnASdBJ4EnwSgBKEEogSjBKQEpQSmBKcEqASpBKoEqwSsBK0ErgSvBLAEsQSyBLMEtAS1BLYEtwS4BLkEugS7BLwEvQS+BL8EwATBBMIEwwTEBMUExgTHBMgEyQTKBMsEzATNBM4EzwTQBNEE0gTTBNQE1QTWBNcE2ATZBNoE2wTcBN0E3gTfBOAE4QTiBOME5ATlBOYE5wToBOkE6gTrBOwE7QTuBO8E8ATxBPIE8wT0BPUE9gT3BPgE+QT6BPsE/AT9BP4E/wQABQEFAgUDBQQFBQUGBQcFCAUJBQoFCwUMBQ0FDgUPBRAFEQUSBRMFFAUVBRYFFwUYBRkF",
          "dtype": "i2"
         },
         "xaxis": "x2",
         "y": {
          "bdata": "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",
          "dtype": "f8"
         },
         "yaxis": "y2"
        }
       ],
       "layout": {
        "annotations": [
         {
          "font": {
           "size": 16
          },
          "showarrow": false,
          "text": "Price",
          "x": 0.5,
          "xanchor": "center",
          "xref": "paper",
          "y": 1,
          "yanchor": "bottom",
          "yref": "paper"
         },
         {
          "font": {
           "size": 16
          },
          "showarrow": false,
          "text": "CMF",
          "x": 0.5,
          "xanchor": "center",
          "xref": "paper",
          "y": 0.375,
          "yanchor": "bottom",
          "yref": "paper"
         }
        ],
        "template": {
         "data": {
          "bar": [
           {
            "error_x": {
             "color": "#2a3f5f"
            },
            "error_y": {
             "color": "#2a3f5f"
            },
            "marker": {
             "line": {
              "color": "#E5ECF6",
              "width": 0.5
             },
             "pattern": {
              "fillmode": "overlay",
              "size": 10,
              "solidity": 0.2
             }
            },
            "type": "bar"
           }
          ],
          "barpolar": [
           {
            "marker": {
             "line": {
              "color": "#E5ECF6",
              "width": 0.5
             },
             "pattern": {
              "fillmode": "overlay",
              "size": 10,
              "solidity": 0.2
             }
            },
            "type": "barpolar"
           }
          ],
          "carpet": [
           {
            "aaxis": {
             "endlinecolor": "#2a3f5f",
             "gridcolor": "white",
             "linecolor": "white",
             "minorgridcolor": "white",
             "startlinecolor": "#2a3f5f"
            },
            "baxis": {
             "endlinecolor": "#2a3f5f",
             "gridcolor": "white",
             "linecolor": "white",
             "minorgridcolor": "white",
             "startlinecolor": "#2a3f5f"
            },
            "type": "carpet"
           }
          ],
          "choropleth": [
           {
            "colorbar": {
             "outlinewidth": 0,
             "ticks": ""
            },
            "type": "choropleth"
           }
          ],
          "contour": [
           {
            "colorbar": {
             "outlinewidth": 0,
             "ticks": ""
            },
            "colorscale": [
             [
              0,
              "#0d0887"
             ],
             [
              0.1111111111111111,
              "#46039f"
             ],
             [
              0.2222222222222222,
              "#7201a8"
             ],
             [
              0.3333333333333333,
              "#9c179e"
             ],
             [
              0.4444444444444444,
              "#bd3786"
             ],
             [
              0.5555555555555556,
              "#d8576b"
             ],
             [
              0.6666666666666666,
              "#ed7953"
             ],
             [
              0.7777777777777778,
              "#fb9f3a"
             ],
             [
              0.8888888888888888,
              "#fdca26"
             ],
             [
              1,
              "#f0f921"
             ]
            ],
            "type": "contour"
           }
          ],
          "contourcarpet": [
           {
            "colorbar": {
             "outlinewidth": 0,
             "ticks": ""
            },
            "type": "contourcarpet"
           }
          ],
          "heatmap": [
           {
            "colorbar": {
             "outlinewidth": 0,
             "ticks": ""
            },
            "colorscale": [
             [
              0,
              "#0d0887"
             ],
             [
              0.1111111111111111,
              "#46039f"
             ],
             [
              0.2222222222222222,
              "#7201a8"
             ],
             [
              0.3333333333333333,
              "#9c179e"
             ],
             [
              0.4444444444444444,
              "#bd3786"
             ],
             [
              0.5555555555555556,
              "#d8576b"
             ],
             [
              0.6666666666666666,
              "#ed7953"
             ],
             [
              0.7777777777777778,
              "#fb9f3a"
             ],
             [
              0.8888888888888888,
              "#fdca26"
             ],
             [
              1,
              "#f0f921"
             ]
            ],
            "type": "heatmap"
           }
          ],
          "histogram": [
           {
            "marker": {
             "pattern": {
              "fillmode": "overlay",
              "size": 10,
              "solidity": 0.2
             }
            },
            "type": "histogram"
           }
          ],
          "histogram2d": [
           {
            "colorbar": {
             "outlinewidth": 0,
             "ticks": ""
            },
            "colorscale": [
             [
              0,
              "#0d0887"
             ],
             [
              0.1111111111111111,
              "#46039f"
             ],
             [
              0.2222222222222222,
              "#7201a8"
             ],
             [
              0.3333333333333333,
              "#9c179e"
             ],
             [
              0.4444444444444444,
              "#bd3786"
             ],
             [
              0.5555555555555556,
              "#d8576b"
             ],
             [
              0.6666666666666666,
              "#ed7953"
             ],
             [
              0.7777777777777778,
              "#fb9f3a"
             ],
             [
              0.8888888888888888,
              "#fdca26"
             ],
             [
              1,
              "#f0f921"
             ]
            ],
            "type": "histogram2d"
           }
          ],
          "histogram2dcontour": [
           {
            "colorbar": {
             "outlinewidth": 0,
             "ticks": ""
            },
            "colorscale": [
             [
              0,
              "#0d0887"
             ],
             [
              0.1111111111111111,
              "#46039f"
             ],
             [
              0.2222222222222222,
              "#7201a8"
             ],
             [
              0.3333333333333333,
              "#9c179e"
             ],
             [
              0.4444444444444444,
              "#bd3786"
             ],
             [
              0.5555555555555556,
              "#d8576b"
             ],
             [
              0.6666666666666666,
              "#ed7953"
             ],
             [
              0.7777777777777778,
              "#fb9f3a"
             ],
             [
              0.8888888888888888,
              "#fdca26"
             ],
             [
              1,
              "#f0f921"
             ]
            ],
            "type": "histogram2dcontour"
           }
          ],
          "mesh3d": [
           {
            "colorbar": {
             "outlinewidth": 0,
             "ticks": ""
            },
            "type": "mesh3d"
           }
          ],
          "parcoords": [
           {
            "line": {
             "colorbar": {
              "outlinewidth": 0,
              "ticks": ""
             }
            },
            "type": "parcoords"
           }
          ],
          "pie": [
           {
            "automargin": true,
            "type": "pie"
           }
          ],
          "scatter": [
           {
            "fillpattern": {
             "fillmode": "overlay",
             "size": 10,
             "solidity": 0.2
            },
            "type": "scatter"
           }
          ],
          "scatter3d": [
           {
            "line": {
             "colorbar": {
              "outlinewidth": 0,
              "ticks": ""
             }
            },
            "marker": {
             "colorbar": {
              "outlinewidth": 0,
              "ticks": ""
             }
            },
            "type": "scatter3d"
           }
          ],
          "scattercarpet": [
           {
            "marker": {
             "colorbar": {
              "outlinewidth": 0,
              "ticks": ""
             }
            },
            "type": "scattercarpet"
           }
          ],
          "scattergeo": [
           {
            "marker": {
             "colorbar": {
              "outlinewidth": 0,
              "ticks": ""
             }
            },
            "type": "scattergeo"
           }
          ],
          "scattergl": [
           {
            "marker": {
             "colorbar": {
              "outlinewidth": 0,
              "ticks": ""
             }
            },
            "type": "scattergl"
           }
          ],
          "scattermap": [
           {
            "marker": {
             "colorbar": {
              "outlinewidth": 0,
              "ticks": ""
             }
            },
            "type": "scattermap"
           }
          ],
          "scattermapbox": [
           {
            "marker": {
             "colorbar": {
              "outlinewidth": 0,
              "ticks": ""
             }
            },
            "type": "scattermapbox"
           }
          ],
          "scatterpolar": [
           {
            "marker": {
             "colorbar": {
              "outlinewidth": 0,
              "ticks": ""
             }
            },
            "type": "scatterpolar"
           }
          ],
          "scatterpolargl": [
           {
            "marker": {
             "colorbar": {
              "outlinewidth": 0,
              "ticks": ""
             }
            },
            "type": "scatterpolargl"
           }
          ],
          "scatterternary": [
           {
            "marker": {
             "colorbar": {
              "outlinewidth": 0,
              "ticks": ""
             }
            },
            "type": "scatterternary"
           }
          ],
          "surface": [
           {
            "colorbar": {
             "outlinewidth": 0,
             "ticks": ""
            },
            "colorscale": [
             [
              0,
              "#0d0887"
             ],
             [
              0.1111111111111111,
              "#46039f"
             ],
             [
              0.2222222222222222,
              "#7201a8"
             ],
             [
              0.3333333333333333,
              "#9c179e"
             ],
             [
              0.4444444444444444,
              "#bd3786"
             ],
             [
              0.5555555555555556,
              "#d8576b"
             ],
             [
              0.6666666666666666,
              "#ed7953"
             ],
             [
              0.7777777777777778,
              "#fb9f3a"
             ],
             [
              0.8888888888888888,
              "#fdca26"
             ],
             [
              1,
              "#f0f921"
             ]
            ],
            "type": "surface"
           }
          ],
          "table": [
           {
            "cells": {
             "fill": {
              "color": "#EBF0F8"
             },
             "line": {
              "color": "white"
             }
            },
            "header": {
             "fill": {
              "color": "#C8D4E3"
             },
             "line": {
              "color": "white"
             }
            },
            "type": "table"
           }
          ]
         },
         "layout": {
          "annotationdefaults": {
           "arrowcolor": "#2a3f5f",
           "arrowhead": 0,
           "arrowwidth": 1
          },
          "autotypenumbers": "strict",
          "coloraxis": {
           "colorbar": {
            "outlinewidth": 0,
            "ticks": ""
           }
          },
          "colorscale": {
           "diverging": [
            [
             0,
             "#8e0152"
            ],
            [
             0.1,
             "#c51b7d"
            ],
            [
             0.2,
             "#de77ae"
            ],
            [
             0.3,
             "#f1b6da"
            ],
            [
             0.4,
             "#fde0ef"
            ],
            [
             0.5,
             "#f7f7f7"
            ],
            [
             0.6,
             "#e6f5d0"
            ],
            [
             0.7,
             "#b8e186"
            ],
            [
             0.8,
             "#7fbc41"
            ],
            [
             0.9,
             "#4d9221"
            ],
            [
             1,
             "#276419"
            ]
           ],
           "sequential": [
            [
             0,
             "#0d0887"
            ],
            [
             0.1111111111111111,
             "#46039f"
            ],
            [
             0.2222222222222222,
             "#7201a8"
            ],
            [
             0.3333333333333333,
             "#9c179e"
            ],
            [
             0.4444444444444444,
             "#bd3786"
            ],
            [
             0.5555555555555556,
             "#d8576b"
            ],
            [
             0.6666666666666666,
             "#ed7953"
            ],
            [
             0.7777777777777778,
             "#fb9f3a"
            ],
            [
             0.8888888888888888,
             "#fdca26"
            ],
            [
             1,
             "#f0f921"
            ]
           ],
           "sequentialminus": [
            [
             0,
             "#0d0887"
            ],
            [
             0.1111111111111111,
             "#46039f"
            ],
            [
             0.2222222222222222,
             "#7201a8"
            ],
            [
             0.3333333333333333,
             "#9c179e"
            ],
            [
             0.4444444444444444,
             "#bd3786"
            ],
            [
             0.5555555555555556,
             "#d8576b"
            ],
            [
             0.6666666666666666,
             "#ed7953"
            ],
            [
             0.7777777777777778,
             "#fb9f3a"
            ],
            [
             0.8888888888888888,
             "#fdca26"
            ],
            [
             1,
             "#f0f921"
            ]
           ]
          },
          "colorway": [
           "#636efa",
           "#EF553B",
           "#00cc96",
           "#ab63fa",
           "#FFA15A",
           "#19d3f3",
           "#FF6692",
           "#B6E880",
           "#FF97FF",
           "#FECB52"
          ],
          "font": {
           "color": "#2a3f5f"
          },
          "geo": {
           "bgcolor": "white",
           "lakecolor": "white",
           "landcolor": "#E5ECF6",
           "showlakes": true,
           "showland": true,
           "subunitcolor": "white"
          },
          "hoverlabel": {
           "align": "left"
          },
          "hovermode": "closest",
          "mapbox": {
           "style": "light"
          },
          "paper_bgcolor": "white",
          "plot_bgcolor": "#E5ECF6",
          "polar": {
           "angularaxis": {
            "gridcolor": "white",
            "linecolor": "white",
            "ticks": ""
           },
           "bgcolor": "#E5ECF6",
           "radialaxis": {
            "gridcolor": "white",
            "linecolor": "white",
            "ticks": ""
           }
          },
          "scene": {
           "xaxis": {
            "backgroundcolor": "#E5ECF6",
            "gridcolor": "white",
            "gridwidth": 2,
            "linecolor": "white",
            "showbackground": true,
            "ticks": "",
            "zerolinecolor": "white"
           },
           "yaxis": {
            "backgroundcolor": "#E5ECF6",
            "gridcolor": "white",
            "gridwidth": 2,
            "linecolor": "white",
            "showbackground": true,
            "ticks": "",
            "zerolinecolor": "white"
           },
           "zaxis": {
            "backgroundcolor": "#E5ECF6",
            "gridcolor": "white",
            "gridwidth": 2,
            "linecolor": "white",
            "showbackground": true,
            "ticks": "",
            "zerolinecolor": "white"
           }
          },
          "shapedefaults": {
           "line": {
            "color": "#2a3f5f"
           }
          },
          "ternary": {
           "aaxis": {
            "gridcolor": "white",
            "linecolor": "white",
            "ticks": ""
           },
           "baxis": {
            "gridcolor": "white",
            "linecolor": "white",
            "ticks": ""
           },
           "bgcolor": "#E5ECF6",
           "caxis": {
            "gridcolor": "white",
            "linecolor": "white",
            "ticks": ""
           }
          },
          "title": {
           "x": 0.05
          },
          "xaxis": {
           "automargin": true,
           "gridcolor": "white",
           "linecolor": "white",
           "ticks": "",
           "title": {
            "standoff": 15
           },
           "zerolinecolor": "white",
           "zerolinewidth": 2
          },
          "yaxis": {
           "automargin": true,
           "gridcolor": "white",
           "linecolor": "white",
           "ticks": "",
           "title": {
            "standoff": 15
           },
           "zerolinecolor": "white",
           "zerolinewidth": 2
          }
         }
        },
        "xaxis": {
         "anchor": "y",
         "domain": [
          0,
          1
         ],
         "matches": "x2",
         "rangeslider": {
          "visible": false
         },
         "showticklabels": false
        },
        "xaxis2": {
         "anchor": "y2",
         "domain": [
          0,
          1
         ]
        },
        "yaxis": {
         "anchor": "x",
         "domain": [
          0.625,
          1
         ]
        },
        "yaxis2": {
         "anchor": "x2",
         "domain": [
          0,
          0.375
         ]
        }
       }
      }
     },
     "metadata": {},
     "output_type": "display_data"
    }
   ],
   "source": [
    "import yfinance as yf\n",
    "import pandas_ta as ta\n",
    "import plotly.graph_objects as go\n",
    "from plotly.subplots import make_subplots\n",
    "import pandas as pd\n",
    "\n",
    "# data = yf.download(tickers='BTC-USD', period='max', interval='1d')\n",
    "data = pd.read_csv(\"BTCUSD_Candlestick_1_D_ASK_08.05.2017-16.10.2021.csv\")\n",
    "\n",
    "data['CMF'] = ta.cmf(data.High, data.Low, data.Close, data.Volume, length=20)\n",
    "\n",
    "\n",
    "df = data[1000:1500]\n",
    "\n",
    "\n",
    "fig = make_subplots(rows=2, cols=1, subplot_titles=['Price', 'CMF'], shared_xaxes=True)\n",
    "\n",
    "\n",
    "fig.add_trace(go.Candlestick(x=df.index,\n",
    "                open=df['Open'],\n",
    "                high=df['High'],\n",
    "                low=df['Low'],\n",
    "                close=df['Close']), row=1, col=1)\n",
    "fig.add_trace(go.Scatter(x=df.index, y=df['CMF'], name='CMF'), row=2, col=1)\n",
    "\n",
    "\n",
    "fig.update_layout(\n",
    "    xaxis=dict(rangeslider=dict(visible=False))\n",
    ")\n",
    "\n",
    "\n",
    "fig.show()"
   ]
  },
  {
   "cell_type": "code",
   "execution_count": null,
   "metadata": {},
   "outputs": [],
   "source": []
  }
 ],
 "metadata": {
  "kernelspec": {
   "display_name": ".venv",
   "language": "python",
   "name": "python3"
  },
  "language_info": {
   "codemirror_mode": {
    "name": "ipython",
    "version": 3
   },
   "file_extension": ".py",
   "mimetype": "text/x-python",
   "name": "python",
   "nbconvert_exporter": "python",
   "pygments_lexer": "ipython3",
   "version": "3.11.2"
  },
  "orig_nbformat": 4
 },
 "nbformat": 4,
 "nbformat_minor": 2
}
