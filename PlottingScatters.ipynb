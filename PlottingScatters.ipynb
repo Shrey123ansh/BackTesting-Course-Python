{
 "cells": [
  {
   "cell_type": "code",
   "execution_count": 1,
   "id": "6dbaca93",
   "metadata": {},
   "outputs": [
    {
     "name": "stderr",
     "output_type": "stream",
     "text": [
      "C:\\Users\\Admin\\AppData\\Local\\Temp\\ipykernel_26324\\3507222421.py:2: FutureWarning: YF.download() has changed argument auto_adjust default to True\n",
      "  data = yf.download(tickers='BTC-USD', period='3mo', interval='1d')\n",
      "[*********************100%***********************]  1 of 1 completed\n"
     ]
    }
   ],
   "source": [
    "import yfinance as yf\n",
    "data = yf.download(tickers='BTC-USD', period='3mo', interval='1d')"
   ]
  },
  {
   "cell_type": "code",
   "execution_count": 2,
   "id": "894ae0f5",
   "metadata": {},
   "outputs": [
    {
     "data": {
      "text/html": [
       "<div>\n",
       "<style scoped>\n",
       "    .dataframe tbody tr th:only-of-type {\n",
       "        vertical-align: middle;\n",
       "    }\n",
       "\n",
       "    .dataframe tbody tr th {\n",
       "        vertical-align: top;\n",
       "    }\n",
       "\n",
       "    .dataframe thead tr th {\n",
       "        text-align: left;\n",
       "    }\n",
       "\n",
       "    .dataframe thead tr:last-of-type th {\n",
       "        text-align: right;\n",
       "    }\n",
       "</style>\n",
       "<table border=\"1\" class=\"dataframe\">\n",
       "  <thead>\n",
       "    <tr>\n",
       "      <th>Price</th>\n",
       "      <th>Close</th>\n",
       "      <th>High</th>\n",
       "      <th>Low</th>\n",
       "      <th>Open</th>\n",
       "      <th>Volume</th>\n",
       "    </tr>\n",
       "    <tr>\n",
       "      <th>Ticker</th>\n",
       "      <th>BTC-USD</th>\n",
       "      <th>BTC-USD</th>\n",
       "      <th>BTC-USD</th>\n",
       "      <th>BTC-USD</th>\n",
       "      <th>BTC-USD</th>\n",
       "    </tr>\n",
       "    <tr>\n",
       "      <th>Date</th>\n",
       "      <th></th>\n",
       "      <th></th>\n",
       "      <th></th>\n",
       "      <th></th>\n",
       "      <th></th>\n",
       "    </tr>\n",
       "  </thead>\n",
       "  <tbody>\n",
       "    <tr>\n",
       "      <th>2025-04-01</th>\n",
       "      <td>85169.171875</td>\n",
       "      <td>85487.367188</td>\n",
       "      <td>82429.359375</td>\n",
       "      <td>82551.921875</td>\n",
       "      <td>28175650319</td>\n",
       "    </tr>\n",
       "    <tr>\n",
       "      <th>2025-04-02</th>\n",
       "      <td>82485.710938</td>\n",
       "      <td>88466.953125</td>\n",
       "      <td>82343.539062</td>\n",
       "      <td>85180.609375</td>\n",
       "      <td>47584398470</td>\n",
       "    </tr>\n",
       "    <tr>\n",
       "      <th>2025-04-03</th>\n",
       "      <td>83102.828125</td>\n",
       "      <td>83909.296875</td>\n",
       "      <td>81282.101562</td>\n",
       "      <td>82487.476562</td>\n",
       "      <td>36852112080</td>\n",
       "    </tr>\n",
       "    <tr>\n",
       "      <th>2025-04-04</th>\n",
       "      <td>83843.804688</td>\n",
       "      <td>84696.148438</td>\n",
       "      <td>81670.750000</td>\n",
       "      <td>83100.250000</td>\n",
       "      <td>45157640207</td>\n",
       "    </tr>\n",
       "    <tr>\n",
       "      <th>2025-04-05</th>\n",
       "      <td>83504.796875</td>\n",
       "      <td>84207.015625</td>\n",
       "      <td>82377.734375</td>\n",
       "      <td>83844.703125</td>\n",
       "      <td>14380803631</td>\n",
       "    </tr>\n",
       "    <tr>\n",
       "      <th>...</th>\n",
       "      <td>...</td>\n",
       "      <td>...</td>\n",
       "      <td>...</td>\n",
       "      <td>...</td>\n",
       "      <td>...</td>\n",
       "    </tr>\n",
       "    <tr>\n",
       "      <th>2025-06-27</th>\n",
       "      <td>107088.429688</td>\n",
       "      <td>107772.468750</td>\n",
       "      <td>106449.992188</td>\n",
       "      <td>106954.921875</td>\n",
       "      <td>45353692675</td>\n",
       "    </tr>\n",
       "    <tr>\n",
       "      <th>2025-06-28</th>\n",
       "      <td>107327.703125</td>\n",
       "      <td>107567.882812</td>\n",
       "      <td>106883.976562</td>\n",
       "      <td>107090.546875</td>\n",
       "      <td>30037708335</td>\n",
       "    </tr>\n",
       "    <tr>\n",
       "      <th>2025-06-29</th>\n",
       "      <td>108385.570312</td>\n",
       "      <td>108526.304688</td>\n",
       "      <td>107230.109375</td>\n",
       "      <td>107327.820312</td>\n",
       "      <td>35534874438</td>\n",
       "    </tr>\n",
       "    <tr>\n",
       "      <th>2025-06-30</th>\n",
       "      <td>107135.335938</td>\n",
       "      <td>108798.789062</td>\n",
       "      <td>106759.648438</td>\n",
       "      <td>108383.437500</td>\n",
       "      <td>42064804590</td>\n",
       "    </tr>\n",
       "    <tr>\n",
       "      <th>2025-07-01</th>\n",
       "      <td>105841.968750</td>\n",
       "      <td>107527.500000</td>\n",
       "      <td>105406.867188</td>\n",
       "      <td>107167.695312</td>\n",
       "      <td>44910858240</td>\n",
       "    </tr>\n",
       "  </tbody>\n",
       "</table>\n",
       "<p>92 rows × 5 columns</p>\n",
       "</div>"
      ],
      "text/plain": [
       "Price               Close           High            Low           Open  \\\n",
       "Ticker            BTC-USD        BTC-USD        BTC-USD        BTC-USD   \n",
       "Date                                                                     \n",
       "2025-04-01   85169.171875   85487.367188   82429.359375   82551.921875   \n",
       "2025-04-02   82485.710938   88466.953125   82343.539062   85180.609375   \n",
       "2025-04-03   83102.828125   83909.296875   81282.101562   82487.476562   \n",
       "2025-04-04   83843.804688   84696.148438   81670.750000   83100.250000   \n",
       "2025-04-05   83504.796875   84207.015625   82377.734375   83844.703125   \n",
       "...                   ...            ...            ...            ...   \n",
       "2025-06-27  107088.429688  107772.468750  106449.992188  106954.921875   \n",
       "2025-06-28  107327.703125  107567.882812  106883.976562  107090.546875   \n",
       "2025-06-29  108385.570312  108526.304688  107230.109375  107327.820312   \n",
       "2025-06-30  107135.335938  108798.789062  106759.648438  108383.437500   \n",
       "2025-07-01  105841.968750  107527.500000  105406.867188  107167.695312   \n",
       "\n",
       "Price            Volume  \n",
       "Ticker          BTC-USD  \n",
       "Date                     \n",
       "2025-04-01  28175650319  \n",
       "2025-04-02  47584398470  \n",
       "2025-04-03  36852112080  \n",
       "2025-04-04  45157640207  \n",
       "2025-04-05  14380803631  \n",
       "...                 ...  \n",
       "2025-06-27  45353692675  \n",
       "2025-06-28  30037708335  \n",
       "2025-06-29  35534874438  \n",
       "2025-06-30  42064804590  \n",
       "2025-07-01  44910858240  \n",
       "\n",
       "[92 rows x 5 columns]"
      ]
     },
     "execution_count": 2,
     "metadata": {},
     "output_type": "execute_result"
    }
   ],
   "source": [
    "data"
   ]
  },
  {
   "cell_type": "code",
   "execution_count": 3,
   "id": "c30fdbb0",
   "metadata": {},
   "outputs": [
    {
     "data": {
      "image/png": "[encoded data removed]",
      "text/plain": [
       "<Figure size 640x480 with 1 Axes>"
      ]
     },
     "metadata": {},
     "output_type": "display_data"
    }
   ],
   "source": [
    "dfpl = data[0:100]\n",
    "import matplotlib.pyplot as plt\n",
    "plt.plot(dfpl.index, dfpl.High, \"bo\")\n",
    "#color='green', marker='o', linestyle='dashed',linewidth=2, markersize=12\n",
    "plt.show()"
   ]
  },
  {
   "cell_type": "code",
   "execution_count": 4,
   "id": "55395150",
   "metadata": {},
   "outputs": [
    {
     "data": {
      "application/vnd.plotly.v1+json": {
       "config": {
        "plotlyServerURL": "https://plot.ly"
       },
       "data": [
        {
         "close": {
          "bdata": "AAAAQO1J9EAAAADgPHj0QAAAAMAMY/RAAAAAwGcY80AAAABgNVjzQAAAAED/nvJAAAAAQN8o9EAAAABAonDzQAAAAGDNXPRAAAAAwHHS9EAAAACgT270QAAAAEDmo/RAAAAA4E9t9EAAAADgHYT0QAAAAAD8ufRAAAAA4Cye9EAAAACgdsT0QAAAAOBky/RAAAAAgO5d9UAAAABAHtD2QAAAAMAx4PZAAAAAwHzv9kAAAAAACCD3QAAAAOBuG/dAAAAAgK3j9kAAAAAALDD3QAAAAKDMBPdAAAAAAPX/9kAAAABgxY73QAAAACDhqPdAAAAAwDxp90AAAACgvwb3QAAAAODAIfdAAAAAoCei90AAAAAghbD3QAAAAGCXNPlAAAAAoK0j+UAAAABAhY/5QAAAAMClavlAAAAAQM8Z+UAAAAAAnW75QAAAAKA2R/lAAAAAQApU+UAAAACgFET5QAAAAGBxMflAAAAAIOD8+UAAAADgYsj5QAAAAGBxEvpAAAAAQOHG+kAAAACAlEP7QAAAAMB8MfpAAAAAgPJQ+kAAAABAtp76QAAAAOAFuPpAAAAAQCqc+kAAAABApVH6QAAAACCcyvlAAAAAIOlj+UAAAACA4Yv5QAAAAKBBy/lAAAAAgJjZ+UAAAACAh735QAAAAMC/kflAAAAAQH/M+EAAAACAZXz5QAAAAAD6yPlAAAAAYBrU+UAAAACgYe36QAAAAMAT6/pAAAAAAOqI+kAAAADgkNz5QAAAAICv5vlAAAAAgAbA+UAAAABgAMX5QAAAACDMEvpAAAAA4JGJ+UAAAABANZv5QAAAAKDEjvlAAAAAoNk4+UAAAACAFvf4QAAAAECyp/hAAAAAYJzG+UAAAAAg2uP5QAAAACAUNvpAAAAAAAAd+kAAAADgBiX6QAAAAED7M/pAAAAAIBl2+kAAAABg9Sf6QA==",
          "dtype": "f8",
          "shape": "89, 1"
         },
         "decreasing": {
          "line": {
           "color": "mediumorchid"
          }
         },
         "high": {
          "bdata": "AAAAwFR89EAAAABggq30QAAAAEDwjvRAAAAAgItv9EAAAAAA8c3zQAAAAEB+u/NAAAAAAFBl9EAAAADgzjD0QAAAAKB3kfRAAAAAAAP29EAAAAAA8//0QAAAAACQ8fRAAAAAoNUZ9UAAAACARNv0QAAAACCR3PRAAAAAwHDG9EAAAABA2+X0QAAAACCm0/RAAAAAgMGY9UAAAAAgluf2QAAAAMB7FPdAAAAAIAP09kAAAABAhmH3QAAAAMA1QfdAAAAAQFNE90AAAADg51b3QAAAAKDWT/dAAAAAIBVB90AAAABg38n3QAAAAGAe5/dAAAAAIP6q90AAAADA7oP3QAAAAACTPfdAAAAA4JKn90AAAADgnNX3QAAAAKAYYvlAAAAA4Jd2+UAAAABAHKD5QAAAAOCfnvlAAAAAQDfR+UAAAADAVqL5QAAAAAD5dvlAAAAA4Jlt+UAAAADAV4X5QAAAACBPUvlAAAAAwFIG+kAAAACAyyP6QAAAAOCxMvpAAAAAYEcI+0AAAADAIlb7QAAAAIBuS/tAAAAAYOi4+kAAAADgFLD6QAAAACCO8vpAAAAAYIMJ+0AAAACgJK/6QAAAAMDglvpAAAAAIE/0+UAAAACg8Z35QAAAAMDI2flAAAAAAGXe+UAAAABA2RP6QAAAACDb4PlAAAAAAAvd+UAAAABgDLr5QAAAACBM3/lAAAAAABEA+kAAAADAFv76QAAAAADC8vpAAAAAgAPz+kAAAAAgy476QAAAAMBo7PlAAAAAILzt+UAAAACg0er5QAAAAAA2l/pAAAAAIGNO+kAAAACg3cb5QAAAAEAusvlAAAAAILYC+kAAAACA/GT5QAAAACB6O/lAAAAAwE3o+UAAAABAzfT5QAAAAGCGaPpAAAAAwBhx+kAAAACAx0/6QAAAACD+QvpAAAAA4OR++kAAAACg7I/6QA==",
          "dtype": "f8",
          "shape": "89, 1"
         },
         "increasing": {
          "line": {
           "color": "yellow"
          }
         },
         "low": {
          "bdata": "AAAAoCHY80AAAAAAbPDzQAAAAMCbHPRAAAAA4JvS8kAAAADgSizyQAAAAGBgmvJAAAAAwNo18kAAAAAggifzQAAAACCFRfNAAAAAABY19EAAAAAgMEX0QAAAAECqbvRAAAAAIO1o9EAAAADgyUn0QAAAAABccvRAAAAAIK6U9EAAAABgF5j0QAAAAICNgPRAAAAAYH3J9EAAAACAyEL1QAAAAGCvc/ZAAAAAYAtj9kAAAACAKa72QAAAAAB07vZAAAAAYBbe9kAAAADgzKv2QAAAACBK5vZAAAAAQDqz9kAAAAAgmvz2QAAAACB/h/dAAAAAoNRk90AAAADg1v32QAAAAEDk1/ZAAAAAwH3N9kAAAABgVWX3QAAAAAAeqfdAAAAAgHH8+EAAAADA5xr5QAAAAOBLPPlAAAAAgOac+EAAAACAscj4QAAAAMCkDflAAAAAAA3E+EAAAACgFy75QAAAAOAyEPlAAAAAoGku+UAAAAAAC+74QAAAAEDocPlAAAAAwPPo+UAAAAAgUa76QAAAAOCUFfpAAAAAoPQY+kAAAAAAtgv6QAAAAED6i/pAAAAA4JhF+kAAAADgzhP6QAAAAGDmuflAAAAAoFxQ+UAAAADgAS75QAAAAEAvWflAAAAAwPhS+UAAAACAjZ35QAAAAECLcvlAAAAAIE6F+EAAAAAgGbP4QAAAAAA1Y/lAAAAAQDWn+UAAAADAg7v5QAAAAGD7dPpAAAAAQGVj+kAAAAAAm9P5QAAAAGBgGvlAAAAA4LV7+UAAAAAgfoT5QAAAAABaovlAAAAAgEg++UAAAABAJEv5QAAAAGBMYPlAAAAAYEP++EAAAAAA0ab4QAAAAEDj/vdAAAAAAJxX+EAAAADgQ5L5QAAAAECW2flAAAAAoKUK+kAAAADgH/35QAAAAKA/GPpAAAAAwOEt+kAAAABgehD6QA==",
          "dtype": "f8",
          "shape": "89, 1"
         },
         "open": {
          "bdata": "AAAAoHcj9EAAAAAAxEn0QAAAAEBLePRAAAAAIAhj9EAAAABg1RjzQAAAAKAnV/NAAAAAABmf8kAAAACgXyj0QAAAAMCQcPNAAAAAQMhc9EAAAACA99H0QAAAAGDobvRAAAAAILuj9EAAAAAgqG30QAAAAMDqg/RAAAAAAEO69EAAAADgLZ70QAAAACChxPRAAAAAoDjL9EAAAAAAHl71QAAAAGA5z/ZAAAAAYMbf9kAAAAAAJPD2QAAAAGCqH/dAAAAAgE4c90AAAADgtOP2QAAAAMBdMPdAAAAAgOcE90AAAADATQD3QAAAAIDvjvdAAAAAIIqo90AAAAAAU2j3QAAAAAD5BvdAAAAAIMYh90AAAAAgA6L3QAAAAACksPdAAAAAAHI0+UAAAABg2yP5QAAAACDRj/lAAAAAYK9q+UAAAADgxxn5QAAAAEB1bvlAAAAAQC1H+UAAAACAelP5QAAAAKAURPlAAAAAQC8x+UAAAACA6Pv5QAAAAIBWyPlAAAAAAHUS+kAAAADgl8b6QAAAAMD1Q/tAAAAAIOgw+kAAAABgpFH6QAAAAID8nfpAAAAAgAa4+kAAAADAApz6QAAAACA5UfpAAAAAYOPK+UAAAACAq2P5QAAAAMDUi/lAAAAAAB3L+UAAAACgB9r5QAAAAOClvflAAAAAgOyS+UAAAADgZcz4QAAAAGBqfPlAAAAAIBjJ+UAAAABgENT5QAAAAAB77fpAAAAAwFzr+kAAAACg3oj6QAAAAIBJ3PlAAAAAYMHn+UAAAACAjb/5QAAAAIA5xflAAAAA4KES+kAAAAAgoYn5QAAAAGBsm/lAAAAAgJCO+UAAAABAMTn5QAAAAIBA9PhAAAAAoLen+EAAAABAOMb5QAAAAID24/lAAAAAIPE2+kAAAADArhz6QAAAAMAoJfpAAAAAIP0z+kAAAAAA93X6QA==",
          "dtype": "f8",
          "shape": "89, 1"
         },
         "type": "candlestick",
         "x": [
          "2025-04-03T00:00:00.000000000",
          "2025-04-04T00:00:00.000000000",
          "2025-04-05T00:00:00.000000000",
          "2025-04-06T00:00:00.000000000",
          "2025-04-07T00:00:00.000000000",
          "2025-04-08T00:00:00.000000000",
          "2025-04-09T00:00:00.000000000",
          "2025-04-10T00:00:00.000000000",
          "2025-04-11T00:00:00.000000000",
          "2025-04-12T00:00:00.000000000",
          "2025-04-13T00:00:00.000000000",
          "2025-04-14T00:00:00.000000000",
          "2025-04-15T00:00:00.000000000",
          "2025-04-16T00:00:00.000000000",
          "2025-04-17T00:00:00.000000000",
          "2025-04-18T00:00:00.000000000",
          "2025-04-19T00:00:00.000000000",
          "2025-04-20T00:00:00.000000000",
          "2025-04-21T00:00:00.000000000",
          "2025-04-22T00:00:00.000000000",
          "2025-04-23T00:00:00.000000000",
          "2025-04-24T00:00:00.000000000",
          "2025-04-25T00:00:00.000000000",
          "2025-04-26T00:00:00.000000000",
          "2025-04-27T00:00:00.000000000",
          "2025-04-28T00:00:00.000000000",
          "2025-04-29T00:00:00.000000000",
          "2025-04-30T00:00:00.000000000",
          "2025-05-01T00:00:00.000000000",
          "2025-05-02T00:00:00.000000000",
          "2025-05-03T00:00:00.000000000",
          "2025-05-04T00:00:00.000000000",
          "2025-05-05T00:00:00.000000000",
          "2025-05-06T00:00:00.000000000",
          "2025-05-07T00:00:00.000000000",
          "2025-05-08T00:00:00.000000000",
          "2025-05-09T00:00:00.000000000",
          "2025-05-10T00:00:00.000000000",
          "2025-05-11T00:00:00.000000000",
          "2025-05-12T00:00:00.000000000",
          "2025-05-13T00:00:00.000000000",
          "2025-05-14T00:00:00.000000000",
          "2025-05-15T00:00:00.000000000",
          "2025-05-16T00:00:00.000000000",
          "2025-05-17T00:00:00.000000000",
          "2025-05-18T00:00:00.000000000",
          "2025-05-19T00:00:00.000000000",
          "2025-05-20T00:00:00.000000000",
          "2025-05-21T00:00:00.000000000",
          "2025-05-22T00:00:00.000000000",
          "2025-05-23T00:00:00.000000000",
          "2025-05-24T00:00:00.000000000",
          "2025-05-25T00:00:00.000000000",
          "2025-05-26T00:00:00.000000000",
          "2025-05-27T00:00:00.000000000",
          "2025-05-28T00:00:00.000000000",
          "2025-05-29T00:00:00.000000000",
          "2025-05-30T00:00:00.000000000",
          "2025-05-31T00:00:00.000000000",
          "2025-06-01T00:00:00.000000000",
          "2025-06-02T00:00:00.000000000",
          "2025-06-03T00:00:00.000000000",
          "2025-06-04T00:00:00.000000000",
          "2025-06-05T00:00:00.000000000",
          "2025-06-06T00:00:00.000000000",
          "2025-06-07T00:00:00.000000000",
          "2025-06-08T00:00:00.000000000",
          "2025-06-09T00:00:00.000000000",
          "2025-06-10T00:00:00.000000000",
          "2025-06-11T00:00:00.000000000",
          "2025-06-12T00:00:00.000000000",
          "2025-06-13T00:00:00.000000000",
          "2025-06-14T00:00:00.000000000",
          "2025-06-15T00:00:00.000000000",
          "2025-06-16T00:00:00.000000000",
          "2025-06-17T00:00:00.000000000",
          "2025-06-18T00:00:00.000000000",
          "2025-06-19T00:00:00.000000000",
          "2025-06-20T00:00:00.000000000",
          "2025-06-21T00:00:00.000000000",
          "2025-06-22T00:00:00.000000000",
          "2025-06-23T00:00:00.000000000",
          "2025-06-24T00:00:00.000000000",
          "2025-06-25T00:00:00.000000000",
          "2025-06-26T00:00:00.000000000",
          "2025-06-27T00:00:00.000000000",
          "2025-06-28T00:00:00.000000000",
          "2025-06-29T00:00:00.000000000",
          "2025-06-30T00:00:00.000000000"
         ]
        },
        {
         "line": {
          "color": "red",
          "width": 2
         },
         "name": "Support/Resistance",
         "type": "scatter",
         "x": [
          "2025-04-03T00:00:00.000000000",
          "2025-04-04T00:00:00.000000000",
          "2025-04-05T00:00:00.000000000",
          "2025-04-06T00:00:00.000000000",
          "2025-04-07T00:00:00.000000000",
          "2025-04-08T00:00:00.000000000",
          "2025-04-09T00:00:00.000000000",
          "2025-04-10T00:00:00.000000000",
          "2025-04-11T00:00:00.000000000",
          "2025-04-12T00:00:00.000000000",
          "2025-04-13T00:00:00.000000000",
          "2025-04-14T00:00:00.000000000",
          "2025-04-15T00:00:00.000000000",
          "2025-04-16T00:00:00.000000000",
          "2025-04-17T00:00:00.000000000",
          "2025-04-18T00:00:00.000000000",
          "2025-04-19T00:00:00.000000000",
          "2025-04-20T00:00:00.000000000",
          "2025-04-21T00:00:00.000000000",
          "2025-04-22T00:00:00.000000000",
          "2025-04-23T00:00:00.000000000",
          "2025-04-24T00:00:00.000000000",
          "2025-04-25T00:00:00.000000000",
          "2025-04-26T00:00:00.000000000",
          "2025-04-27T00:00:00.000000000",
          "2025-04-28T00:00:00.000000000",
          "2025-04-29T00:00:00.000000000",
          "2025-04-30T00:00:00.000000000",
          "2025-05-01T00:00:00.000000000",
          "2025-05-02T00:00:00.000000000",
          "2025-05-03T00:00:00.000000000",
          "2025-05-04T00:00:00.000000000",
          "2025-05-05T00:00:00.000000000",
          "2025-05-06T00:00:00.000000000",
          "2025-05-07T00:00:00.000000000",
          "2025-05-08T00:00:00.000000000",
          "2025-05-09T00:00:00.000000000",
          "2025-05-10T00:00:00.000000000",
          "2025-05-11T00:00:00.000000000",
          "2025-05-12T00:00:00.000000000",
          "2025-05-13T00:00:00.000000000",
          "2025-05-14T00:00:00.000000000",
          "2025-05-15T00:00:00.000000000",
          "2025-05-16T00:00:00.000000000",
          "2025-05-17T00:00:00.000000000",
          "2025-05-18T00:00:00.000000000",
          "2025-05-19T00:00:00.000000000",
          "2025-05-20T00:00:00.000000000",
          "2025-05-21T00:00:00.000000000",
          "2025-05-22T00:00:00.000000000",
          "2025-05-23T00:00:00.000000000",
          "2025-05-24T00:00:00.000000000",
          "2025-05-25T00:00:00.000000000",
          "2025-05-26T00:00:00.000000000",
          "2025-05-27T00:00:00.000000000",
          "2025-05-28T00:00:00.000000000",
          "2025-05-29T00:00:00.000000000",
          "2025-05-30T00:00:00.000000000",
          "2025-05-31T00:00:00.000000000",
          "2025-06-01T00:00:00.000000000",
          "2025-06-02T00:00:00.000000000",
          "2025-06-03T00:00:00.000000000",
          "2025-06-04T00:00:00.000000000",
          "2025-06-05T00:00:00.000000000",
          "2025-06-06T00:00:00.000000000",
          "2025-06-07T00:00:00.000000000",
          "2025-06-08T00:00:00.000000000",
          "2025-06-09T00:00:00.000000000",
          "2025-06-10T00:00:00.000000000",
          "2025-06-11T00:00:00.000000000",
          "2025-06-12T00:00:00.000000000",
          "2025-06-13T00:00:00.000000000",
          "2025-06-14T00:00:00.000000000",
          "2025-06-15T00:00:00.000000000",
          "2025-06-16T00:00:00.000000000",
          "2025-06-17T00:00:00.000000000",
          "2025-06-18T00:00:00.000000000",
          "2025-06-19T00:00:00.000000000",
          "2025-06-20T00:00:00.000000000",
          "2025-06-21T00:00:00.000000000",
          "2025-06-22T00:00:00.000000000",
          "2025-06-23T00:00:00.000000000",
          "2025-06-24T00:00:00.000000000",
          "2025-06-25T00:00:00.000000000",
          "2025-06-26T00:00:00.000000000",
          "2025-06-27T00:00:00.000000000",
          "2025-06-28T00:00:00.000000000",
          "2025-06-29T00:00:00.000000000",
          "2025-06-30T00:00:00.000000000"
         ],
         "y": [
          45000,
          45000,
          45000,
          45000,
          45000,
          45000,
          45000,
          45000,
          45000,
          45000,
          45000,
          45000,
          45000,
          45000,
          45000,
          45000,
          45000,
          45000,
          45000,
          45000,
          45000,
          45000,
          45000,
          45000,
          45000,
          45000,
          45000,
          45000,
          45000,
          45000,
          45000,
          45000,
          45000,
          45000,
          45000,
          45000,
          45000,
          45000,
          45000,
          45000,
          45000,
          45000,
          45000,
          45000,
          45000,
          45000,
          45000,
          45000,
          45000,
          45000,
          45000,
          45000,
          45000,
          45000,
          45000,
          45000,
          45000,
          45000,
          45000,
          45000,
          45000,
          45000,
          45000,
          45000,
          45000,
          45000,
          45000,
          45000,
          45000,
          45000,
          45000,
          45000,
          45000,
          45000,
          45000,
          45000,
          45000,
          45000,
          45000,
          45000,
          45000,
          45000,
          45000,
          45000,
          45000,
          45000,
          45000,
          45000,
          45000
         ]
        },
        {
         "line": {
          "color": "red",
          "width": 2
         },
         "name": "Support/Resistance",
         "type": "scatter",
         "x": [
          "2025-04-03T00:00:00.000000000",
          "2025-04-04T00:00:00.000000000",
          "2025-04-05T00:00:00.000000000",
          "2025-04-06T00:00:00.000000000",
          "2025-04-07T00:00:00.000000000",
          "2025-04-08T00:00:00.000000000",
          "2025-04-09T00:00:00.000000000",
          "2025-04-10T00:00:00.000000000",
          "2025-04-11T00:00:00.000000000",
          "2025-04-12T00:00:00.000000000",
          "2025-04-13T00:00:00.000000000",
          "2025-04-14T00:00:00.000000000",
          "2025-04-15T00:00:00.000000000",
          "2025-04-16T00:00:00.000000000",
          "2025-04-17T00:00:00.000000000",
          "2025-04-18T00:00:00.000000000",
          "2025-04-19T00:00:00.000000000",
          "2025-04-20T00:00:00.000000000",
          "2025-04-21T00:00:00.000000000",
          "2025-04-22T00:00:00.000000000",
          "2025-04-23T00:00:00.000000000",
          "2025-04-24T00:00:00.000000000",
          "2025-04-25T00:00:00.000000000",
          "2025-04-26T00:00:00.000000000",
          "2025-04-27T00:00:00.000000000",
          "2025-04-28T00:00:00.000000000",
          "2025-04-29T00:00:00.000000000",
          "2025-04-30T00:00:00.000000000",
          "2025-05-01T00:00:00.000000000",
          "2025-05-02T00:00:00.000000000",
          "2025-05-03T00:00:00.000000000",
          "2025-05-04T00:00:00.000000000",
          "2025-05-05T00:00:00.000000000",
          "2025-05-06T00:00:00.000000000",
          "2025-05-07T00:00:00.000000000",
          "2025-05-08T00:00:00.000000000",
          "2025-05-09T00:00:00.000000000",
          "2025-05-10T00:00:00.000000000",
          "2025-05-11T00:00:00.000000000",
          "2025-05-12T00:00:00.000000000",
          "2025-05-13T00:00:00.000000000",
          "2025-05-14T00:00:00.000000000",
          "2025-05-15T00:00:00.000000000",
          "2025-05-16T00:00:00.000000000",
          "2025-05-17T00:00:00.000000000",
          "2025-05-18T00:00:00.000000000",
          "2025-05-19T00:00:00.000000000",
          "2025-05-20T00:00:00.000000000",
          "2025-05-21T00:00:00.000000000",
          "2025-05-22T00:00:00.000000000",
          "2025-05-23T00:00:00.000000000",
          "2025-05-24T00:00:00.000000000",
          "2025-05-25T00:00:00.000000000",
          "2025-05-26T00:00:00.000000000",
          "2025-05-27T00:00:00.000000000",
          "2025-05-28T00:00:00.000000000",
          "2025-05-29T00:00:00.000000000",
          "2025-05-30T00:00:00.000000000",
          "2025-05-31T00:00:00.000000000",
          "2025-06-01T00:00:00.000000000",
          "2025-06-02T00:00:00.000000000",
          "2025-06-03T00:00:00.000000000",
          "2025-06-04T00:00:00.000000000",
          "2025-06-05T00:00:00.000000000",
          "2025-06-06T00:00:00.000000000",
          "2025-06-07T00:00:00.000000000",
          "2025-06-08T00:00:00.000000000",
          "2025-06-09T00:00:00.000000000",
          "2025-06-10T00:00:00.000000000",
          "2025-06-11T00:00:00.000000000",
          "2025-06-12T00:00:00.000000000",
          "2025-06-13T00:00:00.000000000",
          "2025-06-14T00:00:00.000000000",
          "2025-06-15T00:00:00.000000000",
          "2025-06-16T00:00:00.000000000",
          "2025-06-17T00:00:00.000000000",
          "2025-06-18T00:00:00.000000000",
          "2025-06-19T00:00:00.000000000",
          "2025-06-20T00:00:00.000000000",
          "2025-06-21T00:00:00.000000000",
          "2025-06-22T00:00:00.000000000",
          "2025-06-23T00:00:00.000000000",
          "2025-06-24T00:00:00.000000000",
          "2025-06-25T00:00:00.000000000",
          "2025-06-26T00:00:00.000000000",
          "2025-06-27T00:00:00.000000000",
          "2025-06-28T00:00:00.000000000",
          "2025-06-29T00:00:00.000000000",
          "2025-06-30T00:00:00.000000000"
         ],
         "y": [
          51000,
          51000,
          51000,
          51000,
          51000,
          51000,
          51000,
          51000,
          51000,
          51000,
          51000,
          51000,
          51000,
          51000,
          51000,
          51000,
          51000,
          51000,
          51000,
          51000,
          51000,
          51000,
          51000,
          51000,
          51000,
          51000,
          51000,
          51000,
          51000,
          51000,
          51000,
          51000,
          51000,
          51000,
          51000,
          51000,
          51000,
          51000,
          51000,
          51000,
          51000,
          51000,
          51000,
          51000,
          51000,
          51000,
          51000,
          51000,
          51000,
          51000,
          51000,
          51000,
          51000,
          51000,
          51000,
          51000,
          51000,
          51000,
          51000,
          51000,
          51000,
          51000,
          51000,
          51000,
          51000,
          51000,
          51000,
          51000,
          51000,
          51000,
          51000,
          51000,
          51000,
          51000,
          51000,
          51000,
          51000,
          51000,
          51000,
          51000,
          51000,
          51000,
          51000,
          51000,
          51000,
          51000,
          51000,
          51000,
          51000
         ]
        },
        {
         "marker": {
          "color": "moccasin",
          "size": 1
         },
         "mode": "markers",
         "name": "Signal",
         "type": "scatter",
         "x": [
          "2025-04-03T00:00:00.000000000",
          "2025-04-04T00:00:00.000000000",
          "2025-04-05T00:00:00.000000000",
          "2025-04-06T00:00:00.000000000",
          "2025-04-07T00:00:00.000000000",
          "2025-04-08T00:00:00.000000000",
          "2025-04-09T00:00:00.000000000",
          "2025-04-10T00:00:00.000000000",
          "2025-04-11T00:00:00.000000000",
          "2025-04-12T00:00:00.000000000",
          "2025-04-13T00:00:00.000000000",
          "2025-04-14T00:00:00.000000000",
          "2025-04-15T00:00:00.000000000",
          "2025-04-16T00:00:00.000000000",
          "2025-04-17T00:00:00.000000000",
          "2025-04-18T00:00:00.000000000",
          "2025-04-19T00:00:00.000000000",
          "2025-04-20T00:00:00.000000000",
          "2025-04-21T00:00:00.000000000",
          "2025-04-22T00:00:00.000000000",
          "2025-04-23T00:00:00.000000000",
          "2025-04-24T00:00:00.000000000",
          "2025-04-25T00:00:00.000000000",
          "2025-04-26T00:00:00.000000000",
          "2025-04-27T00:00:00.000000000",
          "2025-04-28T00:00:00.000000000",
          "2025-04-29T00:00:00.000000000",
          "2025-04-30T00:00:00.000000000",
          "2025-05-01T00:00:00.000000000",
          "2025-05-02T00:00:00.000000000",
          "2025-05-03T00:00:00.000000000",
          "2025-05-04T00:00:00.000000000",
          "2025-05-05T00:00:00.000000000",
          "2025-05-06T00:00:00.000000000",
          "2025-05-07T00:00:00.000000000",
          "2025-05-08T00:00:00.000000000",
          "2025-05-09T00:00:00.000000000",
          "2025-05-10T00:00:00.000000000",
          "2025-05-11T00:00:00.000000000",
          "2025-05-12T00:00:00.000000000",
          "2025-05-13T00:00:00.000000000",
          "2025-05-14T00:00:00.000000000",
          "2025-05-15T00:00:00.000000000",
          "2025-05-16T00:00:00.000000000",
          "2025-05-17T00:00:00.000000000",
          "2025-05-18T00:00:00.000000000",
          "2025-05-19T00:00:00.000000000",
          "2025-05-20T00:00:00.000000000",
          "2025-05-21T00:00:00.000000000",
          "2025-05-22T00:00:00.000000000",
          "2025-05-23T00:00:00.000000000",
          "2025-05-24T00:00:00.000000000",
          "2025-05-25T00:00:00.000000000",
          "2025-05-26T00:00:00.000000000",
          "2025-05-27T00:00:00.000000000",
          "2025-05-28T00:00:00.000000000",
          "2025-05-29T00:00:00.000000000",
          "2025-05-30T00:00:00.000000000",
          "2025-05-31T00:00:00.000000000",
          "2025-06-01T00:00:00.000000000",
          "2025-06-02T00:00:00.000000000",
          "2025-06-03T00:00:00.000000000",
          "2025-06-04T00:00:00.000000000",
          "2025-06-05T00:00:00.000000000",
          "2025-06-06T00:00:00.000000000",
          "2025-06-07T00:00:00.000000000",
          "2025-06-08T00:00:00.000000000",
          "2025-06-09T00:00:00.000000000",
          "2025-06-10T00:00:00.000000000",
          "2025-06-11T00:00:00.000000000",
          "2025-06-12T00:00:00.000000000",
          "2025-06-13T00:00:00.000000000",
          "2025-06-14T00:00:00.000000000",
          "2025-06-15T00:00:00.000000000",
          "2025-06-16T00:00:00.000000000",
          "2025-06-17T00:00:00.000000000",
          "2025-06-18T00:00:00.000000000",
          "2025-06-19T00:00:00.000000000",
          "2025-06-20T00:00:00.000000000",
          "2025-06-21T00:00:00.000000000",
          "2025-06-22T00:00:00.000000000",
          "2025-06-23T00:00:00.000000000",
          "2025-06-24T00:00:00.000000000",
          "2025-06-25T00:00:00.000000000",
          "2025-06-26T00:00:00.000000000",
          "2025-06-27T00:00:00.000000000",
          "2025-06-28T00:00:00.000000000",
          "2025-06-29T00:00:00.000000000",
          "2025-06-30T00:00:00.000000000"
         ],
         "y": {
          "bdata": "AAAAoOHR80AAAAAALOrzQAAAAMBbFvRAAAAA4FvM8kAAAADgCibyQAAAAGAglPJAAAAAwJov8kAAAAAgQiHzQAAAACBFP/NAAAAAANYu9EAAAAAg8D70QAAAAEBqaPRAAAAAIK1i9EAAAADgiUP0QAAAAAAcbPRAAAAAIG6O9EAAAABg15H0QAAAAIBNevRAAAAAYD3D9EAAAACAiDz1QAAAAGBvbfZAAAAAYMtc9kAAAACA6af2QAAAAAA06PZAAAAAYNbX9kAAAADgjKX2QAAAACAK4PZAAAAAQPqs9kAAAAAgWvb2QAAAACA/gfdAAAAAoJRe90AAAADglvf2QAAAAECk0fZAAAAAwD3H9kAAAABgFV/3QAAAAADeovdAAAAAgDH2+EAAAADApxT5QAAAAOALNvlAAAAAgKaW+EAAAACAccL4QAAAAMBkB/lAAAAAAM29+EAAAACg1yf5QAAAAODyCflAAAAAoCko+UAAAAAAy+f4QAAAAECoavlAAAAAwLPi+UAAAAAgEaj6QAAAAOBUD/pAAAAAoLQS+kAAAAAAdgX6QAAAAEC6hfpAAAAA4Fg/+kAAAADgjg36QAAAAGCms/lAAAAAoBxK+UAAAADgwSf5QAAAAEDvUvlAAAAAwLhM+UAAAACATZf5QAAAAEBLbPlAAAAAIA5/+EAAAAAg2az4QAAAAAD1XPlAAAAAQPWg+UAAAADAQ7X5QAAAAGC7bvpAAAAAQCVd+kAAAAAAW835QAAAAGAgFPlAAAAA4HV1+UAAAAAgPn75QAAAAAAanPlAAAAAgAg4+UAAAABA5ET5QAAAAGAMWvlAAAAAYAP4+EAAAAAAkaD4QAAAAECj+PdAAAAAAFxR+EAAAADgA4z5QAAAAEBW0/lAAAAAoGUE+kAAAADg3/b5QAAAAKD/EfpAAAAAwKEn+kAAAABgOgr6QA==",
          "dtype": "f8",
          "shape": "89, 1"
         }
        }
       ],
       "layout": {
        "margin": {
         "b": 0,
         "l": 0,
         "r": 50,
         "t": 0
        },
        "paper_bgcolor": "black",
        "plot_bgcolor": "black",
        "template": {
         "data": {
          "bar": [
           {
            "error_x": {
             "color": "#2a3f5f"
            },
            "error_y": {
             "color": "#2a3f5f"
            },
            "marker": {
             "line": {
              "color": "#E5ECF6",
              "width": 0.5
             },
             "pattern": {
              "fillmode": "overlay",
              "size": 10,
              "solidity": 0.2
             }
            },
            "type": "bar"
           }
          ],
          "barpolar": [
           {
            "marker": {
             "line": {
              "color": "#E5ECF6",
              "width": 0.5
             },
             "pattern": {
              "fillmode": "overlay",
              "size": 10,
              "solidity": 0.2
             }
            },
            "type": "barpolar"
           }
          ],
          "carpet": [
           {
            "aaxis": {
             "endlinecolor": "#2a3f5f",
             "gridcolor": "white",
             "linecolor": "white",
             "minorgridcolor": "white",
             "startlinecolor": "#2a3f5f"
            },
            "baxis": {
             "endlinecolor": "#2a3f5f",
             "gridcolor": "white",
             "linecolor": "white",
             "minorgridcolor": "white",
             "startlinecolor": "#2a3f5f"
            },
            "type": "carpet"
           }
          ],
          "choropleth": [
           {
            "colorbar": {
             "outlinewidth": 0,
             "ticks": ""
            },
            "type": "choropleth"
           }
          ],
          "contour": [
           {
            "colorbar": {
             "outlinewidth": 0,
             "ticks": ""
            },
            "colorscale": [
             [
              0,
              "#0d0887"
             ],
             [
              0.1111111111111111,
              "#46039f"
             ],
             [
              0.2222222222222222,
              "#7201a8"
             ],
             [
              0.3333333333333333,
              "#9c179e"
             ],
             [
              0.4444444444444444,
              "#bd3786"
             ],
             [
              0.5555555555555556,
              "#d8576b"
             ],
             [
              0.6666666666666666,
              "#ed7953"
             ],
             [
              0.7777777777777778,
              "#fb9f3a"
             ],
             [
              0.8888888888888888,
              "#fdca26"
             ],
             [
              1,
              "#f0f921"
             ]
            ],
            "type": "contour"
           }
          ],
          "contourcarpet": [
           {
            "colorbar": {
             "outlinewidth": 0,
             "ticks": ""
            },
            "type": "contourcarpet"
           }
          ],
          "heatmap": [
           {
            "colorbar": {
             "outlinewidth": 0,
             "ticks": ""
            },
            "colorscale": [
             [
              0,
              "#0d0887"
             ],
             [
              0.1111111111111111,
              "#46039f"
             ],
             [
              0.2222222222222222,
              "#7201a8"
             ],
             [
              0.3333333333333333,
              "#9c179e"
             ],
             [
              0.4444444444444444,
              "#bd3786"
             ],
             [
              0.5555555555555556,
              "#d8576b"
             ],
             [
              0.6666666666666666,
              "#ed7953"
             ],
             [
              0.7777777777777778,
              "#fb9f3a"
             ],
             [
              0.8888888888888888,
              "#fdca26"
             ],
             [
              1,
              "#f0f921"
             ]
            ],
            "type": "heatmap"
           }
          ],
          "histogram": [
           {
            "marker": {
             "pattern": {
              "fillmode": "overlay",
              "size": 10,
              "solidity": 0.2
             }
            },
            "type": "histogram"
           }
          ],
          "histogram2d": [
           {
            "colorbar": {
             "outlinewidth": 0,
             "ticks": ""
            },
            "colorscale": [
             [
              0,
              "#0d0887"
             ],
             [
              0.1111111111111111,
              "#46039f"
             ],
             [
              0.2222222222222222,
              "#7201a8"
             ],
             [
              0.3333333333333333,
              "#9c179e"
             ],
             [
              0.4444444444444444,
              "#bd3786"
             ],
             [
              0.5555555555555556,
              "#d8576b"
             ],
             [
              0.6666666666666666,
              "#ed7953"
             ],
             [
              0.7777777777777778,
              "#fb9f3a"
             ],
             [
              0.8888888888888888,
              "#fdca26"
             ],
             [
              1,
              "#f0f921"
             ]
            ],
            "type": "histogram2d"
           }
          ],
          "histogram2dcontour": [
           {
            "colorbar": {
             "outlinewidth": 0,
             "ticks": ""
            },
            "colorscale": [
             [
              0,
              "#0d0887"
             ],
             [
              0.1111111111111111,
              "#46039f"
             ],
             [
              0.2222222222222222,
              "#7201a8"
             ],
             [
              0.3333333333333333,
              "#9c179e"
             ],
             [
              0.4444444444444444,
              "#bd3786"
             ],
             [
              0.5555555555555556,
              "#d8576b"
             ],
             [
              0.6666666666666666,
              "#ed7953"
             ],
             [
              0.7777777777777778,
              "#fb9f3a"
             ],
             [
              0.8888888888888888,
              "#fdca26"
             ],
             [
              1,
              "#f0f921"
             ]
            ],
            "type": "histogram2dcontour"
           }
          ],
          "mesh3d": [
           {
            "colorbar": {
             "outlinewidth": 0,
             "ticks": ""
            },
            "type": "mesh3d"
           }
          ],
          "parcoords": [
           {
            "line": {
             "colorbar": {
              "outlinewidth": 0,
              "ticks": ""
             }
            },
            "type": "parcoords"
           }
          ],
          "pie": [
           {
            "automargin": true,
            "type": "pie"
           }
          ],
          "scatter": [
           {
            "fillpattern": {
             "fillmode": "overlay",
             "size": 10,
             "solidity": 0.2
            },
            "type": "scatter"
           }
          ],
          "scatter3d": [
           {
            "line": {
             "colorbar": {
              "outlinewidth": 0,
              "ticks": ""
             }
            },
            "marker": {
             "colorbar": {
              "outlinewidth": 0,
              "ticks": ""
             }
            },
            "type": "scatter3d"
           }
          ],
          "scattercarpet": [
           {
            "marker": {
             "colorbar": {
              "outlinewidth": 0,
              "ticks": ""
             }
            },
            "type": "scattercarpet"
           }
          ],
          "scattergeo": [
           {
            "marker": {
             "colorbar": {
              "outlinewidth": 0,
              "ticks": ""
             }
            },
            "type": "scattergeo"
           }
          ],
          "scattergl": [
           {
            "marker": {
             "colorbar": {
              "outlinewidth": 0,
              "ticks": ""
             }
            },
            "type": "scattergl"
           }
          ],
          "scattermap": [
           {
            "marker": {
             "colorbar": {
              "outlinewidth": 0,
              "ticks": ""
             }
            },
            "type": "scattermap"
           }
          ],
          "scattermapbox": [
           {
            "marker": {
             "colorbar": {
              "outlinewidth": 0,
              "ticks": ""
             }
            },
            "type": "scattermapbox"
           }
          ],
          "scatterpolar": [
           {
            "marker": {
             "colorbar": {
              "outlinewidth": 0,
              "ticks": ""
             }
            },
            "type": "scatterpolar"
           }
          ],
          "scatterpolargl": [
           {
            "marker": {
             "colorbar": {
              "outlinewidth": 0,
              "ticks": ""
             }
            },
            "type": "scatterpolargl"
           }
          ],
          "scatterternary": [
           {
            "marker": {
             "colorbar": {
              "outlinewidth": 0,
              "ticks": ""
             }
            },
            "type": "scatterternary"
           }
          ],
          "surface": [
           {
            "colorbar": {
             "outlinewidth": 0,
             "ticks": ""
            },
            "colorscale": [
             [
              0,
              "#0d0887"
             ],
             [
              0.1111111111111111,
              "#46039f"
             ],
             [
              0.2222222222222222,
              "#7201a8"
             ],
             [
              0.3333333333333333,
              "#9c179e"
             ],
             [
              0.4444444444444444,
              "#bd3786"
             ],
             [
              0.5555555555555556,
              "#d8576b"
             ],
             [
              0.6666666666666666,
              "#ed7953"
             ],
             [
              0.7777777777777778,
              "#fb9f3a"
             ],
             [
              0.8888888888888888,
              "#fdca26"
             ],
             [
              1,
              "#f0f921"
             ]
            ],
            "type": "surface"
           }
          ],
          "table": [
           {
            "cells": {
             "fill": {
              "color": "#EBF0F8"
             },
             "line": {
              "color": "white"
             }
            },
            "header": {
             "fill": {
              "color": "#C8D4E3"
             },
             "line": {
              "color": "white"
             }
            },
            "type": "table"
           }
          ]
         },
         "layout": {
          "annotationdefaults": {
           "arrowcolor": "#2a3f5f",
           "arrowhead": 0,
           "arrowwidth": 1
          },
          "autotypenumbers": "strict",
          "coloraxis": {
           "colorbar": {
            "outlinewidth": 0,
            "ticks": ""
           }
          },
          "colorscale": {
           "diverging": [
            [
             0,
             "#8e0152"
            ],
            [
             0.1,
             "#c51b7d"
            ],
            [
             0.2,
             "#de77ae"
            ],
            [
             0.3,
             "#f1b6da"
            ],
            [
             0.4,
             "#fde0ef"
            ],
            [
             0.5,
             "#f7f7f7"
            ],
            [
             0.6,
             "#e6f5d0"
            ],
            [
             0.7,
             "#b8e186"
            ],
            [
             0.8,
             "#7fbc41"
            ],
            [
             0.9,
             "#4d9221"
            ],
            [
             1,
             "#276419"
            ]
           ],
           "sequential": [
            [
             0,
             "#0d0887"
            ],
            [
             0.1111111111111111,
             "#46039f"
            ],
            [
             0.2222222222222222,
             "#7201a8"
            ],
            [
             0.3333333333333333,
             "#9c179e"
            ],
            [
             0.4444444444444444,
             "#bd3786"
            ],
            [
             0.5555555555555556,
             "#d8576b"
            ],
            [
             0.6666666666666666,
             "#ed7953"
            ],
            [
             0.7777777777777778,
             "#fb9f3a"
            ],
            [
             0.8888888888888888,
             "#fdca26"
            ],
            [
             1,
             "#f0f921"
            ]
           ],
           "sequentialminus": [
            [
             0,
             "#0d0887"
            ],
            [
             0.1111111111111111,
             "#46039f"
            ],
            [
             0.2222222222222222,
             "#7201a8"
            ],
            [
             0.3333333333333333,
             "#9c179e"
            ],
            [
             0.4444444444444444,
             "#bd3786"
            ],
            [
             0.5555555555555556,
             "#d8576b"
            ],
            [
             0.6666666666666666,
             "#ed7953"
            ],
            [
             0.7777777777777778,
             "#fb9f3a"
            ],
            [
             0.8888888888888888,
             "#fdca26"
            ],
            [
             1,
             "#f0f921"
            ]
           ]
          },
          "colorway": [
           "#636efa",
           "#EF553B",
           "#00cc96",
           "#ab63fa",
           "#FFA15A",
           "#19d3f3",
           "#FF6692",
           "#B6E880",
           "#FF97FF",
           "#FECB52"
          ],
          "font": {
           "color": "#2a3f5f"
          },
          "geo": {
           "bgcolor": "white",
           "lakecolor": "white",
           "landcolor": "#E5ECF6",
           "showlakes": true,
           "showland": true,
           "subunitcolor": "white"
          },
          "hoverlabel": {
           "align": "left"
          },
          "hovermode": "closest",
          "mapbox": {
           "style": "light"
          },
          "paper_bgcolor": "white",
          "plot_bgcolor": "#E5ECF6",
          "polar": {
           "angularaxis": {
            "gridcolor": "white",
            "linecolor": "white",
            "ticks": ""
           },
           "bgcolor": "#E5ECF6",
           "radialaxis": {
            "gridcolor": "white",
            "linecolor": "white",
            "ticks": ""
           }
          },
          "scene": {
           "xaxis": {
            "backgroundcolor": "#E5ECF6",
            "gridcolor": "white",
            "gridwidth": 2,
            "linecolor": "white",
            "showbackground": true,
            "ticks": "",
            "zerolinecolor": "white"
           },
           "yaxis": {
            "backgroundcolor": "#E5ECF6",
            "gridcolor": "white",
            "gridwidth": 2,
            "linecolor": "white",
            "showbackground": true,
            "ticks": "",
            "zerolinecolor": "white"
           },
           "zaxis": {
            "backgroundcolor": "#E5ECF6",
            "gridcolor": "white",
            "gridwidth": 2,
            "linecolor": "white",
            "showbackground": true,
            "ticks": "",
            "zerolinecolor": "white"
           }
          },
          "shapedefaults": {
           "line": {
            "color": "#2a3f5f"
           }
          },
          "ternary": {
           "aaxis": {
            "gridcolor": "white",
            "linecolor": "white",
            "ticks": ""
           },
           "baxis": {
            "gridcolor": "white",
            "linecolor": "white",
            "ticks": ""
           },
           "bgcolor": "#E5ECF6",
           "caxis": {
            "gridcolor": "white",
            "linecolor": "white",
            "ticks": ""
           }
          },
          "title": {
           "x": 0.05
          },
          "xaxis": {
           "automargin": true,
           "gridcolor": "white",
           "linecolor": "white",
           "ticks": "",
           "title": {
            "standoff": 15
           },
           "zerolinecolor": "white",
           "zerolinewidth": 2
          },
          "yaxis": {
           "automargin": true,
           "gridcolor": "white",
           "linecolor": "white",
           "ticks": "",
           "title": {
            "standoff": 15
           },
           "zerolinecolor": "white",
           "zerolinewidth": 2
          }
         }
        },
        "xaxis": {
         "gridcolor": "black",
         "linecolor": "white",
         "linewidth": 2,
         "rangeslider": {
          "visible": false
         },
         "showline": true
        },
        "yaxis": {
         "gridcolor": "black",
         "linecolor": "white",
         "linewidth": 2,
         "showline": true
        }
       }
      }
     },
     "metadata": {},
     "output_type": "display_data"
    }
   ],
   "source": [
    "dfpl = data[-90:-1]\n",
    "import plotly.graph_objects as go\n",
    "fig = go.Figure(data=[go.Candlestick(x=dfpl.index,\n",
    "                open=dfpl['Open'],\n",
    "                high=dfpl['High'],\n",
    "                low=dfpl['Low'],\n",
    "                close=dfpl['Close'],\n",
    "                increasing_line_color= 'yellow', decreasing_line_color= 'mediumorchid'),\n",
    "                go.Scatter(x=dfpl.index, y=[45000]*len(dfpl), line=dict(color='red', width=2), name=\"Support/Resistance\"),\n",
    "                go.Scatter(x=dfpl.index, y=[51000]*len(dfpl), line=dict(color='red', width=2), name=\"Support/Resistance\"),\n",
    "                go.Scatter(x=dfpl.index, y=dfpl.Low-100, mode=\"markers\", marker=dict(size=1, color=\"moccasin\"), name=\"Signal\")])\n",
    "fig.update(layout_xaxis_rangeslider_visible=False)\n",
    "fig.update_layout(paper_bgcolor=\"black\", plot_bgcolor=\"black\",\n",
    "                 margin_l=0, margin_b=0, margin_r=50, margin_t=0)\n",
    "fig.update_xaxes(showline=True, linewidth=2, linecolor='white', gridcolor='black')\n",
    "fig.update_yaxes(showline=True, linewidth=2, linecolor='white', gridcolor='black')\n",
    "fig.show()"
   ]
  },
  {
   "cell_type": "code",
   "execution_count": 5,
   "id": "4f283c56",
   "metadata": {},
   "outputs": [
    {
     "data": {
      "text/plain": [
       "Candlestick({\n",
       "    'close': array([[ 83102.828125 ],\n",
       "                    [ 83843.8046875],\n",
       "                    [ 83504.796875 ],\n",
       "                    [ 78214.484375 ],\n",
       "                    [ 79235.3359375],\n",
       "                    [ 76271.953125 ],\n",
       "                    [ 82573.953125 ],\n",
       "                    [ 79626.140625 ],\n",
       "                    [ 83404.8359375],\n",
       "                    [ 85287.109375 ],\n",
       "                    [ 83684.9765625],\n",
       "                    [ 84542.390625 ],\n",
       "                    [ 83668.9921875],\n",
       "                    [ 84033.8671875],\n",
       "                    [ 84895.75     ],\n",
       "                    [ 84450.8046875],\n",
       "                    [ 85063.4140625],\n",
       "                    [ 85174.3046875],\n",
       "                    [ 87518.90625  ],\n",
       "                    [ 93441.890625 ],\n",
       "                    [ 93699.109375 ],\n",
       "                    [ 93943.796875 ],\n",
       "                    [ 94720.5      ],\n",
       "                    [ 94646.9296875],\n",
       "                    [ 93754.84375  ],\n",
       "                    [ 94978.75     ],\n",
       "                    [ 94284.7890625],\n",
       "                    [ 94207.3125   ],\n",
       "                    [ 96492.3359375],\n",
       "                    [ 96910.0703125],\n",
       "                    [ 95891.796875 ],\n",
       "                    [ 94315.9765625],\n",
       "                    [ 94748.0546875],\n",
       "                    [ 96802.4765625],\n",
       "                    [ 97032.3203125],\n",
       "                    [103241.4609375],\n",
       "                    [102970.8515625],\n",
       "                    [104696.328125 ],\n",
       "                    [104106.359375 ],\n",
       "                    [102812.953125 ],\n",
       "                    [104169.8125   ],\n",
       "                    [103539.4140625],\n",
       "                    [103744.640625 ],\n",
       "                    [103489.2890625],\n",
       "                    [103191.0859375],\n",
       "                    [106446.0078125],\n",
       "                    [105606.1796875],\n",
       "                    [106791.0859375],\n",
       "                    [109678.078125 ],\n",
       "                    [111673.28125  ],\n",
       "                    [107287.796875 ],\n",
       "                    [107791.15625  ],\n",
       "                    [109035.390625 ],\n",
       "                    [109440.3671875],\n",
       "                    [108994.640625 ],\n",
       "                    [107802.328125 ],\n",
       "                    [105641.7578125],\n",
       "                    [103998.5703125],\n",
       "                    [104638.09375  ],\n",
       "                    [105652.1015625],\n",
       "                    [105881.53125  ],\n",
       "                    [105432.46875  ],\n",
       "                    [104731.984375 ],\n",
       "                    [101575.953125 ],\n",
       "                    [104390.34375  ],\n",
       "                    [105615.625    ],\n",
       "                    [105793.6484375],\n",
       "                    [110294.1015625],\n",
       "                    [110257.234375 ],\n",
       "                    [108686.625    ],\n",
       "                    [105929.0546875],\n",
       "                    [106090.96875  ],\n",
       "                    [105472.40625  ],\n",
       "                    [105552.0234375],\n",
       "                    [106796.7578125],\n",
       "                    [104601.1171875],\n",
       "                    [104883.328125 ],\n",
       "                    [104684.2890625],\n",
       "                    [103309.6015625],\n",
       "                    [102257.40625  ],\n",
       "                    [100987.140625 ],\n",
       "                    [105577.7734375],\n",
       "                    [106045.6328125],\n",
       "                    [107361.2578125],\n",
       "                    [106960.       ],\n",
       "                    [107088.4296875],\n",
       "                    [107327.703125 ],\n",
       "                    [108385.5703125],\n",
       "                    [107135.3359375]]),\n",
       "    'decreasing': {'line': {'color': 'mediumorchid'}},\n",
       "    'high': array([[ 83909.296875 ],\n",
       "                   [ 84696.1484375],\n",
       "                   [ 84207.015625 ],\n",
       "                   [ 83704.71875  ],\n",
       "                   [ 81119.0625   ],\n",
       "                   [ 80823.890625 ],\n",
       "                   [ 83541.       ],\n",
       "                   [ 82700.9296875],\n",
       "                   [ 84247.4765625],\n",
       "                   [ 85856.1875   ],\n",
       "                   [ 86015.1875   ],\n",
       "                   [ 85785.       ],\n",
       "                   [ 86429.3515625],\n",
       "                   [ 85428.28125  ],\n",
       "                   [ 85449.0703125],\n",
       "                   [ 85095.046875 ],\n",
       "                   [ 85597.703125 ],\n",
       "                   [ 85306.3828125],\n",
       "                   [ 88460.09375  ],\n",
       "                   [ 93817.3828125],\n",
       "                   [ 94535.734375 ],\n",
       "                   [ 94016.1953125],\n",
       "                   [ 95768.390625 ],\n",
       "                   [ 95251.359375 ],\n",
       "                   [ 95301.203125 ],\n",
       "                   [ 95598.4921875],\n",
       "                   [ 95485.4140625],\n",
       "                   [ 95249.3203125],\n",
       "                   [ 97437.9609375],\n",
       "                   [ 97905.8984375],\n",
       "                   [ 96943.8828125],\n",
       "                   [ 96318.921875 ],\n",
       "                   [ 95193.1875   ],\n",
       "                   [ 96889.1796875],\n",
       "                   [ 97625.8046875],\n",
       "                   [103969.5390625],\n",
       "                   [104297.4921875],\n",
       "                   [104961.765625 ],\n",
       "                   [104937.9921875],\n",
       "                   [105747.453125 ],\n",
       "                   [104997.421875 ],\n",
       "                   [104303.5625   ],\n",
       "                   [104153.6171875],\n",
       "                   [104533.484375 ],\n",
       "                   [103716.9453125],\n",
       "                   [106597.171875 ],\n",
       "                   [107068.71875  ],\n",
       "                   [107307.1171875],\n",
       "                   [110724.4609375],\n",
       "                   [111970.171875 ],\n",
       "                   [111798.90625  ],\n",
       "                   [109454.5234375],\n",
       "                   [109313.3046875],\n",
       "                   [110376.8828125],\n",
       "                   [110744.2109375],\n",
       "                   [109298.2890625],\n",
       "                   [108910.046875 ],\n",
       "                   [106308.9453125],\n",
       "                   [104927.1015625],\n",
       "                   [105884.546875 ],\n",
       "                   [105958.3125   ],\n",
       "                   [106813.578125 ],\n",
       "                   [105997.6953125],\n",
       "                   [105936.6875   ],\n",
       "                   [105376.7734375],\n",
       "                   [105972.7578125],\n",
       "                   [106497.0625   ],\n",
       "                   [110561.421875 ],\n",
       "                   [110380.125    ],\n",
       "                   [110384.21875  ],\n",
       "                   [108780.6953125],\n",
       "                   [106182.546875 ],\n",
       "                   [106203.7578125],\n",
       "                   [106157.1015625],\n",
       "                   [108915.375    ],\n",
       "                   [107750.1953125],\n",
       "                   [105581.8515625],\n",
       "                   [105250.890625 ],\n",
       "                   [106539.3828125],\n",
       "                   [104015.78125  ],\n",
       "                   [103351.6328125],\n",
       "                   [106116.859375 ],\n",
       "                   [106316.828125 ],\n",
       "                   [108168.3984375],\n",
       "                   [108305.546875 ],\n",
       "                   [107772.46875  ],\n",
       "                   [107567.8828125],\n",
       "                   [108526.3046875],\n",
       "                   [108798.7890625]]),\n",
       "    'increasing': {'line': {'color': 'yellow'}},\n",
       "    'low': array([[ 81282.1015625],\n",
       "                  [ 81670.75     ],\n",
       "                  [ 82377.734375 ],\n",
       "                  [ 77097.7421875],\n",
       "                  [ 74436.6796875],\n",
       "                  [ 76198.0234375],\n",
       "                  [ 74589.671875 ],\n",
       "                  [ 78456.1328125],\n",
       "                  [ 78936.3203125],\n",
       "                  [ 82769.375    ],\n",
       "                  [ 83027.0078125],\n",
       "                  [ 83690.640625 ],\n",
       "                  [ 83598.8203125],\n",
       "                  [ 83100.6171875],\n",
       "                  [ 83749.75     ],\n",
       "                  [ 84298.8828125],\n",
       "                  [ 84353.4609375],\n",
       "                  [ 83976.84375  ],\n",
       "                  [ 85143.8359375],\n",
       "                  [ 87084.53125  ],\n",
       "                  [ 91962.9609375],\n",
       "                  [ 91696.7109375],\n",
       "                  [ 92898.59375  ],\n",
       "                  [ 93927.25     ],\n",
       "                  [ 93665.3984375],\n",
       "                  [ 92860.8046875],\n",
       "                  [ 93796.6328125],\n",
       "                  [ 92979.640625 ],\n",
       "                  [ 94153.6328125],\n",
       "                  [ 96375.9453125],\n",
       "                  [ 95821.2890625],\n",
       "                  [ 94173.4296875],\n",
       "                  [ 93566.265625 ],\n",
       "                  [ 93399.859375 ],\n",
       "                  [ 95829.3359375],\n",
       "                  [ 96913.875    ],\n",
       "                  [102343.09375  ],\n",
       "                  [102830.484375 ],\n",
       "                  [103364.7421875],\n",
       "                  [100814.40625  ],\n",
       "                  [101515.09375  ],\n",
       "                  [102618.296875 ],\n",
       "                  [101440.8125   ],\n",
       "                  [103137.4765625],\n",
       "                  [102659.1796875],\n",
       "                  [103142.6015625],\n",
       "                  [102112.6875   ],\n",
       "                  [104206.515625 ],\n",
       "                  [106127.234375 ],\n",
       "                  [109285.0703125],\n",
       "                  [106841.3046875],\n",
       "                  [106895.2890625],\n",
       "                  [106683.375    ],\n",
       "                  [108735.640625 ],\n",
       "                  [107609.5546875],\n",
       "                  [106812.9296875],\n",
       "                  [105374.3984375],\n",
       "                  [103685.7890625],\n",
       "                  [103136.1171875],\n",
       "                  [103826.953125 ],\n",
       "                  [103727.546875 ],\n",
       "                  [104920.84375  ],\n",
       "                  [104232.703125 ],\n",
       "                  [100436.8828125],\n",
       "                  [101169.5703125],\n",
       "                  [103987.3125   ],\n",
       "                  [105075.328125 ],\n",
       "                  [105400.234375 ],\n",
       "                  [108367.7109375],\n",
       "                  [108086.328125 ],\n",
       "                  [105785.6875   ],\n",
       "                  [102822.0234375],\n",
       "                  [104379.3671875],\n",
       "                  [104519.8828125],\n",
       "                  [104997.625    ],\n",
       "                  [103396.53125  ],\n",
       "                  [103602.265625 ],\n",
       "                  [103940.7734375],\n",
       "                  [102372.2109375],\n",
       "                  [100973.0625   ],\n",
       "                  [ 98286.203125 ],\n",
       "                  [ 99705.75     ],\n",
       "                  [104740.2421875],\n",
       "                  [105881.390625 ],\n",
       "                  [106666.3515625],\n",
       "                  [106449.9921875],\n",
       "                  [106883.9765625],\n",
       "                  [107230.109375 ],\n",
       "                  [106759.6484375]]),\n",
       "    'open': array([[ 82487.4765625],\n",
       "                   [ 83100.25     ],\n",
       "                   [ 83844.703125 ],\n",
       "                   [ 83504.5078125],\n",
       "                   [ 78221.3359375],\n",
       "                   [ 79218.4765625],\n",
       "                   [ 76273.5625   ],\n",
       "                   [ 82565.9765625],\n",
       "                   [ 79625.046875 ],\n",
       "                   [ 83404.515625 ],\n",
       "                   [ 85279.46875  ],\n",
       "                   [ 83694.5234375],\n",
       "                   [ 84539.6953125],\n",
       "                   [ 83674.5078125],\n",
       "                   [ 84030.671875 ],\n",
       "                   [ 84900.1875   ],\n",
       "                   [ 84450.8671875],\n",
       "                   [ 85066.0703125],\n",
       "                   [ 85171.5390625],\n",
       "                   [ 87521.875    ],\n",
       "                   [ 93427.5859375],\n",
       "                   [ 93692.3984375],\n",
       "                   [ 93954.25     ],\n",
       "                   [ 94714.6484375],\n",
       "                   [ 94660.90625  ],\n",
       "                   [ 93755.3046875],\n",
       "                   [ 94981.859375 ],\n",
       "                   [ 94286.46875  ],\n",
       "                   [ 94212.859375 ],\n",
       "                   [ 96494.96875  ],\n",
       "                   [ 96904.6328125],\n",
       "                   [ 95877.1875   ],\n",
       "                   [ 94319.5625   ],\n",
       "                   [ 94748.3828125],\n",
       "                   [ 96800.1953125],\n",
       "                   [ 97034.25     ],\n",
       "                   [103239.125    ],\n",
       "                   [102973.7109375],\n",
       "                   [104701.0703125],\n",
       "                   [104106.9609375],\n",
       "                   [102812.4921875],\n",
       "                   [104167.328125 ],\n",
       "                   [103538.828125 ],\n",
       "                   [103735.65625  ],\n",
       "                   [103489.2890625],\n",
       "                   [103186.953125 ],\n",
       "                   [106430.53125  ],\n",
       "                   [105605.40625  ],\n",
       "                   [106791.3125   ],\n",
       "                   [109673.4921875],\n",
       "                   [111679.359375 ],\n",
       "                   [107278.5078125],\n",
       "                   [107802.2734375],\n",
       "                   [109023.78125  ],\n",
       "                   [109440.40625  ],\n",
       "                   [108992.171875 ],\n",
       "                   [107795.5703125],\n",
       "                   [105646.2109375],\n",
       "                   [103994.71875  ],\n",
       "                   [104637.296875 ],\n",
       "                   [105649.8125   ],\n",
       "                   [105888.4765625],\n",
       "                   [105434.3671875],\n",
       "                   [104750.78125  ],\n",
       "                   [101574.3671875],\n",
       "                   [104390.6484375],\n",
       "                   [105617.5078125],\n",
       "                   [105793.0234375],\n",
       "                   [110295.6875   ],\n",
       "                   [110261.796875 ],\n",
       "                   [108685.9140625],\n",
       "                   [105924.59375  ],\n",
       "                   [106108.0859375],\n",
       "                   [105464.84375  ],\n",
       "                   [105555.59375  ],\n",
       "                   [106794.1171875],\n",
       "                   [104602.0703125],\n",
       "                   [104886.7734375],\n",
       "                   [104681.03125  ],\n",
       "                   [103315.078125 ],\n",
       "                   [102212.03125  ],\n",
       "                   [100987.4765625],\n",
       "                   [105571.515625 ],\n",
       "                   [106047.40625  ],\n",
       "                   [107375.0703125],\n",
       "                   [106954.921875 ],\n",
       "                   [107090.546875 ],\n",
       "                   [107327.8203125],\n",
       "                   [108383.4375   ]]),\n",
       "    'x': array(['2025-04-03T00:00:00.000000000', '2025-04-04T00:00:00.000000000',\n",
       "                '2025-04-05T00:00:00.000000000', '2025-04-06T00:00:00.000000000',\n",
       "                '2025-04-07T00:00:00.000000000', '2025-04-08T00:00:00.000000000',\n",
       "                '2025-04-09T00:00:00.000000000', '2025-04-10T00:00:00.000000000',\n",
       "                '2025-04-11T00:00:00.000000000', '2025-04-12T00:00:00.000000000',\n",
       "                '2025-04-13T00:00:00.000000000', '2025-04-14T00:00:00.000000000',\n",
       "                '2025-04-15T00:00:00.000000000', '2025-04-16T00:00:00.000000000',\n",
       "                '2025-04-17T00:00:00.000000000', '2025-04-18T00:00:00.000000000',\n",
       "                '2025-04-19T00:00:00.000000000', '2025-04-20T00:00:00.000000000',\n",
       "                '2025-04-21T00:00:00.000000000', '2025-04-22T00:00:00.000000000',\n",
       "                '2025-04-23T00:00:00.000000000', '2025-04-24T00:00:00.000000000',\n",
       "                '2025-04-25T00:00:00.000000000', '2025-04-26T00:00:00.000000000',\n",
       "                '2025-04-27T00:00:00.000000000', '2025-04-28T00:00:00.000000000',\n",
       "                '2025-04-29T00:00:00.000000000', '2025-04-30T00:00:00.000000000',\n",
       "                '2025-05-01T00:00:00.000000000', '2025-05-02T00:00:00.000000000',\n",
       "                '2025-05-03T00:00:00.000000000', '2025-05-04T00:00:00.000000000',\n",
       "                '2025-05-05T00:00:00.000000000', '2025-05-06T00:00:00.000000000',\n",
       "                '2025-05-07T00:00:00.000000000', '2025-05-08T00:00:00.000000000',\n",
       "                '2025-05-09T00:00:00.000000000', '2025-05-10T00:00:00.000000000',\n",
       "                '2025-05-11T00:00:00.000000000', '2025-05-12T00:00:00.000000000',\n",
       "                '2025-05-13T00:00:00.000000000', '2025-05-14T00:00:00.000000000',\n",
       "                '2025-05-15T00:00:00.000000000', '2025-05-16T00:00:00.000000000',\n",
       "                '2025-05-17T00:00:00.000000000', '2025-05-18T00:00:00.000000000',\n",
       "                '2025-05-19T00:00:00.000000000', '2025-05-20T00:00:00.000000000',\n",
       "                '2025-05-21T00:00:00.000000000', '2025-05-22T00:00:00.000000000',\n",
       "                '2025-05-23T00:00:00.000000000', '2025-05-24T00:00:00.000000000',\n",
       "                '2025-05-25T00:00:00.000000000', '2025-05-26T00:00:00.000000000',\n",
       "                '2025-05-27T00:00:00.000000000', '2025-05-28T00:00:00.000000000',\n",
       "                '2025-05-29T00:00:00.000000000', '2025-05-30T00:00:00.000000000',\n",
       "                '2025-05-31T00:00:00.000000000', '2025-06-01T00:00:00.000000000',\n",
       "                '2025-06-02T00:00:00.000000000', '2025-06-03T00:00:00.000000000',\n",
       "                '2025-06-04T00:00:00.000000000', '2025-06-05T00:00:00.000000000',\n",
       "                '2025-06-06T00:00:00.000000000', '2025-06-07T00:00:00.000000000',\n",
       "                '2025-06-08T00:00:00.000000000', '2025-06-09T00:00:00.000000000',\n",
       "                '2025-06-10T00:00:00.000000000', '2025-06-11T00:00:00.000000000',\n",
       "                '2025-06-12T00:00:00.000000000', '2025-06-13T00:00:00.000000000',\n",
       "                '2025-06-14T00:00:00.000000000', '2025-06-15T00:00:00.000000000',\n",
       "                '2025-06-16T00:00:00.000000000', '2025-06-17T00:00:00.000000000',\n",
       "                '2025-06-18T00:00:00.000000000', '2025-06-19T00:00:00.000000000',\n",
       "                '2025-06-20T00:00:00.000000000', '2025-06-21T00:00:00.000000000',\n",
       "                '2025-06-22T00:00:00.000000000', '2025-06-23T00:00:00.000000000',\n",
       "                '2025-06-24T00:00:00.000000000', '2025-06-25T00:00:00.000000000',\n",
       "                '2025-06-26T00:00:00.000000000', '2025-06-27T00:00:00.000000000',\n",
       "                '2025-06-28T00:00:00.000000000', '2025-06-29T00:00:00.000000000',\n",
       "                '2025-06-30T00:00:00.000000000'], dtype='datetime64[ns]')\n",
       "})"
      ]
     },
     "execution_count": 5,
     "metadata": {},
     "output_type": "execute_result"
    }
   ],
   "source": [
    "fig.data[0]"
   ]
  },
  {
   "cell_type": "code",
   "execution_count": null,
   "id": "0f69d5c9",
   "metadata": {},
   "outputs": [],
   "source": []
  }
 ],
 "metadata": {
  "kernelspec": {
   "display_name": ".venv",
   "language": "python",
   "name": "python3"
  },
  "language_info": {
   "codemirror_mode": {
    "name": "ipython",
    "version": 3
   },
   "file_extension": ".py",
   "mimetype": "text/x-python",
   "name": "python",
   "nbconvert_exporter": "python",
   "pygments_lexer": "ipython3",
   "version": "3.11.2"
  }
 },
 "nbformat": 4,
 "nbformat_minor": 5
}
