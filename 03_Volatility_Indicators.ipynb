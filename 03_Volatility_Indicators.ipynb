{
 "cells": [
  {
   "cell_type": "code",
   "execution_count": null,
   "metadata": {},
   "outputs": [
    {
     "data": {
      "application/vnd.plotly.v1+json": {
       "config": {
        "plotlyServerURL": "https://plot.ly"
       },
       "data": [
        {
         "close": {
          "bdata": "egbTBtgGQQecBsYG6gYZB1wHkgdnCKkIfgmkCcMIAwnMCO8IawmACUEKOAuzCr4KEwvzCY4K+Qk7CbgJFAq+CmQKcAqUCjQJmgkjCv8JyAn+CREKNAomCtMJUQkaCVcJIwlwCH4ILQnPCKoKQgrICqcJyAkYCsQKRgu5CoMK3woQCw4Ndw0iDWENBA6nEOgPABHsENEQnQ/pDyYQihDpEPQQ9RHfEYYSgxIPEWwR2RHgEZgQYRBUEDoPQA2ODqcPQg94D0EOIA5mD0QPOhBFEE0QKRG9EGkQ+xD1EOwSCRPbEscU8RUvFssVhBVFFlUXGhfcFTEW1BZ8FtQX6hi0GZIbPRzdG6MbYBzSG7gZbBnBGX4c1R4bHjogyB8NIOgfOiC5Jdkm2ie+JZcq7CwCLls0uz4fPf5CbkNxQXpA4UTzSAlCWz8ZPKU3GTY6PmY7cjbpN+w5DjuTOvJBlDr/ONA4zDTlNYI2/CmpLDUtkiyiKBgrAiwlLMQqKizZJ1En2CO7If8bhB7KHyYgniG0IqIhfyTDJpongSvwLVoo5SbyJr8oPCpWKewqSCuTLYoqOifmJO8jpyPQI+AgrCC8IVIhHSMDI98h9CEcH4EfJx8EHBsbXBsyHfgapxoTGlEaABs2G3seHh97HzYfRiByIJMhLCMzJbkj5iNXI4IkhCMmJAUmHiYoJRMkcCTGIzYhsCKHIaUgTSBjIBch7R/lHbQdVh1wHIsd7Ry2HU8dqB0QHgEeLh4fHqUawhm1GEIaoxmIGmoanRp+GvoXphhkGCkY2RdKFxwaFRpbGqUZ5RlnGjAZDhlXGGUYQBrOHOUcOB32HFUeXiAyIAggYCAWIEkedB22HRgdRhsaG+gYqBloGL8Y8xcgGasYhxlzGW0Z9xhPGQ8agBrnG8EbPhvEG8EcAx1lG24ZaRndGKwY5xh/GcMZhRjqGFQZJRl7GiIaMRmiGWIaNBrkGc4ZfhnsGeUZNBofGvkZoRimGDUZdRlfGTQZKhlKGTMZVRk7GUEZoBi5GNsY/hgOGT4ZUhmjGVAZ9RjjGMMY6xWZFYIV6xIsEZ4RiBHfEIcO8g65EJQQlw9cD3cPxw5HDnoNhQ1oDawN8gySDOENCg6QDtYPRQ8dEB4Q+w49DnEPlQ6UDmkPDg82D+IP2w/fD2sOfQ6MDi0OTw5kDlgO/Q0xDhQOLw4iDpUNhQ2kDZUNtg2WDZsNYg1bDUYORA40Di8OLg4oDkgPbA+FD3UPoQ8ZDwoP4Q4VDzEPsA42D0EPWg9XD0MPVQ9ID0gPdg+/D9QP5g+8D8YPZw+AD+AP4g8mEFYQ+RLmFCoTxBPAFA==",
          "dtype": "i2"
         },
         "high": {
          "bdata": "kQbZBukGXwcsBwsH9gZAB18Hqwf7COAIkgnxCncKMQlCCSEJugmSCUYKfQtGC/0KLwu7C+QKAwv/Cd4JGwrZCt0KqQqwCgEKpgknCi0KCAoZClIKPwpGCjIK7QlpCW4Jcgk0CY0IXQlhCasK1gryCt0KMwonChQLTQtwC8gK9go+C2MNoQ2FDYINBg73EGQRAxF/EQcRORAwEKkQoRBmERIRIxIgEqESiRIhEsIRUhJTElYSHBEiEXQQdg8ODx8QHBDOD4cPsw55D30PYRC1EH4QdhFPEQERCBFCEQcTPxMMEw8V7BZ+FpoW7RVtFrAXqxcsFz4WYRdsF0wYHhn6GekcGx0VHT0cyx5DHbQcrBpcGrIc2h4/H2MguCBwIFsgjCAXJvcmrywvKr4qPi1bLqc050TfQhhEsESlRAdDLEY4TEJKvEW8Q8M9JTkeP3ZAjzz1OsE7cjxrPFRCf0A9PJ05pjpWNyY4lTYtLksv0S6cLq8sGS3zLZAtOy4qLMsoOyhHJBchMB++IeghSSL6IkQjyyQgKGooKCwXLjIu4yrgKAYpnypvK4Ar3Cv7LcIt8irmJzQlFSduJfQkTiEGInsilCMfJMojiiIQIo8g7h+KH+McEhycHVwdSxsIG08cGxt8G5ofZCAiIScgcCCuILYhbSM/JWQmHiTpJC8liCQrJFkmkCYEJjslziXxJOwj7yLMIqEhViGSIMMhJSHuH20eIh5MHaIdwx3uHfcdjB4vHjoehx5PHuoaPBsWGnAaXhrLGvUa2xrDGpoa9xi7GKgYXRjbF0oaSRq9GmgaIhqgGswaQBknGfoYcRpXHdYdkB06HrIe3SBdIbkgiiCKIEIglx5QHsodMRwpHPwa0RkcGr8ZxxgUGoYZ1BnNGYsZFhuPGS4apxoRHAwc0xvrG9ocKB0XHYEbwBk2GUEZAhm7GfIZvhksGa8Zbhm1Gn0aIxrNGYgayRozGhEa4RkdGgwaZRpEGkkaGxrgGNAcmBmRGZUZRBliGU0ZeBlaGW4ZTxnOGA4Z/xgnGWUZcRnGGa0ZVhksGfQY0RhFFiUW8xVWE1ASKRKXETcQEg8+EWYRBRF5EPoPhQ89D2EOPw6eDdsNrg0ZDTgOMA6OD4gQfRDIEB4QTg87D68PPw+VDncPhQ9GDyIQQhADEP0Pqg61DqEOjQ6GDn4OJg5VDlsORg41DhIOrQ2/DcsNug2pDaMNrw1yDbkOgA5fDmYOQA5dDogPvw+3D84Prw9QDzIPKw9oDz8PGQ9aD28Pbg+CD4MPYA9dD3UPgQ/qD+YP7g8TENYPwA+OD/gP+w88EGwQDBTzFBcVBRQdFQ==",
          "dtype": "i2"
         },
         "low": {
          "bdata": "FQZaBo0G8QZzBrIGrgbSBgMHTQfPB8YHkwiyCMMILQijCFYI6AhGCcgJggqzCjQKvQqRCU4K2wkdCAAJnAkaCk0KCwpoCtAI3Qh8CccJsgmsCfEJ9AkVCroJOQnQCMMIBglpCD8HYQisCMUIOAqhCpIJZAmUCRgKhwpWCmwKWgrNCnkMDQ2mDOQMTA2QD+IO2w9ZEGEQfw++DrQP/A96EF8Q9BCUEc0RdxJGECoQPxGDESwQEhDwD5kOrgyfC3kOCw/9DvUNtw1QDg8PIw8fELIPCRGMEFkQMhDJEM0RhBJmErcSnxR9FZUV9hNvFfMVEBa7Ff4UChY6FowXxRfcGK4ZHRsmGxQbgxuWGxQZ5RUAGY4Z1BtwHQwfeB4jH6EfwR4/JFMlPCNEI6EkUCnGLLItEzRDNs84rD+MPb0+qT/HRmFByz0GOhoq2TJhNSs5vzRnNt0yQDm7NyY6jTaCN7A0LDJTMoM0qCgJJJYpvCpgJxgnMynDKnkoVyuAJtQl/SHwHfEZXhdIHKMdfh6GH+cgXCFWJBsmhyhoKzwoOCaqJdok0ifMKCgoWip/LKspRCXfIyYhviL/In8gZx5XH+If8CB/InUhqyD9HosegB4EHAUasBpUG5Qa/Bm3GSMaTBrJGrEaZh4oH9seBh/sH2MggSIfI4UiHSJGI+kjzCJgIxgkhCUvJKIjVSOcIwEhnyAzIeYfACA6H7wg1x9SHaoc6hxAHM0brBzeHPocVR3/HIEdAh66HTMadBk2GJ8YdhkzGU8a4BlcGsMXARgxGKkXyRfcFsAYwhlKGXEZcBlFGvUYwRg7GAIY+BgzGoYcrxyqHOscUB61H/Mfsx7xHi4eZR1MHbYcIxv2GiwYaxg9GEcYOxfzF4MYmBgvGZUY1hioGE8ZOxp2GjwbyxomG1YcfhwMG7sY9RiCGGEYdhjYGDMZfhiEGBwYABkVGesZ+BgkGVwZxhmmGXgZSRldGcAZxBnmGYIZJRg/GHwYKhlHGREZERkkGRIZMhkWGSkZfRiYGHcY0xj4GCEZLxlRGTQZ4xjfGK8Y+BSRFH0VjBIPEJgQRhE5EP0NIQ7dDjMQVg/dDtEOjQ4WDscMWA0bDTkN1Qx7DKsMpg3/DYoO+Q6ADx4Qog4tDisObw6UDrcO7Q7ODr0PqA+4DywOQA7iDRcOKw4UDjYO8A2fDf4NBA70DWgNSQ1oDX8NaA18DYINQw1VDUoNNw4YDiIODA4WDj4OMg9WD1cPaQ/NDvEOhw7ZDgUPkw6eDh8PMQ9EDyUPEw8uDwUPQg+ZD6oPuA+MD7EPSw9hD3wP0g/eDw4QVRDkEuoSIBNHFA==",
          "dtype": "i2"
         },
         "open": {
          "bdata": "FwZ6BrEG+AYsBwcHzAbqBhQHXAfmB2gIugh4CbUJSAgJCdUI7whtCcoJggo4C7QKvgprC2EKjwr5CToJpgklCr4KZQpwCqkJLQmaCSMK/gnDCf4JEQo0CiYK4QlRCRoJVgkiCUkHfQguCc8IqgrkCsgKpAnICRgKyQpJC7QKgwrfCsIMDw13DSwNYQ2rD6cQ6A/lEOgQFxC/DukPJhCKEA4R9BD1Ed8RhhISEg8RbBHZEfYRwRBkEFQQOg9ADaQOpw9HD3cPQg5WDmYPRA86EEUQJBEoEbwQaRD7EOcR6xIJE9sSxhSVFTEWyhWFFUUW+hYaF90VMRbUFiEY1BfpGLQZlRvBHNkboxtfHNEbBhdrGcEZfxzWHlYfOiDIHw8g6B93JLUlwibYJ70lyyrtLAIuEzS4PtU5/kJmQ3JBi0ApSvNIYEJVPx48dDPaNT0+YTt3Nh81BzoCO5A6cz+KOuA42jj1NJQ0cjaGKZMsNC2gLJUoGiv4KyksNC4aLNMnSSfhI7YfHhyHHsMfICCYILQirSF5JOgmOiqXK/EtdCjeJq0lvyg9Kl0p6irVLJctiio/J9okriWoI88j4CCsIHUgUiEdIwMj3yH5IR8fhR8nHwQc7hpgGzEd/xqmGpwbURoAGzQbgB65IHsfNh9HIHIgGiMqIzYluSPfI7QkgiSEIyYk/yWNJSwlFCRtJMYjEiKuIoghmSBMII0hGCHsH+IdtB3eHGwckh3tHLUdTB6oHRIeAh4uHpYapxrCGbQYQhqhGYoaaRqeGn8aaximGGQYKhjbFwAZGhoWGloaqBmYGmcaNhkOGVcYJxlAGs8c1Bw7HaYdVR5jIDMgCCBCIBkgUx50HbQdyhtGG/sa7hi1Gf8YvxjzFyEZqxi9GXMZcBn3GFAZUxp/GucbwRs+G7AcwRwDHWUbbhkwGd0YqhjkGH8ZoRmEGPIYVRklGVMaIxoxGaIZYxrfGeIZyBl8GegZzRk1Gh8a9hmkGLoYNhl1GWAZNBlfGUkZNRlVGT4ZOBmgGLgY2xj+GEoZPRlSGaIZUBnqGOIYwxjlFaQV5RXrEi0RnxGKEQwQjA7yDrkQlBBuEFwPdw/HDkcOAA6EDWgNrA3yDL8M4A0KDpAO1g+pDx4QDA/8Dj0OKQ+VDsMOaQ8OD/0P4g/bD98Paw74DYwOLQ5QDmUOEA7+DTEOFA4vDhIOlQ2FDaUNlQ1/DZYNmw1iDVsNUg5EDjQOMA4uDj4OSA9sD4UPdQ8FDxkPCw/hDhUPCg+wDjYPQQ9aD3UPRA9VD0gPSA/ED78P1A/nD7wPrQ9mD4EP4A/iDzQQXBD/EuYULRNPFA==",
          "dtype": "i2"
         },
         "type": "candlestick",
         "x": {
          "bdata": "AAABAAIAAwAEAAUABgAHAAgACQAKAAsADAANAA4ADwAQABEAEgATABQAFQAWABcAGAAZABoAGwAcAB0AHgAfACAAIQAiACMAJAAlACYAJwAoACkAKgArACwALQAuAC8AMAAxADIAMwA0ADUANgA3ADgAOQA6ADsAPAA9AD4APwBAAEEAQgBDAEQARQBGAEcASABJAEoASwBMAE0ATgBPAFAAUQBSAFMAVABVAFYAVwBYAFkAWgBbAFwAXQBeAF8AYABhAGIAYwBkAGUAZgBnAGgAaQBqAGsAbABtAG4AbwBwAHEAcgBzAHQAdQB2AHcAeAB5AHoAewB8AH0AfgB/AIAAgQCCAIMAhACFAIYAhwCIAIkAigCLAIwAjQCOAI8AkACRAJIAkwCUAJUAlgCXAJgAmQCaAJsAnACdAJ4AnwCgAKEAogCjAKQApQCmAKcAqACpAKoAqwCsAK0ArgCvALAAsQCyALMAtAC1ALYAtwC4ALkAugC7ALwAvQC+AL8AwADBAMIAwwDEAMUAxgDHAMgAyQDKAMsAzADNAM4AzwDQANEA0gDTANQA1QDWANcA2ADZANoA2wDcAN0A3gDfAOAA4QDiAOMA5ADlAOYA5wDoAOkA6gDrAOwA7QDuAO8A8ADxAPIA8wD0APUA9gD3APgA+QD6APsA/AD9AP4A/wAAAQEBAgEDAQQBBQEGAQcBCAEJAQoBCwEMAQ0BDgEPARABEQESARMBFAEVARYBFwEYARkBGgEbARwBHQEeAR8BIAEhASIBIwEkASUBJgEnASgBKQEqASsBLAEtAS4BLwEwATEBMgEzATQBNQE2ATcBOAE5AToBOwE8AT0BPgE/AUABQQFCAUMBRAFFAUYBRwFIAUkBSgFLAUwBTQFOAU8BUAFRAVIBUwFUAVUBVgFXAVgBWQFaAVsBXAFdAV4BXwFgAWEBYgFjAWQBZQFmAWcBaAFpAWoBawFsAW0BbgFvAXABcQFyAXMBdAF1AXYBdwF4AXkBegF7AXwBfQF+AX8BgAGBAYIBgwGEAYUBhgGHAYgBiQGKAYsBjAGNAY4BjwGQAZEBkgGTAZQBlQGWAZcBmAGZAZoBmwGcAZ0BngGfAaABoQGiAaMBpAGlAaYBpwGoAakBqgGrAawBrQGuAa8BsAGxAbIBswG0AbUBtgG3AbgBuQG6AbsBvAG9Ab4BvwHAAcEBwgHDAcQBxQHGAccByAHJAcoBywHMAc0BzgHPAdAB0QHSAdMB1AHVAdYB1wHYAdkB2gHbAdwB3QHeAd8B4AHhAeIB4wHkAeUB5gHnAegB6QHqAesB7AHtAe4B7wHwAfEB8gHzAQ==",
          "dtype": "i2"
         }
        },
        {
         "name": "BB_UPPER",
         "type": "scatter",
         "x": {
          "bdata": "AAABAAIAAwAEAAUABgAHAAgACQAKAAsADAANAA4ADwAQABEAEgATABQAFQAWABcAGAAZABoAGwAcAB0AHgAfACAAIQAiACMAJAAlACYAJwAoACkAKgArACwALQAuAC8AMAAxADIAMwA0ADUANgA3ADgAOQA6ADsAPAA9AD4APwBAAEEAQgBDAEQARQBGAEcASABJAEoASwBMAE0ATgBPAFAAUQBSAFMAVABVAFYAVwBYAFkAWgBbAFwAXQBeAF8AYABhAGIAYwBkAGUAZgBnAGgAaQBqAGsAbABtAG4AbwBwAHEAcgBzAHQAdQB2AHcAeAB5AHoAewB8AH0AfgB/AIAAgQCCAIMAhACFAIYAhwCIAIkAigCLAIwAjQCOAI8AkACRAJIAkwCUAJUAlgCXAJgAmQCaAJsAnACdAJ4AnwCgAKEAogCjAKQApQCmAKcAqACpAKoAqwCsAK0ArgCvALAAsQCyALMAtAC1ALYAtwC4ALkAugC7ALwAvQC+AL8AwADBAMIAwwDEAMUAxgDHAMgAyQDKAMsAzADNAM4AzwDQANEA0gDTANQA1QDWANcA2ADZANoA2wDcAN0A3gDfAOAA4QDiAOMA5ADlAOYA5wDoAOkA6gDrAOwA7QDuAO8A8ADxAPIA8wD0APUA9gD3APgA+QD6APsA/AD9AP4A/wAAAQEBAgEDAQQBBQEGAQcBCAEJAQoBCwEMAQ0BDgEPARABEQESARMBFAEVARYBFwEYARkBGgEbARwBHQEeAR8BIAEhASIBIwEkASUBJgEnASgBKQEqASsBLAEtAS4BLwEwATEBMgEzATQBNQE2ATcBOAE5AToBOwE8AT0BPgE/AUABQQFCAUMBRAFFAUYBRwFIAUkBSgFLAUwBTQFOAU8BUAFRAVIBUwFUAVUBVgFXAVgBWQFaAVsBXAFdAV4BXwFgAWEBYgFjAWQBZQFmAWcBaAFpAWoBawFsAW0BbgFvAXABcQFyAXMBdAF1AXYBdwF4AXkBegF7AXwBfQF+AX8BgAGBAYIBgwGEAYUBhgGHAYgBiQGKAYsBjAGNAY4BjwGQAZEBkgGTAZQBlQGWAZcBmAGZAZoBmwGcAZ0BngGfAaABoQGiAaMBpAGlAaYBpwGoAakBqgGrAawBrQGuAa8BsAGxAbIBswG0AbUBtgG3AbgBuQG6AbsBvAG9Ab4BvwHAAcEBwgHDAcQBxQHGAccByAHJAcoBywHMAc0BzgHPAdAB0QHSAdMB1AHVAdYB1wHYAdkB2gHbAdwB3QHeAd8B4AHhAeIB4wHkAeUB5gHnAegB6QHqAesB7AHtAe4B7wHwAfEB8gHzAQ==",
          "dtype": "i2"
         },
         "y": {
          "bdata": "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",
          "dtype": "f8"
         }
        },
        {
         "name": "BB_MIDDLE",
         "type": "scatter",
         "x": {
          "bdata": "AAABAAIAAwAEAAUABgAHAAgACQAKAAsADAANAA4ADwAQABEAEgATABQAFQAWABcAGAAZABoAGwAcAB0AHgAfACAAIQAiACMAJAAlACYAJwAoACkAKgArACwALQAuAC8AMAAxADIAMwA0ADUANgA3ADgAOQA6ADsAPAA9AD4APwBAAEEAQgBDAEQARQBGAEcASABJAEoASwBMAE0ATgBPAFAAUQBSAFMAVABVAFYAVwBYAFkAWgBbAFwAXQBeAF8AYABhAGIAYwBkAGUAZgBnAGgAaQBqAGsAbABtAG4AbwBwAHEAcgBzAHQAdQB2AHcAeAB5AHoAewB8AH0AfgB/AIAAgQCCAIMAhACFAIYAhwCIAIkAigCLAIwAjQCOAI8AkACRAJIAkwCUAJUAlgCXAJgAmQCaAJsAnACdAJ4AnwCgAKEAogCjAKQApQCmAKcAqACpAKoAqwCsAK0ArgCvALAAsQCyALMAtAC1ALYAtwC4ALkAugC7ALwAvQC+AL8AwADBAMIAwwDEAMUAxgDHAMgAyQDKAMsAzADNAM4AzwDQANEA0gDTANQA1QDWANcA2ADZANoA2wDcAN0A3gDfAOAA4QDiAOMA5ADlAOYA5wDoAOkA6gDrAOwA7QDuAO8A8ADxAPIA8wD0APUA9gD3APgA+QD6APsA/AD9AP4A/wAAAQEBAgEDAQQBBQEGAQcBCAEJAQoBCwEMAQ0BDgEPARABEQESARMBFAEVARYBFwEYARkBGgEbARwBHQEeAR8BIAEhASIBIwEkASUBJgEnASgBKQEqASsBLAEtAS4BLwEwATEBMgEzATQBNQE2ATcBOAE5AToBOwE8AT0BPgE/AUABQQFCAUMBRAFFAUYBRwFIAUkBSgFLAUwBTQFOAU8BUAFRAVIBUwFUAVUBVgFXAVgBWQFaAVsBXAFdAV4BXwFgAWEBYgFjAWQBZQFmAWcBaAFpAWoBawFsAW0BbgFvAXABcQFyAXMBdAF1AXYBdwF4AXkBegF7AXwBfQF+AX8BgAGBAYIBgwGEAYUBhgGHAYgBiQGKAYsBjAGNAY4BjwGQAZEBkgGTAZQBlQGWAZcBmAGZAZoBmwGcAZ0BngGfAaABoQGiAaMBpAGlAaYBpwGoAakBqgGrAawBrQGuAa8BsAGxAbIBswG0AbUBtgG3AbgBuQG6AbsBvAG9Ab4BvwHAAcEBwgHDAcQBxQHGAccByAHJAcoBywHMAc0BzgHPAdAB0QHSAdMB1AHVAdYB1wHYAdkB2gHbAdwB3QHeAd8B4AHhAeIB4wHkAeUB5gHnAegB6QHqAesB7AHtAe4B7wHwAfEB8gHzAQ==",
          "dtype": "i2"
         },
         "y": {
          "bdata": "AAAAAAAA+H8AAAAAAAD4fwAAAAAAAPh/AAAAAAAA+H8AAAAAAAD4fwAAAAAAAPh/AAAAAAAA+H8AAAAAAAD4fwAAAAAAAPh/AAAAAAAA+H8AAAAAAAD4fwAAAAAAAPh/AAAAAAAA+H+SJEmSJEOeQCVJkiRJ6p5AJUmSJEmKn0BJkiRJkgygQAAAAAAASqBA27Zt27awoEC3bdu2bRShQEmSJEmSjqFAJUmSJEklokC3bdu2bZ+iQLdt27ZtE6NAkiRJkiR1o0AlSZIkSaSjQJIkSZIky6NAJUmSJEnXo0C3bdu2beijQCVJkiRJAqRAkiRJkiQxpEAlSZIkSXOkQG7btm3blqRAkiRJkiS5pEAAAAAAAMWkQCVJkiRJe6RAkiRJkiRTpEAAAAAAAD2kQEmSJEmSFaRAt23btm0PpEBu27Zt2/qjQCVJkiRJ/qNAbtu2bdshpEBJkiRJkjGkQCVJkiRJKKRAkiRJkiT0o0AAAAAAAMWjQG7btm3bnKNAkiRJkiRoo0CSJEmSJEyjQEmSJEmSI6NAt23btm0Ao0AAAAAAANWiQCVJkiRJ9aJAAAAAAAD/okCSJEmSJBmjQAAAAAAABaNASZIkSZL3okC3bdu2bQGjQLdt27ZtNqNAbtu2bduFo0C3bdu2bbijQNu2bdu26qNA27Zt27ZDpEDbtm3btqGkQEmSJEmSL6VAbtu2bdvZpUCSJEmSJDSmQCVJkiRJpqZASZIkSZIcp0BJkiRJkhyoQEmSJEmS/KhAkiRJkiT5qUAlSZIkSdqqQAAAAAAApatAbtu2bdtXrEAlSZIkSR2tQCVJkiRJ3q1ASZIkSZKmrkBJkiRJkjOvQJIkSZIks69AJUmSJMkxsEC3bdu27YOwQG7btm1b1rBAbtu2bVv4sEC3bdu2bQ2xQJIkSZIkFbFASZIkSRImsUC3bdu2bTmxQG7btm1bS7FAt23btu1TsUDbtm3bNlexQNu2bds2P7FAJUmSJEn8sEC3bdu2bdCwQCVJkiRJprBAAAAAAIB2sECSJEmSpD6wQEmSJEmS4a9AJUmSJEl2r0AlSZIkSSyvQG7btm3bza5ASZIkSZKRrkDbtm3btoWuQG7btm3bgq5AJUmSJEmhrkBJkiRJktiuQJIkSZIkTK9Abtu2bdukr0BJkiRJktSvQCVJkiRJLbBAAAAAAIBusECSJEmSpMKwQCVJkiRJPLFAt23btu2zsUC3bdu2bTKyQNu2bds2mLJAkiRJkiT4skAlSZIkSWWzQJIkSZIk1rNAAAAAAIBKtECSJEmSJK60QLdt27ZtDbVAJUmSJMl4tUC3bdu27bm1QEmSJEmSEbZAbtu2bVuAtkC3bdu2bdq2QG7btm1bQbdASZIkSRKwt0BJkiRJEh+4QAAAAAAAj7hAkiRJkqT+uEDbtm3btlC5QEmSJEmSgLlA27Zt27bBuUBu27Zt2wK6QLdt27ZtarpASZIkSRIDu0Bu27Zt23W7QEmSJEmS+7tA27Zt27ZqvECSJEmSpLy8QNu2bdu2/7xAAAAAAIBPvUC3bdu27Qe+QLdt27Ztx75At23btm2jv0CSJEmSpD/AQG7btm2b3MBAbtu2bduLwUAAAAAAACzCQCVJkiTJ8MJASZIkSRIbxEAAAAAAQCPFQLdt27YtZcZAkiRJkqSox0AAAAAAQNvIQG7btm0bAspA27Zt2/Yey0AAAAAAwFbMQJIkSZIkRs1ASZIkSVIwzkCSJEmSZNDOQLdt27ZtMs9AkiRJkmR8z0CSJEmSpNbPQLdt27YtuM9AkiRJkiR7z0BJkiRJ0hXPQJIkSZLkvs5AAAAAAICEzkAlSZIkiU7OQNu2bdu2M85ASZIkSVKwzUC3bdu2rV3NQG7btm3bIc1Abtu2bRvfzEBu27ZtG8/MQG7btm3b0sxAJUmSJMkZzEAlSZIkCZPLQEmSJEmSPstAkiRJkuTWykBJkiRJ0jjKQJIkSZLkpslA27Zt27YhyUCSJEmSZFrIQEmSJEnSycdAAAAAAIBUx0CSJEmSZLnGQJIkSZIkPsZAbtu2bRuZxUCSJEmSJNvEQAAAAABAW8RAt23btu3Zw0AAAAAAQF/DQLdt27at7cJAJUmSJImtwkBJkiRJ0mDCQNu2bdv2AcJAJUmSJAm8wUC3bdu2bZfBQNu2bdu2bcFAkiRJkiSPwUC3bdu2rcvBQJIkSZLk9MFAbtu2bRskwkDbtm3bNojCQAAAAADA5cJAAAAAAEBFw0AAAAAAQJnDQEmSJElS7sNAAAAAAMA8xEC3bdu27anEQLdt27Yt4cRAt23btm3lxEDbtm3btszEQAAAAACAh8RA27Zt23YpxEDbtm3b9v/DQLdt27btyMNASZIkSZKPw0Dbtm3bdk/DQNu2bdv2/cJASZIkSRLFwkAAAAAAwHzCQNu2bdu2JsJA27Zt23a8wUDbtm3b9lPBQG7btm1bDcFASZIkSdLYwEC3bdu2bZDAQCVJkiRJQsBAAAAAAADqv0Dbtm3btqa/QLdt27ZtPr9At23btu28vkC3bdu2bTi+QEmSJEmSl71ASZIkSRIFvUAlSZIkSYu8QCVJkiTJS7xAt23btu1LvEAAAAAAgEu8QEmSJEmSTLxAt23btm2avEBJkiRJEvy8QNu2bdu2bb1AAAAAAADbvUBJkiRJEpa+QLdt27btO79ASZIkSZLvv0AlSZIkSUrAQNu2bds2ocBAkiRJkiTtwEDbtm3b9iDBQEmSJEkSYMFAAAAAAMCcwUBu27ZtG9PBQG7btm3b9cFAbtu2bVsawkDbtm3bdi7CQCVJkiSJHMJASZIkSZIFwkAAAAAAgPHBQAAAAADA08FA27Zt2/a3wUAlSZIkSZLBQG7btm0bfMFAAAAAAIBVwUDbtm3bNgvBQCVJkiRJvsBAJUmSJMl2wEDbtm3b9jDAQG7btm3b479AkiRJkqRmv0CSJEmSpCa/QCVJkiRJxL5AAAAAAIB9vkAlSZIkSU6+QCVJkiRJJL5At23btu37vUCSJEmSpMW9QEmSJEkSZb1At23btm0ZvUBJkiRJEr68QCVJkiTJhbxASZIkSZJSvEAAAAAAgBu8QEmSJEmS7btAt23btu20u0C3bdu2bYG7QEmSJEmSGbtASZIkSZK2ukC3bdu27U+6QG7btm3b4blAkiRJkiRvuUAlSZIkyTG5QNu2bds2OLlAbtu2bVtRuUCSJEmSJFO5QCVJkiRJU7lAkiRJkqRHuUC3bdu2bUe5QG7btm1bLblASZIkSRITuUDbtm3bthm5QEmSJEkSFblASZIkSRI3uUAAAAAAAIy5QCVJkiRJ6LlA27Zt27ZUukBu27Zt24i6QEmSJEmS1rpAAAAAAIBEu0AlSZIkSby7QAAAAACALLxA27Zt27aZvEBu27Zt2xe9QAAAAACAd71AAAAAAADVvUDbtm3bNja+QNu2bds2ar5A27Zt2zZOvkC3bdu2bS2+QEmSJEmS3r1AkiRJkiSivUAlSZIkyTW9QLdt27ZtqrxAkiRJkqQTvEBu27ZtW5W7QLdt27ZtCLtAAAAAAICQukBJkiRJEji6QLdt27Zt7rlAkiRJkqSXuUC3bdu2bVK5QNu2bds2PLlA27Zt2zYxuUAAAAAAAGi5QG7btm1bjrlA27Zt2zbCuUC3bdu2bfm5QCVJkiRJUbpAbtu2bVuYukDbtm3bNsq6QLdt27ZtyLpA27Zt27bHukC3bdu2bb26QEmSJEkSuLpAkiRJkqSwukBu27ZtW6a6QG7btm3bmLpAAAAAAABbukBJkiRJEie6QEmSJEkSBLpAkiRJkiTUuUBJkiRJkqq5QLdt27btdblAkiRJkqRNuUBu27ZtW1G5QJIkSZIkY7lAkiRJkqR7uUC3bdu27ZG5QLdt27ZtorlAbtu2bVuiuUAlSZIkSaW5QLdt27ZtvrlAAAAAAADWuUAAAAAAgOS5QJIkSZKk87lAJUmSJMnRuUCSJEmSpLa5QLdt27bttrlA27Zt27azuUDbtm3bNqG5QLdt27btjrlAkiRJkqSBuUDbtm3bNni5QG7btm3bcrlASZIkSRJouUC3bdu27Vu5QEmSJEmSSrlA27Zt2zYvuUBu27ZtWxi5QAAAAACAHLlAJUmSJMkiuUAAAAAAACC5QEmSJEkSHLlAkiRJkiQbuUBJkiRJEiO5QCVJkiTJJblA27Zt27YfuUAAAAAAABq5QEmSJEmSD7lAAAAAAADTuECSJEmSJJC4QJIkSZIkV7hAAAAAAADtt0AAAAAAgGC3QJIkSZKk2bZASZIkSRJQtkAAAAAAALe1QJIkSZKk8bRAkiRJkiQutEBJkiRJEpGzQG7btm3b97JAbtu2bdtNskC3bdu27aGxQLdt27btK7FA27Zt2zavsEAAAAAAACuwQAAAAAAAj69At23btm0Jr0C3bdu2bW+uQCVJkiRJ4q1A27Zt27ZSrUCSJEmSJAutQJIkSZIk5KxAAAAAAACCrEAlSZIkSTisQCVJkiRJQaxAAAAAAAA+rEDbtm3btlWsQNu2bdu2hqxAt23btm2grEAlSZIkSbysQEmSJEmSAq1ASZIkSZItrUDbtm3btk6tQG7btm3bqK1A27Zt27YDrkC3bdu2bTSuQG7btm3bd65AkiRJkiSnrkC3bdu2baiuQCVJkiRJia5Abtu2bdtNrkC3bdu2bRSuQAAAAAAA961ASZIkSZL5rUCSJEmSJNOtQLdt27Ztyq1Abtu2bdu0rUAlSZIkSYitQEmSJEmSZK1AAAAAAAA/rUAAAAAAAP+sQG7btm3bq6xAbtu2bdtVrEC3bdu2bTmsQCVJkiRJGKxA27Zt27b5q0CSJEmSJOSrQLdt27ZtyqtASZIkSZKlq0C3bdu2bYGrQG7btm3bi6tASZIkSZKOq0CSJEmSJJOrQJIkSZIkk6tAbtu2bduUq0Bu27Zt26mrQCVJkiRJ6qtAt23btm0rrEAlSZIkSXKsQJIkSZIksqxAbtu2bdv8rEC3bdu2bTOtQAAAAAAAcK1A27Zt27anrUAlSZIkScWtQJIkSZIk561Abtu2bdv4rUC3bdu2bR6uQNu2bdu2Ra5At23btm1xrkBJkiRJknOuQNu2bdu2ba5Abtu2bdtmrkC3bdu2bWCuQNu2bdu2U65AAAAAAABhrkBu27Zt23quQEmSJEmSna5At23btm27rkAlSZIkSc+uQAAAAAAA965AAAAAAAD+rkAAAAAAAAevQJIkSZIkGq9AAAAAAAAur0C3bdu2bU6vQJIkSZIkc69AkiRJkiT6r0AlSZIkyWOwQAAAAACAp7BAAAAAAADxsEAAAAAAAEuxQA==",
          "dtype": "f8"
         }
        },
        {
         "name": "BB_LOWER",
         "type": "scatter",
         "x": {
          "bdata": "AAABAAIAAwAEAAUABgAHAAgACQAKAAsADAANAA4ADwAQABEAEgATABQAFQAWABcAGAAZABoAGwAcAB0AHgAfACAAIQAiACMAJAAlACYAJwAoACkAKgArACwALQAuAC8AMAAxADIAMwA0ADUANgA3ADgAOQA6ADsAPAA9AD4APwBAAEEAQgBDAEQARQBGAEcASABJAEoASwBMAE0ATgBPAFAAUQBSAFMAVABVAFYAVwBYAFkAWgBbAFwAXQBeAF8AYABhAGIAYwBkAGUAZgBnAGgAaQBqAGsAbABtAG4AbwBwAHEAcgBzAHQAdQB2AHcAeAB5AHoAewB8AH0AfgB/AIAAgQCCAIMAhACFAIYAhwCIAIkAigCLAIwAjQCOAI8AkACRAJIAkwCUAJUAlgCXAJgAmQCaAJsAnACdAJ4AnwCgAKEAogCjAKQApQCmAKcAqACpAKoAqwCsAK0ArgCvALAAsQCyALMAtAC1ALYAtwC4ALkAugC7ALwAvQC+AL8AwADBAMIAwwDEAMUAxgDHAMgAyQDKAMsAzADNAM4AzwDQANEA0gDTANQA1QDWANcA2ADZANoA2wDcAN0A3gDfAOAA4QDiAOMA5ADlAOYA5wDoAOkA6gDrAOwA7QDuAO8A8ADxAPIA8wD0APUA9gD3APgA+QD6APsA/AD9AP4A/wAAAQEBAgEDAQQBBQEGAQcBCAEJAQoBCwEMAQ0BDgEPARABEQESARMBFAEVARYBFwEYARkBGgEbARwBHQEeAR8BIAEhASIBIwEkASUBJgEnASgBKQEqASsBLAEtAS4BLwEwATEBMgEzATQBNQE2ATcBOAE5AToBOwE8AT0BPgE/AUABQQFCAUMBRAFFAUYBRwFIAUkBSgFLAUwBTQFOAU8BUAFRAVIBUwFUAVUBVgFXAVgBWQFaAVsBXAFdAV4BXwFgAWEBYgFjAWQBZQFmAWcBaAFpAWoBawFsAW0BbgFvAXABcQFyAXMBdAF1AXYBdwF4AXkBegF7AXwBfQF+AX8BgAGBAYIBgwGEAYUBhgGHAYgBiQGKAYsBjAGNAY4BjwGQAZEBkgGTAZQBlQGWAZcBmAGZAZoBmwGcAZ0BngGfAaABoQGiAaMBpAGlAaYBpwGoAakBqgGrAawBrQGuAa8BsAGxAbIBswG0AbUBtgG3AbgBuQG6AbsBvAG9Ab4BvwHAAcEBwgHDAcQBxQHGAccByAHJAcoBywHMAc0BzgHPAdAB0QHSAdMB1AHVAdYB1wHYAdkB2gHbAdwB3QHeAd8B4AHhAeIB4wHkAeUB5gHnAegB6QHqAesB7AHtAe4B7wHwAfEB8gHzAQ==",
          "dtype": "i2"
         },
         "y": {
          "bdata": "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",
          "dtype": "f8"
         }
        }
       ],
       "layout": {
        "template": {
         "data": {
          "bar": [
           {
            "error_x": {
             "color": "#2a3f5f"
            },
            "error_y": {
             "color": "#2a3f5f"
            },
            "marker": {
             "line": {
              "color": "#E5ECF6",
              "width": 0.5
             },
             "pattern": {
              "fillmode": "overlay",
              "size": 10,
              "solidity": 0.2
             }
            },
            "type": "bar"
           }
          ],
          "barpolar": [
           {
            "marker": {
             "line": {
              "color": "#E5ECF6",
              "width": 0.5
             },
             "pattern": {
              "fillmode": "overlay",
              "size": 10,
              "solidity": 0.2
             }
            },
            "type": "barpolar"
           }
          ],
          "carpet": [
           {
            "aaxis": {
             "endlinecolor": "#2a3f5f",
             "gridcolor": "white",
             "linecolor": "white",
             "minorgridcolor": "white",
             "startlinecolor": "#2a3f5f"
            },
            "baxis": {
             "endlinecolor": "#2a3f5f",
             "gridcolor": "white",
             "linecolor": "white",
             "minorgridcolor": "white",
             "startlinecolor": "#2a3f5f"
            },
            "type": "carpet"
           }
          ],
          "choropleth": [
           {
            "colorbar": {
             "outlinewidth": 0,
             "ticks": ""
            },
            "type": "choropleth"
           }
          ],
          "contour": [
           {
            "colorbar": {
             "outlinewidth": 0,
             "ticks": ""
            },
            "colorscale": [
             [
              0,
              "#0d0887"
             ],
             [
              0.1111111111111111,
              "#46039f"
             ],
             [
              0.2222222222222222,
              "#7201a8"
             ],
             [
              0.3333333333333333,
              "#9c179e"
             ],
             [
              0.4444444444444444,
              "#bd3786"
             ],
             [
              0.5555555555555556,
              "#d8576b"
             ],
             [
              0.6666666666666666,
              "#ed7953"
             ],
             [
              0.7777777777777778,
              "#fb9f3a"
             ],
             [
              0.8888888888888888,
              "#fdca26"
             ],
             [
              1,
              "#f0f921"
             ]
            ],
            "type": "contour"
           }
          ],
          "contourcarpet": [
           {
            "colorbar": {
             "outlinewidth": 0,
             "ticks": ""
            },
            "type": "contourcarpet"
           }
          ],
          "heatmap": [
           {
            "colorbar": {
             "outlinewidth": 0,
             "ticks": ""
            },
            "colorscale": [
             [
              0,
              "#0d0887"
             ],
             [
              0.1111111111111111,
              "#46039f"
             ],
             [
              0.2222222222222222,
              "#7201a8"
             ],
             [
              0.3333333333333333,
              "#9c179e"
             ],
             [
              0.4444444444444444,
              "#bd3786"
             ],
             [
              0.5555555555555556,
              "#d8576b"
             ],
             [
              0.6666666666666666,
              "#ed7953"
             ],
             [
              0.7777777777777778,
              "#fb9f3a"
             ],
             [
              0.8888888888888888,
              "#fdca26"
             ],
             [
              1,
              "#f0f921"
             ]
            ],
            "type": "heatmap"
           }
          ],
          "histogram": [
           {
            "marker": {
             "pattern": {
              "fillmode": "overlay",
              "size": 10,
              "solidity": 0.2
             }
            },
            "type": "histogram"
           }
          ],
          "histogram2d": [
           {
            "colorbar": {
             "outlinewidth": 0,
             "ticks": ""
            },
            "colorscale": [
             [
              0,
              "#0d0887"
             ],
             [
              0.1111111111111111,
              "#46039f"
             ],
             [
              0.2222222222222222,
              "#7201a8"
             ],
             [
              0.3333333333333333,
              "#9c179e"
             ],
             [
              0.4444444444444444,
              "#bd3786"
             ],
             [
              0.5555555555555556,
              "#d8576b"
             ],
             [
              0.6666666666666666,
              "#ed7953"
             ],
             [
              0.7777777777777778,
              "#fb9f3a"
             ],
             [
              0.8888888888888888,
              "#fdca26"
             ],
             [
              1,
              "#f0f921"
             ]
            ],
            "type": "histogram2d"
           }
          ],
          "histogram2dcontour": [
           {
            "colorbar": {
             "outlinewidth": 0,
             "ticks": ""
            },
            "colorscale": [
             [
              0,
              "#0d0887"
             ],
             [
              0.1111111111111111,
              "#46039f"
             ],
             [
              0.2222222222222222,
              "#7201a8"
             ],
             [
              0.3333333333333333,
              "#9c179e"
             ],
             [
              0.4444444444444444,
              "#bd3786"
             ],
             [
              0.5555555555555556,
              "#d8576b"
             ],
             [
              0.6666666666666666,
              "#ed7953"
             ],
             [
              0.7777777777777778,
              "#fb9f3a"
             ],
             [
              0.8888888888888888,
              "#fdca26"
             ],
             [
              1,
              "#f0f921"
             ]
            ],
            "type": "histogram2dcontour"
           }
          ],
          "mesh3d": [
           {
            "colorbar": {
             "outlinewidth": 0,
             "ticks": ""
            },
            "type": "mesh3d"
           }
          ],
          "parcoords": [
           {
            "line": {
             "colorbar": {
              "outlinewidth": 0,
              "ticks": ""
             }
            },
            "type": "parcoords"
           }
          ],
          "pie": [
           {
            "automargin": true,
            "type": "pie"
           }
          ],
          "scatter": [
           {
            "fillpattern": {
             "fillmode": "overlay",
             "size": 10,
             "solidity": 0.2
            },
            "type": "scatter"
           }
          ],
          "scatter3d": [
           {
            "line": {
             "colorbar": {
              "outlinewidth": 0,
              "ticks": ""
             }
            },
            "marker": {
             "colorbar": {
              "outlinewidth": 0,
              "ticks": ""
             }
            },
            "type": "scatter3d"
           }
          ],
          "scattercarpet": [
           {
            "marker": {
             "colorbar": {
              "outlinewidth": 0,
              "ticks": ""
             }
            },
            "type": "scattercarpet"
           }
          ],
          "scattergeo": [
           {
            "marker": {
             "colorbar": {
              "outlinewidth": 0,
              "ticks": ""
             }
            },
            "type": "scattergeo"
           }
          ],
          "scattergl": [
           {
            "marker": {
             "colorbar": {
              "outlinewidth": 0,
              "ticks": ""
             }
            },
            "type": "scattergl"
           }
          ],
          "scattermap": [
           {
            "marker": {
             "colorbar": {
              "outlinewidth": 0,
              "ticks": ""
             }
            },
            "type": "scattermap"
           }
          ],
          "scattermapbox": [
           {
            "marker": {
             "colorbar": {
              "outlinewidth": 0,
              "ticks": ""
             }
            },
            "type": "scattermapbox"
           }
          ],
          "scatterpolar": [
           {
            "marker": {
             "colorbar": {
              "outlinewidth": 0,
              "ticks": ""
             }
            },
            "type": "scatterpolar"
           }
          ],
          "scatterpolargl": [
           {
            "marker": {
             "colorbar": {
              "outlinewidth": 0,
              "ticks": ""
             }
            },
            "type": "scatterpolargl"
           }
          ],
          "scatterternary": [
           {
            "marker": {
             "colorbar": {
              "outlinewidth": 0,
              "ticks": ""
             }
            },
            "type": "scatterternary"
           }
          ],
          "surface": [
           {
            "colorbar": {
             "outlinewidth": 0,
             "ticks": ""
            },
            "colorscale": [
             [
              0,
              "#0d0887"
             ],
             [
              0.1111111111111111,
              "#46039f"
             ],
             [
              0.2222222222222222,
              "#7201a8"
             ],
             [
              0.3333333333333333,
              "#9c179e"
             ],
             [
              0.4444444444444444,
              "#bd3786"
             ],
             [
              0.5555555555555556,
              "#d8576b"
             ],
             [
              0.6666666666666666,
              "#ed7953"
             ],
             [
              0.7777777777777778,
              "#fb9f3a"
             ],
             [
              0.8888888888888888,
              "#fdca26"
             ],
             [
              1,
              "#f0f921"
             ]
            ],
            "type": "surface"
           }
          ],
          "table": [
           {
            "cells": {
             "fill": {
              "color": "#EBF0F8"
             },
             "line": {
              "color": "white"
             }
            },
            "header": {
             "fill": {
              "color": "#C8D4E3"
             },
             "line": {
              "color": "white"
             }
            },
            "type": "table"
           }
          ]
         },
         "layout": {
          "annotationdefaults": {
           "arrowcolor": "#2a3f5f",
           "arrowhead": 0,
           "arrowwidth": 1
          },
          "autotypenumbers": "strict",
          "coloraxis": {
           "colorbar": {
            "outlinewidth": 0,
            "ticks": ""
           }
          },
          "colorscale": {
           "diverging": [
            [
             0,
             "#8e0152"
            ],
            [
             0.1,
             "#c51b7d"
            ],
            [
             0.2,
             "#de77ae"
            ],
            [
             0.3,
             "#f1b6da"
            ],
            [
             0.4,
             "#fde0ef"
            ],
            [
             0.5,
             "#f7f7f7"
            ],
            [
             0.6,
             "#e6f5d0"
            ],
            [
             0.7,
             "#b8e186"
            ],
            [
             0.8,
             "#7fbc41"
            ],
            [
             0.9,
             "#4d9221"
            ],
            [
             1,
             "#276419"
            ]
           ],
           "sequential": [
            [
             0,
             "#0d0887"
            ],
            [
             0.1111111111111111,
             "#46039f"
            ],
            [
             0.2222222222222222,
             "#7201a8"
            ],
            [
             0.3333333333333333,
             "#9c179e"
            ],
            [
             0.4444444444444444,
             "#bd3786"
            ],
            [
             0.5555555555555556,
             "#d8576b"
            ],
            [
             0.6666666666666666,
             "#ed7953"
            ],
            [
             0.7777777777777778,
             "#fb9f3a"
            ],
            [
             0.8888888888888888,
             "#fdca26"
            ],
            [
             1,
             "#f0f921"
            ]
           ],
           "sequentialminus": [
            [
             0,
             "#0d0887"
            ],
            [
             0.1111111111111111,
             "#46039f"
            ],
            [
             0.2222222222222222,
             "#7201a8"
            ],
            [
             0.3333333333333333,
             "#9c179e"
            ],
            [
             0.4444444444444444,
             "#bd3786"
            ],
            [
             0.5555555555555556,
             "#d8576b"
            ],
            [
             0.6666666666666666,
             "#ed7953"
            ],
            [
             0.7777777777777778,
             "#fb9f3a"
            ],
            [
             0.8888888888888888,
             "#fdca26"
            ],
            [
             1,
             "#f0f921"
            ]
           ]
          },
          "colorway": [
           "#636efa",
           "#EF553B",
           "#00cc96",
           "#ab63fa",
           "#FFA15A",
           "#19d3f3",
           "#FF6692",
           "#B6E880",
           "#FF97FF",
           "#FECB52"
          ],
          "font": {
           "color": "#2a3f5f"
          },
          "geo": {
           "bgcolor": "white",
           "lakecolor": "white",
           "landcolor": "#E5ECF6",
           "showlakes": true,
           "showland": true,
           "subunitcolor": "white"
          },
          "hoverlabel": {
           "align": "left"
          },
          "hovermode": "closest",
          "mapbox": {
           "style": "light"
          },
          "paper_bgcolor": "white",
          "plot_bgcolor": "#E5ECF6",
          "polar": {
           "angularaxis": {
            "gridcolor": "white",
            "linecolor": "white",
            "ticks": ""
           },
           "bgcolor": "#E5ECF6",
           "radialaxis": {
            "gridcolor": "white",
            "linecolor": "white",
            "ticks": ""
           }
          },
          "scene": {
           "xaxis": {
            "backgroundcolor": "#E5ECF6",
            "gridcolor": "white",
            "gridwidth": 2,
            "linecolor": "white",
            "showbackground": true,
            "ticks": "",
            "zerolinecolor": "white"
           },
           "yaxis": {
            "backgroundcolor": "#E5ECF6",
            "gridcolor": "white",
            "gridwidth": 2,
            "linecolor": "white",
            "showbackground": true,
            "ticks": "",
            "zerolinecolor": "white"
           },
           "zaxis": {
            "backgroundcolor": "#E5ECF6",
            "gridcolor": "white",
            "gridwidth": 2,
            "linecolor": "white",
            "showbackground": true,
            "ticks": "",
            "zerolinecolor": "white"
           }
          },
          "shapedefaults": {
           "line": {
            "color": "#2a3f5f"
           }
          },
          "ternary": {
           "aaxis": {
            "gridcolor": "white",
            "linecolor": "white",
            "ticks": ""
           },
           "baxis": {
            "gridcolor": "white",
            "linecolor": "white",
            "ticks": ""
           },
           "bgcolor": "#E5ECF6",
           "caxis": {
            "gridcolor": "white",
            "linecolor": "white",
            "ticks": ""
           }
          },
          "title": {
           "x": 0.05
          },
          "xaxis": {
           "automargin": true,
           "gridcolor": "white",
           "linecolor": "white",
           "ticks": "",
           "title": {
            "standoff": 15
           },
           "zerolinecolor": "white",
           "zerolinewidth": 2
          },
          "yaxis": {
           "automargin": true,
           "gridcolor": "white",
           "linecolor": "white",
           "ticks": "",
           "title": {
            "standoff": 15
           },
           "zerolinecolor": "white",
           "zerolinewidth": 2
          }
         }
        },
        "xaxis": {
         "rangeslider": {
          "visible": false
         }
        }
       }
      }
     },
     "metadata": {},
     "output_type": "display_data"
    }
   ],
   "source": [
    "import yfinance as yf\n",
    "import pandas_ta as ta\n",
    "import plotly.graph_objects as go\n",
    "from plotly.subplots import make_subplots\n",
    "import pandas as pd\n",
    "\n",
    "data = pd.read_csv(\"BTCUSD_Candlestick_1_D_ASK_08.05.2017-16.10.2021.csv\")\n",
    "\n",
    "# data = yf.download(tickers='BTC-USD', period='max', interval='1d') #data['BB_UPPER'], data['BB_MIDDLE'], data['BB_LOWER'] = \n",
    "data = pd.concat([data, ta.bbands(data['Close'], length=14)], axis=1)\n",
    "data.columns = data.columns[:6].tolist() + ['BB_LOWER', 'BB_MIDDLE', 'BB_UPPER'] + data.columns[9:].tolist()\n",
    "\n",
    "df = data[:500]\n",
    "\n",
    "fig = go.Figure()\n",
    "\n",
    "fig.add_trace(go.Candlestick(x=df.index,\n",
    "                open=df['Open'],\n",
    "                high=df['High'],\n",
    "                low=df['Low'],\n",
    "                close=df['Close']))\n",
    "fig.add_trace(go.Scatter(x=df.index, y=df['BB_UPPER'], name='BB_UPPER'))\n",
    "fig.add_trace(go.Scatter(x=df.index, y=df['BB_MIDDLE'], name='BB_MIDDLE'))\n",
    "fig.add_trace(go.Scatter(x=df.index, y=df['BB_LOWER'], name='BB_LOWER'))\n",
    "\n",
    "fig.update_layout(\n",
    "    xaxis=dict(rangeslider=dict(visible=False))\n",
    ")\n",
    "\n",
    "fig.show()"
   ]
  },
  {
   "cell_type": "code",
   "execution_count": 4,
   "metadata": {},
   "outputs": [
    {
     "data": {
      "application/vnd.plotly.v1+json": {
       "config": {
        "plotlyServerURL": "https://plot.ly"
       },
       "data": [
        {
         "close": {
          "bdata": "egbTBtgGQQecBsYG6gYZB1wHkgdnCKkIfgmkCcMIAwnMCO8IawmACUEKOAuzCr4KEwvzCY4K+Qk7CbgJFAq+CmQKcAqUCjQJmgkjCv8JyAn+CREKNAomCtMJUQkaCVcJIwlwCH4ILQnPCKoKQgrICqcJyAkYCsQKRgu5CoMK3woQCw4Ndw0iDWENBA6nEOgPABHsENEQnQ/pDyYQihDpEPQQ9RHfEYYSgxIPEWwR2RHgEZgQYRBUEDoPQA2ODqcPQg94D0EOIA5mD0QPOhBFEE0QKRG9EGkQ+xD1EOwSCRPbEscU8RUvFssVhBVFFlUXGhfcFTEW1BZ8FtQX6hi0GZIbPRzdG6MbYBzSG7gZbBnBGX4c1R4bHjogyB8NIOgfOiC5Jdkm2ie+JZcq7CwCLls0uz4fPf5CbkNxQXpA4UTzSAlCWz8ZPKU3GTY6PmY7cjbpN+w5DjuTOvJBlDr/ONA4zDTlNYI2/CmpLDUtkiyiKBgrAiwlLMQqKizZJ1En2CO7If8bhB7KHyYgniG0IqIhfyTDJpongSvwLVoo5SbyJr8oPCpWKewqSCuTLYoqOifmJO8jpyPQI+AgrCC8IVIhHSMDI98h9CEcH4EfJx8EHBsbXBsyHfgapxoTGlEaABs2G3seHh97HzYfRiByIJMhLCMzJbkj5iNXI4IkhCMmJAUmHiYoJRMkcCTGIzYhsCKHIaUgTSBjIBch7R/lHbQdVh1wHIsd7Ry2HU8dqB0QHgEeLh4fHqUawhm1GEIaoxmIGmoanRp+GvoXphhkGCkY2RdKFxwaFRpbGqUZ5RlnGjAZDhlXGGUYQBrOHOUcOB32HFUeXiAyIAggYCAWIEkedB22HRgdRhsaG+gYqBloGL8Y8xcgGasYhxlzGW0Z9xhPGQ8agBrnG8EbPhvEG8EcAx1lG24ZaRndGKwY5xh/GcMZhRjqGFQZJRl7GiIaMRmiGWIaNBrkGc4ZfhnsGeUZNBofGvkZoRimGDUZdRlfGTQZKhlKGTMZVRk7GUEZoBi5GNsY/hgOGT4ZUhmjGVAZ9RjjGMMY6xWZFYIV6xIsEZ4RiBHfEIcO8g65EJQQlw9cD3cPxw5HDnoNhQ1oDawN8gySDOENCg6QDtYPRQ8dEB4Q+w49DnEPlQ6UDmkPDg82D+IP2w/fD2sOfQ6MDi0OTw5kDlgO/Q0xDhQOLw4iDpUNhQ2kDZUNtg2WDZsNYg1bDUYORA40Di8OLg4oDkgPbA+FD3UPoQ8ZDwoP4Q4VDzEPsA42D0EPWg9XD0MPVQ9ID0gPdg+/D9QP5g+8D8YPZw+AD+AP4g8mEFYQ+RLmFCoTxBPAFA==",
          "dtype": "i2"
         },
         "high": {
          "bdata": "kQbZBukGXwcsBwsH9gZAB18Hqwf7COAIkgnxCncKMQlCCSEJugmSCUYKfQtGC/0KLwu7C+QKAwv/Cd4JGwrZCt0KqQqwCgEKpgknCi0KCAoZClIKPwpGCjIK7QlpCW4Jcgk0CY0IXQlhCasK1gryCt0KMwonChQLTQtwC8gK9go+C2MNoQ2FDYINBg73EGQRAxF/EQcRORAwEKkQoRBmERIRIxIgEqESiRIhEsIRUhJTElYSHBEiEXQQdg8ODx8QHBDOD4cPsw55D30PYRC1EH4QdhFPEQERCBFCEQcTPxMMEw8V7BZ+FpoW7RVtFrAXqxcsFz4WYRdsF0wYHhn6GekcGx0VHT0cyx5DHbQcrBpcGrIc2h4/H2MguCBwIFsgjCAXJvcmrywvKr4qPi1bLqc050TfQhhEsESlRAdDLEY4TEJKvEW8Q8M9JTkeP3ZAjzz1OsE7cjxrPFRCf0A9PJ05pjpWNyY4lTYtLksv0S6cLq8sGS3zLZAtOy4qLMsoOyhHJBchMB++IeghSSL6IkQjyyQgKGooKCwXLjIu4yrgKAYpnypvK4Ar3Cv7LcIt8irmJzQlFSduJfQkTiEGInsilCMfJMojiiIQIo8g7h+KH+McEhycHVwdSxsIG08cGxt8G5ofZCAiIScgcCCuILYhbSM/JWQmHiTpJC8liCQrJFkmkCYEJjslziXxJOwj7yLMIqEhViGSIMMhJSHuH20eIh5MHaIdwx3uHfcdjB4vHjoehx5PHuoaPBsWGnAaXhrLGvUa2xrDGpoa9xi7GKgYXRjbF0oaSRq9GmgaIhqgGswaQBknGfoYcRpXHdYdkB06HrIe3SBdIbkgiiCKIEIglx5QHsodMRwpHPwa0RkcGr8ZxxgUGoYZ1BnNGYsZFhuPGS4apxoRHAwc0xvrG9ocKB0XHYEbwBk2GUEZAhm7GfIZvhksGa8Zbhm1Gn0aIxrNGYgayRozGhEa4RkdGgwaZRpEGkkaGxrgGNAcmBmRGZUZRBliGU0ZeBlaGW4ZTxnOGA4Z/xgnGWUZcRnGGa0ZVhksGfQY0RhFFiUW8xVWE1ASKRKXETcQEg8+EWYRBRF5EPoPhQ89D2EOPw6eDdsNrg0ZDTgOMA6OD4gQfRDIEB4QTg87D68PPw+VDncPhQ9GDyIQQhADEP0Pqg61DqEOjQ6GDn4OJg5VDlsORg41DhIOrQ2/DcsNug2pDaMNrw1yDbkOgA5fDmYOQA5dDogPvw+3D84Prw9QDzIPKw9oDz8PGQ9aD28Pbg+CD4MPYA9dD3UPgQ/qD+YP7g8TENYPwA+OD/gP+w88EGwQDBTzFBcVBRQdFQ==",
          "dtype": "i2"
         },
         "low": {
          "bdata": "FQZaBo0G8QZzBrIGrgbSBgMHTQfPB8YHkwiyCMMILQijCFYI6AhGCcgJggqzCjQKvQqRCU4K2wkdCAAJnAkaCk0KCwpoCtAI3Qh8CccJsgmsCfEJ9AkVCroJOQnQCMMIBglpCD8HYQisCMUIOAqhCpIJZAmUCRgKhwpWCmwKWgrNCnkMDQ2mDOQMTA2QD+IO2w9ZEGEQfw++DrQP/A96EF8Q9BCUEc0RdxJGECoQPxGDESwQEhDwD5kOrgyfC3kOCw/9DvUNtw1QDg8PIw8fELIPCRGMEFkQMhDJEM0RhBJmErcSnxR9FZUV9hNvFfMVEBa7Ff4UChY6FowXxRfcGK4ZHRsmGxQbgxuWGxQZ5RUAGY4Z1BtwHQwfeB4jH6EfwR4/JFMlPCNEI6EkUCnGLLItEzRDNs84rD+MPb0+qT/HRmFByz0GOhoq2TJhNSs5vzRnNt0yQDm7NyY6jTaCN7A0LDJTMoM0qCgJJJYpvCpgJxgnMynDKnkoVyuAJtQl/SHwHfEZXhdIHKMdfh6GH+cgXCFWJBsmhyhoKzwoOCaqJdok0ifMKCgoWip/LKspRCXfIyYhviL/In8gZx5XH+If8CB/InUhqyD9HosegB4EHAUasBpUG5Qa/Bm3GSMaTBrJGrEaZh4oH9seBh/sH2MggSIfI4UiHSJGI+kjzCJgIxgkhCUvJKIjVSOcIwEhnyAzIeYfACA6H7wg1x9SHaoc6hxAHM0brBzeHPocVR3/HIEdAh66HTMadBk2GJ8YdhkzGU8a4BlcGsMXARgxGKkXyRfcFsAYwhlKGXEZcBlFGvUYwRg7GAIY+BgzGoYcrxyqHOscUB61H/Mfsx7xHi4eZR1MHbYcIxv2GiwYaxg9GEcYOxfzF4MYmBgvGZUY1hioGE8ZOxp2GjwbyxomG1YcfhwMG7sY9RiCGGEYdhjYGDMZfhiEGBwYABkVGesZ+BgkGVwZxhmmGXgZSRldGcAZxBnmGYIZJRg/GHwYKhlHGREZERkkGRIZMhkWGSkZfRiYGHcY0xj4GCEZLxlRGTQZ4xjfGK8Y+BSRFH0VjBIPEJgQRhE5EP0NIQ7dDjMQVg/dDtEOjQ4WDscMWA0bDTkN1Qx7DKsMpg3/DYoO+Q6ADx4Qog4tDisObw6UDrcO7Q7ODr0PqA+4DywOQA7iDRcOKw4UDjYO8A2fDf4NBA70DWgNSQ1oDX8NaA18DYINQw1VDUoNNw4YDiIODA4WDj4OMg9WD1cPaQ/NDvEOhw7ZDgUPkw6eDh8PMQ9EDyUPEw8uDwUPQg+ZD6oPuA+MD7EPSw9hD3wP0g/eDw4QVRDkEuoSIBNHFA==",
          "dtype": "i2"
         },
         "open": {
          "bdata": "FwZ6BrEG+AYsBwcHzAbqBhQHXAfmB2gIugh4CbUJSAgJCdUI7whtCcoJggo4C7QKvgprC2EKjwr5CToJpgklCr4KZQpwCqkJLQmaCSMK/gnDCf4JEQo0CiYK4QlRCRoJVgkiCUkHfQguCc8IqgrkCsgKpAnICRgKyQpJC7QKgwrfCsIMDw13DSwNYQ2rD6cQ6A/lEOgQFxC/DukPJhCKEA4R9BD1Ed8RhhISEg8RbBHZEfYRwRBkEFQQOg9ADaQOpw9HD3cPQg5WDmYPRA86EEUQJBEoEbwQaRD7EOcR6xIJE9sSxhSVFTEWyhWFFUUW+hYaF90VMRbUFiEY1BfpGLQZlRvBHNkboxtfHNEbBhdrGcEZfxzWHlYfOiDIHw8g6B93JLUlwibYJ70lyyrtLAIuEzS4PtU5/kJmQ3JBi0ApSvNIYEJVPx48dDPaNT0+YTt3Nh81BzoCO5A6cz+KOuA42jj1NJQ0cjaGKZMsNC2gLJUoGiv4KyksNC4aLNMnSSfhI7YfHhyHHsMfICCYILQirSF5JOgmOiqXK/EtdCjeJq0lvyg9Kl0p6irVLJctiio/J9okriWoI88j4CCsIHUgUiEdIwMj3yH5IR8fhR8nHwQc7hpgGzEd/xqmGpwbURoAGzQbgB65IHsfNh9HIHIgGiMqIzYluSPfI7QkgiSEIyYk/yWNJSwlFCRtJMYjEiKuIoghmSBMII0hGCHsH+IdtB3eHGwckh3tHLUdTB6oHRIeAh4uHpYapxrCGbQYQhqhGYoaaRqeGn8aaximGGQYKhjbFwAZGhoWGloaqBmYGmcaNhkOGVcYJxlAGs8c1Bw7HaYdVR5jIDMgCCBCIBkgUx50HbQdyhtGG/sa7hi1Gf8YvxjzFyEZqxi9GXMZcBn3GFAZUxp/GucbwRs+G7AcwRwDHWUbbhkwGd0YqhjkGH8ZoRmEGPIYVRklGVMaIxoxGaIZYxrfGeIZyBl8GegZzRk1Gh8a9hmkGLoYNhl1GWAZNBlfGUkZNRlVGT4ZOBmgGLgY2xj+GEoZPRlSGaIZUBnqGOIYwxjlFaQV5RXrEi0RnxGKEQwQjA7yDrkQlBBuEFwPdw/HDkcOAA6EDWgNrA3yDL8M4A0KDpAO1g+pDx4QDA/8Dj0OKQ+VDsMOaQ8OD/0P4g/bD98Paw74DYwOLQ5QDmUOEA7+DTEOFA4vDhIOlQ2FDaUNlQ1/DZYNmw1iDVsNUg5EDjQOMA4uDj4OSA9sD4UPdQ8FDxkPCw/hDhUPCg+wDjYPQQ9aD3UPRA9VD0gPSA/ED78P1A/nD7wPrQ9mD4EP4A/iDzQQXBD/EuYULRNPFA==",
          "dtype": "i2"
         },
         "type": "candlestick",
         "x": {
          "bdata": "AAABAAIAAwAEAAUABgAHAAgACQAKAAsADAANAA4ADwAQABEAEgATABQAFQAWABcAGAAZABoAGwAcAB0AHgAfACAAIQAiACMAJAAlACYAJwAoACkAKgArACwALQAuAC8AMAAxADIAMwA0ADUANgA3ADgAOQA6ADsAPAA9AD4APwBAAEEAQgBDAEQARQBGAEcASABJAEoASwBMAE0ATgBPAFAAUQBSAFMAVABVAFYAVwBYAFkAWgBbAFwAXQBeAF8AYABhAGIAYwBkAGUAZgBnAGgAaQBqAGsAbABtAG4AbwBwAHEAcgBzAHQAdQB2AHcAeAB5AHoAewB8AH0AfgB/AIAAgQCCAIMAhACFAIYAhwCIAIkAigCLAIwAjQCOAI8AkACRAJIAkwCUAJUAlgCXAJgAmQCaAJsAnACdAJ4AnwCgAKEAogCjAKQApQCmAKcAqACpAKoAqwCsAK0ArgCvALAAsQCyALMAtAC1ALYAtwC4ALkAugC7ALwAvQC+AL8AwADBAMIAwwDEAMUAxgDHAMgAyQDKAMsAzADNAM4AzwDQANEA0gDTANQA1QDWANcA2ADZANoA2wDcAN0A3gDfAOAA4QDiAOMA5ADlAOYA5wDoAOkA6gDrAOwA7QDuAO8A8ADxAPIA8wD0APUA9gD3APgA+QD6APsA/AD9AP4A/wAAAQEBAgEDAQQBBQEGAQcBCAEJAQoBCwEMAQ0BDgEPARABEQESARMBFAEVARYBFwEYARkBGgEbARwBHQEeAR8BIAEhASIBIwEkASUBJgEnASgBKQEqASsBLAEtAS4BLwEwATEBMgEzATQBNQE2ATcBOAE5AToBOwE8AT0BPgE/AUABQQFCAUMBRAFFAUYBRwFIAUkBSgFLAUwBTQFOAU8BUAFRAVIBUwFUAVUBVgFXAVgBWQFaAVsBXAFdAV4BXwFgAWEBYgFjAWQBZQFmAWcBaAFpAWoBawFsAW0BbgFvAXABcQFyAXMBdAF1AXYBdwF4AXkBegF7AXwBfQF+AX8BgAGBAYIBgwGEAYUBhgGHAYgBiQGKAYsBjAGNAY4BjwGQAZEBkgGTAZQBlQGWAZcBmAGZAZoBmwGcAZ0BngGfAaABoQGiAaMBpAGlAaYBpwGoAakBqgGrAawBrQGuAa8BsAGxAbIBswG0AbUBtgG3AbgBuQG6AbsBvAG9Ab4BvwHAAcEBwgHDAcQBxQHGAccByAHJAcoBywHMAc0BzgHPAdAB0QHSAdMB1AHVAdYB1wHYAdkB2gHbAdwB3QHeAd8B4AHhAeIB4wHkAeUB5gHnAegB6QHqAesB7AHtAe4B7wHwAfEB8gHzAQ==",
          "dtype": "i2"
         },
         "xaxis": "x",
         "yaxis": "y"
        },
        {
         "name": "ATR",
         "type": "scatter",
         "x": {
          "bdata": "AAABAAIAAwAEAAUABgAHAAgACQAKAAsADAANAA4ADwAQABEAEgATABQAFQAWABcAGAAZABoAGwAcAB0AHgAfACAAIQAiACMAJAAlACYAJwAoACkAKgArACwALQAuAC8AMAAxADIAMwA0ADUANgA3ADgAOQA6ADsAPAA9AD4APwBAAEEAQgBDAEQARQBGAEcASABJAEoASwBMAE0ATgBPAFAAUQBSAFMAVABVAFYAVwBYAFkAWgBbAFwAXQBeAF8AYABhAGIAYwBkAGUAZgBnAGgAaQBqAGsAbABtAG4AbwBwAHEAcgBzAHQAdQB2AHcAeAB5AHoAewB8AH0AfgB/AIAAgQCCAIMAhACFAIYAhwCIAIkAigCLAIwAjQCOAI8AkACRAJIAkwCUAJUAlgCXAJgAmQCaAJsAnACdAJ4AnwCgAKEAogCjAKQApQCmAKcAqACpAKoAqwCsAK0ArgCvALAAsQCyALMAtAC1ALYAtwC4ALkAugC7ALwAvQC+AL8AwADBAMIAwwDEAMUAxgDHAMgAyQDKAMsAzADNAM4AzwDQANEA0gDTANQA1QDWANcA2ADZANoA2wDcAN0A3gDfAOAA4QDiAOMA5ADlAOYA5wDoAOkA6gDrAOwA7QDuAO8A8ADxAPIA8wD0APUA9gD3APgA+QD6APsA/AD9AP4A/wAAAQEBAgEDAQQBBQEGAQcBCAEJAQoBCwEMAQ0BDgEPARABEQESARMBFAEVARYBFwEYARkBGgEbARwBHQEeAR8BIAEhASIBIwEkASUBJgEnASgBKQEqASsBLAEtAS4BLwEwATEBMgEzATQBNQE2ATcBOAE5AToBOwE8AT0BPgE/AUABQQFCAUMBRAFFAUYBRwFIAUkBSgFLAUwBTQFOAU8BUAFRAVIBUwFUAVUBVgFXAVgBWQFaAVsBXAFdAV4BXwFgAWEBYgFjAWQBZQFmAWcBaAFpAWoBawFsAW0BbgFvAXABcQFyAXMBdAF1AXYBdwF4AXkBegF7AXwBfQF+AX8BgAGBAYIBgwGEAYUBhgGHAYgBiQGKAYsBjAGNAY4BjwGQAZEBkgGTAZQBlQGWAZcBmAGZAZoBmwGcAZ0BngGfAaABoQGiAaMBpAGlAaYBpwGoAakBqgGrAawBrQGuAa8BsAGxAbIBswG0AbUBtgG3AbgBuQG6AbsBvAG9Ab4BvwHAAcEBwgHDAcQBxQHGAccByAHJAcoBywHMAc0BzgHPAdAB0QHSAdMB1AHVAdYB1wHYAdkB2gHbAdwB3QHeAd8B4AHhAeIB4wHkAeUB5gHnAegB6QHqAesB7AHtAe4B7wHwAfEB8gHzAQ==",
          "dtype": "i2"
         },
         "xaxis": "x2",
         "y": {
          "bdata": "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",
          "dtype": "f8"
         },
         "yaxis": "y2"
        }
       ],
       "layout": {
        "annotations": [
         {
          "font": {
           "size": 16
          },
          "showarrow": false,
          "text": "Price",
          "x": 0.5,
          "xanchor": "center",
          "xref": "paper",
          "y": 1,
          "yanchor": "bottom",
          "yref": "paper"
         },
         {
          "font": {
           "size": 16
          },
          "showarrow": false,
          "text": "ATR",
          "x": 0.5,
          "xanchor": "center",
          "xref": "paper",
          "y": 0.375,
          "yanchor": "bottom",
          "yref": "paper"
         }
        ],
        "template": {
         "data": {
          "bar": [
           {
            "error_x": {
             "color": "#2a3f5f"
            },
            "error_y": {
             "color": "#2a3f5f"
            },
            "marker": {
             "line": {
              "color": "#E5ECF6",
              "width": 0.5
             },
             "pattern": {
              "fillmode": "overlay",
              "size": 10,
              "solidity": 0.2
             }
            },
            "type": "bar"
           }
          ],
          "barpolar": [
           {
            "marker": {
             "line": {
              "color": "#E5ECF6",
              "width": 0.5
             },
             "pattern": {
              "fillmode": "overlay",
              "size": 10,
              "solidity": 0.2
             }
            },
            "type": "barpolar"
           }
          ],
          "carpet": [
           {
            "aaxis": {
             "endlinecolor": "#2a3f5f",
             "gridcolor": "white",
             "linecolor": "white",
             "minorgridcolor": "white",
             "startlinecolor": "#2a3f5f"
            },
            "baxis": {
             "endlinecolor": "#2a3f5f",
             "gridcolor": "white",
             "linecolor": "white",
             "minorgridcolor": "white",
             "startlinecolor": "#2a3f5f"
            },
            "type": "carpet"
           }
          ],
          "choropleth": [
           {
            "colorbar": {
             "outlinewidth": 0,
             "ticks": ""
            },
            "type": "choropleth"
           }
          ],
          "contour": [
           {
            "colorbar": {
             "outlinewidth": 0,
             "ticks": ""
            },
            "colorscale": [
             [
              0,
              "#0d0887"
             ],
             [
              0.1111111111111111,
              "#46039f"
             ],
             [
              0.2222222222222222,
              "#7201a8"
             ],
             [
              0.3333333333333333,
              "#9c179e"
             ],
             [
              0.4444444444444444,
              "#bd3786"
             ],
             [
              0.5555555555555556,
              "#d8576b"
             ],
             [
              0.6666666666666666,
              "#ed7953"
             ],
             [
              0.7777777777777778,
              "#fb9f3a"
             ],
             [
              0.8888888888888888,
              "#fdca26"
             ],
             [
              1,
              "#f0f921"
             ]
            ],
            "type": "contour"
           }
          ],
          "contourcarpet": [
           {
            "colorbar": {
             "outlinewidth": 0,
             "ticks": ""
            },
            "type": "contourcarpet"
           }
          ],
          "heatmap": [
           {
            "colorbar": {
             "outlinewidth": 0,
             "ticks": ""
            },
            "colorscale": [
             [
              0,
              "#0d0887"
             ],
             [
              0.1111111111111111,
              "#46039f"
             ],
             [
              0.2222222222222222,
              "#7201a8"
             ],
             [
              0.3333333333333333,
              "#9c179e"
             ],
             [
              0.4444444444444444,
              "#bd3786"
             ],
             [
              0.5555555555555556,
              "#d8576b"
             ],
             [
              0.6666666666666666,
              "#ed7953"
             ],
             [
              0.7777777777777778,
              "#fb9f3a"
             ],
             [
              0.8888888888888888,
              "#fdca26"
             ],
             [
              1,
              "#f0f921"
             ]
            ],
            "type": "heatmap"
           }
          ],
          "histogram": [
           {
            "marker": {
             "pattern": {
              "fillmode": "overlay",
              "size": 10,
              "solidity": 0.2
             }
            },
            "type": "histogram"
           }
          ],
          "histogram2d": [
           {
            "colorbar": {
             "outlinewidth": 0,
             "ticks": ""
            },
            "colorscale": [
             [
              0,
              "#0d0887"
             ],
             [
              0.1111111111111111,
              "#46039f"
             ],
             [
              0.2222222222222222,
              "#7201a8"
             ],
             [
              0.3333333333333333,
              "#9c179e"
             ],
             [
              0.4444444444444444,
              "#bd3786"
             ],
             [
              0.5555555555555556,
              "#d8576b"
             ],
             [
              0.6666666666666666,
              "#ed7953"
             ],
             [
              0.7777777777777778,
              "#fb9f3a"
             ],
             [
              0.8888888888888888,
              "#fdca26"
             ],
             [
              1,
              "#f0f921"
             ]
            ],
            "type": "histogram2d"
           }
          ],
          "histogram2dcontour": [
           {
            "colorbar": {
             "outlinewidth": 0,
             "ticks": ""
            },
            "colorscale": [
             [
              0,
              "#0d0887"
             ],
             [
              0.1111111111111111,
              "#46039f"
             ],
             [
              0.2222222222222222,
              "#7201a8"
             ],
             [
              0.3333333333333333,
              "#9c179e"
             ],
             [
              0.4444444444444444,
              "#bd3786"
             ],
             [
              0.5555555555555556,
              "#d8576b"
             ],
             [
              0.6666666666666666,
              "#ed7953"
             ],
             [
              0.7777777777777778,
              "#fb9f3a"
             ],
             [
              0.8888888888888888,
              "#fdca26"
             ],
             [
              1,
              "#f0f921"
             ]
            ],
            "type": "histogram2dcontour"
           }
          ],
          "mesh3d": [
           {
            "colorbar": {
             "outlinewidth": 0,
             "ticks": ""
            },
            "type": "mesh3d"
           }
          ],
          "parcoords": [
           {
            "line": {
             "colorbar": {
              "outlinewidth": 0,
              "ticks": ""
             }
            },
            "type": "parcoords"
           }
          ],
          "pie": [
           {
            "automargin": true,
            "type": "pie"
           }
          ],
          "scatter": [
           {
            "fillpattern": {
             "fillmode": "overlay",
             "size": 10,
             "solidity": 0.2
            },
            "type": "scatter"
           }
          ],
          "scatter3d": [
           {
            "line": {
             "colorbar": {
              "outlinewidth": 0,
              "ticks": ""
             }
            },
            "marker": {
             "colorbar": {
              "outlinewidth": 0,
              "ticks": ""
             }
            },
            "type": "scatter3d"
           }
          ],
          "scattercarpet": [
           {
            "marker": {
             "colorbar": {
              "outlinewidth": 0,
              "ticks": ""
             }
            },
            "type": "scattercarpet"
           }
          ],
          "scattergeo": [
           {
            "marker": {
             "colorbar": {
              "outlinewidth": 0,
              "ticks": ""
             }
            },
            "type": "scattergeo"
           }
          ],
          "scattergl": [
           {
            "marker": {
             "colorbar": {
              "outlinewidth": 0,
              "ticks": ""
             }
            },
            "type": "scattergl"
           }
          ],
          "scattermap": [
           {
            "marker": {
             "colorbar": {
              "outlinewidth": 0,
              "ticks": ""
             }
            },
            "type": "scattermap"
           }
          ],
          "scattermapbox": [
           {
            "marker": {
             "colorbar": {
              "outlinewidth": 0,
              "ticks": ""
             }
            },
            "type": "scattermapbox"
           }
          ],
          "scatterpolar": [
           {
            "marker": {
             "colorbar": {
              "outlinewidth": 0,
              "ticks": ""
             }
            },
            "type": "scatterpolar"
           }
          ],
          "scatterpolargl": [
           {
            "marker": {
             "colorbar": {
              "outlinewidth": 0,
              "ticks": ""
             }
            },
            "type": "scatterpolargl"
           }
          ],
          "scatterternary": [
           {
            "marker": {
             "colorbar": {
              "outlinewidth": 0,
              "ticks": ""
             }
            },
            "type": "scatterternary"
           }
          ],
          "surface": [
           {
            "colorbar": {
             "outlinewidth": 0,
             "ticks": ""
            },
            "colorscale": [
             [
              0,
              "#0d0887"
             ],
             [
              0.1111111111111111,
              "#46039f"
             ],
             [
              0.2222222222222222,
              "#7201a8"
             ],
             [
              0.3333333333333333,
              "#9c179e"
             ],
             [
              0.4444444444444444,
              "#bd3786"
             ],
             [
              0.5555555555555556,
              "#d8576b"
             ],
             [
              0.6666666666666666,
              "#ed7953"
             ],
             [
              0.7777777777777778,
              "#fb9f3a"
             ],
             [
              0.8888888888888888,
              "#fdca26"
             ],
             [
              1,
              "#f0f921"
             ]
            ],
            "type": "surface"
           }
          ],
          "table": [
           {
            "cells": {
             "fill": {
              "color": "#EBF0F8"
             },
             "line": {
              "color": "white"
             }
            },
            "header": {
             "fill": {
              "color": "#C8D4E3"
             },
             "line": {
              "color": "white"
             }
            },
            "type": "table"
           }
          ]
         },
         "layout": {
          "annotationdefaults": {
           "arrowcolor": "#2a3f5f",
           "arrowhead": 0,
           "arrowwidth": 1
          },
          "autotypenumbers": "strict",
          "coloraxis": {
           "colorbar": {
            "outlinewidth": 0,
            "ticks": ""
           }
          },
          "colorscale": {
           "diverging": [
            [
             0,
             "#8e0152"
            ],
            [
             0.1,
             "#c51b7d"
            ],
            [
             0.2,
             "#de77ae"
            ],
            [
             0.3,
             "#f1b6da"
            ],
            [
             0.4,
             "#fde0ef"
            ],
            [
             0.5,
             "#f7f7f7"
            ],
            [
             0.6,
             "#e6f5d0"
            ],
            [
             0.7,
             "#b8e186"
            ],
            [
             0.8,
             "#7fbc41"
            ],
            [
             0.9,
             "#4d9221"
            ],
            [
             1,
             "#276419"
            ]
           ],
           "sequential": [
            [
             0,
             "#0d0887"
            ],
            [
             0.1111111111111111,
             "#46039f"
            ],
            [
             0.2222222222222222,
             "#7201a8"
            ],
            [
             0.3333333333333333,
             "#9c179e"
            ],
            [
             0.4444444444444444,
             "#bd3786"
            ],
            [
             0.5555555555555556,
             "#d8576b"
            ],
            [
             0.6666666666666666,
             "#ed7953"
            ],
            [
             0.7777777777777778,
             "#fb9f3a"
            ],
            [
             0.8888888888888888,
             "#fdca26"
            ],
            [
             1,
             "#f0f921"
            ]
           ],
           "sequentialminus": [
            [
             0,
             "#0d0887"
            ],
            [
             0.1111111111111111,
             "#46039f"
            ],
            [
             0.2222222222222222,
             "#7201a8"
            ],
            [
             0.3333333333333333,
             "#9c179e"
            ],
            [
             0.4444444444444444,
             "#bd3786"
            ],
            [
             0.5555555555555556,
             "#d8576b"
            ],
            [
             0.6666666666666666,
             "#ed7953"
            ],
            [
             0.7777777777777778,
             "#fb9f3a"
            ],
            [
             0.8888888888888888,
             "#fdca26"
            ],
            [
             1,
             "#f0f921"
            ]
           ]
          },
          "colorway": [
           "#636efa",
           "#EF553B",
           "#00cc96",
           "#ab63fa",
           "#FFA15A",
           "#19d3f3",
           "#FF6692",
           "#B6E880",
           "#FF97FF",
           "#FECB52"
          ],
          "font": {
           "color": "#2a3f5f"
          },
          "geo": {
           "bgcolor": "white",
           "lakecolor": "white",
           "landcolor": "#E5ECF6",
           "showlakes": true,
           "showland": true,
           "subunitcolor": "white"
          },
          "hoverlabel": {
           "align": "left"
          },
          "hovermode": "closest",
          "mapbox": {
           "style": "light"
          },
          "paper_bgcolor": "white",
          "plot_bgcolor": "#E5ECF6",
          "polar": {
           "angularaxis": {
            "gridcolor": "white",
            "linecolor": "white",
            "ticks": ""
           },
           "bgcolor": "#E5ECF6",
           "radialaxis": {
            "gridcolor": "white",
            "linecolor": "white",
            "ticks": ""
           }
          },
          "scene": {
           "xaxis": {
            "backgroundcolor": "#E5ECF6",
            "gridcolor": "white",
            "gridwidth": 2,
            "linecolor": "white",
            "showbackground": true,
            "ticks": "",
            "zerolinecolor": "white"
           },
           "yaxis": {
            "backgroundcolor": "#E5ECF6",
            "gridcolor": "white",
            "gridwidth": 2,
            "linecolor": "white",
            "showbackground": true,
            "ticks": "",
            "zerolinecolor": "white"
           },
           "zaxis": {
            "backgroundcolor": "#E5ECF6",
            "gridcolor": "white",
            "gridwidth": 2,
            "linecolor": "white",
            "showbackground": true,
            "ticks": "",
            "zerolinecolor": "white"
           }
          },
          "shapedefaults": {
           "line": {
            "color": "#2a3f5f"
           }
          },
          "ternary": {
           "aaxis": {
            "gridcolor": "white",
            "linecolor": "white",
            "ticks": ""
           },
           "baxis": {
            "gridcolor": "white",
            "linecolor": "white",
            "ticks": ""
           },
           "bgcolor": "#E5ECF6",
           "caxis": {
            "gridcolor": "white",
            "linecolor": "white",
            "ticks": ""
           }
          },
          "title": {
           "x": 0.05
          },
          "xaxis": {
           "automargin": true,
           "gridcolor": "white",
           "linecolor": "white",
           "ticks": "",
           "title": {
            "standoff": 15
           },
           "zerolinecolor": "white",
           "zerolinewidth": 2
          },
          "yaxis": {
           "automargin": true,
           "gridcolor": "white",
           "linecolor": "white",
           "ticks": "",
           "title": {
            "standoff": 15
           },
           "zerolinecolor": "white",
           "zerolinewidth": 2
          }
         }
        },
        "xaxis": {
         "anchor": "y",
         "domain": [
          0,
          1
         ],
         "matches": "x2",
         "rangeslider": {
          "visible": false
         },
         "showticklabels": false
        },
        "xaxis2": {
         "anchor": "y2",
         "domain": [
          0,
          1
         ]
        },
        "yaxis": {
         "anchor": "x",
         "domain": [
          0.625,
          1
         ]
        },
        "yaxis2": {
         "anchor": "x2",
         "domain": [
          0,
          0.375
         ]
        }
       }
      }
     },
     "metadata": {},
     "output_type": "display_data"
    }
   ],
   "source": [
    "import yfinance as yf\n",
    "import pandas_ta as ta\n",
    "import plotly.graph_objects as go\n",
    "from plotly.subplots import make_subplots\n",
    "import pandas as pd\n",
    "\n",
    "# data = yf.download(tickers='BTC-USD', period='max', interval='1d')\n",
    "data = pd.read_csv(\"BTCUSD_Candlestick_1_D_ASK_08.05.2017-16.10.2021.csv\")\n",
    "data['ATR'] = ta.atr(data.High, data.Low, data.Close, length=14)\n",
    "\n",
    "df = data[:500]\n",
    "\n",
    "fig = make_subplots(rows=2, cols=1, subplot_titles=['Price', 'ATR'], shared_xaxes=True)\n",
    "\n",
    "fig.add_trace(go.Candlestick(x=df.index,\n",
    "                open=df['Open'],\n",
    "                high=df['High'],\n",
    "                low=df['Low'],\n",
    "                close=df['Close']), row=1, col=1)\n",
    "fig.add_trace(go.Scatter(x=df.index, y=df['ATR'], name='ATR'), row=2, col=1)\n",
    "\n",
    "fig.update_layout(\n",
    "    xaxis=dict(rangeslider=dict(visible=False))\n",
    ")\n",
    "\n",
    "fig.show()"
   ]
  },
  {
   "cell_type": "code",
   "execution_count": null,
   "metadata": {},
   "outputs": [],
   "source": []
  }
 ],
 "metadata": {
  "kernelspec": {
   "display_name": ".venv",
   "language": "python",
   "name": "python3"
  },
  "language_info": {
   "codemirror_mode": {
    "name": "ipython",
    "version": 3
   },
   "file_extension": ".py",
   "mimetype": "text/x-python",
   "name": "python",
   "nbconvert_exporter": "python",
   "pygments_lexer": "ipython3",
   "version": "3.11.2"
  },
  "orig_nbformat": 4
 },
 "nbformat": 4,
 "nbformat_minor": 2
}
