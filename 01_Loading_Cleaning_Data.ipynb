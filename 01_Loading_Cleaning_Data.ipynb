{
 "cells": [
  {
   "cell_type": "code",
   "execution_count": 2,
   "id": "4b724424",
   "metadata": {},
   "outputs": [],
   "source": [
    "import pandas as pd\n",
    "df = pd.read_csv(\"BTCUSD_Candlestick_1_D_ASK_08.05.2017-16.10.2021.csv\")"
   ]
  },
  {
   "cell_type": "code",
   "execution_count": 3,
   "id": "ea102c47",
   "metadata": {},
   "outputs": [
    {
     "data": {
      "text/html": [
       "<div>\n",
       "<style scoped>\n",
       "    .dataframe tbody tr th:only-of-type {\n",
       "        vertical-align: middle;\n",
       "    }\n",
       "\n",
       "    .dataframe tbody tr th {\n",
       "        vertical-align: top;\n",
       "    }\n",
       "\n",
       "    .dataframe thead th {\n",
       "        text-align: right;\n",
       "    }\n",
       "</style>\n",
       "<table border=\"1\" class=\"dataframe\">\n",
       "  <thead>\n",
       "    <tr style=\"text-align: right;\">\n",
       "      <th></th>\n",
       "      <th>Gmt time</th>\n",
       "      <th>Open</th>\n",
       "      <th>High</th>\n",
       "      <th>Low</th>\n",
       "      <th>Close</th>\n",
       "      <th>Volume</th>\n",
       "    </tr>\n",
       "  </thead>\n",
       "  <tbody>\n",
       "    <tr>\n",
       "      <th>0</th>\n",
       "      <td>07.05.2017 21:00:00.000</td>\n",
       "      <td>1559</td>\n",
       "      <td>1681</td>\n",
       "      <td>1557</td>\n",
       "      <td>1658</td>\n",
       "      <td>1.872044e+06</td>\n",
       "    </tr>\n",
       "    <tr>\n",
       "      <th>1</th>\n",
       "      <td>08.05.2017 21:00:00.000</td>\n",
       "      <td>1658</td>\n",
       "      <td>1753</td>\n",
       "      <td>1626</td>\n",
       "      <td>1747</td>\n",
       "      <td>1.330136e+06</td>\n",
       "    </tr>\n",
       "    <tr>\n",
       "      <th>2</th>\n",
       "      <td>09.05.2017 21:00:00.000</td>\n",
       "      <td>1713</td>\n",
       "      <td>1769</td>\n",
       "      <td>1677</td>\n",
       "      <td>1752</td>\n",
       "      <td>1.916895e+06</td>\n",
       "    </tr>\n",
       "    <tr>\n",
       "      <th>3</th>\n",
       "      <td>10.05.2017 21:00:00.000</td>\n",
       "      <td>1784</td>\n",
       "      <td>1887</td>\n",
       "      <td>1777</td>\n",
       "      <td>1857</td>\n",
       "      <td>1.613521e+06</td>\n",
       "    </tr>\n",
       "    <tr>\n",
       "      <th>4</th>\n",
       "      <td>11.05.2017 21:00:00.000</td>\n",
       "      <td>1836</td>\n",
       "      <td>1836</td>\n",
       "      <td>1651</td>\n",
       "      <td>1692</td>\n",
       "      <td>2.550428e+06</td>\n",
       "    </tr>\n",
       "    <tr>\n",
       "      <th>...</th>\n",
       "      <td>...</td>\n",
       "      <td>...</td>\n",
       "      <td>...</td>\n",
       "      <td>...</td>\n",
       "      <td>...</td>\n",
       "      <td>...</td>\n",
       "    </tr>\n",
       "    <tr>\n",
       "      <th>1301</th>\n",
       "      <td>12.10.2021 21:00:00.000</td>\n",
       "      <td>55433</td>\n",
       "      <td>57543</td>\n",
       "      <td>54328</td>\n",
       "      <td>57047</td>\n",
       "      <td>2.013182e+03</td>\n",
       "    </tr>\n",
       "    <tr>\n",
       "      <th>1302</th>\n",
       "      <td>13.10.2021 21:00:00.000</td>\n",
       "      <td>57078</td>\n",
       "      <td>58568</td>\n",
       "      <td>56906</td>\n",
       "      <td>57505</td>\n",
       "      <td>2.001020e+03</td>\n",
       "    </tr>\n",
       "    <tr>\n",
       "      <th>1303</th>\n",
       "      <td>14.10.2021 21:00:00.000</td>\n",
       "      <td>57533</td>\n",
       "      <td>62922</td>\n",
       "      <td>56940</td>\n",
       "      <td>62587</td>\n",
       "      <td>2.235774e+03</td>\n",
       "    </tr>\n",
       "    <tr>\n",
       "      <th>1304</th>\n",
       "      <td>15.10.2021 21:00:00.000</td>\n",
       "      <td>62587</td>\n",
       "      <td>62608</td>\n",
       "      <td>60223</td>\n",
       "      <td>61077</td>\n",
       "      <td>1.943311e+03</td>\n",
       "    </tr>\n",
       "    <tr>\n",
       "      <th>1305</th>\n",
       "      <td>16.10.2021 21:00:00.000</td>\n",
       "      <td>61077</td>\n",
       "      <td>61498</td>\n",
       "      <td>59043</td>\n",
       "      <td>59467</td>\n",
       "      <td>2.443833e+03</td>\n",
       "    </tr>\n",
       "  </tbody>\n",
       "</table>\n",
       "<p>1306 rows × 6 columns</p>\n",
       "</div>"
      ],
      "text/plain": [
       "                     Gmt time   Open   High    Low  Close        Volume\n",
       "0     07.05.2017 21:00:00.000   1559   1681   1557   1658  1.872044e+06\n",
       "1     08.05.2017 21:00:00.000   1658   1753   1626   1747  1.330136e+06\n",
       "2     09.05.2017 21:00:00.000   1713   1769   1677   1752  1.916895e+06\n",
       "3     10.05.2017 21:00:00.000   1784   1887   1777   1857  1.613521e+06\n",
       "4     11.05.2017 21:00:00.000   1836   1836   1651   1692  2.550428e+06\n",
       "...                       ...    ...    ...    ...    ...           ...\n",
       "1301  12.10.2021 21:00:00.000  55433  57543  54328  57047  2.013182e+03\n",
       "1302  13.10.2021 21:00:00.000  57078  58568  56906  57505  2.001020e+03\n",
       "1303  14.10.2021 21:00:00.000  57533  62922  56940  62587  2.235774e+03\n",
       "1304  15.10.2021 21:00:00.000  62587  62608  60223  61077  1.943311e+03\n",
       "1305  16.10.2021 21:00:00.000  61077  61498  59043  59467  2.443833e+03\n",
       "\n",
       "[1306 rows x 6 columns]"
      ]
     },
     "execution_count": 3,
     "metadata": {},
     "output_type": "execute_result"
    }
   ],
   "source": [
    "df"
   ]
  },
  {
   "cell_type": "code",
   "execution_count": 4,
   "id": "3480f727",
   "metadata": {},
   "outputs": [
    {
     "data": {
      "text/html": [
       "<div>\n",
       "<style scoped>\n",
       "    .dataframe tbody tr th:only-of-type {\n",
       "        vertical-align: middle;\n",
       "    }\n",
       "\n",
       "    .dataframe tbody tr th {\n",
       "        vertical-align: top;\n",
       "    }\n",
       "\n",
       "    .dataframe thead th {\n",
       "        text-align: right;\n",
       "    }\n",
       "</style>\n",
       "<table border=\"1\" class=\"dataframe\">\n",
       "  <thead>\n",
       "    <tr style=\"text-align: right;\">\n",
       "      <th></th>\n",
       "      <th>Gmt time</th>\n",
       "      <th>Open</th>\n",
       "      <th>High</th>\n",
       "      <th>Low</th>\n",
       "      <th>Close</th>\n",
       "      <th>Volume</th>\n",
       "    </tr>\n",
       "  </thead>\n",
       "  <tbody>\n",
       "    <tr>\n",
       "      <th>0</th>\n",
       "      <td>07.05.2017 21:00:00.000</td>\n",
       "      <td>1559</td>\n",
       "      <td>1681</td>\n",
       "      <td>1557</td>\n",
       "      <td>1658</td>\n",
       "      <td>1.872044e+06</td>\n",
       "    </tr>\n",
       "    <tr>\n",
       "      <th>1</th>\n",
       "      <td>08.05.2017 21:00:00.000</td>\n",
       "      <td>1658</td>\n",
       "      <td>1753</td>\n",
       "      <td>1626</td>\n",
       "      <td>1747</td>\n",
       "      <td>1.330136e+06</td>\n",
       "    </tr>\n",
       "    <tr>\n",
       "      <th>2</th>\n",
       "      <td>09.05.2017 21:00:00.000</td>\n",
       "      <td>1713</td>\n",
       "      <td>1769</td>\n",
       "      <td>1677</td>\n",
       "      <td>1752</td>\n",
       "      <td>1.916895e+06</td>\n",
       "    </tr>\n",
       "    <tr>\n",
       "      <th>3</th>\n",
       "      <td>10.05.2017 21:00:00.000</td>\n",
       "      <td>1784</td>\n",
       "      <td>1887</td>\n",
       "      <td>1777</td>\n",
       "      <td>1857</td>\n",
       "      <td>1.613521e+06</td>\n",
       "    </tr>\n",
       "    <tr>\n",
       "      <th>4</th>\n",
       "      <td>11.05.2017 21:00:00.000</td>\n",
       "      <td>1836</td>\n",
       "      <td>1836</td>\n",
       "      <td>1651</td>\n",
       "      <td>1692</td>\n",
       "      <td>2.550428e+06</td>\n",
       "    </tr>\n",
       "    <tr>\n",
       "      <th>...</th>\n",
       "      <td>...</td>\n",
       "      <td>...</td>\n",
       "      <td>...</td>\n",
       "      <td>...</td>\n",
       "      <td>...</td>\n",
       "      <td>...</td>\n",
       "    </tr>\n",
       "    <tr>\n",
       "      <th>1301</th>\n",
       "      <td>12.10.2021 21:00:00.000</td>\n",
       "      <td>55433</td>\n",
       "      <td>57543</td>\n",
       "      <td>54328</td>\n",
       "      <td>57047</td>\n",
       "      <td>2.013182e+03</td>\n",
       "    </tr>\n",
       "    <tr>\n",
       "      <th>1302</th>\n",
       "      <td>13.10.2021 21:00:00.000</td>\n",
       "      <td>57078</td>\n",
       "      <td>58568</td>\n",
       "      <td>56906</td>\n",
       "      <td>57505</td>\n",
       "      <td>2.001020e+03</td>\n",
       "    </tr>\n",
       "    <tr>\n",
       "      <th>1303</th>\n",
       "      <td>14.10.2021 21:00:00.000</td>\n",
       "      <td>57533</td>\n",
       "      <td>62922</td>\n",
       "      <td>56940</td>\n",
       "      <td>62587</td>\n",
       "      <td>2.235774e+03</td>\n",
       "    </tr>\n",
       "    <tr>\n",
       "      <th>1304</th>\n",
       "      <td>15.10.2021 21:00:00.000</td>\n",
       "      <td>62587</td>\n",
       "      <td>62608</td>\n",
       "      <td>60223</td>\n",
       "      <td>61077</td>\n",
       "      <td>1.943311e+03</td>\n",
       "    </tr>\n",
       "    <tr>\n",
       "      <th>1305</th>\n",
       "      <td>16.10.2021 21:00:00.000</td>\n",
       "      <td>61077</td>\n",
       "      <td>61498</td>\n",
       "      <td>59043</td>\n",
       "      <td>59467</td>\n",
       "      <td>2.443833e+03</td>\n",
       "    </tr>\n",
       "  </tbody>\n",
       "</table>\n",
       "<p>1304 rows × 6 columns</p>\n",
       "</div>"
      ],
      "text/plain": [
       "                     Gmt time   Open   High    Low  Close        Volume\n",
       "0     07.05.2017 21:00:00.000   1559   1681   1557   1658  1.872044e+06\n",
       "1     08.05.2017 21:00:00.000   1658   1753   1626   1747  1.330136e+06\n",
       "2     09.05.2017 21:00:00.000   1713   1769   1677   1752  1.916895e+06\n",
       "3     10.05.2017 21:00:00.000   1784   1887   1777   1857  1.613521e+06\n",
       "4     11.05.2017 21:00:00.000   1836   1836   1651   1692  2.550428e+06\n",
       "...                       ...    ...    ...    ...    ...           ...\n",
       "1301  12.10.2021 21:00:00.000  55433  57543  54328  57047  2.013182e+03\n",
       "1302  13.10.2021 21:00:00.000  57078  58568  56906  57505  2.001020e+03\n",
       "1303  14.10.2021 21:00:00.000  57533  62922  56940  62587  2.235774e+03\n",
       "1304  15.10.2021 21:00:00.000  62587  62608  60223  61077  1.943311e+03\n",
       "1305  16.10.2021 21:00:00.000  61077  61498  59043  59467  2.443833e+03\n",
       "\n",
       "[1304 rows x 6 columns]"
      ]
     },
     "execution_count": 4,
     "metadata": {},
     "output_type": "execute_result"
    }
   ],
   "source": [
    "df = df[df[\"Volume\"]!=0]\n",
    "#df.tail()\n",
    "#df.head(10)\n",
    "df"
   ]
  },
  {
   "cell_type": "code",
   "execution_count": 5,
   "id": "9aba0795",
   "metadata": {},
   "outputs": [
    {
     "data": {
      "application/vnd.plotly.v1+json": {
       "config": {
        "plotlyServerURL": "https://plot.ly"
       },
       "data": [
        {
         "close": {
          "bdata": "nRTvFPYT8BPYE3kUoBT2FNIUMhUFFnYVsRUlFEMUrxT1FFgVdRZ5Fg0XRRf7F88Y8x5kHiQgMh78G38f1B/UHgIf8R9tIioiACJGIXIhpiEeHm8eQh4aH0QfMh/0H34gQiFyJN8jBiSTJQwnoCqhLPkx7SnzLygpDSqtLAMuVCvqL6wwPC7GK8AugSq2JRMmtClbKY4o2Sf+JcomoiZjJX8lYyfmKN8oBS64LZIuhC2RLtEstirtJ70o1SjvKQsq3yf7J7MoUCg=",
          "dtype": "i2"
         },
         "high": {
          "bdata": "+hSOFRkVMhR/FKgUyxT/FCMVdBUvFi8WwBW2FX4U3xQlFWcV3Ra2FokXUhcIGFUZXh/JIIIg+yBQH6IgAiDqHwIfLSAmI8sibiKyI3whcyKuIS4f+B79H8sfsB+IIJ8gTSEDJTwlMiS4JRUnJiwHLVY2VzSnMNMs3SppLU8vFy5DMFIyvjPaL8gu/yp9KzwnESpZKvMpyCjbJwAoEycrJlQmyCc0KeEp5S5WMKgvXy9KL24t6SzBKtEoZSmIKgArlCouKB0p2Ck=",
          "dtype": "i2"
         },
         "low": {
          "bdata": "VxRhFKkTbROPE8oTdBSQFIgUsBQnFToVPhW3ExAUKBSvFOMUMhX3FWcWWBYTF/cXCxvPHQMeMh6kGdUdnB5LHmwdsR7zIa8hKSEOIX0fxSCMHVEdXh1AHpMdXR7JHq8fMCASIyAjMiPtIzMlbymcKqAseSgRKTgn7iWdKWssUSp8LIsvsS0cK3krwCY9JbMjhiS+J4onwiZmJfUl9SXVI9skayXVJpUobypJLQIsDC1+LQosNipoJ0MlSiZYKH4ptSZaJnkn7SY=",
          "dtype": "i2"
         },
         "open": {
          "bdata": "wRSgFO8U+hMYFNsTfRSgFPgUsBQ1FQkWehW1FUEURxSwFPgUWRWwFnoWDRdIF/wXKRz3HmUeJiAwHssfhR/XH9QeBR/+IWwiLCIBIkYhJiKoISAebx5EHlseSB81H/YfgSAdI3Ik4SMJJJclTCugKqEs/DHtKbcsKCkNKq0sAy4vLeovrjA7LscrzCmBKrYlEya0KUYpkCjZJ/4lyiZdJWMlgCVjJ+YoBSsFLrgtki6ELc4s0Sy1Ku0nvSiqKO8pCyreJ/0nQic=",
          "dtype": "i2"
         },
         "type": "candlestick",
         "x": {
          "bdata": "9AH1AfYB9wH4AfkB+gH7AfwB/QH+Af8BAAIBAgICAwIEAgUCBgIHAggCCQIKAgsCDAINAg4CDwIQAhECEgITAhQCFQIWAhcCGAIZAhoCGwIcAh0CHgIfAiACIQIiAiMCJAIlAiYCJwIoAikCKgIrAiwCLQIuAi8CMAIxAjICMwI0AjUCNgI3AjgCOQI6AjsCPAI9Aj4CPwJAAkECQgJDAkQCRQJGAkcCSAJJAkoCSwJMAk0CTgJPAlACUQJSAlMCVAJVAlYCVwI=",
          "dtype": "i2"
         }
        }
       ],
       "layout": {
        "template": {
         "data": {
          "bar": [
           {
            "error_x": {
             "color": "#2a3f5f"
            },
            "error_y": {
             "color": "#2a3f5f"
            },
            "marker": {
             "line": {
              "color": "#E5ECF6",
              "width": 0.5
             },
             "pattern": {
              "fillmode": "overlay",
              "size": 10,
              "solidity": 0.2
             }
            },
            "type": "bar"
           }
          ],
          "barpolar": [
           {
            "marker": {
             "line": {
              "color": "#E5ECF6",
              "width": 0.5
             },
             "pattern": {
              "fillmode": "overlay",
              "size": 10,
              "solidity": 0.2
             }
            },
            "type": "barpolar"
           }
          ],
          "carpet": [
           {
            "aaxis": {
             "endlinecolor": "#2a3f5f",
             "gridcolor": "white",
             "linecolor": "white",
             "minorgridcolor": "white",
             "startlinecolor": "#2a3f5f"
            },
            "baxis": {
             "endlinecolor": "#2a3f5f",
             "gridcolor": "white",
             "linecolor": "white",
             "minorgridcolor": "white",
             "startlinecolor": "#2a3f5f"
            },
            "type": "carpet"
           }
          ],
          "choropleth": [
           {
            "colorbar": {
             "outlinewidth": 0,
             "ticks": ""
            },
            "type": "choropleth"
           }
          ],
          "contour": [
           {
            "colorbar": {
             "outlinewidth": 0,
             "ticks": ""
            },
            "colorscale": [
             [
              0,
              "#0d0887"
             ],
             [
              0.1111111111111111,
              "#46039f"
             ],
             [
              0.2222222222222222,
              "#7201a8"
             ],
             [
              0.3333333333333333,
              "#9c179e"
             ],
             [
              0.4444444444444444,
              "#bd3786"
             ],
             [
              0.5555555555555556,
              "#d8576b"
             ],
             [
              0.6666666666666666,
              "#ed7953"
             ],
             [
              0.7777777777777778,
              "#fb9f3a"
             ],
             [
              0.8888888888888888,
              "#fdca26"
             ],
             [
              1,
              "#f0f921"
             ]
            ],
            "type": "contour"
           }
          ],
          "contourcarpet": [
           {
            "colorbar": {
             "outlinewidth": 0,
             "ticks": ""
            },
            "type": "contourcarpet"
           }
          ],
          "heatmap": [
           {
            "colorbar": {
             "outlinewidth": 0,
             "ticks": ""
            },
            "colorscale": [
             [
              0,
              "#0d0887"
             ],
             [
              0.1111111111111111,
              "#46039f"
             ],
             [
              0.2222222222222222,
              "#7201a8"
             ],
             [
              0.3333333333333333,
              "#9c179e"
             ],
             [
              0.4444444444444444,
              "#bd3786"
             ],
             [
              0.5555555555555556,
              "#d8576b"
             ],
             [
              0.6666666666666666,
              "#ed7953"
             ],
             [
              0.7777777777777778,
              "#fb9f3a"
             ],
             [
              0.8888888888888888,
              "#fdca26"
             ],
             [
              1,
              "#f0f921"
             ]
            ],
            "type": "heatmap"
           }
          ],
          "histogram": [
           {
            "marker": {
             "pattern": {
              "fillmode": "overlay",
              "size": 10,
              "solidity": 0.2
             }
            },
            "type": "histogram"
           }
          ],
          "histogram2d": [
           {
            "colorbar": {
             "outlinewidth": 0,
             "ticks": ""
            },
            "colorscale": [
             [
              0,
              "#0d0887"
             ],
             [
              0.1111111111111111,
              "#46039f"
             ],
             [
              0.2222222222222222,
              "#7201a8"
             ],
             [
              0.3333333333333333,
              "#9c179e"
             ],
             [
              0.4444444444444444,
              "#bd3786"
             ],
             [
              0.5555555555555556,
              "#d8576b"
             ],
             [
              0.6666666666666666,
              "#ed7953"
             ],
             [
              0.7777777777777778,
              "#fb9f3a"
             ],
             [
              0.8888888888888888,
              "#fdca26"
             ],
             [
              1,
              "#f0f921"
             ]
            ],
            "type": "histogram2d"
           }
          ],
          "histogram2dcontour": [
           {
            "colorbar": {
             "outlinewidth": 0,
             "ticks": ""
            },
            "colorscale": [
             [
              0,
              "#0d0887"
             ],
             [
              0.1111111111111111,
              "#46039f"
             ],
             [
              0.2222222222222222,
              "#7201a8"
             ],
             [
              0.3333333333333333,
              "#9c179e"
             ],
             [
              0.4444444444444444,
              "#bd3786"
             ],
             [
              0.5555555555555556,
              "#d8576b"
             ],
             [
              0.6666666666666666,
              "#ed7953"
             ],
             [
              0.7777777777777778,
              "#fb9f3a"
             ],
             [
              0.8888888888888888,
              "#fdca26"
             ],
             [
              1,
              "#f0f921"
             ]
            ],
            "type": "histogram2dcontour"
           }
          ],
          "mesh3d": [
           {
            "colorbar": {
             "outlinewidth": 0,
             "ticks": ""
            },
            "type": "mesh3d"
           }
          ],
          "parcoords": [
           {
            "line": {
             "colorbar": {
              "outlinewidth": 0,
              "ticks": ""
             }
            },
            "type": "parcoords"
           }
          ],
          "pie": [
           {
            "automargin": true,
            "type": "pie"
           }
          ],
          "scatter": [
           {
            "fillpattern": {
             "fillmode": "overlay",
             "size": 10,
             "solidity": 0.2
            },
            "type": "scatter"
           }
          ],
          "scatter3d": [
           {
            "line": {
             "colorbar": {
              "outlinewidth": 0,
              "ticks": ""
             }
            },
            "marker": {
             "colorbar": {
              "outlinewidth": 0,
              "ticks": ""
             }
            },
            "type": "scatter3d"
           }
          ],
          "scattercarpet": [
           {
            "marker": {
             "colorbar": {
              "outlinewidth": 0,
              "ticks": ""
             }
            },
            "type": "scattercarpet"
           }
          ],
          "scattergeo": [
           {
            "marker": {
             "colorbar": {
              "outlinewidth": 0,
              "ticks": ""
             }
            },
            "type": "scattergeo"
           }
          ],
          "scattergl": [
           {
            "marker": {
             "colorbar": {
              "outlinewidth": 0,
              "ticks": ""
             }
            },
            "type": "scattergl"
           }
          ],
          "scattermap": [
           {
            "marker": {
             "colorbar": {
              "outlinewidth": 0,
              "ticks": ""
             }
            },
            "type": "scattermap"
           }
          ],
          "scattermapbox": [
           {
            "marker": {
             "colorbar": {
              "outlinewidth": 0,
              "ticks": ""
             }
            },
            "type": "scattermapbox"
           }
          ],
          "scatterpolar": [
           {
            "marker": {
             "colorbar": {
              "outlinewidth": 0,
              "ticks": ""
             }
            },
            "type": "scatterpolar"
           }
          ],
          "scatterpolargl": [
           {
            "marker": {
             "colorbar": {
              "outlinewidth": 0,
              "ticks": ""
             }
            },
            "type": "scatterpolargl"
           }
          ],
          "scatterternary": [
           {
            "marker": {
             "colorbar": {
              "outlinewidth": 0,
              "ticks": ""
             }
            },
            "type": "scatterternary"
           }
          ],
          "surface": [
           {
            "colorbar": {
             "outlinewidth": 0,
             "ticks": ""
            },
            "colorscale": [
             [
              0,
              "#0d0887"
             ],
             [
              0.1111111111111111,
              "#46039f"
             ],
             [
              0.2222222222222222,
              "#7201a8"
             ],
             [
              0.3333333333333333,
              "#9c179e"
             ],
             [
              0.4444444444444444,
              "#bd3786"
             ],
             [
              0.5555555555555556,
              "#d8576b"
             ],
             [
              0.6666666666666666,
              "#ed7953"
             ],
             [
              0.7777777777777778,
              "#fb9f3a"
             ],
             [
              0.8888888888888888,
              "#fdca26"
             ],
             [
              1,
              "#f0f921"
             ]
            ],
            "type": "surface"
           }
          ],
          "table": [
           {
            "cells": {
             "fill": {
              "color": "#EBF0F8"
             },
             "line": {
              "color": "white"
             }
            },
            "header": {
             "fill": {
              "color": "#C8D4E3"
             },
             "line": {
              "color": "white"
             }
            },
            "type": "table"
           }
          ]
         },
         "layout": {
          "annotationdefaults": {
           "arrowcolor": "#2a3f5f",
           "arrowhead": 0,
           "arrowwidth": 1
          },
          "autotypenumbers": "strict",
          "coloraxis": {
           "colorbar": {
            "outlinewidth": 0,
            "ticks": ""
           }
          },
          "colorscale": {
           "diverging": [
            [
             0,
             "#8e0152"
            ],
            [
             0.1,
             "#c51b7d"
            ],
            [
             0.2,
             "#de77ae"
            ],
            [
             0.3,
             "#f1b6da"
            ],
            [
             0.4,
             "#fde0ef"
            ],
            [
             0.5,
             "#f7f7f7"
            ],
            [
             0.6,
             "#e6f5d0"
            ],
            [
             0.7,
             "#b8e186"
            ],
            [
             0.8,
             "#7fbc41"
            ],
            [
             0.9,
             "#4d9221"
            ],
            [
             1,
             "#276419"
            ]
           ],
           "sequential": [
            [
             0,
             "#0d0887"
            ],
            [
             0.1111111111111111,
             "#46039f"
            ],
            [
             0.2222222222222222,
             "#7201a8"
            ],
            [
             0.3333333333333333,
             "#9c179e"
            ],
            [
             0.4444444444444444,
             "#bd3786"
            ],
            [
             0.5555555555555556,
             "#d8576b"
            ],
            [
             0.6666666666666666,
             "#ed7953"
            ],
            [
             0.7777777777777778,
             "#fb9f3a"
            ],
            [
             0.8888888888888888,
             "#fdca26"
            ],
            [
             1,
             "#f0f921"
            ]
           ],
           "sequentialminus": [
            [
             0,
             "#0d0887"
            ],
            [
             0.1111111111111111,
             "#46039f"
            ],
            [
             0.2222222222222222,
             "#7201a8"
            ],
            [
             0.3333333333333333,
             "#9c179e"
            ],
            [
             0.4444444444444444,
             "#bd3786"
            ],
            [
             0.5555555555555556,
             "#d8576b"
            ],
            [
             0.6666666666666666,
             "#ed7953"
            ],
            [
             0.7777777777777778,
             "#fb9f3a"
            ],
            [
             0.8888888888888888,
             "#fdca26"
            ],
            [
             1,
             "#f0f921"
            ]
           ]
          },
          "colorway": [
           "#636efa",
           "#EF553B",
           "#00cc96",
           "#ab63fa",
           "#FFA15A",
           "#19d3f3",
           "#FF6692",
           "#B6E880",
           "#FF97FF",
           "#FECB52"
          ],
          "font": {
           "color": "#2a3f5f"
          },
          "geo": {
           "bgcolor": "white",
           "lakecolor": "white",
           "landcolor": "#E5ECF6",
           "showlakes": true,
           "showland": true,
           "subunitcolor": "white"
          },
          "hoverlabel": {
           "align": "left"
          },
          "hovermode": "closest",
          "mapbox": {
           "style": "light"
          },
          "paper_bgcolor": "white",
          "plot_bgcolor": "#E5ECF6",
          "polar": {
           "angularaxis": {
            "gridcolor": "white",
            "linecolor": "white",
            "ticks": ""
           },
           "bgcolor": "#E5ECF6",
           "radialaxis": {
            "gridcolor": "white",
            "linecolor": "white",
            "ticks": ""
           }
          },
          "scene": {
           "xaxis": {
            "backgroundcolor": "#E5ECF6",
            "gridcolor": "white",
            "gridwidth": 2,
            "linecolor": "white",
            "showbackground": true,
            "ticks": "",
            "zerolinecolor": "white"
           },
           "yaxis": {
            "backgroundcolor": "#E5ECF6",
            "gridcolor": "white",
            "gridwidth": 2,
            "linecolor": "white",
            "showbackground": true,
            "ticks": "",
            "zerolinecolor": "white"
           },
           "zaxis": {
            "backgroundcolor": "#E5ECF6",
            "gridcolor": "white",
            "gridwidth": 2,
            "linecolor": "white",
            "showbackground": true,
            "ticks": "",
            "zerolinecolor": "white"
           }
          },
          "shapedefaults": {
           "line": {
            "color": "#2a3f5f"
           }
          },
          "ternary": {
           "aaxis": {
            "gridcolor": "white",
            "linecolor": "white",
            "ticks": ""
           },
           "baxis": {
            "gridcolor": "white",
            "linecolor": "white",
            "ticks": ""
           },
           "bgcolor": "#E5ECF6",
           "caxis": {
            "gridcolor": "white",
            "linecolor": "white",
            "ticks": ""
           }
          },
          "title": {
           "x": 0.05
          },
          "xaxis": {
           "automargin": true,
           "gridcolor": "white",
           "linecolor": "white",
           "ticks": "",
           "title": {
            "standoff": 15
           },
           "zerolinecolor": "white",
           "zerolinewidth": 2
          },
          "yaxis": {
           "automargin": true,
           "gridcolor": "white",
           "linecolor": "white",
           "ticks": "",
           "title": {
            "standoff": 15
           },
           "zerolinecolor": "white",
           "zerolinewidth": 2
          }
         }
        }
       }
      }
     },
     "metadata": {},
     "output_type": "display_data"
    }
   ],
   "source": [
    "dfpl = df[500:600]\n",
    "import plotly.graph_objects as go\n",
    "\n",
    "fig = go.Figure(data=[go.Candlestick(x=dfpl.index,\n",
    "                open=dfpl['Open'],\n",
    "                high=dfpl['High'],\n",
    "                low=dfpl['Low'],\n",
    "                close=dfpl['Close'])])\n",
    "\n",
    "fig.show()"
   ]
  },
  {
   "cell_type": "code",
   "execution_count": 6,
   "id": "3ffa69cf",
   "metadata": {},
   "outputs": [
    {
     "name": "stderr",
     "output_type": "stream",
     "text": [
      "C:\\Users\\Admin\\AppData\\Local\\Temp\\ipykernel_25360\\1767492657.py:2: FutureWarning:\n",
      "\n",
      "YF.download() has changed argument auto_adjust default to True\n",
      "\n",
      "[*********************100%***********************]  1 of 1 completed\n"
     ]
    }
   ],
   "source": [
    "import yfinance as yf\n",
    "data = yf.download(tickers='BTC-USD', period='max', interval='1d')"
   ]
  },
  {
   "cell_type": "code",
   "execution_count": 7,
   "id": "00e05bb0",
   "metadata": {},
   "outputs": [
    {
     "data": {
      "text/html": [
       "<div>\n",
       "<style scoped>\n",
       "    .dataframe tbody tr th:only-of-type {\n",
       "        vertical-align: middle;\n",
       "    }\n",
       "\n",
       "    .dataframe tbody tr th {\n",
       "        vertical-align: top;\n",
       "    }\n",
       "\n",
       "    .dataframe thead tr th {\n",
       "        text-align: left;\n",
       "    }\n",
       "\n",
       "    .dataframe thead tr:last-of-type th {\n",
       "        text-align: right;\n",
       "    }\n",
       "</style>\n",
       "<table border=\"1\" class=\"dataframe\">\n",
       "  <thead>\n",
       "    <tr>\n",
       "      <th>Price</th>\n",
       "      <th>Close</th>\n",
       "      <th>High</th>\n",
       "      <th>Low</th>\n",
       "      <th>Open</th>\n",
       "      <th>Volume</th>\n",
       "    </tr>\n",
       "    <tr>\n",
       "      <th>Ticker</th>\n",
       "      <th>BTC-USD</th>\n",
       "      <th>BTC-USD</th>\n",
       "      <th>BTC-USD</th>\n",
       "      <th>BTC-USD</th>\n",
       "      <th>BTC-USD</th>\n",
       "    </tr>\n",
       "    <tr>\n",
       "      <th>Date</th>\n",
       "      <th></th>\n",
       "      <th></th>\n",
       "      <th></th>\n",
       "      <th></th>\n",
       "      <th></th>\n",
       "    </tr>\n",
       "  </thead>\n",
       "  <tbody>\n",
       "    <tr>\n",
       "      <th>2025-06-27</th>\n",
       "      <td>107088.429688</td>\n",
       "      <td>107772.468750</td>\n",
       "      <td>106449.992188</td>\n",
       "      <td>106954.921875</td>\n",
       "      <td>45353692675</td>\n",
       "    </tr>\n",
       "    <tr>\n",
       "      <th>2025-06-28</th>\n",
       "      <td>107327.703125</td>\n",
       "      <td>107567.882812</td>\n",
       "      <td>106883.976562</td>\n",
       "      <td>107090.546875</td>\n",
       "      <td>30037708335</td>\n",
       "    </tr>\n",
       "    <tr>\n",
       "      <th>2025-06-29</th>\n",
       "      <td>108385.570312</td>\n",
       "      <td>108526.304688</td>\n",
       "      <td>107230.109375</td>\n",
       "      <td>107327.820312</td>\n",
       "      <td>35534874438</td>\n",
       "    </tr>\n",
       "    <tr>\n",
       "      <th>2025-06-30</th>\n",
       "      <td>107135.335938</td>\n",
       "      <td>108798.789062</td>\n",
       "      <td>106759.648438</td>\n",
       "      <td>108383.437500</td>\n",
       "      <td>42064804590</td>\n",
       "    </tr>\n",
       "    <tr>\n",
       "      <th>2025-07-01</th>\n",
       "      <td>106230.390625</td>\n",
       "      <td>107527.500000</td>\n",
       "      <td>105696.835938</td>\n",
       "      <td>107167.695312</td>\n",
       "      <td>44192120832</td>\n",
       "    </tr>\n",
       "  </tbody>\n",
       "</table>\n",
       "</div>"
      ],
      "text/plain": [
       "Price               Close           High            Low           Open  \\\n",
       "Ticker            BTC-USD        BTC-USD        BTC-USD        BTC-USD   \n",
       "Date                                                                     \n",
       "2025-06-27  107088.429688  107772.468750  106449.992188  106954.921875   \n",
       "2025-06-28  107327.703125  107567.882812  106883.976562  107090.546875   \n",
       "2025-06-29  108385.570312  108526.304688  107230.109375  107327.820312   \n",
       "2025-06-30  107135.335938  108798.789062  106759.648438  108383.437500   \n",
       "2025-07-01  106230.390625  107527.500000  105696.835938  107167.695312   \n",
       "\n",
       "Price            Volume  \n",
       "Ticker          BTC-USD  \n",
       "Date                     \n",
       "2025-06-27  45353692675  \n",
       "2025-06-28  30037708335  \n",
       "2025-06-29  35534874438  \n",
       "2025-06-30  42064804590  \n",
       "2025-07-01  44192120832  "
      ]
     },
     "execution_count": 7,
     "metadata": {},
     "output_type": "execute_result"
    }
   ],
   "source": [
    "data.tail()"
   ]
  },
  {
   "cell_type": "code",
   "execution_count": 8,
   "id": "c488be7f",
   "metadata": {},
   "outputs": [
    {
     "data": {
      "application/vnd.plotly.v1+json": {
       "config": {
        "plotlyServerURL": "https://plot.ly"
       },
       "data": [
        {
         "close": {
          "bdata": "AAAAIFiVfEAAAABACod6QAAAAGC8rHhAAAAAwHaOeUAAAADgIu14QAAAAKBuInlAAAAA4Kc8e0AAAACgR3N6QAAAACAvuXlAAAAAwMxGeUAAAADgUfh4QAAAAGDlkndAAAAA4Hh3d0AAAACgGi94QAAAAADX+XdAAAAA4CZxd0AAAAAgMXh2QAAAACDbjXRAAAAAACkIdEAAAACgQ6F0QAAAAAD+AnVAAAAAQAoPdkAAAACAatB2QAAAAAD+mHZAAAAAwMikdkAAAADAyKh3QAAAAMCfZnhAAAAAgOsNeUAAAABAXqx4QAAAAGDl6HdAAAAAwCD8d0AAAABgEnd4QAAAAGC8WHhAAAAAIIXtd0AAAACgmSd4QAAAACCH8ndAAAAAAKxmdkAAAAAghWV2QAAAAABWtHVAAAAAoEMrdkAAAAAA0w92QAAAAGDjWXZAAAAAwHT5dEAAAABA4ZR1QAAAAOAiJXVAAAAA4PtbdEAAAACgRV50QAAAACDdeHRAAAAAQN+ndEAAAACgxjd1QAAAAOCj1HVAAAAA4KNmdUAAAADgzpd1QAAAAGA5tHZAAAAAwMjudkAAAADAHvt2QAAAAOD5eHpAAAAAgMJLekAAAACAFt14QAAAAMAggndAAAAAoBw+eEAAAAAghzZ4QAAAAAArc3dAAAAAQOHId0AAAACgcF12QAAAAGCR7XVAAAAAYLgOdkAAAAAAK/l2QAAAAIBqjndAAAAAYJF1d0AAAACA6wV3QAAAAGC4GndAAAAA4CaHd0AAAAAg23d3QAAAAIDAoHdAAAAAgOuzd0AAAABACtV3QAAAAAApcHdAAAAAAKoZd0AAAAAAqo13QAAAAGCPbHdAAAAAIIVxd0AAAABAi552QAAAAACBA3ZAAAAAANeldUAAAACgGOh1QAAAAACsCHZAAAAAIAS2dUAAAACgHPp1QAAAACCFlXVAAAAAAP5wdEAAAACAavxzQAAAAABWdnNAAAAA4Hzdc0AAAADAS590QAAAAOB8DXRAAAAAAC2+dEAAAADgJul0QAAAAECLKHRAAAAAwCDwc0AAAADAyH50QAAAAODOvXNAAAAAANPTc0AAAABguIpzQAAAAMDKa3NAAAAAgBYDdEAAAADg+6NzQAAAACCDsHNAAAAA4E+RcUAAAADAHoNwQAAAAICVJ3FAAAAAIAbjcUAAAABgZGVyQAAAAICVtXFAAAAAIIcmckAAAABgvCxxQAAAAGCPmnBAAAAAYLy8cEAAAABAjTtsQAAAAMBLQ2ZAAAAAAAI7akAAAACgGgNqQAAAAOBR6GhAAAAAINlKakAAAABAjdtqQAAAAIAUampAAAAAQLRcbEAAAAAA/ixtQAAAAMAgHG1AAAAAoBr7bkAAAADg+bZvQAAAAGCRF3FAAAAAoJl3cEAAAACgRz1tQAAAAIBqMG1AAAAAoJlNbEAAAAAg2S5rQAAAAKAaX2xAAAAAAFTHbUAAAACAk2hsQAAAAMBLW2xAAAAAQI0ja0AAAAAgg8hrQAAAAMAgeGxAAAAAIC/ta0AAAAAghYNrQAAAACDZemtAAAAAgOtla0AAAADAcrhrQAAAAACqbW1A",
          "dtype": "f8",
          "shape": "150, 1"
         },
         "high": {
          "bdata": "AAAAwMhCfUAAAACAwo18QAAAACBcvXpAAAAAYLx0ekAAAADg0MZ5QAAAAOCnbnlAAAAAgOmYe0AAAADAykF7QAAAAOBReHpAAAAAAALveUAAAADA92l5QAAAAKBFEHlAAAAAQGATeEAAAADAoW94QAAAAGAQdnhAAAAAwPMXeEAAAADAHpt3QAAAAMDKx3ZAAAAA4NBcdUAAAADgJJJ1QAAAAMDzM3VAAAAAANMldkAAAADAnet3QAAAAGAScXdAAAAAYA7zdkAAAACg7bZ3QAAAAMCd03hAAAAAACu7eUAAAADAoSN5QAAAAIDp7HhAAAAA4KUXeEAAAAAgh7J4QAAAACAGn3hAAAAAIFhheEAAAAAAVop4QAAAAEA3SXhAAAAAoMQQeEAAAAAghcV2QAAAAKDGfXZAAAAAQIlzdkAAAACgHGp2QAAAAIC+f3ZAAAAAAFRddkAAAACgm+51QAAAAGC4wHVAAAAAwHZIdUAAAADAzJB0QAAAAEAI4HRAAAAAoEW8dEAAAABg53V1QAAAAMB0D3ZAAAAAQLYLdkAAAAAgg7B1QAAAACAEunZAAAAAYA5td0AAAADA9TR3QAAAAOB823pAAAAA4HyRfEAAAABACDR6QAAAAMByWHlAAAAAwMhseEAAAAAgL6N5QAAAAKBuhnhAAAAAILIneEAAAABgZuB3QAAAAGAQXnZAAAAAwHTNdkAAAAAghS13QAAAACBYM3hAAAAAQDereEAAAAAAK5t3QAAAAEDfX3dAAAAAgGjtd0AAAADAnTl4QAAAAKBu6HdAAAAAgJf6d0AAAACgmwB4QAAAAIBq8HdAAAAA4Hqqd0AAAABgErN3QAAAAAArp3dAAAAAAKyEd0AAAADAdoB3QAAAAGASsXZAAAAA4CQGdkAAAABAtpV2QAAAAGC6D3ZAAAAAoBgGdkAAAABgDhV2QAAAAEAK/XVAAAAAgL6ddUAAAACgQ990QAAAACBYO3RAAAAAIIfoc0AAAABAM6V0QAAAAGAQmnRAAAAAQN/hdEAAAACAlwR1QAAAACDb63RAAAAAYLgqdEAAAADAyLZ0QAAAAICTjnRAAAAAwHIAdEAAAACgRQR0QAAAAKDxrHNAAAAAgBYDdEAAAADA9QZ0QAAAAIBsvXNAAAAAYGayc0AAAAAgrvNxQAAAAMB0ZXFAAAAAINn4cUAAAABgEKxyQAAAAAApYnJAAAAAANMxckAAAABACAJyQAAAAEA1enFAAAAAgD8DcUAAAACgbsRwQAAAAKCb/GtAAAAA4CSibEAAAACA6bJrQAAAAGBkd2pAAAAAgD1Wa0AAAADASxdrQAAAAEC252pAAAAAQDd5bEAAAACgm6BtQAAAAEAKW21AAAAAYLgGb0AAAABAXuJvQAAAAOAkVnNAAAAAIK43cUAAAABgj6hwQAAAAICX1m1AAAAAYDtbbkAAAADAIDBtQAAAAEBe8mxAAAAAoJlFbkAAAADAn75uQAAAACDbwWxAAAAAwPXsbUAAAADgUdBsQAAAAGCRyWxAAAAAIASubEAAAACgQ/9rQAAAAADTuWtAAAAAAP7sa0AAAABAXsZrQAAAAMBJCG5A",
          "dtype": "f8",
          "shape": "150, 1"
         },
         "low": {
          "bdata": "AAAAgMBGfEAAAAAAqtF5QAAAACCDCHhAAAAAwCBeeEAAAABg5ZJ4QAAAAIAU0nhAAAAA4CbDeEAAAACgHFJ6QAAAAOB8l3lAAAAA4CQAeUAAAADA89V4QAAAAOBPZXdAAAAAANdDd0AAAACAFld3QAAAAOB6zHdAAAAA4CJPd0AAAACAvl12QAAAAAAtXnRAAAAAYLwUckAAAADA9ehyQAAAAEC2B3RAAAAAAAJzdEAAAAAA/rp1QAAAAIBoD3ZAAAAAQDc/dkAAAADgTUJ2QAAAACBaDndAAAAAIC91eEAAAACAQUx4QAAAAMAeUXdAAAAAYDl2d0AAAABAia93QAAAAOBPJ3hAAAAAQAikd0AAAAAgWM13QAAAAOD743dAAAAA4CZHdkAAAABA4RR2QAAAAEAIbnVAAAAAYOV+dUAAAACg8dx1QAAAACDdCnZAAAAA4Hz1dEAAAADgJvF0QAAAAKBFEnVAAAAAQOEQdEAAAAAgBAp0QAAAACCyV3RAAAAAYDtRdEAAAACg7ap0QAAAAMDIJnVAAAAAgGpcdUAAAADAdmJ1QAAAAIAUhHVAAAAA4PlYdkAAAACAwrt2QAAAAIDC/3ZAAAAAwPcReUAAAADAnwx4QAAAAMAgMHdAAAAAwKFpd0AAAABACJh3QAAAAEDfMXdAAAAAAFZed0AAAAAAf0x2QAAAAMDKgXVAAAAAQAzudUAAAADAzBJ2QAAAAEC06nZAAAAAQItsd0AAAABgDt12QAAAACCDBHdAAAAAoEdndkAAAADgUUJ3QAAAAKDxVHdAAAAAQLSKd0AAAADgzp13QAAAAECJZXdAAAAA4CT8dkAAAACgGNx2QAAAAMAeL3dAAAAAYGZUd0AAAAAALZ52QAAAAEA3j3VAAAAAANeldUAAAABANSx1QAAAAOCn1HVAAAAAgGipdUAAAAAgsJZ1QAAAAKDxjnVAAAAAAP5wdEAAAACgbrJzQAAAAEC2A3NAAAAA4E0sc0AAAABAtMBzQAAAAMBy7nNAAAAAwMwGdEAAAADAoZl0QAAAAEC2FXRAAAAAAFTPc0AAAABACMpzQAAAAIAUinNAAAAAgD9xc0AAAACA6YRzQAAAAMD3VXNAAAAAQGBjc0AAAABADKBzQAAAAEAKmXNAAAAA4E+RcUAAAADAyhlwQAAAACBYkXBAAAAA4CILcUAAAACgQ7FxQAAAAMDMonFAAAAAIIeIcUAAAADAdB9xQAAAAMCfkHBAAAAAQDOTcEAAAAAA/nxrQAAAAOBRcGVAAAAAQLQcZkAAAAAArPhoQAAAAAAAXGhAAAAAIDFQaEAAAAAALeppQAAAAGDlpGlAAAAAwMhmakAAAABg401sQAAAAKBFJmxAAAAAQLTAbEAAAADgenxuQAAAACCHwm9AAAAAYOVUb0AAAADgeGFsQAAAAMDIlmtAAAAAINk6bEAAAABg4wlrQAAAAOB6gGpAAAAAgBbVa0AAAADAdA9sQAAAAMCdo2tAAAAAQDPXakAAAACAbAdrQAAAAIBs02tAAAAAwHaia0AAAACgmyBrQAAAAMCf6mpAAAAAQF5Ca0AAAADgpTNrQAAAAEBiqGtA",
          "dtype": "f8",
          "shape": "150, 1"
         },
         "open": {
          "bdata": "AAAAANMdfUAAAACAwo18QAAAAOClgXpAAAAAoMSqeEAAAAAgXIF5QAAAAKCZ8XhAAAAA4HgheUAAAAAgBDx7QAAAAAB/cnpAAAAAIN22eUAAAABg5Th5QAAAAECJ93hAAAAAINmOd0AAAACAaIF3QAAAAADVNnhAAAAA4M7/d0AAAABg5XJ3QAAAAKBFfnZAAAAA4KeOdEAAAABgOQZ0QAAAACBYqXRAAAAAINsBdUAAAADA9wt2QAAAAAD+ynZAAAAAwMqVdkAAAAAgsql2QAAAAGC8nndAAAAAYBJ7eEAAAACgRw95QAAAAMBJqHhAAAAAoBjsd0AAAADAnf93QAAAAGAQdHhAAAAAILJTeEAAAABgvOZ3QAAAAGDjIXhAAAAAYGTvd0AAAADAdGl2QAAAAKDGaXZAAAAAwMq3dUAAAACgbix2QAAAAKBwE3ZAAAAAgGxRdkAAAAAgWPt0QAAAAOAkkHVAAAAAYGYqdUAAAABAM2F0QAAAAKAaWXRAAAAAgJNydEAAAACg7ap0QAAAAABUN3VAAAAAgBbddUAAAADAdmJ1QAAAACAElnVAAAAAgD2kdkAAAABAtt12QAAAAIDC/3ZAAAAAQF60ekAAAAAArCZ6QAAAAGBm+nhAAAAAIK5rd0AAAACAlUV4QAAAAGCPPHhAAAAAAFZed0AAAACA6cR3QAAAAGAQXnZAAAAAAKr5dUAAAADAzBJ2QAAAAAAr73ZAAAAAAC2Od0AAAADgTYB3QAAAAEAIKHdAAAAA4PsVd0AAAACgboJ3QAAAAAApeHdAAAAA4Pujd0AAAAAAALR3QAAAAECN23dAAAAA4Hx7d0AAAABgEhd3QAAAAKAcjHdAAAAAQGBtd0AAAACgcG93QAAAAOBRnnZAAAAAoEcDdkAAAACgcIV1QAAAAABU7XVAAAAAoBgGdkAAAADAoat1QAAAAKDG9XVAAAAAoMSadUAAAAAgrm10QAAAAGCP/HNAAAAAIN1yc0AAAABg59lzQAAAACCwmHRAAAAAgBYRdEAAAACgRcB0QAAAAAAp5nRAAAAAgJMkdEAAAACgbvJzQAAAAABUeXRAAAAAYI/Cc0AAAABAN9tzQAAAAACBi3NAAAAAwJ9uc0AAAADA9QZ0QAAAAKBDoXNAAAAAQImtc0AAAAAAVpJxQAAAACBYkXBAAAAAoMYpcUAAAABgO+FxQAAAAAApYnJAAAAAwCCmcUAAAAAg2fRxQAAAAGC6KXFAAAAAAFaicEAAAADgTbZwQAAAAKCb/GtAAAAAQLQcZkAAAACAPSJqQAAAACCw+mlAAAAAoJkBaUAAAABgEm9qQAAAACAGnWpAAAAAoBhsakAAAADgTWpsQAAAAECLMG1AAAAAYGYWbUAAAACgQ+tuQAAAACCHwm9AAAAAAKwScUAAAADAnXVwQAAAAOAiK21AAAAAQLQYbUAAAACgHE5sQAAAAIC+G2tAAAAAQLZPbEAAAAAgh65tQAAAACBacGxAAAAAoEd1bEAAAABAiR1rQAAAAIBB1GtAAAAAAC12bEAAAADAcuxrQAAAACAGiWtAAAAAgGx3a0AAAADgp2ZrQAAAAAACv2tA",
          "dtype": "f8",
          "shape": "150, 1"
         },
         "type": "candlestick",
         "x": {
          "bdata": "AAABAAIAAwAEAAUABgAHAAgACQAKAAsADAANAA4ADwAQABEAEgATABQAFQAWABcAGAAZABoAGwAcAB0AHgAfACAAIQAiACMAJAAlACYAJwAoACkAKgArACwALQAuAC8AMAAxADIAMwA0ADUANgA3ADgAOQA6ADsAPAA9AD4APwBAAEEAQgBDAEQARQBGAEcASABJAEoASwBMAE0ATgBPAFAAUQBSAFMAVABVAFYAVwBYAFkAWgBbAFwAXQBeAF8AYABhAGIAYwBkAGUAZgBnAGgAaQBqAGsAbABtAG4AbwBwAHEAcgBzAHQAdQB2AHcAeAB5AHoAewB8AH0AfgB/AIAAgQCCAIMAhACFAIYAhwCIAIkAigCLAIwAjQCOAI8AkACRAJIAkwCUAJUA",
          "dtype": "i2"
         }
        }
       ],
       "layout": {
        "template": {
         "data": {
          "bar": [
           {
            "error_x": {
             "color": "#2a3f5f"
            },
            "error_y": {
             "color": "#2a3f5f"
            },
            "marker": {
             "line": {
              "color": "#E5ECF6",
              "width": 0.5
             },
             "pattern": {
              "fillmode": "overlay",
              "size": 10,
              "solidity": 0.2
             }
            },
            "type": "bar"
           }
          ],
          "barpolar": [
           {
            "marker": {
             "line": {
              "color": "#E5ECF6",
              "width": 0.5
             },
             "pattern": {
              "fillmode": "overlay",
              "size": 10,
              "solidity": 0.2
             }
            },
            "type": "barpolar"
           }
          ],
          "carpet": [
           {
            "aaxis": {
             "endlinecolor": "#2a3f5f",
             "gridcolor": "white",
             "linecolor": "white",
             "minorgridcolor": "white",
             "startlinecolor": "#2a3f5f"
            },
            "baxis": {
             "endlinecolor": "#2a3f5f",
             "gridcolor": "white",
             "linecolor": "white",
             "minorgridcolor": "white",
             "startlinecolor": "#2a3f5f"
            },
            "type": "carpet"
           }
          ],
          "choropleth": [
           {
            "colorbar": {
             "outlinewidth": 0,
             "ticks": ""
            },
            "type": "choropleth"
           }
          ],
          "contour": [
           {
            "colorbar": {
             "outlinewidth": 0,
             "ticks": ""
            },
            "colorscale": [
             [
              0,
              "#0d0887"
             ],
             [
              0.1111111111111111,
              "#46039f"
             ],
             [
              0.2222222222222222,
              "#7201a8"
             ],
             [
              0.3333333333333333,
              "#9c179e"
             ],
             [
              0.4444444444444444,
              "#bd3786"
             ],
             [
              0.5555555555555556,
              "#d8576b"
             ],
             [
              0.6666666666666666,
              "#ed7953"
             ],
             [
              0.7777777777777778,
              "#fb9f3a"
             ],
             [
              0.8888888888888888,
              "#fdca26"
             ],
             [
              1,
              "#f0f921"
             ]
            ],
            "type": "contour"
           }
          ],
          "contourcarpet": [
           {
            "colorbar": {
             "outlinewidth": 0,
             "ticks": ""
            },
            "type": "contourcarpet"
           }
          ],
          "heatmap": [
           {
            "colorbar": {
             "outlinewidth": 0,
             "ticks": ""
            },
            "colorscale": [
             [
              0,
              "#0d0887"
             ],
             [
              0.1111111111111111,
              "#46039f"
             ],
             [
              0.2222222222222222,
              "#7201a8"
             ],
             [
              0.3333333333333333,
              "#9c179e"
             ],
             [
              0.4444444444444444,
              "#bd3786"
             ],
             [
              0.5555555555555556,
              "#d8576b"
             ],
             [
              0.6666666666666666,
              "#ed7953"
             ],
             [
              0.7777777777777778,
              "#fb9f3a"
             ],
             [
              0.8888888888888888,
              "#fdca26"
             ],
             [
              1,
              "#f0f921"
             ]
            ],
            "type": "heatmap"
           }
          ],
          "histogram": [
           {
            "marker": {
             "pattern": {
              "fillmode": "overlay",
              "size": 10,
              "solidity": 0.2
             }
            },
            "type": "histogram"
           }
          ],
          "histogram2d": [
           {
            "colorbar": {
             "outlinewidth": 0,
             "ticks": ""
            },
            "colorscale": [
             [
              0,
              "#0d0887"
             ],
             [
              0.1111111111111111,
              "#46039f"
             ],
             [
              0.2222222222222222,
              "#7201a8"
             ],
             [
              0.3333333333333333,
              "#9c179e"
             ],
             [
              0.4444444444444444,
              "#bd3786"
             ],
             [
              0.5555555555555556,
              "#d8576b"
             ],
             [
              0.6666666666666666,
              "#ed7953"
             ],
             [
              0.7777777777777778,
              "#fb9f3a"
             ],
             [
              0.8888888888888888,
              "#fdca26"
             ],
             [
              1,
              "#f0f921"
             ]
            ],
            "type": "histogram2d"
           }
          ],
          "histogram2dcontour": [
           {
            "colorbar": {
             "outlinewidth": 0,
             "ticks": ""
            },
            "colorscale": [
             [
              0,
              "#0d0887"
             ],
             [
              0.1111111111111111,
              "#46039f"
             ],
             [
              0.2222222222222222,
              "#7201a8"
             ],
             [
              0.3333333333333333,
              "#9c179e"
             ],
             [
              0.4444444444444444,
              "#bd3786"
             ],
             [
              0.5555555555555556,
              "#d8576b"
             ],
             [
              0.6666666666666666,
              "#ed7953"
             ],
             [
              0.7777777777777778,
              "#fb9f3a"
             ],
             [
              0.8888888888888888,
              "#fdca26"
             ],
             [
              1,
              "#f0f921"
             ]
            ],
            "type": "histogram2dcontour"
           }
          ],
          "mesh3d": [
           {
            "colorbar": {
             "outlinewidth": 0,
             "ticks": ""
            },
            "type": "mesh3d"
           }
          ],
          "parcoords": [
           {
            "line": {
             "colorbar": {
              "outlinewidth": 0,
              "ticks": ""
             }
            },
            "type": "parcoords"
           }
          ],
          "pie": [
           {
            "automargin": true,
            "type": "pie"
           }
          ],
          "scatter": [
           {
            "fillpattern": {
             "fillmode": "overlay",
             "size": 10,
             "solidity": 0.2
            },
            "type": "scatter"
           }
          ],
          "scatter3d": [
           {
            "line": {
             "colorbar": {
              "outlinewidth": 0,
              "ticks": ""
             }
            },
            "marker": {
             "colorbar": {
              "outlinewidth": 0,
              "ticks": ""
             }
            },
            "type": "scatter3d"
           }
          ],
          "scattercarpet": [
           {
            "marker": {
             "colorbar": {
              "outlinewidth": 0,
              "ticks": ""
             }
            },
            "type": "scattercarpet"
           }
          ],
          "scattergeo": [
           {
            "marker": {
             "colorbar": {
              "outlinewidth": 0,
              "ticks": ""
             }
            },
            "type": "scattergeo"
           }
          ],
          "scattergl": [
           {
            "marker": {
             "colorbar": {
              "outlinewidth": 0,
              "ticks": ""
             }
            },
            "type": "scattergl"
           }
          ],
          "scattermap": [
           {
            "marker": {
             "colorbar": {
              "outlinewidth": 0,
              "ticks": ""
             }
            },
            "type": "scattermap"
           }
          ],
          "scattermapbox": [
           {
            "marker": {
             "colorbar": {
              "outlinewidth": 0,
              "ticks": ""
             }
            },
            "type": "scattermapbox"
           }
          ],
          "scatterpolar": [
           {
            "marker": {
             "colorbar": {
              "outlinewidth": 0,
              "ticks": ""
             }
            },
            "type": "scatterpolar"
           }
          ],
          "scatterpolargl": [
           {
            "marker": {
             "colorbar": {
              "outlinewidth": 0,
              "ticks": ""
             }
            },
            "type": "scatterpolargl"
           }
          ],
          "scatterternary": [
           {
            "marker": {
             "colorbar": {
              "outlinewidth": 0,
              "ticks": ""
             }
            },
            "type": "scatterternary"
           }
          ],
          "surface": [
           {
            "colorbar": {
             "outlinewidth": 0,
             "ticks": ""
            },
            "colorscale": [
             [
              0,
              "#0d0887"
             ],
             [
              0.1111111111111111,
              "#46039f"
             ],
             [
              0.2222222222222222,
              "#7201a8"
             ],
             [
              0.3333333333333333,
              "#9c179e"
             ],
             [
              0.4444444444444444,
              "#bd3786"
             ],
             [
              0.5555555555555556,
              "#d8576b"
             ],
             [
              0.6666666666666666,
              "#ed7953"
             ],
             [
              0.7777777777777778,
              "#fb9f3a"
             ],
             [
              0.8888888888888888,
              "#fdca26"
             ],
             [
              1,
              "#f0f921"
             ]
            ],
            "type": "surface"
           }
          ],
          "table": [
           {
            "cells": {
             "fill": {
              "color": "#EBF0F8"
             },
             "line": {
              "color": "white"
             }
            },
            "header": {
             "fill": {
              "color": "#C8D4E3"
             },
             "line": {
              "color": "white"
             }
            },
            "type": "table"
           }
          ]
         },
         "layout": {
          "annotationdefaults": {
           "arrowcolor": "#2a3f5f",
           "arrowhead": 0,
           "arrowwidth": 1
          },
          "autotypenumbers": "strict",
          "coloraxis": {
           "colorbar": {
            "outlinewidth": 0,
            "ticks": ""
           }
          },
          "colorscale": {
           "diverging": [
            [
             0,
             "#8e0152"
            ],
            [
             0.1,
             "#c51b7d"
            ],
            [
             0.2,
             "#de77ae"
            ],
            [
             0.3,
             "#f1b6da"
            ],
            [
             0.4,
             "#fde0ef"
            ],
            [
             0.5,
             "#f7f7f7"
            ],
            [
             0.6,
             "#e6f5d0"
            ],
            [
             0.7,
             "#b8e186"
            ],
            [
             0.8,
             "#7fbc41"
            ],
            [
             0.9,
             "#4d9221"
            ],
            [
             1,
             "#276419"
            ]
           ],
           "sequential": [
            [
             0,
             "#0d0887"
            ],
            [
             0.1111111111111111,
             "#46039f"
            ],
            [
             0.2222222222222222,
             "#7201a8"
            ],
            [
             0.3333333333333333,
             "#9c179e"
            ],
            [
             0.4444444444444444,
             "#bd3786"
            ],
            [
             0.5555555555555556,
             "#d8576b"
            ],
            [
             0.6666666666666666,
             "#ed7953"
            ],
            [
             0.7777777777777778,
             "#fb9f3a"
            ],
            [
             0.8888888888888888,
             "#fdca26"
            ],
            [
             1,
             "#f0f921"
            ]
           ],
           "sequentialminus": [
            [
             0,
             "#0d0887"
            ],
            [
             0.1111111111111111,
             "#46039f"
            ],
            [
             0.2222222222222222,
             "#7201a8"
            ],
            [
             0.3333333333333333,
             "#9c179e"
            ],
            [
             0.4444444444444444,
             "#bd3786"
            ],
            [
             0.5555555555555556,
             "#d8576b"
            ],
            [
             0.6666666666666666,
             "#ed7953"
            ],
            [
             0.7777777777777778,
             "#fb9f3a"
            ],
            [
             0.8888888888888888,
             "#fdca26"
            ],
            [
             1,
             "#f0f921"
            ]
           ]
          },
          "colorway": [
           "#636efa",
           "#EF553B",
           "#00cc96",
           "#ab63fa",
           "#FFA15A",
           "#19d3f3",
           "#FF6692",
           "#B6E880",
           "#FF97FF",
           "#FECB52"
          ],
          "font": {
           "color": "#2a3f5f"
          },
          "geo": {
           "bgcolor": "white",
           "lakecolor": "white",
           "landcolor": "#E5ECF6",
           "showlakes": true,
           "showland": true,
           "subunitcolor": "white"
          },
          "hoverlabel": {
           "align": "left"
          },
          "hovermode": "closest",
          "mapbox": {
           "style": "light"
          },
          "paper_bgcolor": "white",
          "plot_bgcolor": "#E5ECF6",
          "polar": {
           "angularaxis": {
            "gridcolor": "white",
            "linecolor": "white",
            "ticks": ""
           },
           "bgcolor": "#E5ECF6",
           "radialaxis": {
            "gridcolor": "white",
            "linecolor": "white",
            "ticks": ""
           }
          },
          "scene": {
           "xaxis": {
            "backgroundcolor": "#E5ECF6",
            "gridcolor": "white",
            "gridwidth": 2,
            "linecolor": "white",
            "showbackground": true,
            "ticks": "",
            "zerolinecolor": "white"
           },
           "yaxis": {
            "backgroundcolor": "#E5ECF6",
            "gridcolor": "white",
            "gridwidth": 2,
            "linecolor": "white",
            "showbackground": true,
            "ticks": "",
            "zerolinecolor": "white"
           },
           "zaxis": {
            "backgroundcolor": "#E5ECF6",
            "gridcolor": "white",
            "gridwidth": 2,
            "linecolor": "white",
            "showbackground": true,
            "ticks": "",
            "zerolinecolor": "white"
           }
          },
          "shapedefaults": {
           "line": {
            "color": "#2a3f5f"
           }
          },
          "ternary": {
           "aaxis": {
            "gridcolor": "white",
            "linecolor": "white",
            "ticks": ""
           },
           "baxis": {
            "gridcolor": "white",
            "linecolor": "white",
            "ticks": ""
           },
           "bgcolor": "#E5ECF6",
           "caxis": {
            "gridcolor": "white",
            "linecolor": "white",
            "ticks": ""
           }
          },
          "title": {
           "x": 0.05
          },
          "xaxis": {
           "automargin": true,
           "gridcolor": "white",
           "linecolor": "white",
           "ticks": "",
           "title": {
            "standoff": 15
           },
           "zerolinecolor": "white",
           "zerolinewidth": 2
          },
          "yaxis": {
           "automargin": true,
           "gridcolor": "white",
           "linecolor": "white",
           "ticks": "",
           "title": {
            "standoff": 15
           },
           "zerolinecolor": "white",
           "zerolinewidth": 2
          }
         }
        }
       }
      }
     },
     "metadata": {},
     "output_type": "display_data"
    }
   ],
   "source": [
    "data.reset_index(inplace=True)\n",
    "dfpl = data[0:150]\n",
    "import plotly.graph_objects as go\n",
    "\n",
    "fig = go.Figure(data=[go.Candlestick(x=dfpl.index,\n",
    "                open=dfpl['Open'],\n",
    "                high=dfpl['High'],\n",
    "                low=dfpl['Low'],\n",
    "                close=dfpl['Close'])])\n",
    "\n",
    "fig.show()"
   ]
  },
  {
   "cell_type": "code",
   "execution_count": 10,
   "id": "33aebc10",
   "metadata": {},
   "outputs": [
    {
     "ename": "ImportError",
     "evalue": "cannot import name 'NaN' from 'numpy' (d:\\algo trading python\\day4\\.venv\\Lib\\site-packages\\numpy\\__init__.py)",
     "output_type": "error",
     "traceback": [
      "\u001b[31m---------------------------------------------------------------------------\u001b[39m",
      "\u001b[31mImportError\u001b[39m                               Traceback (most recent call last)",
      "\u001b[36mCell\u001b[39m\u001b[36m \u001b[39m\u001b[32mIn[10]\u001b[39m\u001b[32m, line 1\u001b[39m\n\u001b[32m----> \u001b[39m\u001b[32m1\u001b[39m \u001b[38;5;28;01mimport\u001b[39;00m\u001b[38;5;250m \u001b[39m\u001b[34;01mpandas_ta\u001b[39;00m\u001b[38;5;250m \u001b[39m\u001b[38;5;28;01mas\u001b[39;00m\u001b[38;5;250m \u001b[39m\u001b[34;01mta\u001b[39;00m\n\u001b[32m      2\u001b[39m df[\u001b[33m\"\u001b[39m\u001b[33mEMA\u001b[39m\u001b[33m\"\u001b[39m] = ta.ema(df.Close, length=\u001b[32m10\u001b[39m)\n\u001b[32m      3\u001b[39m df[\u001b[33m\"\u001b[39m\u001b[33mRSI_10\u001b[39m\u001b[33m\"\u001b[39m] = ta.rsi(df.Close, length=\u001b[32m10\u001b[39m)\n",
      "\u001b[36mFile \u001b[39m\u001b[32md:\\algo trading python\\day4\\.venv\\Lib\\site-packages\\pandas_ta\\__init__.py:116\u001b[39m\n\u001b[32m     97\u001b[39m EXCHANGE_TZ = {\n\u001b[32m     98\u001b[39m     \u001b[33m\"\u001b[39m\u001b[33mNZSX\u001b[39m\u001b[33m\"\u001b[39m: \u001b[32m12\u001b[39m, \u001b[33m\"\u001b[39m\u001b[33mASX\u001b[39m\u001b[33m\"\u001b[39m: \u001b[32m11\u001b[39m,\n\u001b[32m     99\u001b[39m     \u001b[33m\"\u001b[39m\u001b[33mTSE\u001b[39m\u001b[33m\"\u001b[39m: \u001b[32m9\u001b[39m, \u001b[33m\"\u001b[39m\u001b[33mHKE\u001b[39m\u001b[33m\"\u001b[39m: \u001b[32m8\u001b[39m, \u001b[33m\"\u001b[39m\u001b[33mSSE\u001b[39m\u001b[33m\"\u001b[39m: \u001b[32m8\u001b[39m, \u001b[33m\"\u001b[39m\u001b[33mSGX\u001b[39m\u001b[33m\"\u001b[39m: \u001b[32m8\u001b[39m,\n\u001b[32m   (...)\u001b[39m\u001b[32m    102\u001b[39m     \u001b[33m\"\u001b[39m\u001b[33mBMF\u001b[39m\u001b[33m\"\u001b[39m: -\u001b[32m2\u001b[39m, \u001b[33m\"\u001b[39m\u001b[33mNYSE\u001b[39m\u001b[33m\"\u001b[39m: -\u001b[32m4\u001b[39m, \u001b[33m\"\u001b[39m\u001b[33mTSX\u001b[39m\u001b[33m\"\u001b[39m: -\u001b[32m4\u001b[39m\n\u001b[32m    103\u001b[39m }\n\u001b[32m    105\u001b[39m RATE = {\n\u001b[32m    106\u001b[39m     \u001b[33m\"\u001b[39m\u001b[33mDAYS_PER_MONTH\u001b[39m\u001b[33m\"\u001b[39m: \u001b[32m21\u001b[39m,\n\u001b[32m    107\u001b[39m     \u001b[33m\"\u001b[39m\u001b[33mMINUTES_PER_HOUR\u001b[39m\u001b[33m\"\u001b[39m: \u001b[32m60\u001b[39m,\n\u001b[32m   (...)\u001b[39m\u001b[32m    113\u001b[39m     \u001b[33m\"\u001b[39m\u001b[33mYEARLY\u001b[39m\u001b[33m\"\u001b[39m: \u001b[32m1\u001b[39m,\n\u001b[32m    114\u001b[39m }\n\u001b[32m--> \u001b[39m\u001b[32m116\u001b[39m \u001b[38;5;28;01mfrom\u001b[39;00m\u001b[38;5;250m \u001b[39m\u001b[34;01mpandas_ta\u001b[39;00m\u001b[34;01m.\u001b[39;00m\u001b[34;01mcore\u001b[39;00m\u001b[38;5;250m \u001b[39m\u001b[38;5;28;01mimport\u001b[39;00m *\n",
      "\u001b[36mFile \u001b[39m\u001b[32md:\\algo trading python\\day4\\.venv\\Lib\\site-packages\\pandas_ta\\core.py:18\u001b[39m\n\u001b[32m     16\u001b[39m \u001b[38;5;28;01mfrom\u001b[39;00m\u001b[38;5;250m \u001b[39m\u001b[34;01mpandas_ta\u001b[39;00m\u001b[34;01m.\u001b[39;00m\u001b[34;01mcandles\u001b[39;00m\u001b[38;5;250m \u001b[39m\u001b[38;5;28;01mimport\u001b[39;00m *\n\u001b[32m     17\u001b[39m \u001b[38;5;28;01mfrom\u001b[39;00m\u001b[38;5;250m \u001b[39m\u001b[34;01mpandas_ta\u001b[39;00m\u001b[34;01m.\u001b[39;00m\u001b[34;01mcycles\u001b[39;00m\u001b[38;5;250m \u001b[39m\u001b[38;5;28;01mimport\u001b[39;00m *\n\u001b[32m---> \u001b[39m\u001b[32m18\u001b[39m \u001b[38;5;28;01mfrom\u001b[39;00m\u001b[38;5;250m \u001b[39m\u001b[34;01mpandas_ta\u001b[39;00m\u001b[34;01m.\u001b[39;00m\u001b[34;01mmomentum\u001b[39;00m\u001b[38;5;250m \u001b[39m\u001b[38;5;28;01mimport\u001b[39;00m *\n\u001b[32m     19\u001b[39m \u001b[38;5;28;01mfrom\u001b[39;00m\u001b[38;5;250m \u001b[39m\u001b[34;01mpandas_ta\u001b[39;00m\u001b[34;01m.\u001b[39;00m\u001b[34;01moverlap\u001b[39;00m\u001b[38;5;250m \u001b[39m\u001b[38;5;28;01mimport\u001b[39;00m *\n\u001b[32m     20\u001b[39m \u001b[38;5;28;01mfrom\u001b[39;00m\u001b[38;5;250m \u001b[39m\u001b[34;01mpandas_ta\u001b[39;00m\u001b[34;01m.\u001b[39;00m\u001b[34;01mperformance\u001b[39;00m\u001b[38;5;250m \u001b[39m\u001b[38;5;28;01mimport\u001b[39;00m *\n",
      "\u001b[36mFile \u001b[39m\u001b[32md:\\algo trading python\\day4\\.venv\\Lib\\site-packages\\pandas_ta\\momentum\\__init__.py:34\u001b[39m\n\u001b[32m     32\u001b[39m \u001b[38;5;28;01mfrom\u001b[39;00m\u001b[38;5;250m \u001b[39m\u001b[34;01m.\u001b[39;00m\u001b[34;01msmi\u001b[39;00m\u001b[38;5;250m \u001b[39m\u001b[38;5;28;01mimport\u001b[39;00m smi\n\u001b[32m     33\u001b[39m \u001b[38;5;28;01mfrom\u001b[39;00m\u001b[38;5;250m \u001b[39m\u001b[34;01m.\u001b[39;00m\u001b[34;01msqueeze\u001b[39;00m\u001b[38;5;250m \u001b[39m\u001b[38;5;28;01mimport\u001b[39;00m squeeze\n\u001b[32m---> \u001b[39m\u001b[32m34\u001b[39m \u001b[38;5;28;01mfrom\u001b[39;00m\u001b[38;5;250m \u001b[39m\u001b[34;01m.\u001b[39;00m\u001b[34;01msqueeze_pro\u001b[39;00m\u001b[38;5;250m \u001b[39m\u001b[38;5;28;01mimport\u001b[39;00m squeeze_pro\n\u001b[32m     35\u001b[39m \u001b[38;5;28;01mfrom\u001b[39;00m\u001b[38;5;250m \u001b[39m\u001b[34;01m.\u001b[39;00m\u001b[34;01mstc\u001b[39;00m\u001b[38;5;250m \u001b[39m\u001b[38;5;28;01mimport\u001b[39;00m stc\n\u001b[32m     36\u001b[39m \u001b[38;5;28;01mfrom\u001b[39;00m\u001b[38;5;250m \u001b[39m\u001b[34;01m.\u001b[39;00m\u001b[34;01mstoch\u001b[39;00m\u001b[38;5;250m \u001b[39m\u001b[38;5;28;01mimport\u001b[39;00m stoch\n",
      "\u001b[36mFile \u001b[39m\u001b[32md:\\algo trading python\\day4\\.venv\\Lib\\site-packages\\pandas_ta\\momentum\\squeeze_pro.py:2\u001b[39m\n\u001b[32m      1\u001b[39m \u001b[38;5;66;03m# -*- coding: utf-8 -*-\u001b[39;00m\n\u001b[32m----> \u001b[39m\u001b[32m2\u001b[39m \u001b[38;5;28;01mfrom\u001b[39;00m\u001b[38;5;250m \u001b[39m\u001b[34;01mnumpy\u001b[39;00m\u001b[38;5;250m \u001b[39m\u001b[38;5;28;01mimport\u001b[39;00m NaN \u001b[38;5;28;01mas\u001b[39;00m npNaN\n\u001b[32m      3\u001b[39m \u001b[38;5;28;01mfrom\u001b[39;00m\u001b[38;5;250m \u001b[39m\u001b[34;01mpandas\u001b[39;00m\u001b[38;5;250m \u001b[39m\u001b[38;5;28;01mimport\u001b[39;00m DataFrame\n\u001b[32m      4\u001b[39m \u001b[38;5;28;01mfrom\u001b[39;00m\u001b[38;5;250m \u001b[39m\u001b[34;01mpandas_ta\u001b[39;00m\u001b[34;01m.\u001b[39;00m\u001b[34;01mmomentum\u001b[39;00m\u001b[38;5;250m \u001b[39m\u001b[38;5;28;01mimport\u001b[39;00m mom\n",
      "\u001b[31mImportError\u001b[39m: cannot import name 'NaN' from 'numpy' (d:\\algo trading python\\day4\\.venv\\Lib\\site-packages\\numpy\\__init__.py)"
     ]
    }
   ],
   "source": [
    "import pandas_ta as ta\n",
    "df[\"EMA\"] = ta.ema(df.Close, length=10)\n",
    "df[\"RSI_10\"] = ta.rsi(df.Close, length=10)"
   ]
  },
  {
   "cell_type": "code",
   "execution_count": null,
   "id": "f15e79ce",
   "metadata": {},
   "outputs": [
    {
     "data": {
      "text/html": [
       "<div>\n",
       "<style scoped>\n",
       "    .dataframe tbody tr th:only-of-type {\n",
       "        vertical-align: middle;\n",
       "    }\n",
       "\n",
       "    .dataframe tbody tr th {\n",
       "        vertical-align: top;\n",
       "    }\n",
       "\n",
       "    .dataframe thead th {\n",
       "        text-align: right;\n",
       "    }\n",
       "</style>\n",
       "<table border=\"1\" class=\"dataframe\">\n",
       "  <thead>\n",
       "    <tr style=\"text-align: right;\">\n",
       "      <th></th>\n",
       "      <th>Gmt time</th>\n",
       "      <th>Open</th>\n",
       "      <th>High</th>\n",
       "      <th>Low</th>\n",
       "      <th>Close</th>\n",
       "      <th>Volume</th>\n",
       "      <th>EMA</th>\n",
       "      <th>RSI_10</th>\n",
       "    </tr>\n",
       "  </thead>\n",
       "  <tbody>\n",
       "    <tr>\n",
       "      <th>0</th>\n",
       "      <td>07.05.2017 21:00:00.000</td>\n",
       "      <td>1559</td>\n",
       "      <td>1681</td>\n",
       "      <td>1557</td>\n",
       "      <td>1658</td>\n",
       "      <td>1.872044e+06</td>\n",
       "      <td>NaN</td>\n",
       "      <td>NaN</td>\n",
       "    </tr>\n",
       "    <tr>\n",
       "      <th>1</th>\n",
       "      <td>08.05.2017 21:00:00.000</td>\n",
       "      <td>1658</td>\n",
       "      <td>1753</td>\n",
       "      <td>1626</td>\n",
       "      <td>1747</td>\n",
       "      <td>1.330136e+06</td>\n",
       "      <td>NaN</td>\n",
       "      <td>NaN</td>\n",
       "    </tr>\n",
       "    <tr>\n",
       "      <th>2</th>\n",
       "      <td>09.05.2017 21:00:00.000</td>\n",
       "      <td>1713</td>\n",
       "      <td>1769</td>\n",
       "      <td>1677</td>\n",
       "      <td>1752</td>\n",
       "      <td>1.916895e+06</td>\n",
       "      <td>NaN</td>\n",
       "      <td>NaN</td>\n",
       "    </tr>\n",
       "    <tr>\n",
       "      <th>3</th>\n",
       "      <td>10.05.2017 21:00:00.000</td>\n",
       "      <td>1784</td>\n",
       "      <td>1887</td>\n",
       "      <td>1777</td>\n",
       "      <td>1857</td>\n",
       "      <td>1.613521e+06</td>\n",
       "      <td>NaN</td>\n",
       "      <td>NaN</td>\n",
       "    </tr>\n",
       "    <tr>\n",
       "      <th>4</th>\n",
       "      <td>11.05.2017 21:00:00.000</td>\n",
       "      <td>1836</td>\n",
       "      <td>1836</td>\n",
       "      <td>1651</td>\n",
       "      <td>1692</td>\n",
       "      <td>2.550428e+06</td>\n",
       "      <td>NaN</td>\n",
       "      <td>NaN</td>\n",
       "    </tr>\n",
       "    <tr>\n",
       "      <th>...</th>\n",
       "      <td>...</td>\n",
       "      <td>...</td>\n",
       "      <td>...</td>\n",
       "      <td>...</td>\n",
       "      <td>...</td>\n",
       "      <td>...</td>\n",
       "      <td>...</td>\n",
       "      <td>...</td>\n",
       "    </tr>\n",
       "    <tr>\n",
       "      <th>1301</th>\n",
       "      <td>12.10.2021 21:00:00.000</td>\n",
       "      <td>55433</td>\n",
       "      <td>57543</td>\n",
       "      <td>54328</td>\n",
       "      <td>57047</td>\n",
       "      <td>2.013182e+03</td>\n",
       "      <td>54074.141410</td>\n",
       "      <td>71.360551</td>\n",
       "    </tr>\n",
       "    <tr>\n",
       "      <th>1302</th>\n",
       "      <td>13.10.2021 21:00:00.000</td>\n",
       "      <td>57078</td>\n",
       "      <td>58568</td>\n",
       "      <td>56906</td>\n",
       "      <td>57505</td>\n",
       "      <td>2.001020e+03</td>\n",
       "      <td>54697.933881</td>\n",
       "      <td>72.354299</td>\n",
       "    </tr>\n",
       "    <tr>\n",
       "      <th>1303</th>\n",
       "      <td>14.10.2021 21:00:00.000</td>\n",
       "      <td>57533</td>\n",
       "      <td>62922</td>\n",
       "      <td>56940</td>\n",
       "      <td>62587</td>\n",
       "      <td>2.235774e+03</td>\n",
       "      <td>56132.309539</td>\n",
       "      <td>80.637520</td>\n",
       "    </tr>\n",
       "    <tr>\n",
       "      <th>1304</th>\n",
       "      <td>15.10.2021 21:00:00.000</td>\n",
       "      <td>62587</td>\n",
       "      <td>62608</td>\n",
       "      <td>60223</td>\n",
       "      <td>61077</td>\n",
       "      <td>1.943311e+03</td>\n",
       "      <td>57031.344168</td>\n",
       "      <td>73.379074</td>\n",
       "    </tr>\n",
       "    <tr>\n",
       "      <th>1305</th>\n",
       "      <td>16.10.2021 21:00:00.000</td>\n",
       "      <td>61077</td>\n",
       "      <td>61498</td>\n",
       "      <td>59043</td>\n",
       "      <td>59467</td>\n",
       "      <td>2.443833e+03</td>\n",
       "      <td>57474.190683</td>\n",
       "      <td>66.308096</td>\n",
       "    </tr>\n",
       "  </tbody>\n",
       "</table>\n",
       "<p>1304 rows × 8 columns</p>\n",
       "</div>"
      ],
      "text/plain": [
       "                     Gmt time   Open   High    Low  Close        Volume  \\\n",
       "0     07.05.2017 21:00:00.000   1559   1681   1557   1658  1.872044e+06   \n",
       "1     08.05.2017 21:00:00.000   1658   1753   1626   1747  1.330136e+06   \n",
       "2     09.05.2017 21:00:00.000   1713   1769   1677   1752  1.916895e+06   \n",
       "3     10.05.2017 21:00:00.000   1784   1887   1777   1857  1.613521e+06   \n",
       "4     11.05.2017 21:00:00.000   1836   1836   1651   1692  2.550428e+06   \n",
       "...                       ...    ...    ...    ...    ...           ...   \n",
       "1301  12.10.2021 21:00:00.000  55433  57543  54328  57047  2.013182e+03   \n",
       "1302  13.10.2021 21:00:00.000  57078  58568  56906  57505  2.001020e+03   \n",
       "1303  14.10.2021 21:00:00.000  57533  62922  56940  62587  2.235774e+03   \n",
       "1304  15.10.2021 21:00:00.000  62587  62608  60223  61077  1.943311e+03   \n",
       "1305  16.10.2021 21:00:00.000  61077  61498  59043  59467  2.443833e+03   \n",
       "\n",
       "               EMA     RSI_10  \n",
       "0              NaN        NaN  \n",
       "1              NaN        NaN  \n",
       "2              NaN        NaN  \n",
       "3              NaN        NaN  \n",
       "4              NaN        NaN  \n",
       "...            ...        ...  \n",
       "1301  54074.141410  71.360551  \n",
       "1302  54697.933881  72.354299  \n",
       "1303  56132.309539  80.637520  \n",
       "1304  57031.344168  73.379074  \n",
       "1305  57474.190683  66.308096  \n",
       "\n",
       "[1304 rows x 8 columns]"
      ]
     },
     "execution_count": 15,
     "metadata": {},
     "output_type": "execute_result"
    }
   ],
   "source": [
    "df"
   ]
  },
  {
   "cell_type": "code",
   "execution_count": null,
   "id": "8f81d312",
   "metadata": {},
   "outputs": [
    {
     "data": {
      "application/vnd.plotly.v1+json": {
       "config": {
        "plotlyServerURL": "https://plot.ly"
       },
       "data": [
        {
         "close": {
          "bdata": "fggtCc8IqgpCCsgKpwnICRgKxApGC7kKgwrfChALDg13DSINYQ0EDqcQ6A8AEewQ0RCdD+kPJhCKEOkQ9BD1Ed8RhhKDEg8RbBHZEeARmBBhEFQQOg9ADY4Opw9CD3gPQQ4gDmYPRA86EEUQTRApEb0QaRD7EPUQ7BIJE9sSxxTxFS8WyxWEFUUWVRcaF9wVMRbUFnwW1BfqGLQZkhs9HN0boxtgHNIbuBlsGcEZfhzVHhseOiDIHw0g6B86ILkl2SbaJ74llyo=",
          "dtype": "i2"
         },
         "high": {
          "bdata": "jQhdCWEJqwrWCvIK3QozCicKFAtNC3ALyAr2Cj4LYw2hDYUNgg0GDvcQZBEDEX8RBxE5EDAQqRChEGYREhEjEiASoRKJEiESwhFSElMSVhIcESIRdBB2Dw4PHxAcEM4Phw+zDnkPfQ9hELUQfhB2EU8RAREIEUIRBxM/EwwTDxXsFn4WmhbtFW0WsBerFywXPhZhF2wXTBgeGfoZ6RwbHRUdPRzLHkMdtBysGlwashzaHj8fYyC4IHAgWyCMIBcm9yavLC8qvio=",
          "dtype": "i2"
         },
         "low": {
          "bdata": "PwdhCKwIxQg4CqEKkglkCZQJGAqHClYKbApaCs0KeQwNDaYM5AxMDZAP4g7bD1kQYRB/D74OtA/8D3oQXxD0EJQRzRF3EkYQKhA/EYMRLBASEPAPmQ6uDJ8LeQ4LD/0O9Q23DVAODw8jDx8Qsg8JEYwQWRAyEMkQzRGEEmYStxKfFH0VlRX2E28V8xUQFrsV/hQKFjoWjBfFF9wYrhkdGyYbFBuDG5YbFBnlFQAZjhnUG3AdDB94HiMfoR/BHj8kUyU8I0QjoSQ=",
          "dtype": "i2"
         },
         "open": {
          "bdata": "SQd9CC4JzwiqCuQKyAqkCcgJGArJCkkLtAqDCt8KwgwPDXcNLA1hDasPpxDoD+UQ6BAXEL8O6Q8mEIoQDhH0EPUR3xGGEhISDxFsEdkR9hHBEGQQVBA6D0ANpA6nD0cPdw9CDlYOZg9EDzoQRRAkESgRvBBpEPsQ5xHrEgkT2xLGFJUVMRbKFYUVRRb6FhoX3RUxFtQWIRjUF+kYtBmVG8Ec2RujG18c0RsGF2sZwRl/HNYeVh86IMgfDyDoH3cktSXCJtgnvSU=",
          "dtype": "i2"
         },
         "type": "candlestick",
         "x": {
          "bdata": "MgAzADQANQA2ADcAOAA5ADoAOwA8AD0APgA/AEAAQQBCAEMARABFAEYARwBIAEkASgBLAEwATQBOAE8AUABRAFIAUwBUAFUAVgBXAFgAWQBaAFsAXABdAF4AXwBgAGEAYgBjAGQAZQBmAGcAaABpAGoAawBsAG0AbgBvAHAAcQByAHMAdAB1AHYAdwB4AHkAegB7AHwAfQB+AH8AgACBAIIAgwCEAIUAhgCHAIgAiQCKAIsAjACNAI4AjwCQAJEAkgCTAJQAlQA=",
          "dtype": "i2"
         }
        },
        {
         "line": {
          "color": "red",
          "width": 2
         },
         "name": "EMA",
         "type": "scatter",
         "x": {
          "bdata": "MgAzADQANQA2ADcAOAA5ADoAOwA8AD0APgA/AEAAQQBCAEMARABFAEYARwBIAEkASgBLAEwATQBOAE8AUABRAFIAUwBUAFUAVgBXAFgAWQBaAFsAXABdAF4AXwBgAGEAYgBjAGQAZQBmAGcAaABpAGoAawBsAG0AbgBvAHAAcQByAHMAdAB1AHYAdwB4AHkAegB7AHwAfQB+AH8AgACBAIIAgwCEAIUAhgCHAIgAiQCKAIsAjACNAI4AjwCQAJEAkgCTAJQAlQA=",
          "dtype": "i2"
         },
         "y": {
          "bdata": "OHVZeeppokC5pRqpBWeiQCK2uP54QqJAkMMiuUvRokDqQmI6VSCjQO7wfhi6kaNATn/ztmmFo0BXImp+VoejQNMEEfMApqNAlY+Zr6P9o0DW6ZQynXSkQMaQYimvoqRAi9MK3L20pEBDZzdu+OSkQNrI/p8/HqVAyXXQJZEGpkAC7B7Z0+qmQNKpjVSthqdAfLm5cxkdqEBlI1LqcdOoQIFLoGIXXqpADFU9f4dbq0DaXOyttJCsQMmRe0hlhq1ApOuqr5hFrkC0Y7qPCHKuQNhoOwEHsq5Ax1UZXpH8rkC6dP1M612vQPUwFZwd0K9AZAh9S8YYsEDdBk9sXG+wQMy/nVg0srBAYW71GUIHsUAhoA5bTUyxQBrgrgQoQbFAz4hgMvJIsUA1h31AI2OxQM4oOAbXebFA7k+iM8dQsUDaEpyeLiWxQPg9riQm/7BA4uwCHsKssEAtNkgBWQ2wQOxvjdNLj69A78/QlWyDr0A4B2XA+1SvQLlL3m6fQq9AUbL7cYLCrkD87s2LsE2uQKAgNLinZK5Amr2H3BRrrkA4+BFAy8muQBbLazRJG69A4o7Mzd5gr0C4uhuRzemvQAVYi3VIGbBAeBnP68YnsECQ/ddjLk6wQNND3wuDbLBAOCCIT8jgsEBFveOGL0WxQFBsF1f4jrFAQeT7L8skskAG0rb4jtWyQKjxCfp0cbNAFTplEtTes0Aou/WxZyu0QH4NyUsmjbRA8q1espMOtUA6MTapvm21QEYocorKgbVAUJUXt6WhtUBwkSoKWdm1QFzrf8Lr9rVA1tcin6lNtkDGar+wLce2QP7is+1TT7dAROh7wqEVuEDyYGW2+Na4QJdmJDi0Y7lA8FNMok3MuUAhFsqEP0S6QBsSjg+RjLpA0A66DOtlukBMxsZ+eji6QJsWdFDBIrpAIZ7qnm+QukAyxwWCFVe7QFcXecfL17tApEEdRtWjvEAoB3WWCza9QE/XvAY4ur1AtN4ONKIfvkA2tjq2hIG+QKDDGJVs0b9AB1BEVE+MwEA0Kk+5hinBQHDFQCMRecFAiqHAv/YqwkA=",
          "dtype": "f8"
         }
        }
       ],
       "layout": {
        "template": {
         "data": {
          "bar": [
           {
            "error_x": {
             "color": "#2a3f5f"
            },
            "error_y": {
             "color": "#2a3f5f"
            },
            "marker": {
             "line": {
              "color": "#E5ECF6",
              "width": 0.5
             },
             "pattern": {
              "fillmode": "overlay",
              "size": 10,
              "solidity": 0.2
             }
            },
            "type": "bar"
           }
          ],
          "barpolar": [
           {
            "marker": {
             "line": {
              "color": "#E5ECF6",
              "width": 0.5
             },
             "pattern": {
              "fillmode": "overlay",
              "size": 10,
              "solidity": 0.2
             }
            },
            "type": "barpolar"
           }
          ],
          "carpet": [
           {
            "aaxis": {
             "endlinecolor": "#2a3f5f",
             "gridcolor": "white",
             "linecolor": "white",
             "minorgridcolor": "white",
             "startlinecolor": "#2a3f5f"
            },
            "baxis": {
             "endlinecolor": "#2a3f5f",
             "gridcolor": "white",
             "linecolor": "white",
             "minorgridcolor": "white",
             "startlinecolor": "#2a3f5f"
            },
            "type": "carpet"
           }
          ],
          "choropleth": [
           {
            "colorbar": {
             "outlinewidth": 0,
             "ticks": ""
            },
            "type": "choropleth"
           }
          ],
          "contour": [
           {
            "colorbar": {
             "outlinewidth": 0,
             "ticks": ""
            },
            "colorscale": [
             [
              0,
              "#0d0887"
             ],
             [
              0.1111111111111111,
              "#46039f"
             ],
             [
              0.2222222222222222,
              "#7201a8"
             ],
             [
              0.3333333333333333,
              "#9c179e"
             ],
             [
              0.4444444444444444,
              "#bd3786"
             ],
             [
              0.5555555555555556,
              "#d8576b"
             ],
             [
              0.6666666666666666,
              "#ed7953"
             ],
             [
              0.7777777777777778,
              "#fb9f3a"
             ],
             [
              0.8888888888888888,
              "#fdca26"
             ],
             [
              1,
              "#f0f921"
             ]
            ],
            "type": "contour"
           }
          ],
          "contourcarpet": [
           {
            "colorbar": {
             "outlinewidth": 0,
             "ticks": ""
            },
            "type": "contourcarpet"
           }
          ],
          "heatmap": [
           {
            "colorbar": {
             "outlinewidth": 0,
             "ticks": ""
            },
            "colorscale": [
             [
              0,
              "#0d0887"
             ],
             [
              0.1111111111111111,
              "#46039f"
             ],
             [
              0.2222222222222222,
              "#7201a8"
             ],
             [
              0.3333333333333333,
              "#9c179e"
             ],
             [
              0.4444444444444444,
              "#bd3786"
             ],
             [
              0.5555555555555556,
              "#d8576b"
             ],
             [
              0.6666666666666666,
              "#ed7953"
             ],
             [
              0.7777777777777778,
              "#fb9f3a"
             ],
             [
              0.8888888888888888,
              "#fdca26"
             ],
             [
              1,
              "#f0f921"
             ]
            ],
            "type": "heatmap"
           }
          ],
          "histogram": [
           {
            "marker": {
             "pattern": {
              "fillmode": "overlay",
              "size": 10,
              "solidity": 0.2
             }
            },
            "type": "histogram"
           }
          ],
          "histogram2d": [
           {
            "colorbar": {
             "outlinewidth": 0,
             "ticks": ""
            },
            "colorscale": [
             [
              0,
              "#0d0887"
             ],
             [
              0.1111111111111111,
              "#46039f"
             ],
             [
              0.2222222222222222,
              "#7201a8"
             ],
             [
              0.3333333333333333,
              "#9c179e"
             ],
             [
              0.4444444444444444,
              "#bd3786"
             ],
             [
              0.5555555555555556,
              "#d8576b"
             ],
             [
              0.6666666666666666,
              "#ed7953"
             ],
             [
              0.7777777777777778,
              "#fb9f3a"
             ],
             [
              0.8888888888888888,
              "#fdca26"
             ],
             [
              1,
              "#f0f921"
             ]
            ],
            "type": "histogram2d"
           }
          ],
          "histogram2dcontour": [
           {
            "colorbar": {
             "outlinewidth": 0,
             "ticks": ""
            },
            "colorscale": [
             [
              0,
              "#0d0887"
             ],
             [
              0.1111111111111111,
              "#46039f"
             ],
             [
              0.2222222222222222,
              "#7201a8"
             ],
             [
              0.3333333333333333,
              "#9c179e"
             ],
             [
              0.4444444444444444,
              "#bd3786"
             ],
             [
              0.5555555555555556,
              "#d8576b"
             ],
             [
              0.6666666666666666,
              "#ed7953"
             ],
             [
              0.7777777777777778,
              "#fb9f3a"
             ],
             [
              0.8888888888888888,
              "#fdca26"
             ],
             [
              1,
              "#f0f921"
             ]
            ],
            "type": "histogram2dcontour"
           }
          ],
          "mesh3d": [
           {
            "colorbar": {
             "outlinewidth": 0,
             "ticks": ""
            },
            "type": "mesh3d"
           }
          ],
          "parcoords": [
           {
            "line": {
             "colorbar": {
              "outlinewidth": 0,
              "ticks": ""
             }
            },
            "type": "parcoords"
           }
          ],
          "pie": [
           {
            "automargin": true,
            "type": "pie"
           }
          ],
          "scatter": [
           {
            "fillpattern": {
             "fillmode": "overlay",
             "size": 10,
             "solidity": 0.2
            },
            "type": "scatter"
           }
          ],
          "scatter3d": [
           {
            "line": {
             "colorbar": {
              "outlinewidth": 0,
              "ticks": ""
             }
            },
            "marker": {
             "colorbar": {
              "outlinewidth": 0,
              "ticks": ""
             }
            },
            "type": "scatter3d"
           }
          ],
          "scattercarpet": [
           {
            "marker": {
             "colorbar": {
              "outlinewidth": 0,
              "ticks": ""
             }
            },
            "type": "scattercarpet"
           }
          ],
          "scattergeo": [
           {
            "marker": {
             "colorbar": {
              "outlinewidth": 0,
              "ticks": ""
             }
            },
            "type": "scattergeo"
           }
          ],
          "scattergl": [
           {
            "marker": {
             "colorbar": {
              "outlinewidth": 0,
              "ticks": ""
             }
            },
            "type": "scattergl"
           }
          ],
          "scattermap": [
           {
            "marker": {
             "colorbar": {
              "outlinewidth": 0,
              "ticks": ""
             }
            },
            "type": "scattermap"
           }
          ],
          "scattermapbox": [
           {
            "marker": {
             "colorbar": {
              "outlinewidth": 0,
              "ticks": ""
             }
            },
            "type": "scattermapbox"
           }
          ],
          "scatterpolar": [
           {
            "marker": {
             "colorbar": {
              "outlinewidth": 0,
              "ticks": ""
             }
            },
            "type": "scatterpolar"
           }
          ],
          "scatterpolargl": [
           {
            "marker": {
             "colorbar": {
              "outlinewidth": 0,
              "ticks": ""
             }
            },
            "type": "scatterpolargl"
           }
          ],
          "scatterternary": [
           {
            "marker": {
             "colorbar": {
              "outlinewidth": 0,
              "ticks": ""
             }
            },
            "type": "scatterternary"
           }
          ],
          "surface": [
           {
            "colorbar": {
             "outlinewidth": 0,
             "ticks": ""
            },
            "colorscale": [
             [
              0,
              "#0d0887"
             ],
             [
              0.1111111111111111,
              "#46039f"
             ],
             [
              0.2222222222222222,
              "#7201a8"
             ],
             [
              0.3333333333333333,
              "#9c179e"
             ],
             [
              0.4444444444444444,
              "#bd3786"
             ],
             [
              0.5555555555555556,
              "#d8576b"
             ],
             [
              0.6666666666666666,
              "#ed7953"
             ],
             [
              0.7777777777777778,
              "#fb9f3a"
             ],
             [
              0.8888888888888888,
              "#fdca26"
             ],
             [
              1,
              "#f0f921"
             ]
            ],
            "type": "surface"
           }
          ],
          "table": [
           {
            "cells": {
             "fill": {
              "color": "#EBF0F8"
             },
             "line": {
              "color": "white"
             }
            },
            "header": {
             "fill": {
              "color": "#C8D4E3"
             },
             "line": {
              "color": "white"
             }
            },
            "type": "table"
           }
          ]
         },
         "layout": {
          "annotationdefaults": {
           "arrowcolor": "#2a3f5f",
           "arrowhead": 0,
           "arrowwidth": 1
          },
          "autotypenumbers": "strict",
          "coloraxis": {
           "colorbar": {
            "outlinewidth": 0,
            "ticks": ""
           }
          },
          "colorscale": {
           "diverging": [
            [
             0,
             "#8e0152"
            ],
            [
             0.1,
             "#c51b7d"
            ],
            [
             0.2,
             "#de77ae"
            ],
            [
             0.3,
             "#f1b6da"
            ],
            [
             0.4,
             "#fde0ef"
            ],
            [
             0.5,
             "#f7f7f7"
            ],
            [
             0.6,
             "#e6f5d0"
            ],
            [
             0.7,
             "#b8e186"
            ],
            [
             0.8,
             "#7fbc41"
            ],
            [
             0.9,
             "#4d9221"
            ],
            [
             1,
             "#276419"
            ]
           ],
           "sequential": [
            [
             0,
             "#0d0887"
            ],
            [
             0.1111111111111111,
             "#46039f"
            ],
            [
             0.2222222222222222,
             "#7201a8"
            ],
            [
             0.3333333333333333,
             "#9c179e"
            ],
            [
             0.4444444444444444,
             "#bd3786"
            ],
            [
             0.5555555555555556,
             "#d8576b"
            ],
            [
             0.6666666666666666,
             "#ed7953"
            ],
            [
             0.7777777777777778,
             "#fb9f3a"
            ],
            [
             0.8888888888888888,
             "#fdca26"
            ],
            [
             1,
             "#f0f921"
            ]
           ],
           "sequentialminus": [
            [
             0,
             "#0d0887"
            ],
            [
             0.1111111111111111,
             "#46039f"
            ],
            [
             0.2222222222222222,
             "#7201a8"
            ],
            [
             0.3333333333333333,
             "#9c179e"
            ],
            [
             0.4444444444444444,
             "#bd3786"
            ],
            [
             0.5555555555555556,
             "#d8576b"
            ],
            [
             0.6666666666666666,
             "#ed7953"
            ],
            [
             0.7777777777777778,
             "#fb9f3a"
            ],
            [
             0.8888888888888888,
             "#fdca26"
            ],
            [
             1,
             "#f0f921"
            ]
           ]
          },
          "colorway": [
           "#636efa",
           "#EF553B",
           "#00cc96",
           "#ab63fa",
           "#FFA15A",
           "#19d3f3",
           "#FF6692",
           "#B6E880",
           "#FF97FF",
           "#FECB52"
          ],
          "font": {
           "color": "#2a3f5f"
          },
          "geo": {
           "bgcolor": "white",
           "lakecolor": "white",
           "landcolor": "#E5ECF6",
           "showlakes": true,
           "showland": true,
           "subunitcolor": "white"
          },
          "hoverlabel": {
           "align": "left"
          },
          "hovermode": "closest",
          "mapbox": {
           "style": "light"
          },
          "paper_bgcolor": "white",
          "plot_bgcolor": "#E5ECF6",
          "polar": {
           "angularaxis": {
            "gridcolor": "white",
            "linecolor": "white",
            "ticks": ""
           },
           "bgcolor": "#E5ECF6",
           "radialaxis": {
            "gridcolor": "white",
            "linecolor": "white",
            "ticks": ""
           }
          },
          "scene": {
           "xaxis": {
            "backgroundcolor": "#E5ECF6",
            "gridcolor": "white",
            "gridwidth": 2,
            "linecolor": "white",
            "showbackground": true,
            "ticks": "",
            "zerolinecolor": "white"
           },
           "yaxis": {
            "backgroundcolor": "#E5ECF6",
            "gridcolor": "white",
            "gridwidth": 2,
            "linecolor": "white",
            "showbackground": true,
            "ticks": "",
            "zerolinecolor": "white"
           },
           "zaxis": {
            "backgroundcolor": "#E5ECF6",
            "gridcolor": "white",
            "gridwidth": 2,
            "linecolor": "white",
            "showbackground": true,
            "ticks": "",
            "zerolinecolor": "white"
           }
          },
          "shapedefaults": {
           "line": {
            "color": "#2a3f5f"
           }
          },
          "ternary": {
           "aaxis": {
            "gridcolor": "white",
            "linecolor": "white",
            "ticks": ""
           },
           "baxis": {
            "gridcolor": "white",
            "linecolor": "white",
            "ticks": ""
           },
           "bgcolor": "#E5ECF6",
           "caxis": {
            "gridcolor": "white",
            "linecolor": "white",
            "ticks": ""
           }
          },
          "title": {
           "x": 0.05
          },
          "xaxis": {
           "automargin": true,
           "gridcolor": "white",
           "linecolor": "white",
           "ticks": "",
           "title": {
            "standoff": 15
           },
           "zerolinecolor": "white",
           "zerolinewidth": 2
          },
          "yaxis": {
           "automargin": true,
           "gridcolor": "white",
           "linecolor": "white",
           "ticks": "",
           "title": {
            "standoff": 15
           },
           "zerolinecolor": "white",
           "zerolinewidth": 2
          }
         }
        }
       }
      }
     },
     "metadata": {},
     "output_type": "display_data"
    }
   ],
   "source": [
    "dfpl = df[50:150]\n",
    "import plotly.graph_objects as go\n",
    "\n",
    "fig = go.Figure(data=[go.Candlestick(x=dfpl.index,\n",
    "                open=dfpl['Open'],\n",
    "                high=dfpl['High'],\n",
    "                low=dfpl['Low'],\n",
    "                close=dfpl['Close']),\n",
    "                go.Scatter(x=dfpl.index, y=dfpl.EMA, line=dict(color='red', width=2), name=\"EMA\")])\n",
    "\n",
    "\n",
    "fig.show()"
   ]
  },
  {
   "cell_type": "code",
   "execution_count": null,
   "id": "b60d551e",
   "metadata": {},
   "outputs": [
    {
     "name": "stdout",
     "output_type": "stream",
     "text": [
      "Pandas TA - Technical Analysis Indicators - v0.3.14b0\n",
      "Total Indicators & Utilities: 205\n",
      "Abbreviations:\n",
      "    aberration, above, above_value, accbands, ad, adosc, adx, alma, amat, ao, aobv, apo, aroon, atr, bbands, below, below_value, bias, bop, brar, cci, cdl_pattern, cdl_z, cfo, cg, chop, cksp, cmf, cmo, coppock, cross, cross_value, cti, decay, decreasing, dema, dm, donchian, dpo, ebsw, efi, ema, entropy, eom, er, eri, fisher, fwma, ha, hilo, hl2, hlc3, hma, hwc, hwma, ichimoku, increasing, inertia, jma, kama, kc, kdj, kst, kurtosis, kvo, linreg, log_return, long_run, macd, mad, massi, mcgd, median, mfi, midpoint, midprice, mom, natr, nvi, obv, ohlc4, pdist, percent_return, pgo, ppo, psar, psl, pvi, pvo, pvol, pvr, pvt, pwma, qqe, qstick, quantile, rma, roc, rsi, rsx, rvgi, rvi, short_run, sinwma, skew, slope, sma, smi, squeeze, squeeze_pro, ssf, stc, stdev, stoch, stochrsi, supertrend, swma, t3, td_seq, tema, thermo, tos_stdevall, trima, trix, true_range, tsi, tsignals, ttm_trend, ui, uo, variance, vhf, vidya, vortex, vp, vwap, vwma, wcp, willr, wma, xsignals, zlma, zscore\n",
      "\n",
      "Candle Patterns:\n",
      "    2crows, 3blackcrows, 3inside, 3linestrike, 3outside, 3starsinsouth, 3whitesoldiers, abandonedbaby, advanceblock, belthold, breakaway, closingmarubozu, concealbabyswall, counterattack, darkcloudcover, doji, dojistar, dragonflydoji, engulfing, eveningdojistar, eveningstar, gapsidesidewhite, gravestonedoji, hammer, hangingman, harami, haramicross, highwave, hikkake, hikkakemod, homingpigeon, identical3crows, inneck, inside, invertedhammer, kicking, kickingbylength, ladderbottom, longleggeddoji, longline, marubozu, matchinglow, mathold, morningdojistar, morningstar, onneck, piercing, rickshawman, risefall3methods, separatinglines, shootingstar, shortline, spinningtop, stalledpattern, sticksandwich, takuri, tasukigap, thrusting, tristar, unique3river, upsidegap2crows, xsidegap3methods\n"
     ]
    }
   ],
   "source": [
    "df.ta.indicators()"
   ]
  },
  {
   "cell_type": "code",
   "execution_count": null,
   "id": "a41ac265",
   "metadata": {},
   "outputs": [
    {
     "name": "stdout",
     "output_type": "stream",
     "text": [
      "Help on function rsi in module pandas_ta.momentum.rsi:\n",
      "\n",
      "rsi(close, length=None, scalar=None, talib=None, drift=None, offset=None, **kwargs)\n",
      "    Relative Strength Index (RSI)\n",
      "    \n",
      "    The Relative Strength Index is popular momentum oscillator used to measure the\n",
      "    velocity as well as the magnitude of directional price movements.\n",
      "    \n",
      "    Sources:\n",
      "        https://www.tradingview.com/wiki/Relative_Strength_Index_(RSI)\n",
      "    \n",
      "    Calculation:\n",
      "        Default Inputs:\n",
      "            length=14, scalar=100, drift=1\n",
      "        ABS = Absolute Value\n",
      "        RMA = Rolling Moving Average\n",
      "    \n",
      "        diff = close.diff(drift)\n",
      "        positive = diff if diff > 0 else 0\n",
      "        negative = diff if diff < 0 else 0\n",
      "    \n",
      "        pos_avg = RMA(positive, length)\n",
      "        neg_avg = ABS(RMA(negative, length))\n",
      "    \n",
      "        RSI = scalar * pos_avg / (pos_avg + neg_avg)\n",
      "    \n",
      "    Args:\n",
      "        close (pd.Series): Series of 'close's\n",
      "        length (int): It's period. Default: 14\n",
      "        scalar (float): How much to magnify. Default: 100\n",
      "        talib (bool): If TA Lib is installed and talib is True, Returns the TA Lib\n",
      "            version. Default: True\n",
      "        drift (int): The difference period. Default: 1\n",
      "        offset (int): How many periods to offset the result. Default: 0\n",
      "    \n",
      "    Kwargs:\n",
      "        fillna (value, optional): pd.DataFrame.fillna(value)\n",
      "        fill_method (value, optional): Type of fill method\n",
      "    \n",
      "    Returns:\n",
      "        pd.Series: New feature generated.\n",
      "\n"
     ]
    }
   ],
   "source": [
    "help(ta.rsi)"
   ]
  },
  {
   "cell_type": "code",
   "execution_count": null,
   "id": "b0ee2985",
   "metadata": {},
   "outputs": [],
   "source": []
  }
 ],
 "metadata": {
  "kernelspec": {
   "display_name": ".venv",
   "language": "python",
   "name": "python3"
  },
  "language_info": {
   "codemirror_mode": {
    "name": "ipython",
    "version": 3
   },
   "file_extension": ".py",
   "mimetype": "text/x-python",
   "name": "python",
   "nbconvert_exporter": "python",
   "pygments_lexer": "ipython3",
   "version": "3.11.2"
  }
 },
 "nbformat": 4,
 "nbformat_minor": 5
}
