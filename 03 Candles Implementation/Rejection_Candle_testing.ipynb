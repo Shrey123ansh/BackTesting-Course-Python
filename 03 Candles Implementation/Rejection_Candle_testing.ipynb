{
 "cells": [
  {
   "cell_type": "code",
   "execution_count": 44,
   "metadata": {},
   "outputs": [],
   "source": [
    "import yfinance as yf\n",
    "import pandas as pd\n",
    "\n",
    "# dataF = yf.download(\"BTC-USD\", start=\"2022-04-1\", end=\"2023-04-1\", interval='1d')\n",
    "dataF = pd.read_csv(\"BTCUSD_Candlestick_1_D_ASK_08.05.2017-16.10.2021.csv\")\n"
   ]
  },
  {
   "cell_type": "code",
   "execution_count": 45,
   "metadata": {},
   "outputs": [
    {
     "data": {
      "text/html": [
       "<div>\n",
       "<style scoped>\n",
       "    .dataframe tbody tr th:only-of-type {\n",
       "        vertical-align: middle;\n",
       "    }\n",
       "\n",
       "    .dataframe tbody tr th {\n",
       "        vertical-align: top;\n",
       "    }\n",
       "\n",
       "    .dataframe thead th {\n",
       "        text-align: right;\n",
       "    }\n",
       "</style>\n",
       "<table border=\"1\" class=\"dataframe\">\n",
       "  <thead>\n",
       "    <tr style=\"text-align: right;\">\n",
       "      <th></th>\n",
       "      <th>index</th>\n",
       "      <th>Gmt time</th>\n",
       "      <th>Open</th>\n",
       "      <th>High</th>\n",
       "      <th>Low</th>\n",
       "      <th>Close</th>\n",
       "      <th>Volume</th>\n",
       "    </tr>\n",
       "  </thead>\n",
       "  <tbody>\n",
       "    <tr>\n",
       "      <th>0</th>\n",
       "      <td>0</td>\n",
       "      <td>07.05.2017 21:00:00.000</td>\n",
       "      <td>1559</td>\n",
       "      <td>1681</td>\n",
       "      <td>1557</td>\n",
       "      <td>1658</td>\n",
       "      <td>1.872044e+06</td>\n",
       "    </tr>\n",
       "    <tr>\n",
       "      <th>1</th>\n",
       "      <td>1</td>\n",
       "      <td>08.05.2017 21:00:00.000</td>\n",
       "      <td>1658</td>\n",
       "      <td>1753</td>\n",
       "      <td>1626</td>\n",
       "      <td>1747</td>\n",
       "      <td>1.330136e+06</td>\n",
       "    </tr>\n",
       "    <tr>\n",
       "      <th>2</th>\n",
       "      <td>2</td>\n",
       "      <td>09.05.2017 21:00:00.000</td>\n",
       "      <td>1713</td>\n",
       "      <td>1769</td>\n",
       "      <td>1677</td>\n",
       "      <td>1752</td>\n",
       "      <td>1.916895e+06</td>\n",
       "    </tr>\n",
       "    <tr>\n",
       "      <th>3</th>\n",
       "      <td>3</td>\n",
       "      <td>10.05.2017 21:00:00.000</td>\n",
       "      <td>1784</td>\n",
       "      <td>1887</td>\n",
       "      <td>1777</td>\n",
       "      <td>1857</td>\n",
       "      <td>1.613521e+06</td>\n",
       "    </tr>\n",
       "    <tr>\n",
       "      <th>4</th>\n",
       "      <td>4</td>\n",
       "      <td>11.05.2017 21:00:00.000</td>\n",
       "      <td>1836</td>\n",
       "      <td>1836</td>\n",
       "      <td>1651</td>\n",
       "      <td>1692</td>\n",
       "      <td>2.550428e+06</td>\n",
       "    </tr>\n",
       "    <tr>\n",
       "      <th>...</th>\n",
       "      <td>...</td>\n",
       "      <td>...</td>\n",
       "      <td>...</td>\n",
       "      <td>...</td>\n",
       "      <td>...</td>\n",
       "      <td>...</td>\n",
       "      <td>...</td>\n",
       "    </tr>\n",
       "    <tr>\n",
       "      <th>1300</th>\n",
       "      <td>1301</td>\n",
       "      <td>12.10.2021 21:00:00.000</td>\n",
       "      <td>55433</td>\n",
       "      <td>57543</td>\n",
       "      <td>54328</td>\n",
       "      <td>57047</td>\n",
       "      <td>2.013182e+03</td>\n",
       "    </tr>\n",
       "    <tr>\n",
       "      <th>1301</th>\n",
       "      <td>1302</td>\n",
       "      <td>13.10.2021 21:00:00.000</td>\n",
       "      <td>57078</td>\n",
       "      <td>58568</td>\n",
       "      <td>56906</td>\n",
       "      <td>57505</td>\n",
       "      <td>2.001020e+03</td>\n",
       "    </tr>\n",
       "    <tr>\n",
       "      <th>1302</th>\n",
       "      <td>1303</td>\n",
       "      <td>14.10.2021 21:00:00.000</td>\n",
       "      <td>57533</td>\n",
       "      <td>62922</td>\n",
       "      <td>56940</td>\n",
       "      <td>62587</td>\n",
       "      <td>2.235774e+03</td>\n",
       "    </tr>\n",
       "    <tr>\n",
       "      <th>1303</th>\n",
       "      <td>1304</td>\n",
       "      <td>15.10.2021 21:00:00.000</td>\n",
       "      <td>62587</td>\n",
       "      <td>62608</td>\n",
       "      <td>60223</td>\n",
       "      <td>61077</td>\n",
       "      <td>1.943311e+03</td>\n",
       "    </tr>\n",
       "    <tr>\n",
       "      <th>1304</th>\n",
       "      <td>1305</td>\n",
       "      <td>16.10.2021 21:00:00.000</td>\n",
       "      <td>61077</td>\n",
       "      <td>61498</td>\n",
       "      <td>59043</td>\n",
       "      <td>59467</td>\n",
       "      <td>2.443833e+03</td>\n",
       "    </tr>\n",
       "  </tbody>\n",
       "</table>\n",
       "<p>1305 rows × 7 columns</p>\n",
       "</div>"
      ],
      "text/plain": [
       "      index                 Gmt time   Open   High    Low  Close        Volume\n",
       "0         0  07.05.2017 21:00:00.000   1559   1681   1557   1658  1.872044e+06\n",
       "1         1  08.05.2017 21:00:00.000   1658   1753   1626   1747  1.330136e+06\n",
       "2         2  09.05.2017 21:00:00.000   1713   1769   1677   1752  1.916895e+06\n",
       "3         3  10.05.2017 21:00:00.000   1784   1887   1777   1857  1.613521e+06\n",
       "4         4  11.05.2017 21:00:00.000   1836   1836   1651   1692  2.550428e+06\n",
       "...     ...                      ...    ...    ...    ...    ...           ...\n",
       "1300   1301  12.10.2021 21:00:00.000  55433  57543  54328  57047  2.013182e+03\n",
       "1301   1302  13.10.2021 21:00:00.000  57078  58568  56906  57505  2.001020e+03\n",
       "1302   1303  14.10.2021 21:00:00.000  57533  62922  56940  62587  2.235774e+03\n",
       "1303   1304  15.10.2021 21:00:00.000  62587  62608  60223  61077  1.943311e+03\n",
       "1304   1305  16.10.2021 21:00:00.000  61077  61498  59043  59467  2.443833e+03\n",
       "\n",
       "[1305 rows x 7 columns]"
      ]
     },
     "execution_count": 45,
     "metadata": {},
     "output_type": "execute_result"
    }
   ],
   "source": [
    "dataF=dataF[dataF[\"High\"]!=dataF['Low']]\n",
    "dataF.reset_index(inplace=True)\n",
    "dataF"
   ]
  },
  {
   "cell_type": "code",
   "execution_count": 46,
   "metadata": {},
   "outputs": [],
   "source": [
    "def rejection_signal(df): \n",
    "    #bullish signal\n",
    "    if ( df.Open.iloc[-1] < df.Close.iloc[-1] and\n",
    "       (df.High.iloc[-1] - df.Close.iloc[-1]) < abs(df.Open.iloc[-1]-df.Close.iloc[-1])/10 and\n",
    "       (df.Open.iloc[-1] - df.Low.iloc[-1]) > abs(df.Open.iloc[-1]-df.Close.iloc[-1])*5):\n",
    "        return 2\n",
    "    \n",
    "    #bearish signal\n",
    "    elif ( df.Open.iloc[-1] > df.Close.iloc[-1] and\n",
    "       (df.High.iloc[-1] - df.Open.iloc[-1]) > abs(df.Open.iloc[-1]-df.Close.iloc[-1])*5 and\n",
    "       (df.Close.iloc[-1] - df.Low.iloc[-1]) < abs(df.Open.iloc[-1]-df.Close.iloc[-1])/10):\n",
    "        return 1\n",
    "    \n",
    "    #nosignal\n",
    "    else:\n",
    "        return 0\n",
    "\n",
    "def engulfing_signal(df):\n",
    "    # Get the current and previous candles\n",
    "    previous_candle = df.iloc[-2]\n",
    "    current_candle = df.iloc[-1]\n",
    "\n",
    "    # Check for bullish engulfing\n",
    "    if ( (current_candle['Close'] > previous_candle['Open']) \n",
    "        and (current_candle['Open'] < previous_candle['Close'])\n",
    "        and (previous_candle['Open'] > previous_candle['Close']) ):\n",
    "        return 2\n",
    "\n",
    "    # Check for bearish engulfing\n",
    "    elif ( (current_candle['Open'] > previous_candle['Close']) \n",
    "          and (current_candle['Close'] < previous_candle['Open']) \n",
    "          and (previous_candle['Close'] > previous_candle['Open']) ):\n",
    "        return 1\n",
    "\n",
    "    # Return 0 for any other case\n",
    "    else:\n",
    "        return 0\n",
    "    \n",
    "\n",
    "signal = [0]*len(dataF)\n",
    "for i in range(3,len(dataF)):\n",
    "    df = dataF[i-3:i+1]\n",
    "    signal[i]= rejection_signal(df)\n",
    "dataF[\"rejection_signal\"] = signal\n",
    "\n",
    "signal = [0]*len(dataF)\n",
    "for i in range(1,len(dataF)):\n",
    "    df = dataF[i-1:i+1]\n",
    "    signal[i]= engulfing_signal(df)\n",
    "dataF[\"engulfing_signal\"] = signal"
   ]
  },
  {
   "cell_type": "code",
   "execution_count": 47,
   "metadata": {},
   "outputs": [],
   "source": [
    "up_count = 0\n",
    "down_count = 0\n",
    "total_count = 0\n",
    "\n",
    "for i in range(len(dataF) - 1):\n",
    "    if dataF.engulfing_signal.iloc[i] == 1:\n",
    "        total_count += 1\n",
    "        if dataF.Close.iloc[i+1] > dataF.Open.iloc[i+1]:\n",
    "            up_count += 1\n",
    "        elif dataF.Close.iloc[i+1] < dataF.Open.iloc[i+1]:\n",
    "            down_count += 1\n",
    "\n",
    "up_percentage = (up_count / total_count) * 100\n",
    "down_percentage = (down_count / total_count) * 100"
   ]
  },
  {
   "cell_type": "code",
   "execution_count": 48,
   "metadata": {},
   "outputs": [
    {
     "name": "stdout",
     "output_type": "stream",
     "text": [
      "45.94594594594595 54.054054054054056 37\n"
     ]
    }
   ],
   "source": [
    "print(up_percentage, down_percentage, total_count)"
   ]
  },
  {
   "cell_type": "code",
   "execution_count": 49,
   "metadata": {},
   "outputs": [
    {
     "data": {
      "text/html": [
       "<div>\n",
       "<style scoped>\n",
       "    .dataframe tbody tr th:only-of-type {\n",
       "        vertical-align: middle;\n",
       "    }\n",
       "\n",
       "    .dataframe tbody tr th {\n",
       "        vertical-align: top;\n",
       "    }\n",
       "\n",
       "    .dataframe thead th {\n",
       "        text-align: right;\n",
       "    }\n",
       "</style>\n",
       "<table border=\"1\" class=\"dataframe\">\n",
       "  <thead>\n",
       "    <tr style=\"text-align: right;\">\n",
       "      <th></th>\n",
       "      <th>index</th>\n",
       "      <th>Gmt time</th>\n",
       "      <th>Open</th>\n",
       "      <th>High</th>\n",
       "      <th>Low</th>\n",
       "      <th>Close</th>\n",
       "      <th>Volume</th>\n",
       "      <th>rejection_signal</th>\n",
       "      <th>engulfing_signal</th>\n",
       "    </tr>\n",
       "  </thead>\n",
       "  <tbody>\n",
       "    <tr>\n",
       "      <th>14</th>\n",
       "      <td>14</td>\n",
       "      <td>25.05.2017 21:00:00.000</td>\n",
       "      <td>2485</td>\n",
       "      <td>2679</td>\n",
       "      <td>2243</td>\n",
       "      <td>2243</td>\n",
       "      <td>3.302266e+06</td>\n",
       "      <td>0</td>\n",
       "      <td>1</td>\n",
       "    </tr>\n",
       "    <tr>\n",
       "      <th>25</th>\n",
       "      <td>25</td>\n",
       "      <td>11.06.2017 21:00:00.000</td>\n",
       "      <td>2923</td>\n",
       "      <td>3003</td>\n",
       "      <td>2449</td>\n",
       "      <td>2547</td>\n",
       "      <td>1.536865e+06</td>\n",
       "      <td>0</td>\n",
       "      <td>1</td>\n",
       "    </tr>\n",
       "    <tr>\n",
       "      <th>27</th>\n",
       "      <td>27</td>\n",
       "      <td>13.06.2017 21:00:00.000</td>\n",
       "      <td>2703</td>\n",
       "      <td>2819</td>\n",
       "      <td>2523</td>\n",
       "      <td>2553</td>\n",
       "      <td>1.413301e+06</td>\n",
       "      <td>0</td>\n",
       "      <td>1</td>\n",
       "    </tr>\n",
       "    <tr>\n",
       "      <th>61</th>\n",
       "      <td>61</td>\n",
       "      <td>31.07.2017 21:00:00.000</td>\n",
       "      <td>2889</td>\n",
       "      <td>2928</td>\n",
       "      <td>2646</td>\n",
       "      <td>2745</td>\n",
       "      <td>3.555171e+06</td>\n",
       "      <td>0</td>\n",
       "      <td>1</td>\n",
       "    </tr>\n",
       "    <tr>\n",
       "      <th>89</th>\n",
       "      <td>89</td>\n",
       "      <td>07.09.2017 21:00:00.000</td>\n",
       "      <td>4598</td>\n",
       "      <td>4694</td>\n",
       "      <td>4140</td>\n",
       "      <td>4248</td>\n",
       "      <td>2.702564e+06</td>\n",
       "      <td>0</td>\n",
       "      <td>1</td>\n",
       "    </tr>\n",
       "    <tr>\n",
       "      <th>188</th>\n",
       "      <td>188</td>\n",
       "      <td>25.01.2018 22:00:00.000</td>\n",
       "      <td>11305</td>\n",
       "      <td>11664</td>\n",
       "      <td>10361</td>\n",
       "      <td>10948</td>\n",
       "      <td>1.055831e+06</td>\n",
       "      <td>0</td>\n",
       "      <td>1</td>\n",
       "    </tr>\n",
       "    <tr>\n",
       "      <th>206</th>\n",
       "      <td>206</td>\n",
       "      <td>20.02.2018 22:00:00.000</td>\n",
       "      <td>11761</td>\n",
       "      <td>11826</td>\n",
       "      <td>10300</td>\n",
       "      <td>10330</td>\n",
       "      <td>1.086790e+06</td>\n",
       "      <td>0</td>\n",
       "      <td>1</td>\n",
       "    </tr>\n",
       "    <tr>\n",
       "      <th>215</th>\n",
       "      <td>215</td>\n",
       "      <td>05.03.2018 22:00:00.000</td>\n",
       "      <td>11671</td>\n",
       "      <td>11714</td>\n",
       "      <td>10667</td>\n",
       "      <td>10890</td>\n",
       "      <td>7.253400e+05</td>\n",
       "      <td>0</td>\n",
       "      <td>1</td>\n",
       "    </tr>\n",
       "    <tr>\n",
       "      <th>229</th>\n",
       "      <td>229</td>\n",
       "      <td>25.03.2018 21:00:00.000</td>\n",
       "      <td>8697</td>\n",
       "      <td>8720</td>\n",
       "      <td>7933</td>\n",
       "      <td>7964</td>\n",
       "      <td>1.532677e+06</td>\n",
       "      <td>0</td>\n",
       "      <td>1</td>\n",
       "    </tr>\n",
       "    <tr>\n",
       "      <th>285</th>\n",
       "      <td>285</td>\n",
       "      <td>11.06.2018 21:00:00.000</td>\n",
       "      <td>6823</td>\n",
       "      <td>6972</td>\n",
       "      <td>6516</td>\n",
       "      <td>6594</td>\n",
       "      <td>1.304907e+06</td>\n",
       "      <td>0</td>\n",
       "      <td>1</td>\n",
       "    </tr>\n",
       "    <tr>\n",
       "      <th>328</th>\n",
       "      <td>328</td>\n",
       "      <td>09.08.2018 21:00:00.000</td>\n",
       "      <td>6581</td>\n",
       "      <td>6684</td>\n",
       "      <td>6205</td>\n",
       "      <td>6248</td>\n",
       "      <td>4.494378e+03</td>\n",
       "      <td>0</td>\n",
       "      <td>1</td>\n",
       "    </tr>\n",
       "    <tr>\n",
       "      <th>486</th>\n",
       "      <td>487</td>\n",
       "      <td>20.03.2019 21:00:00.000</td>\n",
       "      <td>4071</td>\n",
       "      <td>4115</td>\n",
       "      <td>3980</td>\n",
       "      <td>4028</td>\n",
       "      <td>1.710587e+05</td>\n",
       "      <td>0</td>\n",
       "      <td>1</td>\n",
       "    </tr>\n",
       "    <tr>\n",
       "      <th>512</th>\n",
       "      <td>513</td>\n",
       "      <td>25.04.2019 21:00:00.000</td>\n",
       "      <td>5557</td>\n",
       "      <td>5558</td>\n",
       "      <td>5047</td>\n",
       "      <td>5157</td>\n",
       "      <td>9.811341e+04</td>\n",
       "      <td>0</td>\n",
       "      <td>1</td>\n",
       "    </tr>\n",
       "    <tr>\n",
       "      <th>526</th>\n",
       "      <td>527</td>\n",
       "      <td>15.05.2019 21:00:00.000</td>\n",
       "      <td>8230</td>\n",
       "      <td>8443</td>\n",
       "      <td>7730</td>\n",
       "      <td>7730</td>\n",
       "      <td>6.086549e+05</td>\n",
       "      <td>0</td>\n",
       "      <td>1</td>\n",
       "    </tr>\n",
       "    <tr>\n",
       "      <th>530</th>\n",
       "      <td>531</td>\n",
       "      <td>21.05.2019 21:00:00.000</td>\n",
       "      <td>8151</td>\n",
       "      <td>8170</td>\n",
       "      <td>7755</td>\n",
       "      <td>7892</td>\n",
       "      <td>2.416813e+05</td>\n",
       "      <td>0</td>\n",
       "      <td>1</td>\n",
       "    </tr>\n",
       "    <tr>\n",
       "      <th>556</th>\n",
       "      <td>557</td>\n",
       "      <td>26.06.2019 21:00:00.000</td>\n",
       "      <td>12796</td>\n",
       "      <td>13399</td>\n",
       "      <td>10361</td>\n",
       "      <td>10733</td>\n",
       "      <td>1.907087e+06</td>\n",
       "      <td>0</td>\n",
       "      <td>1</td>\n",
       "    </tr>\n",
       "    <tr>\n",
       "      <th>565</th>\n",
       "      <td>566</td>\n",
       "      <td>09.07.2019 21:00:00.000</td>\n",
       "      <td>12462</td>\n",
       "      <td>13246</td>\n",
       "      <td>11697</td>\n",
       "      <td>11836</td>\n",
       "      <td>1.101480e+06</td>\n",
       "      <td>0</td>\n",
       "      <td>1</td>\n",
       "    </tr>\n",
       "    <tr>\n",
       "      <th>726</th>\n",
       "      <td>727</td>\n",
       "      <td>30.01.2020 22:00:00.000</td>\n",
       "      <td>9614</td>\n",
       "      <td>9622</td>\n",
       "      <td>9256</td>\n",
       "      <td>9362</td>\n",
       "      <td>5.737449e+05</td>\n",
       "      <td>0</td>\n",
       "      <td>1</td>\n",
       "    </tr>\n",
       "    <tr>\n",
       "      <th>738</th>\n",
       "      <td>739</td>\n",
       "      <td>12.02.2020 22:00:00.000</td>\n",
       "      <td>10450</td>\n",
       "      <td>10564</td>\n",
       "      <td>10140</td>\n",
       "      <td>10241</td>\n",
       "      <td>7.404008e+05</td>\n",
       "      <td>0</td>\n",
       "      <td>1</td>\n",
       "    </tr>\n",
       "    <tr>\n",
       "      <th>788</th>\n",
       "      <td>789</td>\n",
       "      <td>19.04.2020 21:00:00.000</td>\n",
       "      <td>7207</td>\n",
       "      <td>7278</td>\n",
       "      <td>6817</td>\n",
       "      <td>6925</td>\n",
       "      <td>2.607806e+05</td>\n",
       "      <td>0</td>\n",
       "      <td>1</td>\n",
       "    </tr>\n",
       "    <tr>\n",
       "      <th>807</th>\n",
       "      <td>808</td>\n",
       "      <td>14.05.2020 21:00:00.000</td>\n",
       "      <td>9718</td>\n",
       "      <td>9907</td>\n",
       "      <td>9194</td>\n",
       "      <td>9301</td>\n",
       "      <td>9.131771e+05</td>\n",
       "      <td>0</td>\n",
       "      <td>1</td>\n",
       "    </tr>\n",
       "    <tr>\n",
       "      <th>810</th>\n",
       "      <td>811</td>\n",
       "      <td>19.05.2020 21:00:00.000</td>\n",
       "      <td>9753</td>\n",
       "      <td>9895</td>\n",
       "      <td>9363</td>\n",
       "      <td>9645</td>\n",
       "      <td>2.214903e+05</td>\n",
       "      <td>0</td>\n",
       "      <td>1</td>\n",
       "    </tr>\n",
       "    <tr>\n",
       "      <th>830</th>\n",
       "      <td>831</td>\n",
       "      <td>16.06.2020 21:00:00.000</td>\n",
       "      <td>9554</td>\n",
       "      <td>9611</td>\n",
       "      <td>9290</td>\n",
       "      <td>9430</td>\n",
       "      <td>2.260406e+05</td>\n",
       "      <td>0</td>\n",
       "      <td>1</td>\n",
       "    </tr>\n",
       "    <tr>\n",
       "      <th>873</th>\n",
       "      <td>874</td>\n",
       "      <td>06.08.2020 21:00:00.000</td>\n",
       "      <td>11921</td>\n",
       "      <td>11969</td>\n",
       "      <td>11406</td>\n",
       "      <td>11563</td>\n",
       "      <td>2.619966e+03</td>\n",
       "      <td>0</td>\n",
       "      <td>1</td>\n",
       "    </tr>\n",
       "    <tr>\n",
       "      <th>906</th>\n",
       "      <td>907</td>\n",
       "      <td>12.09.2020 21:00:00.000</td>\n",
       "      <td>10466</td>\n",
       "      <td>10604</td>\n",
       "      <td>10235</td>\n",
       "      <td>10340</td>\n",
       "      <td>7.836310e+02</td>\n",
       "      <td>0</td>\n",
       "      <td>1</td>\n",
       "    </tr>\n",
       "    <tr>\n",
       "      <th>961</th>\n",
       "      <td>962</td>\n",
       "      <td>06.11.2020 22:00:00.000</td>\n",
       "      <td>15584</td>\n",
       "      <td>15802</td>\n",
       "      <td>14380</td>\n",
       "      <td>14863</td>\n",
       "      <td>1.889403e+03</td>\n",
       "      <td>0</td>\n",
       "      <td>1</td>\n",
       "    </tr>\n",
       "    <tr>\n",
       "      <th>968</th>\n",
       "      <td>969</td>\n",
       "      <td>13.11.2020 22:00:00.000</td>\n",
       "      <td>16326</td>\n",
       "      <td>16408</td>\n",
       "      <td>15749</td>\n",
       "      <td>16024</td>\n",
       "      <td>1.737333e+03</td>\n",
       "      <td>0</td>\n",
       "      <td>1</td>\n",
       "    </tr>\n",
       "    <tr>\n",
       "      <th>988</th>\n",
       "      <td>989</td>\n",
       "      <td>03.12.2020 22:00:00.000</td>\n",
       "      <td>19494</td>\n",
       "      <td>19580</td>\n",
       "      <td>18730</td>\n",
       "      <td>18849</td>\n",
       "      <td>2.002257e+03</td>\n",
       "      <td>0</td>\n",
       "      <td>1</td>\n",
       "    </tr>\n",
       "    <tr>\n",
       "      <th>1067</th>\n",
       "      <td>1068</td>\n",
       "      <td>21.02.2021 22:00:00.000</td>\n",
       "      <td>57420</td>\n",
       "      <td>57705</td>\n",
       "      <td>47694</td>\n",
       "      <td>54980</td>\n",
       "      <td>2.251350e+03</td>\n",
       "      <td>0</td>\n",
       "      <td>1</td>\n",
       "    </tr>\n",
       "    <tr>\n",
       "      <th>1094</th>\n",
       "      <td>1095</td>\n",
       "      <td>20.03.2021 21:00:00.000</td>\n",
       "      <td>58596</td>\n",
       "      <td>58866</td>\n",
       "      <td>55590</td>\n",
       "      <td>57865</td>\n",
       "      <td>1.301640e+03</td>\n",
       "      <td>0</td>\n",
       "      <td>1</td>\n",
       "    </tr>\n",
       "    <tr>\n",
       "      <th>1120</th>\n",
       "      <td>1121</td>\n",
       "      <td>15.04.2021 21:00:00.000</td>\n",
       "      <td>63456</td>\n",
       "      <td>63843</td>\n",
       "      <td>60090</td>\n",
       "      <td>62056</td>\n",
       "      <td>1.714719e+03</td>\n",
       "      <td>0</td>\n",
       "      <td>1</td>\n",
       "    </tr>\n",
       "    <tr>\n",
       "      <th>1146</th>\n",
       "      <td>1147</td>\n",
       "      <td>11.05.2021 21:00:00.000</td>\n",
       "      <td>56955</td>\n",
       "      <td>58032</td>\n",
       "      <td>53620</td>\n",
       "      <td>54520</td>\n",
       "      <td>1.841285e+03</td>\n",
       "      <td>0</td>\n",
       "      <td>1</td>\n",
       "    </tr>\n",
       "    <tr>\n",
       "      <th>1155</th>\n",
       "      <td>1156</td>\n",
       "      <td>20.05.2021 21:00:00.000</td>\n",
       "      <td>40122</td>\n",
       "      <td>42280</td>\n",
       "      <td>35252</td>\n",
       "      <td>35306</td>\n",
       "      <td>2.844277e+03</td>\n",
       "      <td>0</td>\n",
       "      <td>1</td>\n",
       "    </tr>\n",
       "    <tr>\n",
       "      <th>1200</th>\n",
       "      <td>1201</td>\n",
       "      <td>04.07.2021 21:00:00.000</td>\n",
       "      <td>35610</td>\n",
       "      <td>35999</td>\n",
       "      <td>33189</td>\n",
       "      <td>33907</td>\n",
       "      <td>1.026211e+03</td>\n",
       "      <td>0</td>\n",
       "      <td>1</td>\n",
       "    </tr>\n",
       "    <tr>\n",
       "      <th>1207</th>\n",
       "      <td>1208</td>\n",
       "      <td>11.07.2021 21:00:00.000</td>\n",
       "      <td>33917</td>\n",
       "      <td>34689</td>\n",
       "      <td>32706</td>\n",
       "      <td>32903</td>\n",
       "      <td>8.040760e+02</td>\n",
       "      <td>0</td>\n",
       "      <td>1</td>\n",
       "    </tr>\n",
       "    <tr>\n",
       "      <th>1248</th>\n",
       "      <td>1249</td>\n",
       "      <td>21.08.2021 21:00:00.000</td>\n",
       "      <td>49069</td>\n",
       "      <td>49520</td>\n",
       "      <td>48153</td>\n",
       "      <td>48469</td>\n",
       "      <td>1.412446e+03</td>\n",
       "      <td>0</td>\n",
       "      <td>1</td>\n",
       "    </tr>\n",
       "    <tr>\n",
       "      <th>1264</th>\n",
       "      <td>1265</td>\n",
       "      <td>06.09.2021 21:00:00.000</td>\n",
       "      <td>52006</td>\n",
       "      <td>52965</td>\n",
       "      <td>43054</td>\n",
       "      <td>46883</td>\n",
       "      <td>1.888374e+03</td>\n",
       "      <td>0</td>\n",
       "      <td>1</td>\n",
       "    </tr>\n",
       "  </tbody>\n",
       "</table>\n",
       "</div>"
      ],
      "text/plain": [
       "      index                 Gmt time   Open   High    Low  Close  \\\n",
       "14       14  25.05.2017 21:00:00.000   2485   2679   2243   2243   \n",
       "25       25  11.06.2017 21:00:00.000   2923   3003   2449   2547   \n",
       "27       27  13.06.2017 21:00:00.000   2703   2819   2523   2553   \n",
       "61       61  31.07.2017 21:00:00.000   2889   2928   2646   2745   \n",
       "89       89  07.09.2017 21:00:00.000   4598   4694   4140   4248   \n",
       "188     188  25.01.2018 22:00:00.000  11305  11664  10361  10948   \n",
       "206     206  20.02.2018 22:00:00.000  11761  11826  10300  10330   \n",
       "215     215  05.03.2018 22:00:00.000  11671  11714  10667  10890   \n",
       "229     229  25.03.2018 21:00:00.000   8697   8720   7933   7964   \n",
       "285     285  11.06.2018 21:00:00.000   6823   6972   6516   6594   \n",
       "328     328  09.08.2018 21:00:00.000   6581   6684   6205   6248   \n",
       "486     487  20.03.2019 21:00:00.000   4071   4115   3980   4028   \n",
       "512     513  25.04.2019 21:00:00.000   5557   5558   5047   5157   \n",
       "526     527  15.05.2019 21:00:00.000   8230   8443   7730   7730   \n",
       "530     531  21.05.2019 21:00:00.000   8151   8170   7755   7892   \n",
       "556     557  26.06.2019 21:00:00.000  12796  13399  10361  10733   \n",
       "565     566  09.07.2019 21:00:00.000  12462  13246  11697  11836   \n",
       "726     727  30.01.2020 22:00:00.000   9614   9622   9256   9362   \n",
       "738     739  12.02.2020 22:00:00.000  10450  10564  10140  10241   \n",
       "788     789  19.04.2020 21:00:00.000   7207   7278   6817   6925   \n",
       "807     808  14.05.2020 21:00:00.000   9718   9907   9194   9301   \n",
       "810     811  19.05.2020 21:00:00.000   9753   9895   9363   9645   \n",
       "830     831  16.06.2020 21:00:00.000   9554   9611   9290   9430   \n",
       "873     874  06.08.2020 21:00:00.000  11921  11969  11406  11563   \n",
       "906     907  12.09.2020 21:00:00.000  10466  10604  10235  10340   \n",
       "961     962  06.11.2020 22:00:00.000  15584  15802  14380  14863   \n",
       "968     969  13.11.2020 22:00:00.000  16326  16408  15749  16024   \n",
       "988     989  03.12.2020 22:00:00.000  19494  19580  18730  18849   \n",
       "1067   1068  21.02.2021 22:00:00.000  57420  57705  47694  54980   \n",
       "1094   1095  20.03.2021 21:00:00.000  58596  58866  55590  57865   \n",
       "1120   1121  15.04.2021 21:00:00.000  63456  63843  60090  62056   \n",
       "1146   1147  11.05.2021 21:00:00.000  56955  58032  53620  54520   \n",
       "1155   1156  20.05.2021 21:00:00.000  40122  42280  35252  35306   \n",
       "1200   1201  04.07.2021 21:00:00.000  35610  35999  33189  33907   \n",
       "1207   1208  11.07.2021 21:00:00.000  33917  34689  32706  32903   \n",
       "1248   1249  21.08.2021 21:00:00.000  49069  49520  48153  48469   \n",
       "1264   1265  06.09.2021 21:00:00.000  52006  52965  43054  46883   \n",
       "\n",
       "            Volume  rejection_signal  engulfing_signal  \n",
       "14    3.302266e+06                 0                 1  \n",
       "25    1.536865e+06                 0                 1  \n",
       "27    1.413301e+06                 0                 1  \n",
       "61    3.555171e+06                 0                 1  \n",
       "89    2.702564e+06                 0                 1  \n",
       "188   1.055831e+06                 0                 1  \n",
       "206   1.086790e+06                 0                 1  \n",
       "215   7.253400e+05                 0                 1  \n",
       "229   1.532677e+06                 0                 1  \n",
       "285   1.304907e+06                 0                 1  \n",
       "328   4.494378e+03                 0                 1  \n",
       "486   1.710587e+05                 0                 1  \n",
       "512   9.811341e+04                 0                 1  \n",
       "526   6.086549e+05                 0                 1  \n",
       "530   2.416813e+05                 0                 1  \n",
       "556   1.907087e+06                 0                 1  \n",
       "565   1.101480e+06                 0                 1  \n",
       "726   5.737449e+05                 0                 1  \n",
       "738   7.404008e+05                 0                 1  \n",
       "788   2.607806e+05                 0                 1  \n",
       "807   9.131771e+05                 0                 1  \n",
       "810   2.214903e+05                 0                 1  \n",
       "830   2.260406e+05                 0                 1  \n",
       "873   2.619966e+03                 0                 1  \n",
       "906   7.836310e+02                 0                 1  \n",
       "961   1.889403e+03                 0                 1  \n",
       "968   1.737333e+03                 0                 1  \n",
       "988   2.002257e+03                 0                 1  \n",
       "1067  2.251350e+03                 0                 1  \n",
       "1094  1.301640e+03                 0                 1  \n",
       "1120  1.714719e+03                 0                 1  \n",
       "1146  1.841285e+03                 0                 1  \n",
       "1155  2.844277e+03                 0                 1  \n",
       "1200  1.026211e+03                 0                 1  \n",
       "1207  8.040760e+02                 0                 1  \n",
       "1248  1.412446e+03                 0                 1  \n",
       "1264  1.888374e+03                 0                 1  "
      ]
     },
     "execution_count": 49,
     "metadata": {},
     "output_type": "execute_result"
    }
   ],
   "source": [
    "dataF[dataF[\"engulfing_signal\"]==1]"
   ]
  },
  {
   "cell_type": "code",
   "execution_count": 50,
   "metadata": {},
   "outputs": [
    {
     "data": {
      "application/vnd.plotly.v1+json": {
       "config": {
        "plotlyServerURL": "https://plot.ly"
       },
       "data": [
        {
         "close": {
          "bdata": "egbTBtgGQQecBsYG6gYZB1wHkgdnCKkIfgmkCcMIAwnMCO8IawmACUEKOAuzCr4KEwvzCY4K+Qk7CbgJFAq+CmQKcAqUCjQJmgkjCv8JyAn+CREKNAomCtMJUQkaCVcJIwlwCH4ILQnPCKoKQgrICqcJyAkYCsQKRgu5CoMK3woQCw4Ndw0iDWENBA6nEOgPABHsENEQnQ/pDyYQihDpEPQQ9RHfEYYSgxIPEWwR2RHgEZgQYRBUEDoPQA2ODqcPQg94D0EOIA5mD0QPOhBFEE0QKRG9EGkQ+xD1EOwSCRPbEscU8RUvFssVhBVFFlUXGhfcFTEW1BZ8FtQX6hi0GZIbPRzdG6MbYBzSG7gZbBnBGX4c1R4bHjogyB8NIOgfOiC5Jdkm2ie+JZcq",
          "dtype": "i2"
         },
         "high": {
          "bdata": "kQbZBukGXwcsBwsH9gZAB18Hqwf7COAIkgnxCncKMQlCCSEJugmSCUYKfQtGC/0KLwu7C+QKAwv/Cd4JGwrZCt0KqQqwCgEKpgknCi0KCAoZClIKPwpGCjIK7QlpCW4Jcgk0CY0IXQlhCasK1gryCt0KMwonChQLTQtwC8gK9go+C2MNoQ2FDYINBg73EGQRAxF/EQcRORAwEKkQoRBmERIRIxIgEqESiRIhEsIRUhJTElYSHBEiEXQQdg8ODx8QHBDOD4cPsw55D30PYRC1EH4QdhFPEQERCBFCEQcTPxMMEw8V7BZ+FpoW7RVtFrAXqxcsFz4WYRdsF0wYHhn6GekcGx0VHT0cyx5DHbQcrBpcGrIc2h4/H2MguCBwIFsgjCAXJvcmrywvKr4q",
          "dtype": "i2"
         },
         "low": {
          "bdata": "FQZaBo0G8QZzBrIGrgbSBgMHTQfPB8YHkwiyCMMILQijCFYI6AhGCcgJggqzCjQKvQqRCU4K2wkdCAAJnAkaCk0KCwpoCtAI3Qh8CccJsgmsCfEJ9AkVCroJOQnQCMMIBglpCD8HYQisCMUIOAqhCpIJZAmUCRgKhwpWCmwKWgrNCnkMDQ2mDOQMTA2QD+IO2w9ZEGEQfw++DrQP/A96EF8Q9BCUEc0RdxJGECoQPxGDESwQEhDwD5kOrgyfC3kOCw/9DvUNtw1QDg8PIw8fELIPCRGMEFkQMhDJEM0RhBJmErcSnxR9FZUV9hNvFfMVEBa7Ff4UChY6FowXxRfcGK4ZHRsmGxQbgxuWGxQZ5RUAGY4Z1BtwHQwfeB4jH6EfwR4/JFMlPCNEI6Ek",
          "dtype": "i2"
         },
         "open": {
          "bdata": "FwZ6BrEG+AYsBwcHzAbqBhQHXAfmB2gIugh4CbUJSAgJCdUI7whtCcoJggo4C7QKvgprC2EKjwr5CToJpgklCr4KZQpwCqkJLQmaCSMK/gnDCf4JEQo0CiYK4QlRCRoJVgkiCUkHfQguCc8IqgrkCsgKpAnICRgKyQpJC7QKgwrfCsIMDw13DSwNYQ2rD6cQ6A/lEOgQFxC/DukPJhCKEA4R9BD1Ed8RhhISEg8RbBHZEfYRwRBkEFQQOg9ADaQOpw9HD3cPQg5WDmYPRA86EEUQJBEoEbwQaRD7EOcR6xIJE9sSxhSVFTEWyhWFFUUW+hYaF90VMRbUFiEY1BfpGLQZlRvBHNkboxtfHNEbBhdrGcEZfxzWHlYfOiDIHw8g6B93JLUlwibYJ70l",
          "dtype": "i2"
         },
         "type": "candlestick",
         "x": {
          "bdata": "AAABAAIAAwAEAAUABgAHAAgACQAKAAsADAANAA4ADwAQABEAEgATABQAFQAWABcAGAAZABoAGwAcAB0AHgAfACAAIQAiACMAJAAlACYAJwAoACkAKgArACwALQAuAC8AMAAxADIAMwA0ADUANgA3ADgAOQA6ADsAPAA9AD4APwBAAEEAQgBDAEQARQBGAEcASABJAEoASwBMAE0ATgBPAFAAUQBSAFMAVABVAFYAVwBYAFkAWgBbAFwAXQBeAF8AYABhAGIAYwBkAGUAZgBnAGgAaQBqAGsAbABtAG4AbwBwAHEAcgBzAHQAdQB2AHcAeAB5AHoAewB8AH0AfgB/AIAAgQCCAIMAhACFAIYAhwCIAIkAigCLAIwAjQCOAI8AkACRAJIAkwCUAJUA",
          "dtype": "i2"
         }
        }
       ],
       "layout": {
        "template": {
         "data": {
          "bar": [
           {
            "error_x": {
             "color": "#2a3f5f"
            },
            "error_y": {
             "color": "#2a3f5f"
            },
            "marker": {
             "line": {
              "color": "#E5ECF6",
              "width": 0.5
             },
             "pattern": {
              "fillmode": "overlay",
              "size": 10,
              "solidity": 0.2
             }
            },
            "type": "bar"
           }
          ],
          "barpolar": [
           {
            "marker": {
             "line": {
              "color": "#E5ECF6",
              "width": 0.5
             },
             "pattern": {
              "fillmode": "overlay",
              "size": 10,
              "solidity": 0.2
             }
            },
            "type": "barpolar"
           }
          ],
          "carpet": [
           {
            "aaxis": {
             "endlinecolor": "#2a3f5f",
             "gridcolor": "white",
             "linecolor": "white",
             "minorgridcolor": "white",
             "startlinecolor": "#2a3f5f"
            },
            "baxis": {
             "endlinecolor": "#2a3f5f",
             "gridcolor": "white",
             "linecolor": "white",
             "minorgridcolor": "white",
             "startlinecolor": "#2a3f5f"
            },
            "type": "carpet"
           }
          ],
          "choropleth": [
           {
            "colorbar": {
             "outlinewidth": 0,
             "ticks": ""
            },
            "type": "choropleth"
           }
          ],
          "contour": [
           {
            "colorbar": {
             "outlinewidth": 0,
             "ticks": ""
            },
            "colorscale": [
             [
              0,
              "#0d0887"
             ],
             [
              0.1111111111111111,
              "#46039f"
             ],
             [
              0.2222222222222222,
              "#7201a8"
             ],
             [
              0.3333333333333333,
              "#9c179e"
             ],
             [
              0.4444444444444444,
              "#bd3786"
             ],
             [
              0.5555555555555556,
              "#d8576b"
             ],
             [
              0.6666666666666666,
              "#ed7953"
             ],
             [
              0.7777777777777778,
              "#fb9f3a"
             ],
             [
              0.8888888888888888,
              "#fdca26"
             ],
             [
              1,
              "#f0f921"
             ]
            ],
            "type": "contour"
           }
          ],
          "contourcarpet": [
           {
            "colorbar": {
             "outlinewidth": 0,
             "ticks": ""
            },
            "type": "contourcarpet"
           }
          ],
          "heatmap": [
           {
            "colorbar": {
             "outlinewidth": 0,
             "ticks": ""
            },
            "colorscale": [
             [
              0,
              "#0d0887"
             ],
             [
              0.1111111111111111,
              "#46039f"
             ],
             [
              0.2222222222222222,
              "#7201a8"
             ],
             [
              0.3333333333333333,
              "#9c179e"
             ],
             [
              0.4444444444444444,
              "#bd3786"
             ],
             [
              0.5555555555555556,
              "#d8576b"
             ],
             [
              0.6666666666666666,
              "#ed7953"
             ],
             [
              0.7777777777777778,
              "#fb9f3a"
             ],
             [
              0.8888888888888888,
              "#fdca26"
             ],
             [
              1,
              "#f0f921"
             ]
            ],
            "type": "heatmap"
           }
          ],
          "histogram": [
           {
            "marker": {
             "pattern": {
              "fillmode": "overlay",
              "size": 10,
              "solidity": 0.2
             }
            },
            "type": "histogram"
           }
          ],
          "histogram2d": [
           {
            "colorbar": {
             "outlinewidth": 0,
             "ticks": ""
            },
            "colorscale": [
             [
              0,
              "#0d0887"
             ],
             [
              0.1111111111111111,
              "#46039f"
             ],
             [
              0.2222222222222222,
              "#7201a8"
             ],
             [
              0.3333333333333333,
              "#9c179e"
             ],
             [
              0.4444444444444444,
              "#bd3786"
             ],
             [
              0.5555555555555556,
              "#d8576b"
             ],
             [
              0.6666666666666666,
              "#ed7953"
             ],
             [
              0.7777777777777778,
              "#fb9f3a"
             ],
             [
              0.8888888888888888,
              "#fdca26"
             ],
             [
              1,
              "#f0f921"
             ]
            ],
            "type": "histogram2d"
           }
          ],
          "histogram2dcontour": [
           {
            "colorbar": {
             "outlinewidth": 0,
             "ticks": ""
            },
            "colorscale": [
             [
              0,
              "#0d0887"
             ],
             [
              0.1111111111111111,
              "#46039f"
             ],
             [
              0.2222222222222222,
              "#7201a8"
             ],
             [
              0.3333333333333333,
              "#9c179e"
             ],
             [
              0.4444444444444444,
              "#bd3786"
             ],
             [
              0.5555555555555556,
              "#d8576b"
             ],
             [
              0.6666666666666666,
              "#ed7953"
             ],
             [
              0.7777777777777778,
              "#fb9f3a"
             ],
             [
              0.8888888888888888,
              "#fdca26"
             ],
             [
              1,
              "#f0f921"
             ]
            ],
            "type": "histogram2dcontour"
           }
          ],
          "mesh3d": [
           {
            "colorbar": {
             "outlinewidth": 0,
             "ticks": ""
            },
            "type": "mesh3d"
           }
          ],
          "parcoords": [
           {
            "line": {
             "colorbar": {
              "outlinewidth": 0,
              "ticks": ""
             }
            },
            "type": "parcoords"
           }
          ],
          "pie": [
           {
            "automargin": true,
            "type": "pie"
           }
          ],
          "scatter": [
           {
            "fillpattern": {
             "fillmode": "overlay",
             "size": 10,
             "solidity": 0.2
            },
            "type": "scatter"
           }
          ],
          "scatter3d": [
           {
            "line": {
             "colorbar": {
              "outlinewidth": 0,
              "ticks": ""
             }
            },
            "marker": {
             "colorbar": {
              "outlinewidth": 0,
              "ticks": ""
             }
            },
            "type": "scatter3d"
           }
          ],
          "scattercarpet": [
           {
            "marker": {
             "colorbar": {
              "outlinewidth": 0,
              "ticks": ""
             }
            },
            "type": "scattercarpet"
           }
          ],
          "scattergeo": [
           {
            "marker": {
             "colorbar": {
              "outlinewidth": 0,
              "ticks": ""
             }
            },
            "type": "scattergeo"
           }
          ],
          "scattergl": [
           {
            "marker": {
             "colorbar": {
              "outlinewidth": 0,
              "ticks": ""
             }
            },
            "type": "scattergl"
           }
          ],
          "scattermap": [
           {
            "marker": {
             "colorbar": {
              "outlinewidth": 0,
              "ticks": ""
             }
            },
            "type": "scattermap"
           }
          ],
          "scattermapbox": [
           {
            "marker": {
             "colorbar": {
              "outlinewidth": 0,
              "ticks": ""
             }
            },
            "type": "scattermapbox"
           }
          ],
          "scatterpolar": [
           {
            "marker": {
             "colorbar": {
              "outlinewidth": 0,
              "ticks": ""
             }
            },
            "type": "scatterpolar"
           }
          ],
          "scatterpolargl": [
           {
            "marker": {
             "colorbar": {
              "outlinewidth": 0,
              "ticks": ""
             }
            },
            "type": "scatterpolargl"
           }
          ],
          "scatterternary": [
           {
            "marker": {
             "colorbar": {
              "outlinewidth": 0,
              "ticks": ""
             }
            },
            "type": "scatterternary"
           }
          ],
          "surface": [
           {
            "colorbar": {
             "outlinewidth": 0,
             "ticks": ""
            },
            "colorscale": [
             [
              0,
              "#0d0887"
             ],
             [
              0.1111111111111111,
              "#46039f"
             ],
             [
              0.2222222222222222,
              "#7201a8"
             ],
             [
              0.3333333333333333,
              "#9c179e"
             ],
             [
              0.4444444444444444,
              "#bd3786"
             ],
             [
              0.5555555555555556,
              "#d8576b"
             ],
             [
              0.6666666666666666,
              "#ed7953"
             ],
             [
              0.7777777777777778,
              "#fb9f3a"
             ],
             [
              0.8888888888888888,
              "#fdca26"
             ],
             [
              1,
              "#f0f921"
             ]
            ],
            "type": "surface"
           }
          ],
          "table": [
           {
            "cells": {
             "fill": {
              "color": "#EBF0F8"
             },
             "line": {
              "color": "white"
             }
            },
            "header": {
             "fill": {
              "color": "#C8D4E3"
             },
             "line": {
              "color": "white"
             }
            },
            "type": "table"
           }
          ]
         },
         "layout": {
          "annotationdefaults": {
           "arrowcolor": "#2a3f5f",
           "arrowhead": 0,
           "arrowwidth": 1
          },
          "autotypenumbers": "strict",
          "coloraxis": {
           "colorbar": {
            "outlinewidth": 0,
            "ticks": ""
           }
          },
          "colorscale": {
           "diverging": [
            [
             0,
             "#8e0152"
            ],
            [
             0.1,
             "#c51b7d"
            ],
            [
             0.2,
             "#de77ae"
            ],
            [
             0.3,
             "#f1b6da"
            ],
            [
             0.4,
             "#fde0ef"
            ],
            [
             0.5,
             "#f7f7f7"
            ],
            [
             0.6,
             "#e6f5d0"
            ],
            [
             0.7,
             "#b8e186"
            ],
            [
             0.8,
             "#7fbc41"
            ],
            [
             0.9,
             "#4d9221"
            ],
            [
             1,
             "#276419"
            ]
           ],
           "sequential": [
            [
             0,
             "#0d0887"
            ],
            [
             0.1111111111111111,
             "#46039f"
            ],
            [
             0.2222222222222222,
             "#7201a8"
            ],
            [
             0.3333333333333333,
             "#9c179e"
            ],
            [
             0.4444444444444444,
             "#bd3786"
            ],
            [
             0.5555555555555556,
             "#d8576b"
            ],
            [
             0.6666666666666666,
             "#ed7953"
            ],
            [
             0.7777777777777778,
             "#fb9f3a"
            ],
            [
             0.8888888888888888,
             "#fdca26"
            ],
            [
             1,
             "#f0f921"
            ]
           ],
           "sequentialminus": [
            [
             0,
             "#0d0887"
            ],
            [
             0.1111111111111111,
             "#46039f"
            ],
            [
             0.2222222222222222,
             "#7201a8"
            ],
            [
             0.3333333333333333,
             "#9c179e"
            ],
            [
             0.4444444444444444,
             "#bd3786"
            ],
            [
             0.5555555555555556,
             "#d8576b"
            ],
            [
             0.6666666666666666,
             "#ed7953"
            ],
            [
             0.7777777777777778,
             "#fb9f3a"
            ],
            [
             0.8888888888888888,
             "#fdca26"
            ],
            [
             1,
             "#f0f921"
            ]
           ]
          },
          "colorway": [
           "#636efa",
           "#EF553B",
           "#00cc96",
           "#ab63fa",
           "#FFA15A",
           "#19d3f3",
           "#FF6692",
           "#B6E880",
           "#FF97FF",
           "#FECB52"
          ],
          "font": {
           "color": "#2a3f5f"
          },
          "geo": {
           "bgcolor": "white",
           "lakecolor": "white",
           "landcolor": "#E5ECF6",
           "showlakes": true,
           "showland": true,
           "subunitcolor": "white"
          },
          "hoverlabel": {
           "align": "left"
          },
          "hovermode": "closest",
          "mapbox": {
           "style": "light"
          },
          "paper_bgcolor": "white",
          "plot_bgcolor": "#E5ECF6",
          "polar": {
           "angularaxis": {
            "gridcolor": "white",
            "linecolor": "white",
            "ticks": ""
           },
           "bgcolor": "#E5ECF6",
           "radialaxis": {
            "gridcolor": "white",
            "linecolor": "white",
            "ticks": ""
           }
          },
          "scene": {
           "xaxis": {
            "backgroundcolor": "#E5ECF6",
            "gridcolor": "white",
            "gridwidth": 2,
            "linecolor": "white",
            "showbackground": true,
            "ticks": "",
            "zerolinecolor": "white"
           },
           "yaxis": {
            "backgroundcolor": "#E5ECF6",
            "gridcolor": "white",
            "gridwidth": 2,
            "linecolor": "white",
            "showbackground": true,
            "ticks": "",
            "zerolinecolor": "white"
           },
           "zaxis": {
            "backgroundcolor": "#E5ECF6",
            "gridcolor": "white",
            "gridwidth": 2,
            "linecolor": "white",
            "showbackground": true,
            "ticks": "",
            "zerolinecolor": "white"
           }
          },
          "shapedefaults": {
           "line": {
            "color": "#2a3f5f"
           }
          },
          "ternary": {
           "aaxis": {
            "gridcolor": "white",
            "linecolor": "white",
            "ticks": ""
           },
           "baxis": {
            "gridcolor": "white",
            "linecolor": "white",
            "ticks": ""
           },
           "bgcolor": "#E5ECF6",
           "caxis": {
            "gridcolor": "white",
            "linecolor": "white",
            "ticks": ""
           }
          },
          "title": {
           "x": 0.05
          },
          "xaxis": {
           "automargin": true,
           "gridcolor": "white",
           "linecolor": "white",
           "ticks": "",
           "title": {
            "standoff": 15
           },
           "zerolinecolor": "white",
           "zerolinewidth": 2
          },
          "yaxis": {
           "automargin": true,
           "gridcolor": "white",
           "linecolor": "white",
           "ticks": "",
           "title": {
            "standoff": 15
           },
           "zerolinecolor": "white",
           "zerolinewidth": 2
          }
         }
        }
       }
      }
     },
     "metadata": {},
     "output_type": "display_data"
    }
   ],
   "source": [
    "import plotly.graph_objects as go\n",
    "\n",
    "st = 0\n",
    "dfpl = dataF[st:st+150].copy()\n",
    "fig = go.Figure(data=[go.Candlestick(x=dfpl.index,\n",
    "                open=dfpl['Open'],\n",
    "                high=dfpl['High'],\n",
    "                low=dfpl['Low'],\n",
    "                close=dfpl['Close'])])\n",
    "\n",
    "fig.show()"
   ]
  },
  {
   "cell_type": "code",
   "execution_count": 51,
   "metadata": {},
   "outputs": [],
   "source": [
    "def average_next_n_candles(df, i, N):\n",
    "    # Check if there are N candles after the current one\n",
    "    if i + N >= len(df):\n",
    "        return None\n",
    "\n",
    "    # Compute the average closing price of the next N candles\n",
    "    avg_price = df['Close'].iloc[i+1:i+N+1].mean()\n",
    "\n",
    "    # Compare the average price to the current closing price\n",
    "    if avg_price < df['Close'].iloc[i]:\n",
    "        return 1\n",
    "    elif avg_price > df['Close'].iloc[i]:\n",
    "        return 2\n",
    "    else:\n",
    "        return 0\n",
    "\n",
    "N=4\n",
    "signal = [0]*len(dataF)\n",
    "for i in range(len(dataF)-N):\n",
    "    signal[i]= average_next_n_candles(dataF, i, N)\n",
    "dataF[\"price_target\"] = signal"
   ]
  },
  {
   "cell_type": "code",
   "execution_count": 52,
   "metadata": {},
   "outputs": [
    {
     "data": {
      "text/plain": [
       "index               43\n",
       "Gmt time            43\n",
       "Open                43\n",
       "High                43\n",
       "Low                 43\n",
       "Close               43\n",
       "Volume              43\n",
       "rejection_signal    43\n",
       "engulfing_signal    43\n",
       "price_target        43\n",
       "dtype: int64"
      ]
     },
     "execution_count": 52,
     "metadata": {},
     "output_type": "execute_result"
    }
   ],
   "source": [
    "dataF[dataF[\"engulfing_signal\"]==dataF[\"price_target\"]].count()"
   ]
  },
  {
   "cell_type": "code",
   "execution_count": 53,
   "metadata": {},
   "outputs": [],
   "source": [
    "equal_count = 0\n",
    "different_count = 0\n",
    "total_count = 0\n",
    "\n",
    "for i in range(len(dataF)):\n",
    "    if dataF.engulfing_signal.iloc[i] != 0:\n",
    "        total_count += 1\n",
    "        if dataF.engulfing_signal.iloc[i] == dataF.price_target.iloc[i]:\n",
    "            equal_count += 1\n",
    "        else:\n",
    "            different_count += 1\n",
    "\n",
    "equal_percentage = (equal_count / total_count) * 100\n",
    "different_percentage = (different_count / total_count) * 100"
   ]
  },
  {
   "cell_type": "code",
   "execution_count": 54,
   "metadata": {},
   "outputs": [
    {
     "name": "stdout",
     "output_type": "stream",
     "text": [
      "54.166666666666664 45.83333333333333\n"
     ]
    }
   ],
   "source": [
    "print(equal_percentage, different_percentage)"
   ]
  },
  {
   "cell_type": "code",
   "execution_count": null,
   "metadata": {},
   "outputs": [],
   "source": []
  }
 ],
 "metadata": {
  "kernelspec": {
   "display_name": ".venv",
   "language": "python",
   "name": "python3"
  },
  "language_info": {
   "codemirror_mode": {
    "name": "ipython",
    "version": 3
   },
   "file_extension": ".py",
   "mimetype": "text/x-python",
   "name": "python",
   "nbconvert_exporter": "python",
   "pygments_lexer": "ipython3",
   "version": "3.11.2"
  },
  "orig_nbformat": 4
 },
 "nbformat": 4,
 "nbformat_minor": 2
}
