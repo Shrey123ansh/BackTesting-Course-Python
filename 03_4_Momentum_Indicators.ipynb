{
 "cells": [
  {
   "cell_type": "code",
   "execution_count": 33,
   "metadata": {},
   "outputs": [
    {
     "name": "stderr",
     "output_type": "stream",
     "text": [
      "C:\\Users\\Admin\\AppData\\Local\\Temp\\ipykernel_23032\\227968034.py:3: FutureWarning:\n",
      "\n",
      "YF.download() has changed argument auto_adjust default to True\n",
      "\n",
      "[*********************100%***********************]  1 of 1 completed\n"
     ]
    }
   ],
   "source": [
    "import yfinance as yf\n",
    "import pandas_ta as ta\n",
    "data = yf.download(tickers='BTC-USD', period='max', interval='1d')"
   ]
  },
  {
   "cell_type": "code",
   "execution_count": 34,
   "metadata": {},
   "outputs": [],
   "source": [
    "import pandas_ta as ta\n",
    "import pandas as pd\n",
    "df = pd.read_csv(\"BTCUSD_Candlestick_1_D_ASK_08.05.2017-16.10.2021.csv\")\n",
    "a = ta.rsi(df['Close'], length = 10)\n",
    "data = df.join(a)"
   ]
  },
  {
   "cell_type": "code",
   "execution_count": 35,
   "metadata": {},
   "outputs": [
    {
     "data": {
      "application/vnd.plotly.v1+json": {
       "config": {
        "plotlyServerURL": "https://plot.ly"
       },
       "data": [
        {
         "close": {
          "bdata": "egbTBtgGQQecBsYG6gYZB1wHkgdnCKkIfgmkCcMIAwnMCO8IawmACUEKOAuzCr4KEwvzCY4K+Qk7CbgJFAq+CmQKcAqUCjQJmgkjCv8JyAn+CREKNAomCtMJUQkaCVcJIwlwCH4ILQnPCKoKQgrICqcJyAkYCsQKRgu5CoMK3woQCw4Ndw0iDWENBA6nEOgPABHsENEQnQ/pDyYQihDpEPQQ9RHfEYYSgxIPEWwR2RHgEZgQYRBUEDoPQA2ODqcPQg94D0EOIA5mD0QPOhBFEE0QKRG9EGkQ+xD1EOwSCRPbEscU8RUvFssVhBVFFlUXGhfcFTEW1BZ8FtQX6hi0GZIbPRzdG6MbYBzSG7gZbBnBGX4c1R4bHjogyB8NIOgfOiC5Jdkm2ie+JZcq7CwCLls0uz4fPf5CbkNxQXpA4UTzSAlCWz8ZPKU3GTY6PmY7cjbpN+w5DjuTOvJBlDr/ONA4zDTlNYI2/CmpLDUtkiyiKBgrAiwlLMQqKizZJ1En2CO7If8bhB7KHyYgniG0IqIhfyTDJpongSvwLVoo5SbyJr8oPCpWKewqSCuTLYoqOifmJO8jpyPQI+AgrCC8IVIhHSMDI98h9CEcH4EfJx8EHBsbXBsyHfgapxoTGlEaABs2G3seHh97HzYfRiByIJMhLCMzJbkj5iNXI4IkhCMmJAUmHiYoJRMkcCTGIzYhsCKHIaUgTSBjIBch7R/lHbQdVh1wHIsd7Ry2HU8dqB0QHgEeLh4fHqUawhm1GEIaoxmIGmoanRp+GvoXphhkGCkY2RdKFxwaFRpbGqUZ5RlnGjAZDhlXGGUYQBrOHOUcOB32HFUeXiAyIAggYCAWIEkedB22HRgdRhsaG+gYqBloGL8Y8xcgGasYhxlzGW0Z9xhPGQ8agBrnG8EbPhvEG8EcAx1lG24ZaRndGKwY5xh/GcMZhRjqGFQZJRl7GiIaMRmiGWIaNBrkGc4ZfhnsGeUZNBofGvkZoRimGDUZdRlfGTQZKhlKGTMZVRk7GUEZoBi5GNsY/hgOGT4ZUhmjGVAZ9RjjGMMY6xWZFYIV6xIsEZ4RiBHfEIcO8g65EJQQlw9cD3cPxw5HDnoNhQ1oDawN8gySDOENCg6QDtYPRQ8dEB4Q+w49DnEPlQ6UDmkPDg82D+IP2w/fD2sOfQ6MDi0OTw5kDlgO/Q0xDhQOLw4iDpUNhQ2kDZUNtg2WDZsNYg1bDUYORA40Di8OLg4oDkgPbA+FD3UPoQ8ZDwoP4Q4VDzEPsA42D0EPWg9XD0MPVQ9ID0gPdg+/D9QP5g+8D8YPZw+AD+AP4g8mEFYQ+RLmFCoTxBPAFA==",
          "dtype": "i2"
         },
         "high": {
          "bdata": "kQbZBukGXwcsBwsH9gZAB18Hqwf7COAIkgnxCncKMQlCCSEJugmSCUYKfQtGC/0KLwu7C+QKAwv/Cd4JGwrZCt0KqQqwCgEKpgknCi0KCAoZClIKPwpGCjIK7QlpCW4Jcgk0CY0IXQlhCasK1gryCt0KMwonChQLTQtwC8gK9go+C2MNoQ2FDYINBg73EGQRAxF/EQcRORAwEKkQoRBmERIRIxIgEqESiRIhEsIRUhJTElYSHBEiEXQQdg8ODx8QHBDOD4cPsw55D30PYRC1EH4QdhFPEQERCBFCEQcTPxMMEw8V7BZ+FpoW7RVtFrAXqxcsFz4WYRdsF0wYHhn6GekcGx0VHT0cyx5DHbQcrBpcGrIc2h4/H2MguCBwIFsgjCAXJvcmrywvKr4qPi1bLqc050TfQhhEsESlRAdDLEY4TEJKvEW8Q8M9JTkeP3ZAjzz1OsE7cjxrPFRCf0A9PJ05pjpWNyY4lTYtLksv0S6cLq8sGS3zLZAtOy4qLMsoOyhHJBchMB++IeghSSL6IkQjyyQgKGooKCwXLjIu4yrgKAYpnypvK4Ar3Cv7LcIt8irmJzQlFSduJfQkTiEGInsilCMfJMojiiIQIo8g7h+KH+McEhycHVwdSxsIG08cGxt8G5ofZCAiIScgcCCuILYhbSM/JWQmHiTpJC8liCQrJFkmkCYEJjslziXxJOwj7yLMIqEhViGSIMMhJSHuH20eIh5MHaIdwx3uHfcdjB4vHjoehx5PHuoaPBsWGnAaXhrLGvUa2xrDGpoa9xi7GKgYXRjbF0oaSRq9GmgaIhqgGswaQBknGfoYcRpXHdYdkB06HrIe3SBdIbkgiiCKIEIglx5QHsodMRwpHPwa0RkcGr8ZxxgUGoYZ1BnNGYsZFhuPGS4apxoRHAwc0xvrG9ocKB0XHYEbwBk2GUEZAhm7GfIZvhksGa8Zbhm1Gn0aIxrNGYgayRozGhEa4RkdGgwaZRpEGkkaGxrgGNAcmBmRGZUZRBliGU0ZeBlaGW4ZTxnOGA4Z/xgnGWUZcRnGGa0ZVhksGfQY0RhFFiUW8xVWE1ASKRKXETcQEg8+EWYRBRF5EPoPhQ89D2EOPw6eDdsNrg0ZDTgOMA6OD4gQfRDIEB4QTg87D68PPw+VDncPhQ9GDyIQQhADEP0Pqg61DqEOjQ6GDn4OJg5VDlsORg41DhIOrQ2/DcsNug2pDaMNrw1yDbkOgA5fDmYOQA5dDogPvw+3D84Prw9QDzIPKw9oDz8PGQ9aD28Pbg+CD4MPYA9dD3UPgQ/qD+YP7g8TENYPwA+OD/gP+w88EGwQDBTzFBcVBRQdFQ==",
          "dtype": "i2"
         },
         "low": {
          "bdata": "FQZaBo0G8QZzBrIGrgbSBgMHTQfPB8YHkwiyCMMILQijCFYI6AhGCcgJggqzCjQKvQqRCU4K2wkdCAAJnAkaCk0KCwpoCtAI3Qh8CccJsgmsCfEJ9AkVCroJOQnQCMMIBglpCD8HYQisCMUIOAqhCpIJZAmUCRgKhwpWCmwKWgrNCnkMDQ2mDOQMTA2QD+IO2w9ZEGEQfw++DrQP/A96EF8Q9BCUEc0RdxJGECoQPxGDESwQEhDwD5kOrgyfC3kOCw/9DvUNtw1QDg8PIw8fELIPCRGMEFkQMhDJEM0RhBJmErcSnxR9FZUV9hNvFfMVEBa7Ff4UChY6FowXxRfcGK4ZHRsmGxQbgxuWGxQZ5RUAGY4Z1BtwHQwfeB4jH6EfwR4/JFMlPCNEI6EkUCnGLLItEzRDNs84rD+MPb0+qT/HRmFByz0GOhoq2TJhNSs5vzRnNt0yQDm7NyY6jTaCN7A0LDJTMoM0qCgJJJYpvCpgJxgnMynDKnkoVyuAJtQl/SHwHfEZXhdIHKMdfh6GH+cgXCFWJBsmhyhoKzwoOCaqJdok0ifMKCgoWip/LKspRCXfIyYhviL/In8gZx5XH+If8CB/InUhqyD9HosegB4EHAUasBpUG5Qa/Bm3GSMaTBrJGrEaZh4oH9seBh/sH2MggSIfI4UiHSJGI+kjzCJgIxgkhCUvJKIjVSOcIwEhnyAzIeYfACA6H7wg1x9SHaoc6hxAHM0brBzeHPocVR3/HIEdAh66HTMadBk2GJ8YdhkzGU8a4BlcGsMXARgxGKkXyRfcFsAYwhlKGXEZcBlFGvUYwRg7GAIY+BgzGoYcrxyqHOscUB61H/Mfsx7xHi4eZR1MHbYcIxv2GiwYaxg9GEcYOxfzF4MYmBgvGZUY1hioGE8ZOxp2GjwbyxomG1YcfhwMG7sY9RiCGGEYdhjYGDMZfhiEGBwYABkVGesZ+BgkGVwZxhmmGXgZSRldGcAZxBnmGYIZJRg/GHwYKhlHGREZERkkGRIZMhkWGSkZfRiYGHcY0xj4GCEZLxlRGTQZ4xjfGK8Y+BSRFH0VjBIPEJgQRhE5EP0NIQ7dDjMQVg/dDtEOjQ4WDscMWA0bDTkN1Qx7DKsMpg3/DYoO+Q6ADx4Qog4tDisObw6UDrcO7Q7ODr0PqA+4DywOQA7iDRcOKw4UDjYO8A2fDf4NBA70DWgNSQ1oDX8NaA18DYINQw1VDUoNNw4YDiIODA4WDj4OMg9WD1cPaQ/NDvEOhw7ZDgUPkw6eDh8PMQ9EDyUPEw8uDwUPQg+ZD6oPuA+MD7EPSw9hD3wP0g/eDw4QVRDkEuoSIBNHFA==",
          "dtype": "i2"
         },
         "name": "OHLC",
         "open": {
          "bdata": "FwZ6BrEG+AYsBwcHzAbqBhQHXAfmB2gIugh4CbUJSAgJCdUI7whtCcoJggo4C7QKvgprC2EKjwr5CToJpgklCr4KZQpwCqkJLQmaCSMK/gnDCf4JEQo0CiYK4QlRCRoJVgkiCUkHfQguCc8IqgrkCsgKpAnICRgKyQpJC7QKgwrfCsIMDw13DSwNYQ2rD6cQ6A/lEOgQFxC/DukPJhCKEA4R9BD1Ed8RhhISEg8RbBHZEfYRwRBkEFQQOg9ADaQOpw9HD3cPQg5WDmYPRA86EEUQJBEoEbwQaRD7EOcR6xIJE9sSxhSVFTEWyhWFFUUW+hYaF90VMRbUFiEY1BfpGLQZlRvBHNkboxtfHNEbBhdrGcEZfxzWHlYfOiDIHw8g6B93JLUlwibYJ70lyyrtLAIuEzS4PtU5/kJmQ3JBi0ApSvNIYEJVPx48dDPaNT0+YTt3Nh81BzoCO5A6cz+KOuA42jj1NJQ0cjaGKZMsNC2gLJUoGiv4KyksNC4aLNMnSSfhI7YfHhyHHsMfICCYILQirSF5JOgmOiqXK/EtdCjeJq0lvyg9Kl0p6irVLJctiio/J9okriWoI88j4CCsIHUgUiEdIwMj3yH5IR8fhR8nHwQc7hpgGzEd/xqmGpwbURoAGzQbgB65IHsfNh9HIHIgGiMqIzYluSPfI7QkgiSEIyYk/yWNJSwlFCRtJMYjEiKuIoghmSBMII0hGCHsH+IdtB3eHGwckh3tHLUdTB6oHRIeAh4uHpYapxrCGbQYQhqhGYoaaRqeGn8aaximGGQYKhjbFwAZGhoWGloaqBmYGmcaNhkOGVcYJxlAGs8c1Bw7HaYdVR5jIDMgCCBCIBkgUx50HbQdyhtGG/sa7hi1Gf8YvxjzFyEZqxi9GXMZcBn3GFAZUxp/GucbwRs+G7AcwRwDHWUbbhkwGd0YqhjkGH8ZoRmEGPIYVRklGVMaIxoxGaIZYxrfGeIZyBl8GegZzRk1Gh8a9hmkGLoYNhl1GWAZNBlfGUkZNRlVGT4ZOBmgGLgY2xj+GEoZPRlSGaIZUBnqGOIYwxjlFaQV5RXrEi0RnxGKEQwQjA7yDrkQlBBuEFwPdw/HDkcOAA6EDWgNrA3yDL8M4A0KDpAO1g+pDx4QDA/8Dj0OKQ+VDsMOaQ8OD/0P4g/bD98Paw74DYwOLQ5QDmUOEA7+DTEOFA4vDhIOlQ2FDaUNlQ1/DZYNmw1iDVsNUg5EDjQOMA4uDj4OSA9sD4UPdQ8FDxkPCw/hDhUPCg+wDjYPQQ9aD3UPRA9VD0gPSA/ED78P1A/nD7wPrQ9mD4EP4A/iDzQQXBD/EuYULRNPFA==",
          "dtype": "i2"
         },
         "type": "candlestick",
         "x": {
          "bdata": "AAABAAIAAwAEAAUABgAHAAgACQAKAAsADAANAA4ADwAQABEAEgATABQAFQAWABcAGAAZABoAGwAcAB0AHgAfACAAIQAiACMAJAAlACYAJwAoACkAKgArACwALQAuAC8AMAAxADIAMwA0ADUANgA3ADgAOQA6ADsAPAA9AD4APwBAAEEAQgBDAEQARQBGAEcASABJAEoASwBMAE0ATgBPAFAAUQBSAFMAVABVAFYAVwBYAFkAWgBbAFwAXQBeAF8AYABhAGIAYwBkAGUAZgBnAGgAaQBqAGsAbABtAG4AbwBwAHEAcgBzAHQAdQB2AHcAeAB5AHoAewB8AH0AfgB/AIAAgQCCAIMAhACFAIYAhwCIAIkAigCLAIwAjQCOAI8AkACRAJIAkwCUAJUAlgCXAJgAmQCaAJsAnACdAJ4AnwCgAKEAogCjAKQApQCmAKcAqACpAKoAqwCsAK0ArgCvALAAsQCyALMAtAC1ALYAtwC4ALkAugC7ALwAvQC+AL8AwADBAMIAwwDEAMUAxgDHAMgAyQDKAMsAzADNAM4AzwDQANEA0gDTANQA1QDWANcA2ADZANoA2wDcAN0A3gDfAOAA4QDiAOMA5ADlAOYA5wDoAOkA6gDrAOwA7QDuAO8A8ADxAPIA8wD0APUA9gD3APgA+QD6APsA/AD9AP4A/wAAAQEBAgEDAQQBBQEGAQcBCAEJAQoBCwEMAQ0BDgEPARABEQESARMBFAEVARYBFwEYARkBGgEbARwBHQEeAR8BIAEhASIBIwEkASUBJgEnASgBKQEqASsBLAEtAS4BLwEwATEBMgEzATQBNQE2ATcBOAE5AToBOwE8AT0BPgE/AUABQQFCAUMBRAFFAUYBRwFIAUkBSgFLAUwBTQFOAU8BUAFRAVIBUwFUAVUBVgFXAVgBWQFaAVsBXAFdAV4BXwFgAWEBYgFjAWQBZQFmAWcBaAFpAWoBawFsAW0BbgFvAXABcQFyAXMBdAF1AXYBdwF4AXkBegF7AXwBfQF+AX8BgAGBAYIBgwGEAYUBhgGHAYgBiQGKAYsBjAGNAY4BjwGQAZEBkgGTAZQBlQGWAZcBmAGZAZoBmwGcAZ0BngGfAaABoQGiAaMBpAGlAaYBpwGoAakBqgGrAawBrQGuAa8BsAGxAbIBswG0AbUBtgG3AbgBuQG6AbsBvAG9Ab4BvwHAAcEBwgHDAcQBxQHGAccByAHJAcoBywHMAc0BzgHPAdAB0QHSAdMB1AHVAdYB1wHYAdkB2gHbAdwB3QHeAd8B4AHhAeIB4wHkAeUB5gHnAegB6QHqAesB7AHtAe4B7wHwAfEB8gHzAQ==",
          "dtype": "i2"
         }
        },
        {
         "name": "RSI",
         "type": "scatter",
         "x": {
          "bdata": "AAABAAIAAwAEAAUABgAHAAgACQAKAAsADAANAA4ADwAQABEAEgATABQAFQAWABcAGAAZABoAGwAcAB0AHgAfACAAIQAiACMAJAAlACYAJwAoACkAKgArACwALQAuAC8AMAAxADIAMwA0ADUANgA3ADgAOQA6ADsAPAA9AD4APwBAAEEAQgBDAEQARQBGAEcASABJAEoASwBMAE0ATgBPAFAAUQBSAFMAVABVAFYAVwBYAFkAWgBbAFwAXQBeAF8AYABhAGIAYwBkAGUAZgBnAGgAaQBqAGsAbABtAG4AbwBwAHEAcgBzAHQAdQB2AHcAeAB5AHoAewB8AH0AfgB/AIAAgQCCAIMAhACFAIYAhwCIAIkAigCLAIwAjQCOAI8AkACRAJIAkwCUAJUAlgCXAJgAmQCaAJsAnACdAJ4AnwCgAKEAogCjAKQApQCmAKcAqACpAKoAqwCsAK0ArgCvALAAsQCyALMAtAC1ALYAtwC4ALkAugC7ALwAvQC+AL8AwADBAMIAwwDEAMUAxgDHAMgAyQDKAMsAzADNAM4AzwDQANEA0gDTANQA1QDWANcA2ADZANoA2wDcAN0A3gDfAOAA4QDiAOMA5ADlAOYA5wDoAOkA6gDrAOwA7QDuAO8A8ADxAPIA8wD0APUA9gD3APgA+QD6APsA/AD9AP4A/wAAAQEBAgEDAQQBBQEGAQcBCAEJAQoBCwEMAQ0BDgEPARABEQESARMBFAEVARYBFwEYARkBGgEbARwBHQEeAR8BIAEhASIBIwEkASUBJgEnASgBKQEqASsBLAEtAS4BLwEwATEBMgEzATQBNQE2ATcBOAE5AToBOwE8AT0BPgE/AUABQQFCAUMBRAFFAUYBRwFIAUkBSgFLAUwBTQFOAU8BUAFRAVIBUwFUAVUBVgFXAVgBWQFaAVsBXAFdAV4BXwFgAWEBYgFjAWQBZQFmAWcBaAFpAWoBawFsAW0BbgFvAXABcQFyAXMBdAF1AXYBdwF4AXkBegF7AXwBfQF+AX8BgAGBAYIBgwGEAYUBhgGHAYgBiQGKAYsBjAGNAY4BjwGQAZEBkgGTAZQBlQGWAZcBmAGZAZoBmwGcAZ0BngGfAaABoQGiAaMBpAGlAaYBpwGoAakBqgGrAawBrQGuAa8BsAGxAbIBswG0AbUBtgG3AbgBuQG6AbsBvAG9Ab4BvwHAAcEBwgHDAcQBxQHGAccByAHJAcoBywHMAc0BzgHPAdAB0QHSAdMB1AHVAdYB1wHYAdkB2gHbAdwB3QHeAd8B4AHhAeIB4wHkAeUB5gHnAegB6QHqAesB7AHtAe4B7wHwAfEB8gHzAQ==",
          "dtype": "i2"
         },
         "y": {
          "bdata": "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",
          "dtype": "f8"
         },
         "yaxis": "y2"
        }
       ],
       "layout": {
        "template": {
         "data": {
          "bar": [
           {
            "error_x": {
             "color": "#2a3f5f"
            },
            "error_y": {
             "color": "#2a3f5f"
            },
            "marker": {
             "line": {
              "color": "#E5ECF6",
              "width": 0.5
             },
             "pattern": {
              "fillmode": "overlay",
              "size": 10,
              "solidity": 0.2
             }
            },
            "type": "bar"
           }
          ],
          "barpolar": [
           {
            "marker": {
             "line": {
              "color": "#E5ECF6",
              "width": 0.5
             },
             "pattern": {
              "fillmode": "overlay",
              "size": 10,
              "solidity": 0.2
             }
            },
            "type": "barpolar"
           }
          ],
          "carpet": [
           {
            "aaxis": {
             "endlinecolor": "#2a3f5f",
             "gridcolor": "white",
             "linecolor": "white",
             "minorgridcolor": "white",
             "startlinecolor": "#2a3f5f"
            },
            "baxis": {
             "endlinecolor": "#2a3f5f",
             "gridcolor": "white",
             "linecolor": "white",
             "minorgridcolor": "white",
             "startlinecolor": "#2a3f5f"
            },
            "type": "carpet"
           }
          ],
          "choropleth": [
           {
            "colorbar": {
             "outlinewidth": 0,
             "ticks": ""
            },
            "type": "choropleth"
           }
          ],
          "contour": [
           {
            "colorbar": {
             "outlinewidth": 0,
             "ticks": ""
            },
            "colorscale": [
             [
              0,
              "#0d0887"
             ],
             [
              0.1111111111111111,
              "#46039f"
             ],
             [
              0.2222222222222222,
              "#7201a8"
             ],
             [
              0.3333333333333333,
              "#9c179e"
             ],
             [
              0.4444444444444444,
              "#bd3786"
             ],
             [
              0.5555555555555556,
              "#d8576b"
             ],
             [
              0.6666666666666666,
              "#ed7953"
             ],
             [
              0.7777777777777778,
              "#fb9f3a"
             ],
             [
              0.8888888888888888,
              "#fdca26"
             ],
             [
              1,
              "#f0f921"
             ]
            ],
            "type": "contour"
           }
          ],
          "contourcarpet": [
           {
            "colorbar": {
             "outlinewidth": 0,
             "ticks": ""
            },
            "type": "contourcarpet"
           }
          ],
          "heatmap": [
           {
            "colorbar": {
             "outlinewidth": 0,
             "ticks": ""
            },
            "colorscale": [
             [
              0,
              "#0d0887"
             ],
             [
              0.1111111111111111,
              "#46039f"
             ],
             [
              0.2222222222222222,
              "#7201a8"
             ],
             [
              0.3333333333333333,
              "#9c179e"
             ],
             [
              0.4444444444444444,
              "#bd3786"
             ],
             [
              0.5555555555555556,
              "#d8576b"
             ],
             [
              0.6666666666666666,
              "#ed7953"
             ],
             [
              0.7777777777777778,
              "#fb9f3a"
             ],
             [
              0.8888888888888888,
              "#fdca26"
             ],
             [
              1,
              "#f0f921"
             ]
            ],
            "type": "heatmap"
           }
          ],
          "histogram": [
           {
            "marker": {
             "pattern": {
              "fillmode": "overlay",
              "size": 10,
              "solidity": 0.2
             }
            },
            "type": "histogram"
           }
          ],
          "histogram2d": [
           {
            "colorbar": {
             "outlinewidth": 0,
             "ticks": ""
            },
            "colorscale": [
             [
              0,
              "#0d0887"
             ],
             [
              0.1111111111111111,
              "#46039f"
             ],
             [
              0.2222222222222222,
              "#7201a8"
             ],
             [
              0.3333333333333333,
              "#9c179e"
             ],
             [
              0.4444444444444444,
              "#bd3786"
             ],
             [
              0.5555555555555556,
              "#d8576b"
             ],
             [
              0.6666666666666666,
              "#ed7953"
             ],
             [
              0.7777777777777778,
              "#fb9f3a"
             ],
             [
              0.8888888888888888,
              "#fdca26"
             ],
             [
              1,
              "#f0f921"
             ]
            ],
            "type": "histogram2d"
           }
          ],
          "histogram2dcontour": [
           {
            "colorbar": {
             "outlinewidth": 0,
             "ticks": ""
            },
            "colorscale": [
             [
              0,
              "#0d0887"
             ],
             [
              0.1111111111111111,
              "#46039f"
             ],
             [
              0.2222222222222222,
              "#7201a8"
             ],
             [
              0.3333333333333333,
              "#9c179e"
             ],
             [
              0.4444444444444444,
              "#bd3786"
             ],
             [
              0.5555555555555556,
              "#d8576b"
             ],
             [
              0.6666666666666666,
              "#ed7953"
             ],
             [
              0.7777777777777778,
              "#fb9f3a"
             ],
             [
              0.8888888888888888,
              "#fdca26"
             ],
             [
              1,
              "#f0f921"
             ]
            ],
            "type": "histogram2dcontour"
           }
          ],
          "mesh3d": [
           {
            "colorbar": {
             "outlinewidth": 0,
             "ticks": ""
            },
            "type": "mesh3d"
           }
          ],
          "parcoords": [
           {
            "line": {
             "colorbar": {
              "outlinewidth": 0,
              "ticks": ""
             }
            },
            "type": "parcoords"
           }
          ],
          "pie": [
           {
            "automargin": true,
            "type": "pie"
           }
          ],
          "scatter": [
           {
            "fillpattern": {
             "fillmode": "overlay",
             "size": 10,
             "solidity": 0.2
            },
            "type": "scatter"
           }
          ],
          "scatter3d": [
           {
            "line": {
             "colorbar": {
              "outlinewidth": 0,
              "ticks": ""
             }
            },
            "marker": {
             "colorbar": {
              "outlinewidth": 0,
              "ticks": ""
             }
            },
            "type": "scatter3d"
           }
          ],
          "scattercarpet": [
           {
            "marker": {
             "colorbar": {
              "outlinewidth": 0,
              "ticks": ""
             }
            },
            "type": "scattercarpet"
           }
          ],
          "scattergeo": [
           {
            "marker": {
             "colorbar": {
              "outlinewidth": 0,
              "ticks": ""
             }
            },
            "type": "scattergeo"
           }
          ],
          "scattergl": [
           {
            "marker": {
             "colorbar": {
              "outlinewidth": 0,
              "ticks": ""
             }
            },
            "type": "scattergl"
           }
          ],
          "scattermap": [
           {
            "marker": {
             "colorbar": {
              "outlinewidth": 0,
              "ticks": ""
             }
            },
            "type": "scattermap"
           }
          ],
          "scattermapbox": [
           {
            "marker": {
             "colorbar": {
              "outlinewidth": 0,
              "ticks": ""
             }
            },
            "type": "scattermapbox"
           }
          ],
          "scatterpolar": [
           {
            "marker": {
             "colorbar": {
              "outlinewidth": 0,
              "ticks": ""
             }
            },
            "type": "scatterpolar"
           }
          ],
          "scatterpolargl": [
           {
            "marker": {
             "colorbar": {
              "outlinewidth": 0,
              "ticks": ""
             }
            },
            "type": "scatterpolargl"
           }
          ],
          "scatterternary": [
           {
            "marker": {
             "colorbar": {
              "outlinewidth": 0,
              "ticks": ""
             }
            },
            "type": "scatterternary"
           }
          ],
          "surface": [
           {
            "colorbar": {
             "outlinewidth": 0,
             "ticks": ""
            },
            "colorscale": [
             [
              0,
              "#0d0887"
             ],
             [
              0.1111111111111111,
              "#46039f"
             ],
             [
              0.2222222222222222,
              "#7201a8"
             ],
             [
              0.3333333333333333,
              "#9c179e"
             ],
             [
              0.4444444444444444,
              "#bd3786"
             ],
             [
              0.5555555555555556,
              "#d8576b"
             ],
             [
              0.6666666666666666,
              "#ed7953"
             ],
             [
              0.7777777777777778,
              "#fb9f3a"
             ],
             [
              0.8888888888888888,
              "#fdca26"
             ],
             [
              1,
              "#f0f921"
             ]
            ],
            "type": "surface"
           }
          ],
          "table": [
           {
            "cells": {
             "fill": {
              "color": "#EBF0F8"
             },
             "line": {
              "color": "white"
             }
            },
            "header": {
             "fill": {
              "color": "#C8D4E3"
             },
             "line": {
              "color": "white"
             }
            },
            "type": "table"
           }
          ]
         },
         "layout": {
          "annotationdefaults": {
           "arrowcolor": "#2a3f5f",
           "arrowhead": 0,
           "arrowwidth": 1
          },
          "autotypenumbers": "strict",
          "coloraxis": {
           "colorbar": {
            "outlinewidth": 0,
            "ticks": ""
           }
          },
          "colorscale": {
           "diverging": [
            [
             0,
             "#8e0152"
            ],
            [
             0.1,
             "#c51b7d"
            ],
            [
             0.2,
             "#de77ae"
            ],
            [
             0.3,
             "#f1b6da"
            ],
            [
             0.4,
             "#fde0ef"
            ],
            [
             0.5,
             "#f7f7f7"
            ],
            [
             0.6,
             "#e6f5d0"
            ],
            [
             0.7,
             "#b8e186"
            ],
            [
             0.8,
             "#7fbc41"
            ],
            [
             0.9,
             "#4d9221"
            ],
            [
             1,
             "#276419"
            ]
           ],
           "sequential": [
            [
             0,
             "#0d0887"
            ],
            [
             0.1111111111111111,
             "#46039f"
            ],
            [
             0.2222222222222222,
             "#7201a8"
            ],
            [
             0.3333333333333333,
             "#9c179e"
            ],
            [
             0.4444444444444444,
             "#bd3786"
            ],
            [
             0.5555555555555556,
             "#d8576b"
            ],
            [
             0.6666666666666666,
             "#ed7953"
            ],
            [
             0.7777777777777778,
             "#fb9f3a"
            ],
            [
             0.8888888888888888,
             "#fdca26"
            ],
            [
             1,
             "#f0f921"
            ]
           ],
           "sequentialminus": [
            [
             0,
             "#0d0887"
            ],
            [
             0.1111111111111111,
             "#46039f"
            ],
            [
             0.2222222222222222,
             "#7201a8"
            ],
            [
             0.3333333333333333,
             "#9c179e"
            ],
            [
             0.4444444444444444,
             "#bd3786"
            ],
            [
             0.5555555555555556,
             "#d8576b"
            ],
            [
             0.6666666666666666,
             "#ed7953"
            ],
            [
             0.7777777777777778,
             "#fb9f3a"
            ],
            [
             0.8888888888888888,
             "#fdca26"
            ],
            [
             1,
             "#f0f921"
            ]
           ]
          },
          "colorway": [
           "#636efa",
           "#EF553B",
           "#00cc96",
           "#ab63fa",
           "#FFA15A",
           "#19d3f3",
           "#FF6692",
           "#B6E880",
           "#FF97FF",
           "#FECB52"
          ],
          "font": {
           "color": "#2a3f5f"
          },
          "geo": {
           "bgcolor": "white",
           "lakecolor": "white",
           "landcolor": "#E5ECF6",
           "showlakes": true,
           "showland": true,
           "subunitcolor": "white"
          },
          "hoverlabel": {
           "align": "left"
          },
          "hovermode": "closest",
          "mapbox": {
           "style": "light"
          },
          "paper_bgcolor": "white",
          "plot_bgcolor": "#E5ECF6",
          "polar": {
           "angularaxis": {
            "gridcolor": "white",
            "linecolor": "white",
            "ticks": ""
           },
           "bgcolor": "#E5ECF6",
           "radialaxis": {
            "gridcolor": "white",
            "linecolor": "white",
            "ticks": ""
           }
          },
          "scene": {
           "xaxis": {
            "backgroundcolor": "#E5ECF6",
            "gridcolor": "white",
            "gridwidth": 2,
            "linecolor": "white",
            "showbackground": true,
            "ticks": "",
            "zerolinecolor": "white"
           },
           "yaxis": {
            "backgroundcolor": "#E5ECF6",
            "gridcolor": "white",
            "gridwidth": 2,
            "linecolor": "white",
            "showbackground": true,
            "ticks": "",
            "zerolinecolor": "white"
           },
           "zaxis": {
            "backgroundcolor": "#E5ECF6",
            "gridcolor": "white",
            "gridwidth": 2,
            "linecolor": "white",
            "showbackground": true,
            "ticks": "",
            "zerolinecolor": "white"
           }
          },
          "shapedefaults": {
           "line": {
            "color": "#2a3f5f"
           }
          },
          "ternary": {
           "aaxis": {
            "gridcolor": "white",
            "linecolor": "white",
            "ticks": ""
           },
           "baxis": {
            "gridcolor": "white",
            "linecolor": "white",
            "ticks": ""
           },
           "bgcolor": "#E5ECF6",
           "caxis": {
            "gridcolor": "white",
            "linecolor": "white",
            "ticks": ""
           }
          },
          "title": {
           "x": 0.05
          },
          "xaxis": {
           "automargin": true,
           "gridcolor": "white",
           "linecolor": "white",
           "ticks": "",
           "title": {
            "standoff": 15
           },
           "zerolinecolor": "white",
           "zerolinewidth": 2
          },
          "yaxis": {
           "automargin": true,
           "gridcolor": "white",
           "linecolor": "white",
           "ticks": "",
           "title": {
            "standoff": 15
           },
           "zerolinecolor": "white",
           "zerolinewidth": 2
          }
         }
        },
        "title": {
         "text": "OHLC with RSI(10)"
        },
        "yaxis": {
         "domain": [
          0.2,
          1
         ]
        },
        "yaxis2": {
         "anchor": "free",
         "domain": [
          0,
          0.2
         ],
         "overlaying": "y",
         "side": "right",
         "title": {
          "text": "RSI"
         }
        }
       }
      }
     },
     "metadata": {},
     "output_type": "display_data"
    }
   ],
   "source": [
    "import plotly.graph_objects as go\n",
    "df = data[:500]\n",
    "fig = go.Figure(data=[go.Candlestick(x=df.index,\n",
    "                open=df['Open'],\n",
    "                high=df['High'],\n",
    "                low=df['Low'],\n",
    "                close=df['Close'],\n",
    "                name='OHLC'),\n",
    "                go.Scatter(x=df.index, y=df['RSI_10'], name='RSI', yaxis='y2')\n",
    "                ])\n",
    "\n",
    "fig.update_layout(\n",
    "    title='OHLC with RSI(10)',\n",
    "    yaxis=dict(\n",
    "        domain=[0.2, 1]\n",
    "    ),\n",
    "    yaxis2=dict(\n",
    "        domain=[0, 0.2],\n",
    "        anchor='free',\n",
    "        overlaying='y',\n",
    "        side='right',\n",
    "        title='RSI'\n",
    "    ))\n",
    "\n",
    "fig.show()\n"
   ]
  },
  {
   "cell_type": "code",
   "execution_count": 36,
   "metadata": {},
   "outputs": [
    {
     "name": "stderr",
     "output_type": "stream",
     "text": [
      "C:\\Users\\Admin\\AppData\\Local\\Temp\\ipykernel_23032\\2769018727.py:1: SettingWithCopyWarning:\n",
      "\n",
      "\n",
      "A value is trying to be set on a copy of a slice from a DataFrame.\n",
      "Try using .loc[row_indexer,col_indexer] = value instead\n",
      "\n",
      "See the caveats in the documentation: https://pandas.pydata.org/pandas-docs/stable/user_guide/indexing.html#returning-a-view-versus-a-copy\n",
      "\n",
      "C:\\Users\\Admin\\AppData\\Local\\Temp\\ipykernel_23032\\2769018727.py:1: SettingWithCopyWarning:\n",
      "\n",
      "\n",
      "A value is trying to be set on a copy of a slice from a DataFrame.\n",
      "Try using .loc[row_indexer,col_indexer] = value instead\n",
      "\n",
      "See the caveats in the documentation: https://pandas.pydata.org/pandas-docs/stable/user_guide/indexing.html#returning-a-view-versus-a-copy\n",
      "\n"
     ]
    },
    {
     "data": {
      "text/html": [
       "<div>\n",
       "<style scoped>\n",
       "    .dataframe tbody tr th:only-of-type {\n",
       "        vertical-align: middle;\n",
       "    }\n",
       "\n",
       "    .dataframe tbody tr th {\n",
       "        vertical-align: top;\n",
       "    }\n",
       "\n",
       "    .dataframe thead th {\n",
       "        text-align: right;\n",
       "    }\n",
       "</style>\n",
       "<table border=\"1\" class=\"dataframe\">\n",
       "  <thead>\n",
       "    <tr style=\"text-align: right;\">\n",
       "      <th></th>\n",
       "      <th>STOCHk_14_3_3</th>\n",
       "      <th>STOCHd_14_3_3</th>\n",
       "    </tr>\n",
       "  </thead>\n",
       "  <tbody>\n",
       "    <tr>\n",
       "      <th>13</th>\n",
       "      <td>NaN</td>\n",
       "      <td>NaN</td>\n",
       "    </tr>\n",
       "    <tr>\n",
       "      <th>14</th>\n",
       "      <td>NaN</td>\n",
       "      <td>NaN</td>\n",
       "    </tr>\n",
       "    <tr>\n",
       "      <th>15</th>\n",
       "      <td>60.928543</td>\n",
       "      <td>NaN</td>\n",
       "    </tr>\n",
       "    <tr>\n",
       "      <th>16</th>\n",
       "      <td>53.938329</td>\n",
       "      <td>NaN</td>\n",
       "    </tr>\n",
       "    <tr>\n",
       "      <th>17</th>\n",
       "      <td>54.869565</td>\n",
       "      <td>56.578812</td>\n",
       "    </tr>\n",
       "    <tr>\n",
       "      <th>...</th>\n",
       "      <td>...</td>\n",
       "      <td>...</td>\n",
       "    </tr>\n",
       "    <tr>\n",
       "      <th>495</th>\n",
       "      <td>88.476797</td>\n",
       "      <td>87.774351</td>\n",
       "    </tr>\n",
       "    <tr>\n",
       "      <th>496</th>\n",
       "      <td>90.537367</td>\n",
       "      <td>89.521362</td>\n",
       "    </tr>\n",
       "    <tr>\n",
       "      <th>497</th>\n",
       "      <td>81.506403</td>\n",
       "      <td>86.840189</td>\n",
       "    </tr>\n",
       "    <tr>\n",
       "      <th>498</th>\n",
       "      <td>81.014355</td>\n",
       "      <td>84.352708</td>\n",
       "    </tr>\n",
       "    <tr>\n",
       "      <th>499</th>\n",
       "      <td>79.231233</td>\n",
       "      <td>80.583997</td>\n",
       "    </tr>\n",
       "  </tbody>\n",
       "</table>\n",
       "<p>487 rows × 2 columns</p>\n",
       "</div>"
      ],
      "text/plain": [
       "     STOCHk_14_3_3  STOCHd_14_3_3\n",
       "13             NaN            NaN\n",
       "14             NaN            NaN\n",
       "15       60.928543            NaN\n",
       "16       53.938329            NaN\n",
       "17       54.869565      56.578812\n",
       "..             ...            ...\n",
       "495      88.476797      87.774351\n",
       "496      90.537367      89.521362\n",
       "497      81.506403      86.840189\n",
       "498      81.014355      84.352708\n",
       "499      79.231233      80.583997\n",
       "\n",
       "[487 rows x 2 columns]"
      ]
     },
     "execution_count": 36,
     "metadata": {},
     "output_type": "execute_result"
    }
   ],
   "source": [
    "df.ta.stoch(high='High', low='Low', close='Close', fast_k=14, slow_k=3, slow_d=3, append=True)"
   ]
  },
  {
   "cell_type": "code",
   "execution_count": 37,
   "metadata": {},
   "outputs": [
    {
     "data": {
      "application/vnd.plotly.v1+json": {
       "config": {
        "plotlyServerURL": "https://plot.ly"
       },
       "data": [
        {
         "close": {
          "bdata": "egbTBtgGQQecBsYG6gYZB1wHkgdnCKkIfgmkCcMIAwnMCO8IawmACUEKOAuzCr4KEwvzCY4K+Qk7CbgJFAq+CmQKcAqUCjQJmgkjCv8JyAn+CREKNAomCtMJUQkaCVcJIwlwCH4ILQnPCKoKQgrICqcJyAkYCsQKRgu5CoMK3woQCw4Ndw0iDWENBA6nEOgPABHsENEQnQ/pDyYQihDpEPQQ9RHfEYYSgxIPEWwR2RHgEZgQYRBUEDoPQA2ODqcPQg94D0EOIA5mD0QPOhBFEE0QKRG9EGkQ+xD1EOwSCRPbEscU8RUvFssVhBVFFlUXGhfcFTEW1BZ8FtQX6hi0GZIbPRzdG6MbYBzSG7gZbBnBGX4c1R4bHjogyB8NIOgfOiC5Jdkm2ie+JZcq7CwCLls0uz4fPf5CbkNxQXpA4UTzSAlCWz8ZPKU3GTY6PmY7cjbpN+w5DjuTOvJBlDr/ONA4zDTlNYI2/CmpLDUtkiyiKBgrAiwlLMQqKizZJ1En2CO7If8bhB7KHyYgniG0IqIhfyTDJpongSvwLVoo5SbyJr8oPCpWKewqSCuTLYoqOifmJO8jpyPQI+AgrCC8IVIhHSMDI98h9CEcH4EfJx8EHBsbXBsyHfgapxoTGlEaABs2G3seHh97HzYfRiByIJMhLCMzJbkj5iNXI4IkhCMmJAUmHiYoJRMkcCTGIzYhsCKHIaUgTSBjIBch7R/lHbQdVh1wHIsd7Ry2HU8dqB0QHgEeLh4fHqUawhm1GEIaoxmIGmoanRp+GvoXphhkGCkY2RdKFxwaFRpbGqUZ5RlnGjAZDhlXGGUYQBrOHOUcOB32HFUeXiAyIAggYCAWIEkedB22HRgdRhsaG+gYqBloGL8Y8xcgGasYhxlzGW0Z9xhPGQ8agBrnG8EbPhvEG8EcAx1lG24ZaRndGKwY5xh/GcMZhRjqGFQZJRl7GiIaMRmiGWIaNBrkGc4ZfhnsGeUZNBofGvkZoRimGDUZdRlfGTQZKhlKGTMZVRk7GUEZoBi5GNsY/hgOGT4ZUhmjGVAZ9RjjGMMY6xWZFYIV6xIsEZ4RiBHfEIcO8g65EJQQlw9cD3cPxw5HDnoNhQ1oDawN8gySDOENCg6QDtYPRQ8dEB4Q+w49DnEPlQ6UDmkPDg82D+IP2w/fD2sOfQ6MDi0OTw5kDlgO/Q0xDhQOLw4iDpUNhQ2kDZUNtg2WDZsNYg1bDUYORA40Di8OLg4oDkgPbA+FD3UPoQ8ZDwoP4Q4VDzEPsA42D0EPWg9XD0MPVQ9ID0gPdg+/D9QP5g+8D8YPZw+AD+AP4g8mEFYQ+RLmFCoTxBPAFA==",
          "dtype": "i2"
         },
         "high": {
          "bdata": "kQbZBukGXwcsBwsH9gZAB18Hqwf7COAIkgnxCncKMQlCCSEJugmSCUYKfQtGC/0KLwu7C+QKAwv/Cd4JGwrZCt0KqQqwCgEKpgknCi0KCAoZClIKPwpGCjIK7QlpCW4Jcgk0CY0IXQlhCasK1gryCt0KMwonChQLTQtwC8gK9go+C2MNoQ2FDYINBg73EGQRAxF/EQcRORAwEKkQoRBmERIRIxIgEqESiRIhEsIRUhJTElYSHBEiEXQQdg8ODx8QHBDOD4cPsw55D30PYRC1EH4QdhFPEQERCBFCEQcTPxMMEw8V7BZ+FpoW7RVtFrAXqxcsFz4WYRdsF0wYHhn6GekcGx0VHT0cyx5DHbQcrBpcGrIc2h4/H2MguCBwIFsgjCAXJvcmrywvKr4qPi1bLqc050TfQhhEsESlRAdDLEY4TEJKvEW8Q8M9JTkeP3ZAjzz1OsE7cjxrPFRCf0A9PJ05pjpWNyY4lTYtLksv0S6cLq8sGS3zLZAtOy4qLMsoOyhHJBchMB++IeghSSL6IkQjyyQgKGooKCwXLjIu4yrgKAYpnypvK4Ar3Cv7LcIt8irmJzQlFSduJfQkTiEGInsilCMfJMojiiIQIo8g7h+KH+McEhycHVwdSxsIG08cGxt8G5ofZCAiIScgcCCuILYhbSM/JWQmHiTpJC8liCQrJFkmkCYEJjslziXxJOwj7yLMIqEhViGSIMMhJSHuH20eIh5MHaIdwx3uHfcdjB4vHjoehx5PHuoaPBsWGnAaXhrLGvUa2xrDGpoa9xi7GKgYXRjbF0oaSRq9GmgaIhqgGswaQBknGfoYcRpXHdYdkB06HrIe3SBdIbkgiiCKIEIglx5QHsodMRwpHPwa0RkcGr8ZxxgUGoYZ1BnNGYsZFhuPGS4apxoRHAwc0xvrG9ocKB0XHYEbwBk2GUEZAhm7GfIZvhksGa8Zbhm1Gn0aIxrNGYgayRozGhEa4RkdGgwaZRpEGkkaGxrgGNAcmBmRGZUZRBliGU0ZeBlaGW4ZTxnOGA4Z/xgnGWUZcRnGGa0ZVhksGfQY0RhFFiUW8xVWE1ASKRKXETcQEg8+EWYRBRF5EPoPhQ89D2EOPw6eDdsNrg0ZDTgOMA6OD4gQfRDIEB4QTg87D68PPw+VDncPhQ9GDyIQQhADEP0Pqg61DqEOjQ6GDn4OJg5VDlsORg41DhIOrQ2/DcsNug2pDaMNrw1yDbkOgA5fDmYOQA5dDogPvw+3D84Prw9QDzIPKw9oDz8PGQ9aD28Pbg+CD4MPYA9dD3UPgQ/qD+YP7g8TENYPwA+OD/gP+w88EGwQDBTzFBcVBRQdFQ==",
          "dtype": "i2"
         },
         "low": {
          "bdata": "FQZaBo0G8QZzBrIGrgbSBgMHTQfPB8YHkwiyCMMILQijCFYI6AhGCcgJggqzCjQKvQqRCU4K2wkdCAAJnAkaCk0KCwpoCtAI3Qh8CccJsgmsCfEJ9AkVCroJOQnQCMMIBglpCD8HYQisCMUIOAqhCpIJZAmUCRgKhwpWCmwKWgrNCnkMDQ2mDOQMTA2QD+IO2w9ZEGEQfw++DrQP/A96EF8Q9BCUEc0RdxJGECoQPxGDESwQEhDwD5kOrgyfC3kOCw/9DvUNtw1QDg8PIw8fELIPCRGMEFkQMhDJEM0RhBJmErcSnxR9FZUV9hNvFfMVEBa7Ff4UChY6FowXxRfcGK4ZHRsmGxQbgxuWGxQZ5RUAGY4Z1BtwHQwfeB4jH6EfwR4/JFMlPCNEI6EkUCnGLLItEzRDNs84rD+MPb0+qT/HRmFByz0GOhoq2TJhNSs5vzRnNt0yQDm7NyY6jTaCN7A0LDJTMoM0qCgJJJYpvCpgJxgnMynDKnkoVyuAJtQl/SHwHfEZXhdIHKMdfh6GH+cgXCFWJBsmhyhoKzwoOCaqJdok0ifMKCgoWip/LKspRCXfIyYhviL/In8gZx5XH+If8CB/InUhqyD9HosegB4EHAUasBpUG5Qa/Bm3GSMaTBrJGrEaZh4oH9seBh/sH2MggSIfI4UiHSJGI+kjzCJgIxgkhCUvJKIjVSOcIwEhnyAzIeYfACA6H7wg1x9SHaoc6hxAHM0brBzeHPocVR3/HIEdAh66HTMadBk2GJ8YdhkzGU8a4BlcGsMXARgxGKkXyRfcFsAYwhlKGXEZcBlFGvUYwRg7GAIY+BgzGoYcrxyqHOscUB61H/Mfsx7xHi4eZR1MHbYcIxv2GiwYaxg9GEcYOxfzF4MYmBgvGZUY1hioGE8ZOxp2GjwbyxomG1YcfhwMG7sY9RiCGGEYdhjYGDMZfhiEGBwYABkVGesZ+BgkGVwZxhmmGXgZSRldGcAZxBnmGYIZJRg/GHwYKhlHGREZERkkGRIZMhkWGSkZfRiYGHcY0xj4GCEZLxlRGTQZ4xjfGK8Y+BSRFH0VjBIPEJgQRhE5EP0NIQ7dDjMQVg/dDtEOjQ4WDscMWA0bDTkN1Qx7DKsMpg3/DYoO+Q6ADx4Qog4tDisObw6UDrcO7Q7ODr0PqA+4DywOQA7iDRcOKw4UDjYO8A2fDf4NBA70DWgNSQ1oDX8NaA18DYINQw1VDUoNNw4YDiIODA4WDj4OMg9WD1cPaQ/NDvEOhw7ZDgUPkw6eDh8PMQ9EDyUPEw8uDwUPQg+ZD6oPuA+MD7EPSw9hD3wP0g/eDw4QVRDkEuoSIBNHFA==",
          "dtype": "i2"
         },
         "open": {
          "bdata": "FwZ6BrEG+AYsBwcHzAbqBhQHXAfmB2gIugh4CbUJSAgJCdUI7whtCcoJggo4C7QKvgprC2EKjwr5CToJpgklCr4KZQpwCqkJLQmaCSMK/gnDCf4JEQo0CiYK4QlRCRoJVgkiCUkHfQguCc8IqgrkCsgKpAnICRgKyQpJC7QKgwrfCsIMDw13DSwNYQ2rD6cQ6A/lEOgQFxC/DukPJhCKEA4R9BD1Ed8RhhISEg8RbBHZEfYRwRBkEFQQOg9ADaQOpw9HD3cPQg5WDmYPRA86EEUQJBEoEbwQaRD7EOcR6xIJE9sSxhSVFTEWyhWFFUUW+hYaF90VMRbUFiEY1BfpGLQZlRvBHNkboxtfHNEbBhdrGcEZfxzWHlYfOiDIHw8g6B93JLUlwibYJ70lyyrtLAIuEzS4PtU5/kJmQ3JBi0ApSvNIYEJVPx48dDPaNT0+YTt3Nh81BzoCO5A6cz+KOuA42jj1NJQ0cjaGKZMsNC2gLJUoGiv4KyksNC4aLNMnSSfhI7YfHhyHHsMfICCYILQirSF5JOgmOiqXK/EtdCjeJq0lvyg9Kl0p6irVLJctiio/J9okriWoI88j4CCsIHUgUiEdIwMj3yH5IR8fhR8nHwQc7hpgGzEd/xqmGpwbURoAGzQbgB65IHsfNh9HIHIgGiMqIzYluSPfI7QkgiSEIyYk/yWNJSwlFCRtJMYjEiKuIoghmSBMII0hGCHsH+IdtB3eHGwckh3tHLUdTB6oHRIeAh4uHpYapxrCGbQYQhqhGYoaaRqeGn8aaximGGQYKhjbFwAZGhoWGloaqBmYGmcaNhkOGVcYJxlAGs8c1Bw7HaYdVR5jIDMgCCBCIBkgUx50HbQdyhtGG/sa7hi1Gf8YvxjzFyEZqxi9GXMZcBn3GFAZUxp/GucbwRs+G7AcwRwDHWUbbhkwGd0YqhjkGH8ZoRmEGPIYVRklGVMaIxoxGaIZYxrfGeIZyBl8GegZzRk1Gh8a9hmkGLoYNhl1GWAZNBlfGUkZNRlVGT4ZOBmgGLgY2xj+GEoZPRlSGaIZUBnqGOIYwxjlFaQV5RXrEi0RnxGKEQwQjA7yDrkQlBBuEFwPdw/HDkcOAA6EDWgNrA3yDL8M4A0KDpAO1g+pDx4QDA/8Dj0OKQ+VDsMOaQ8OD/0P4g/bD98Paw74DYwOLQ5QDmUOEA7+DTEOFA4vDhIOlQ2FDaUNlQ1/DZYNmw1iDVsNUg5EDjQOMA4uDj4OSA9sD4UPdQ8FDxkPCw/hDhUPCg+wDjYPQQ9aD3UPRA9VD0gPSA/ED78P1A/nD7wPrQ9mD4EP4A/iDzQQXBD/EuYULRNPFA==",
          "dtype": "i2"
         },
         "type": "candlestick",
         "x": {
          "bdata": "AAABAAIAAwAEAAUABgAHAAgACQAKAAsADAANAA4ADwAQABEAEgATABQAFQAWABcAGAAZABoAGwAcAB0AHgAfACAAIQAiACMAJAAlACYAJwAoACkAKgArACwALQAuAC8AMAAxADIAMwA0ADUANgA3ADgAOQA6ADsAPAA9AD4APwBAAEEAQgBDAEQARQBGAEcASABJAEoASwBMAE0ATgBPAFAAUQBSAFMAVABVAFYAVwBYAFkAWgBbAFwAXQBeAF8AYABhAGIAYwBkAGUAZgBnAGgAaQBqAGsAbABtAG4AbwBwAHEAcgBzAHQAdQB2AHcAeAB5AHoAewB8AH0AfgB/AIAAgQCCAIMAhACFAIYAhwCIAIkAigCLAIwAjQCOAI8AkACRAJIAkwCUAJUAlgCXAJgAmQCaAJsAnACdAJ4AnwCgAKEAogCjAKQApQCmAKcAqACpAKoAqwCsAK0ArgCvALAAsQCyALMAtAC1ALYAtwC4ALkAugC7ALwAvQC+AL8AwADBAMIAwwDEAMUAxgDHAMgAyQDKAMsAzADNAM4AzwDQANEA0gDTANQA1QDWANcA2ADZANoA2wDcAN0A3gDfAOAA4QDiAOMA5ADlAOYA5wDoAOkA6gDrAOwA7QDuAO8A8ADxAPIA8wD0APUA9gD3APgA+QD6APsA/AD9AP4A/wAAAQEBAgEDAQQBBQEGAQcBCAEJAQoBCwEMAQ0BDgEPARABEQESARMBFAEVARYBFwEYARkBGgEbARwBHQEeAR8BIAEhASIBIwEkASUBJgEnASgBKQEqASsBLAEtAS4BLwEwATEBMgEzATQBNQE2ATcBOAE5AToBOwE8AT0BPgE/AUABQQFCAUMBRAFFAUYBRwFIAUkBSgFLAUwBTQFOAU8BUAFRAVIBUwFUAVUBVgFXAVgBWQFaAVsBXAFdAV4BXwFgAWEBYgFjAWQBZQFmAWcBaAFpAWoBawFsAW0BbgFvAXABcQFyAXMBdAF1AXYBdwF4AXkBegF7AXwBfQF+AX8BgAGBAYIBgwGEAYUBhgGHAYgBiQGKAYsBjAGNAY4BjwGQAZEBkgGTAZQBlQGWAZcBmAGZAZoBmwGcAZ0BngGfAaABoQGiAaMBpAGlAaYBpwGoAakBqgGrAawBrQGuAa8BsAGxAbIBswG0AbUBtgG3AbgBuQG6AbsBvAG9Ab4BvwHAAcEBwgHDAcQBxQHGAccByAHJAcoBywHMAc0BzgHPAdAB0QHSAdMB1AHVAdYB1wHYAdkB2gHbAdwB3QHeAd8B4AHhAeIB4wHkAeUB5gHnAegB6QHqAesB7AHtAe4B7wHwAfEB8gHzAQ==",
          "dtype": "i2"
         },
         "xaxis": "x",
         "yaxis": "y"
        },
        {
         "name": "S1",
         "type": "scatter",
         "x": {
          "bdata": "AAABAAIAAwAEAAUABgAHAAgACQAKAAsADAANAA4ADwAQABEAEgATABQAFQAWABcAGAAZABoAGwAcAB0AHgAfACAAIQAiACMAJAAlACYAJwAoACkAKgArACwALQAuAC8AMAAxADIAMwA0ADUANgA3ADgAOQA6ADsAPAA9AD4APwBAAEEAQgBDAEQARQBGAEcASABJAEoASwBMAE0ATgBPAFAAUQBSAFMAVABVAFYAVwBYAFkAWgBbAFwAXQBeAF8AYABhAGIAYwBkAGUAZgBnAGgAaQBqAGsAbABtAG4AbwBwAHEAcgBzAHQAdQB2AHcAeAB5AHoAewB8AH0AfgB/AIAAgQCCAIMAhACFAIYAhwCIAIkAigCLAIwAjQCOAI8AkACRAJIAkwCUAJUAlgCXAJgAmQCaAJsAnACdAJ4AnwCgAKEAogCjAKQApQCmAKcAqACpAKoAqwCsAK0ArgCvALAAsQCyALMAtAC1ALYAtwC4ALkAugC7ALwAvQC+AL8AwADBAMIAwwDEAMUAxgDHAMgAyQDKAMsAzADNAM4AzwDQANEA0gDTANQA1QDWANcA2ADZANoA2wDcAN0A3gDfAOAA4QDiAOMA5ADlAOYA5wDoAOkA6gDrAOwA7QDuAO8A8ADxAPIA8wD0APUA9gD3APgA+QD6APsA/AD9AP4A/wAAAQEBAgEDAQQBBQEGAQcBCAEJAQoBCwEMAQ0BDgEPARABEQESARMBFAEVARYBFwEYARkBGgEbARwBHQEeAR8BIAEhASIBIwEkASUBJgEnASgBKQEqASsBLAEtAS4BLwEwATEBMgEzATQBNQE2ATcBOAE5AToBOwE8AT0BPgE/AUABQQFCAUMBRAFFAUYBRwFIAUkBSgFLAUwBTQFOAU8BUAFRAVIBUwFUAVUBVgFXAVgBWQFaAVsBXAFdAV4BXwFgAWEBYgFjAWQBZQFmAWcBaAFpAWoBawFsAW0BbgFvAXABcQFyAXMBdAF1AXYBdwF4AXkBegF7AXwBfQF+AX8BgAGBAYIBgwGEAYUBhgGHAYgBiQGKAYsBjAGNAY4BjwGQAZEBkgGTAZQBlQGWAZcBmAGZAZoBmwGcAZ0BngGfAaABoQGiAaMBpAGlAaYBpwGoAakBqgGrAawBrQGuAa8BsAGxAbIBswG0AbUBtgG3AbgBuQG6AbsBvAG9Ab4BvwHAAcEBwgHDAcQBxQHGAccByAHJAcoBywHMAc0BzgHPAdAB0QHSAdMB1AHVAdYB1wHYAdkB2gHbAdwB3QHeAd8B4AHhAeIB4wHkAeUB5gHnAegB6QHqAesB7AHtAe4B7wHwAfEB8gHzAQ==",
          "dtype": "i2"
         },
         "xaxis": "x2",
         "y": {
          "bdata": "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",
          "dtype": "f8"
         },
         "yaxis": "y2"
        },
        {
         "name": "S2",
         "type": "scatter",
         "x": {
          "bdata": "AAABAAIAAwAEAAUABgAHAAgACQAKAAsADAANAA4ADwAQABEAEgATABQAFQAWABcAGAAZABoAGwAcAB0AHgAfACAAIQAiACMAJAAlACYAJwAoACkAKgArACwALQAuAC8AMAAxADIAMwA0ADUANgA3ADgAOQA6ADsAPAA9AD4APwBAAEEAQgBDAEQARQBGAEcASABJAEoASwBMAE0ATgBPAFAAUQBSAFMAVABVAFYAVwBYAFkAWgBbAFwAXQBeAF8AYABhAGIAYwBkAGUAZgBnAGgAaQBqAGsAbABtAG4AbwBwAHEAcgBzAHQAdQB2AHcAeAB5AHoAewB8AH0AfgB/AIAAgQCCAIMAhACFAIYAhwCIAIkAigCLAIwAjQCOAI8AkACRAJIAkwCUAJUAlgCXAJgAmQCaAJsAnACdAJ4AnwCgAKEAogCjAKQApQCmAKcAqACpAKoAqwCsAK0ArgCvALAAsQCyALMAtAC1ALYAtwC4ALkAugC7ALwAvQC+AL8AwADBAMIAwwDEAMUAxgDHAMgAyQDKAMsAzADNAM4AzwDQANEA0gDTANQA1QDWANcA2ADZANoA2wDcAN0A3gDfAOAA4QDiAOMA5ADlAOYA5wDoAOkA6gDrAOwA7QDuAO8A8ADxAPIA8wD0APUA9gD3APgA+QD6APsA/AD9AP4A/wAAAQEBAgEDAQQBBQEGAQcBCAEJAQoBCwEMAQ0BDgEPARABEQESARMBFAEVARYBFwEYARkBGgEbARwBHQEeAR8BIAEhASIBIwEkASUBJgEnASgBKQEqASsBLAEtAS4BLwEwATEBMgEzATQBNQE2ATcBOAE5AToBOwE8AT0BPgE/AUABQQFCAUMBRAFFAUYBRwFIAUkBSgFLAUwBTQFOAU8BUAFRAVIBUwFUAVUBVgFXAVgBWQFaAVsBXAFdAV4BXwFgAWEBYgFjAWQBZQFmAWcBaAFpAWoBawFsAW0BbgFvAXABcQFyAXMBdAF1AXYBdwF4AXkBegF7AXwBfQF+AX8BgAGBAYIBgwGEAYUBhgGHAYgBiQGKAYsBjAGNAY4BjwGQAZEBkgGTAZQBlQGWAZcBmAGZAZoBmwGcAZ0BngGfAaABoQGiAaMBpAGlAaYBpwGoAakBqgGrAawBrQGuAa8BsAGxAbIBswG0AbUBtgG3AbgBuQG6AbsBvAG9Ab4BvwHAAcEBwgHDAcQBxQHGAccByAHJAcoBywHMAc0BzgHPAdAB0QHSAdMB1AHVAdYB1wHYAdkB2gHbAdwB3QHeAd8B4AHhAeIB4wHkAeUB5gHnAegB6QHqAesB7AHtAe4B7wHwAfEB8gHzAQ==",
          "dtype": "i2"
         },
         "xaxis": "x2",
         "y": {
          "bdata": "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",
          "dtype": "f8"
         },
         "yaxis": "y2"
        }
       ],
       "layout": {
        "template": {
         "data": {
          "bar": [
           {
            "error_x": {
             "color": "#2a3f5f"
            },
            "error_y": {
             "color": "#2a3f5f"
            },
            "marker": {
             "line": {
              "color": "#E5ECF6",
              "width": 0.5
             },
             "pattern": {
              "fillmode": "overlay",
              "size": 10,
              "solidity": 0.2
             }
            },
            "type": "bar"
           }
          ],
          "barpolar": [
           {
            "marker": {
             "line": {
              "color": "#E5ECF6",
              "width": 0.5
             },
             "pattern": {
              "fillmode": "overlay",
              "size": 10,
              "solidity": 0.2
             }
            },
            "type": "barpolar"
           }
          ],
          "carpet": [
           {
            "aaxis": {
             "endlinecolor": "#2a3f5f",
             "gridcolor": "white",
             "linecolor": "white",
             "minorgridcolor": "white",
             "startlinecolor": "#2a3f5f"
            },
            "baxis": {
             "endlinecolor": "#2a3f5f",
             "gridcolor": "white",
             "linecolor": "white",
             "minorgridcolor": "white",
             "startlinecolor": "#2a3f5f"
            },
            "type": "carpet"
           }
          ],
          "choropleth": [
           {
            "colorbar": {
             "outlinewidth": 0,
             "ticks": ""
            },
            "type": "choropleth"
           }
          ],
          "contour": [
           {
            "colorbar": {
             "outlinewidth": 0,
             "ticks": ""
            },
            "colorscale": [
             [
              0,
              "#0d0887"
             ],
             [
              0.1111111111111111,
              "#46039f"
             ],
             [
              0.2222222222222222,
              "#7201a8"
             ],
             [
              0.3333333333333333,
              "#9c179e"
             ],
             [
              0.4444444444444444,
              "#bd3786"
             ],
             [
              0.5555555555555556,
              "#d8576b"
             ],
             [
              0.6666666666666666,
              "#ed7953"
             ],
             [
              0.7777777777777778,
              "#fb9f3a"
             ],
             [
              0.8888888888888888,
              "#fdca26"
             ],
             [
              1,
              "#f0f921"
             ]
            ],
            "type": "contour"
           }
          ],
          "contourcarpet": [
           {
            "colorbar": {
             "outlinewidth": 0,
             "ticks": ""
            },
            "type": "contourcarpet"
           }
          ],
          "heatmap": [
           {
            "colorbar": {
             "outlinewidth": 0,
             "ticks": ""
            },
            "colorscale": [
             [
              0,
              "#0d0887"
             ],
             [
              0.1111111111111111,
              "#46039f"
             ],
             [
              0.2222222222222222,
              "#7201a8"
             ],
             [
              0.3333333333333333,
              "#9c179e"
             ],
             [
              0.4444444444444444,
              "#bd3786"
             ],
             [
              0.5555555555555556,
              "#d8576b"
             ],
             [
              0.6666666666666666,
              "#ed7953"
             ],
             [
              0.7777777777777778,
              "#fb9f3a"
             ],
             [
              0.8888888888888888,
              "#fdca26"
             ],
             [
              1,
              "#f0f921"
             ]
            ],
            "type": "heatmap"
           }
          ],
          "histogram": [
           {
            "marker": {
             "pattern": {
              "fillmode": "overlay",
              "size": 10,
              "solidity": 0.2
             }
            },
            "type": "histogram"
           }
          ],
          "histogram2d": [
           {
            "colorbar": {
             "outlinewidth": 0,
             "ticks": ""
            },
            "colorscale": [
             [
              0,
              "#0d0887"
             ],
             [
              0.1111111111111111,
              "#46039f"
             ],
             [
              0.2222222222222222,
              "#7201a8"
             ],
             [
              0.3333333333333333,
              "#9c179e"
             ],
             [
              0.4444444444444444,
              "#bd3786"
             ],
             [
              0.5555555555555556,
              "#d8576b"
             ],
             [
              0.6666666666666666,
              "#ed7953"
             ],
             [
              0.7777777777777778,
              "#fb9f3a"
             ],
             [
              0.8888888888888888,
              "#fdca26"
             ],
             [
              1,
              "#f0f921"
             ]
            ],
            "type": "histogram2d"
           }
          ],
          "histogram2dcontour": [
           {
            "colorbar": {
             "outlinewidth": 0,
             "ticks": ""
            },
            "colorscale": [
             [
              0,
              "#0d0887"
             ],
             [
              0.1111111111111111,
              "#46039f"
             ],
             [
              0.2222222222222222,
              "#7201a8"
             ],
             [
              0.3333333333333333,
              "#9c179e"
             ],
             [
              0.4444444444444444,
              "#bd3786"
             ],
             [
              0.5555555555555556,
              "#d8576b"
             ],
             [
              0.6666666666666666,
              "#ed7953"
             ],
             [
              0.7777777777777778,
              "#fb9f3a"
             ],
             [
              0.8888888888888888,
              "#fdca26"
             ],
             [
              1,
              "#f0f921"
             ]
            ],
            "type": "histogram2dcontour"
           }
          ],
          "mesh3d": [
           {
            "colorbar": {
             "outlinewidth": 0,
             "ticks": ""
            },
            "type": "mesh3d"
           }
          ],
          "parcoords": [
           {
            "line": {
             "colorbar": {
              "outlinewidth": 0,
              "ticks": ""
             }
            },
            "type": "parcoords"
           }
          ],
          "pie": [
           {
            "automargin": true,
            "type": "pie"
           }
          ],
          "scatter": [
           {
            "fillpattern": {
             "fillmode": "overlay",
             "size": 10,
             "solidity": 0.2
            },
            "type": "scatter"
           }
          ],
          "scatter3d": [
           {
            "line": {
             "colorbar": {
              "outlinewidth": 0,
              "ticks": ""
             }
            },
            "marker": {
             "colorbar": {
              "outlinewidth": 0,
              "ticks": ""
             }
            },
            "type": "scatter3d"
           }
          ],
          "scattercarpet": [
           {
            "marker": {
             "colorbar": {
              "outlinewidth": 0,
              "ticks": ""
             }
            },
            "type": "scattercarpet"
           }
          ],
          "scattergeo": [
           {
            "marker": {
             "colorbar": {
              "outlinewidth": 0,
              "ticks": ""
             }
            },
            "type": "scattergeo"
           }
          ],
          "scattergl": [
           {
            "marker": {
             "colorbar": {
              "outlinewidth": 0,
              "ticks": ""
             }
            },
            "type": "scattergl"
           }
          ],
          "scattermap": [
           {
            "marker": {
             "colorbar": {
              "outlinewidth": 0,
              "ticks": ""
             }
            },
            "type": "scattermap"
           }
          ],
          "scattermapbox": [
           {
            "marker": {
             "colorbar": {
              "outlinewidth": 0,
              "ticks": ""
             }
            },
            "type": "scattermapbox"
           }
          ],
          "scatterpolar": [
           {
            "marker": {
             "colorbar": {
              "outlinewidth": 0,
              "ticks": ""
             }
            },
            "type": "scatterpolar"
           }
          ],
          "scatterpolargl": [
           {
            "marker": {
             "colorbar": {
              "outlinewidth": 0,
              "ticks": ""
             }
            },
            "type": "scatterpolargl"
           }
          ],
          "scatterternary": [
           {
            "marker": {
             "colorbar": {
              "outlinewidth": 0,
              "ticks": ""
             }
            },
            "type": "scatterternary"
           }
          ],
          "surface": [
           {
            "colorbar": {
             "outlinewidth": 0,
             "ticks": ""
            },
            "colorscale": [
             [
              0,
              "#0d0887"
             ],
             [
              0.1111111111111111,
              "#46039f"
             ],
             [
              0.2222222222222222,
              "#7201a8"
             ],
             [
              0.3333333333333333,
              "#9c179e"
             ],
             [
              0.4444444444444444,
              "#bd3786"
             ],
             [
              0.5555555555555556,
              "#d8576b"
             ],
             [
              0.6666666666666666,
              "#ed7953"
             ],
             [
              0.7777777777777778,
              "#fb9f3a"
             ],
             [
              0.8888888888888888,
              "#fdca26"
             ],
             [
              1,
              "#f0f921"
             ]
            ],
            "type": "surface"
           }
          ],
          "table": [
           {
            "cells": {
             "fill": {
              "color": "#EBF0F8"
             },
             "line": {
              "color": "white"
             }
            },
            "header": {
             "fill": {
              "color": "#C8D4E3"
             },
             "line": {
              "color": "white"
             }
            },
            "type": "table"
           }
          ]
         },
         "layout": {
          "annotationdefaults": {
           "arrowcolor": "#2a3f5f",
           "arrowhead": 0,
           "arrowwidth": 1
          },
          "autotypenumbers": "strict",
          "coloraxis": {
           "colorbar": {
            "outlinewidth": 0,
            "ticks": ""
           }
          },
          "colorscale": {
           "diverging": [
            [
             0,
             "#8e0152"
            ],
            [
             0.1,
             "#c51b7d"
            ],
            [
             0.2,
             "#de77ae"
            ],
            [
             0.3,
             "#f1b6da"
            ],
            [
             0.4,
             "#fde0ef"
            ],
            [
             0.5,
             "#f7f7f7"
            ],
            [
             0.6,
             "#e6f5d0"
            ],
            [
             0.7,
             "#b8e186"
            ],
            [
             0.8,
             "#7fbc41"
            ],
            [
             0.9,
             "#4d9221"
            ],
            [
             1,
             "#276419"
            ]
           ],
           "sequential": [
            [
             0,
             "#0d0887"
            ],
            [
             0.1111111111111111,
             "#46039f"
            ],
            [
             0.2222222222222222,
             "#7201a8"
            ],
            [
             0.3333333333333333,
             "#9c179e"
            ],
            [
             0.4444444444444444,
             "#bd3786"
            ],
            [
             0.5555555555555556,
             "#d8576b"
            ],
            [
             0.6666666666666666,
             "#ed7953"
            ],
            [
             0.7777777777777778,
             "#fb9f3a"
            ],
            [
             0.8888888888888888,
             "#fdca26"
            ],
            [
             1,
             "#f0f921"
            ]
           ],
           "sequentialminus": [
            [
             0,
             "#0d0887"
            ],
            [
             0.1111111111111111,
             "#46039f"
            ],
            [
             0.2222222222222222,
             "#7201a8"
            ],
            [
             0.3333333333333333,
             "#9c179e"
            ],
            [
             0.4444444444444444,
             "#bd3786"
            ],
            [
             0.5555555555555556,
             "#d8576b"
            ],
            [
             0.6666666666666666,
             "#ed7953"
            ],
            [
             0.7777777777777778,
             "#fb9f3a"
            ],
            [
             0.8888888888888888,
             "#fdca26"
            ],
            [
             1,
             "#f0f921"
            ]
           ]
          },
          "colorway": [
           "#636efa",
           "#EF553B",
           "#00cc96",
           "#ab63fa",
           "#FFA15A",
           "#19d3f3",
           "#FF6692",
           "#B6E880",
           "#FF97FF",
           "#FECB52"
          ],
          "font": {
           "color": "#2a3f5f"
          },
          "geo": {
           "bgcolor": "white",
           "lakecolor": "white",
           "landcolor": "#E5ECF6",
           "showlakes": true,
           "showland": true,
           "subunitcolor": "white"
          },
          "hoverlabel": {
           "align": "left"
          },
          "hovermode": "closest",
          "mapbox": {
           "style": "light"
          },
          "paper_bgcolor": "white",
          "plot_bgcolor": "#E5ECF6",
          "polar": {
           "angularaxis": {
            "gridcolor": "white",
            "linecolor": "white",
            "ticks": ""
           },
           "bgcolor": "#E5ECF6",
           "radialaxis": {
            "gridcolor": "white",
            "linecolor": "white",
            "ticks": ""
           }
          },
          "scene": {
           "xaxis": {
            "backgroundcolor": "#E5ECF6",
            "gridcolor": "white",
            "gridwidth": 2,
            "linecolor": "white",
            "showbackground": true,
            "ticks": "",
            "zerolinecolor": "white"
           },
           "yaxis": {
            "backgroundcolor": "#E5ECF6",
            "gridcolor": "white",
            "gridwidth": 2,
            "linecolor": "white",
            "showbackground": true,
            "ticks": "",
            "zerolinecolor": "white"
           },
           "zaxis": {
            "backgroundcolor": "#E5ECF6",
            "gridcolor": "white",
            "gridwidth": 2,
            "linecolor": "white",
            "showbackground": true,
            "ticks": "",
            "zerolinecolor": "white"
           }
          },
          "shapedefaults": {
           "line": {
            "color": "#2a3f5f"
           }
          },
          "ternary": {
           "aaxis": {
            "gridcolor": "white",
            "linecolor": "white",
            "ticks": ""
           },
           "baxis": {
            "gridcolor": "white",
            "linecolor": "white",
            "ticks": ""
           },
           "bgcolor": "#E5ECF6",
           "caxis": {
            "gridcolor": "white",
            "linecolor": "white",
            "ticks": ""
           }
          },
          "title": {
           "x": 0.05
          },
          "xaxis": {
           "automargin": true,
           "gridcolor": "white",
           "linecolor": "white",
           "ticks": "",
           "title": {
            "standoff": 15
           },
           "zerolinecolor": "white",
           "zerolinewidth": 2
          },
          "yaxis": {
           "automargin": true,
           "gridcolor": "white",
           "linecolor": "white",
           "ticks": "",
           "title": {
            "standoff": 15
           },
           "zerolinecolor": "white",
           "zerolinewidth": 2
          }
         }
        },
        "xaxis": {
         "anchor": "y",
         "domain": [
          0,
          1
         ],
         "rangeslider": {
          "visible": false
         }
        },
        "xaxis2": {
         "anchor": "y2",
         "domain": [
          0,
          1
         ],
         "rangeslider": {
          "visible": false
         }
        },
        "yaxis": {
         "anchor": "x",
         "domain": [
          0.575,
          1
         ]
        },
        "yaxis2": {
         "anchor": "x2",
         "domain": [
          0,
          0.425
         ]
        }
       }
      }
     },
     "metadata": {},
     "output_type": "display_data"
    }
   ],
   "source": [
    "from plotly.subplots import make_subplots\n",
    "\n",
    "# Create a subplot, and position is 1 row x 2 columns\n",
    "fig = make_subplots(rows=2, cols=1)\n",
    "\n",
    "# In the first row, plot the candlestick chart\n",
    "fig.add_trace(go.Candlestick(x=df.index,\n",
    "                open=df['Open'],\n",
    "                high=df['High'],\n",
    "                low=df['Low'],\n",
    "                close=df['Close']), row=1, col=1)\n",
    "\n",
    "# In the second row, plot the ADX\n",
    "fig.add_trace(go.Scatter(x=df.index, y=df['STOCHk_14_3_3'], name='S1'), row=2, col=1)\n",
    "fig.add_trace(go.Scatter(x=df.index, y=df['STOCHd_14_3_3'], name='S2'), row=2, col=1)\n",
    "fig.update_layout(\n",
    "    xaxis=dict(rangeslider=dict(visible=False)),\n",
    "    xaxis2=dict(rangeslider=dict(visible=False))\n",
    ")\n",
    "\n",
    "fig.show()\n"
   ]
  },
  {
   "cell_type": "code",
   "execution_count": null,
   "metadata": {},
   "outputs": [],
   "source": []
  }
 ],
 "metadata": {
  "kernelspec": {
   "display_name": ".venv",
   "language": "python",
   "name": "python3"
  },
  "language_info": {
   "codemirror_mode": {
    "name": "ipython",
    "version": 3
   },
   "file_extension": ".py",
   "mimetype": "text/x-python",
   "name": "python",
   "nbconvert_exporter": "python",
   "pygments_lexer": "ipython3",
   "version": "3.11.2"
  },
  "orig_nbformat": 4
 },
 "nbformat": 4,
 "nbformat_minor": 2
}
