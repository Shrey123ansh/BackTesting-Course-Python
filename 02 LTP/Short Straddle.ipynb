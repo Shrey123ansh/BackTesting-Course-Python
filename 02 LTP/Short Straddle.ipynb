{
 "cells": [
  {
   "cell_type": "code",
   "execution_count": 14,
   "id": "a58f3709",
   "metadata": {},
   "outputs": [
    {
     "name": "stdout",
     "output_type": "stream",
     "text": [
      "Symbol Token Map Initialized\n",
      "BANKNIFTY Token: 26000\n"
     ]
    },
    {
     "name": "stderr",
     "output_type": "stream",
     "text": [
      "C:\\Users\\Admin\\AppData\\Local\\Temp\\ipykernel_12560\\3961665370.py:14: UserWarning: Could not infer format, so each element will be parsed individually, falling back to `dateutil`. To ensure parsing is consistent and as-expected, please specify a format.\n",
      "  token_df[\"expiry\"] = pd.to_datetime(token_df[\"expiry\"], errors=\"coerce\")\n"
     ]
    }
   ],
   "source": [
    "import pandas as pd\n",
    "import requests\n",
    "import datetime\n",
    "import math\n",
    "\n",
    "# Global token map\n",
    "token_df = pd.DataFrame()\n",
    "\n",
    "def initializeSymbolTokenMap():\n",
    "    global token_df\n",
    "    url = \"https://margincalculator.angelbroking.com/OpenAPI_File/files/OpenAPIScripMaster.json\"\n",
    "    d = requests.get(url).json()\n",
    "    token_df = pd.DataFrame.from_dict(d)\n",
    "    token_df[\"expiry\"] = pd.to_datetime(token_df[\"expiry\"], errors=\"coerce\")\n",
    "    token_df[\"strike\"] = pd.to_numeric(token_df[\"strike\"], errors=\"coerce\")\n",
    "    print(\"Symbol Token Map Initialized\")\n",
    "\n",
    "def getTokenInfo(exch_seg, instrumenttype, symbol, strike_price=None, pe_ce=None):\n",
    "    global token_df\n",
    "    df = token_df\n",
    "\n",
    "    if exch_seg == \"NSE\" and instrumenttype == \"EQ\":\n",
    "        return df[\n",
    "            (df[\"exch_seg\"] == \"NSE\") &\n",
    "            (df[\"symbol\"] == symbol)\n",
    "        ]\n",
    "\n",
    "    elif exch_seg == \"NFO\" and instrumenttype == \"FUTIDX\":\n",
    "        return df[\n",
    "            (df[\"exch_seg\"] == \"NFO\") &\n",
    "            (df[\"instrumenttype\"] == instrumenttype) &\n",
    "            (df[\"name\"] == symbol)\n",
    "        ]\n",
    "\n",
    "    elif exch_seg == \"NFO\" and instrumenttype in [\"OPTSTK\", \"OPTIDX\"]:\n",
    "        filtered = df[\n",
    "            (df[\"exch_seg\"] == \"NFO\") &\n",
    "            (df[\"instrumenttype\"] == instrumenttype) &\n",
    "            (df[\"name\"] == symbol) &\n",
    "            (df[\"option_type\"] == pe_ce)\n",
    "        ]\n",
    "        if strike_price is not None:\n",
    "            filtered = filtered[filtered[\"strike\"] == float(strike_price)]\n",
    "        return filtered\n",
    "\n",
    "    return pd.DataFrame()\n",
    "\n",
    "# Run logic\n",
    "initializeSymbolTokenMap()\n",
    "\n",
    "# Get BANKNIFTY token from NSE segment\n",
    "nifty_token_info = getTokenInfo(\"NSE\", \"EQ\", \"NIFTY\")\n",
    "  # 🔹 Mock LTP — replace this with live API response later\n",
    "# ltp = 49025  # Simulated value\n",
    "# rtm = round(ltp / 100) * 100  # Round to nearest 100\n",
    "\n",
    "# 🔹 Get CE/PE at that strike\n",
    "# ce_info = getTokenInfo(\"NFO\", \"OPTIDX\", \"BANKNIFTY\", rtm, \"CE\")\n",
    "# pe_info = getTokenInfo(\"NFO\", \"OPTIDX\", \"BANKNIFTY\", rtm, \"PE\")\n",
    "\n",
    "if not nifty_token_info.empty:\n",
    "    nifty_token = nifty_token_info.iloc[0][\"token\"]\n",
    "    # ce_info_token = ce_info.iloc[0][\"token\"]\n",
    "    # pe_info_token = pe_info.iloc[0][\"token\"]\n",
    "    print(\"BANKNIFTY Token:\", nifty_token)\n",
    "    # print(\"BANKNIFTY CE Token:\", ce_info_token)\n",
    "    # print(\"BANKNIFTY PE Token:\", pe_info_token)\n",
    "else:\n",
    "    print(\"BANKNIFTY token not found.\")\n"
   ]
  }
 ],
 "metadata": {
  "kernelspec": {
   "display_name": ".venv",
   "language": "python",
   "name": "python3"
  },
  "language_info": {
   "codemirror_mode": {
    "name": "ipython",
    "version": 3
   },
   "file_extension": ".py",
   "mimetype": "text/x-python",
   "name": "python",
   "nbconvert_exporter": "python",
   "pygments_lexer": "ipython3",
   "version": "3.11.2"
  }
 },
 "nbformat": 4,
 "nbformat_minor": 5
}
