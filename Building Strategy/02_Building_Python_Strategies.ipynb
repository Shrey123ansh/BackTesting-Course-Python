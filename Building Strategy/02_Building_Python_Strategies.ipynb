{
 "cells": [
  {
   "cell_type": "markdown",
   "metadata": {},
   "source": [
    "# Building And Testing A Complete Trading System"
   ]
  },
  {
   "cell_type": "code",
   "execution_count": 7,
   "metadata": {},
   "outputs": [],
   "source": [
    "import yfinance as yf\n",
    "import pandas_ta as pa\n",
    "import plotly.graph_objects as go\n",
    "import numpy as np\n",
    "import pandas as pd\n",
    "\n",
    "def get_data(symbol: str):\n",
    "    # data = yf.download(tickers=symbol, period='1000d', interval='1d')\n",
    "    data = pd.read_csv(\"BTCUSD_Candlestick_1_D_ASK_08.05.2017-16.10.2021.csv\")\n",
    "\n",
    "    data.reset_index(inplace=True)\n",
    "    return data\n",
    "# Get the data\n",
    "data = get_data('BTC-USD')"
   ]
  },
  {
   "cell_type": "code",
   "execution_count": 8,
   "metadata": {},
   "outputs": [
    {
     "data": {
      "text/html": [
       "<div>\n",
       "<style scoped>\n",
       "    .dataframe tbody tr th:only-of-type {\n",
       "        vertical-align: middle;\n",
       "    }\n",
       "\n",
       "    .dataframe tbody tr th {\n",
       "        vertical-align: top;\n",
       "    }\n",
       "\n",
       "    .dataframe thead th {\n",
       "        text-align: right;\n",
       "    }\n",
       "</style>\n",
       "<table border=\"1\" class=\"dataframe\">\n",
       "  <thead>\n",
       "    <tr style=\"text-align: right;\">\n",
       "      <th></th>\n",
       "      <th>index</th>\n",
       "      <th>Gmt time</th>\n",
       "      <th>Open</th>\n",
       "      <th>High</th>\n",
       "      <th>Low</th>\n",
       "      <th>Close</th>\n",
       "      <th>Volume</th>\n",
       "    </tr>\n",
       "  </thead>\n",
       "  <tbody>\n",
       "    <tr>\n",
       "      <th>0</th>\n",
       "      <td>0</td>\n",
       "      <td>07.05.2017 21:00:00.000</td>\n",
       "      <td>1559</td>\n",
       "      <td>1681</td>\n",
       "      <td>1557</td>\n",
       "      <td>1658</td>\n",
       "      <td>1.872044e+06</td>\n",
       "    </tr>\n",
       "    <tr>\n",
       "      <th>1</th>\n",
       "      <td>1</td>\n",
       "      <td>08.05.2017 21:00:00.000</td>\n",
       "      <td>1658</td>\n",
       "      <td>1753</td>\n",
       "      <td>1626</td>\n",
       "      <td>1747</td>\n",
       "      <td>1.330136e+06</td>\n",
       "    </tr>\n",
       "    <tr>\n",
       "      <th>2</th>\n",
       "      <td>2</td>\n",
       "      <td>09.05.2017 21:00:00.000</td>\n",
       "      <td>1713</td>\n",
       "      <td>1769</td>\n",
       "      <td>1677</td>\n",
       "      <td>1752</td>\n",
       "      <td>1.916895e+06</td>\n",
       "    </tr>\n",
       "    <tr>\n",
       "      <th>3</th>\n",
       "      <td>3</td>\n",
       "      <td>10.05.2017 21:00:00.000</td>\n",
       "      <td>1784</td>\n",
       "      <td>1887</td>\n",
       "      <td>1777</td>\n",
       "      <td>1857</td>\n",
       "      <td>1.613521e+06</td>\n",
       "    </tr>\n",
       "    <tr>\n",
       "      <th>4</th>\n",
       "      <td>4</td>\n",
       "      <td>11.05.2017 21:00:00.000</td>\n",
       "      <td>1836</td>\n",
       "      <td>1836</td>\n",
       "      <td>1651</td>\n",
       "      <td>1692</td>\n",
       "      <td>2.550428e+06</td>\n",
       "    </tr>\n",
       "    <tr>\n",
       "      <th>...</th>\n",
       "      <td>...</td>\n",
       "      <td>...</td>\n",
       "      <td>...</td>\n",
       "      <td>...</td>\n",
       "      <td>...</td>\n",
       "      <td>...</td>\n",
       "      <td>...</td>\n",
       "    </tr>\n",
       "    <tr>\n",
       "      <th>1301</th>\n",
       "      <td>1301</td>\n",
       "      <td>12.10.2021 21:00:00.000</td>\n",
       "      <td>55433</td>\n",
       "      <td>57543</td>\n",
       "      <td>54328</td>\n",
       "      <td>57047</td>\n",
       "      <td>2.013182e+03</td>\n",
       "    </tr>\n",
       "    <tr>\n",
       "      <th>1302</th>\n",
       "      <td>1302</td>\n",
       "      <td>13.10.2021 21:00:00.000</td>\n",
       "      <td>57078</td>\n",
       "      <td>58568</td>\n",
       "      <td>56906</td>\n",
       "      <td>57505</td>\n",
       "      <td>2.001020e+03</td>\n",
       "    </tr>\n",
       "    <tr>\n",
       "      <th>1303</th>\n",
       "      <td>1303</td>\n",
       "      <td>14.10.2021 21:00:00.000</td>\n",
       "      <td>57533</td>\n",
       "      <td>62922</td>\n",
       "      <td>56940</td>\n",
       "      <td>62587</td>\n",
       "      <td>2.235774e+03</td>\n",
       "    </tr>\n",
       "    <tr>\n",
       "      <th>1304</th>\n",
       "      <td>1304</td>\n",
       "      <td>15.10.2021 21:00:00.000</td>\n",
       "      <td>62587</td>\n",
       "      <td>62608</td>\n",
       "      <td>60223</td>\n",
       "      <td>61077</td>\n",
       "      <td>1.943311e+03</td>\n",
       "    </tr>\n",
       "    <tr>\n",
       "      <th>1305</th>\n",
       "      <td>1305</td>\n",
       "      <td>16.10.2021 21:00:00.000</td>\n",
       "      <td>61077</td>\n",
       "      <td>61498</td>\n",
       "      <td>59043</td>\n",
       "      <td>59467</td>\n",
       "      <td>2.443833e+03</td>\n",
       "    </tr>\n",
       "  </tbody>\n",
       "</table>\n",
       "<p>1306 rows × 7 columns</p>\n",
       "</div>"
      ],
      "text/plain": [
       "      index                 Gmt time   Open   High    Low  Close        Volume\n",
       "0         0  07.05.2017 21:00:00.000   1559   1681   1557   1658  1.872044e+06\n",
       "1         1  08.05.2017 21:00:00.000   1658   1753   1626   1747  1.330136e+06\n",
       "2         2  09.05.2017 21:00:00.000   1713   1769   1677   1752  1.916895e+06\n",
       "3         3  10.05.2017 21:00:00.000   1784   1887   1777   1857  1.613521e+06\n",
       "4         4  11.05.2017 21:00:00.000   1836   1836   1651   1692  2.550428e+06\n",
       "...     ...                      ...    ...    ...    ...    ...           ...\n",
       "1301   1301  12.10.2021 21:00:00.000  55433  57543  54328  57047  2.013182e+03\n",
       "1302   1302  13.10.2021 21:00:00.000  57078  58568  56906  57505  2.001020e+03\n",
       "1303   1303  14.10.2021 21:00:00.000  57533  62922  56940  62587  2.235774e+03\n",
       "1304   1304  15.10.2021 21:00:00.000  62587  62608  60223  61077  1.943311e+03\n",
       "1305   1305  16.10.2021 21:00:00.000  61077  61498  59043  59467  2.443833e+03\n",
       "\n",
       "[1306 rows x 7 columns]"
      ]
     },
     "execution_count": 8,
     "metadata": {},
     "output_type": "execute_result"
    }
   ],
   "source": [
    "data"
   ]
  },
  {
   "cell_type": "markdown",
   "metadata": {},
   "source": [
    "## 1- Add rejection signal"
   ]
  },
  {
   "cell_type": "code",
   "execution_count": 9,
   "metadata": {},
   "outputs": [],
   "source": [
    "def identify_rejection(data):\n",
    "    # Create a new column for rejection signal\n",
    "    data['rejection'] = data.apply(lambda row: 2 if (\n",
    "        ( (min(row['Open'], row['Close']) - row['Low']) > (1.5 * abs(row['Close'] - row['Open']))) and \n",
    "        (row['High'] - max(row['Close'], row['Open'])) < (0.8 * abs(row['Close'] - row['Open'])) and \n",
    "        (abs(row['Open'] - row['Close']) > row['Open'] * 0.001)\n",
    "    ) else 1 if (\n",
    "        (row['High'] - max(row['Open'], row['Close'])) > (1.5 * abs(row['Open'] - row['Close'])) and \n",
    "        (min(row['Close'], row['Open']) - row['Low']) < (0.8 * abs(row['Open'] - row['Close'])) and \n",
    "        (abs(row['Open'] - row['Close']) > row['Open'] * 0.001)\n",
    "    ) else 0, axis=1)\n",
    "\n",
    "    return data\n",
    "\n",
    "data = identify_rejection(data)\n"
   ]
  },
  {
   "cell_type": "code",
   "execution_count": 10,
   "metadata": {},
   "outputs": [
    {
     "data": {
      "text/html": [
       "<div>\n",
       "<style scoped>\n",
       "    .dataframe tbody tr th:only-of-type {\n",
       "        vertical-align: middle;\n",
       "    }\n",
       "\n",
       "    .dataframe tbody tr th {\n",
       "        vertical-align: top;\n",
       "    }\n",
       "\n",
       "    .dataframe thead th {\n",
       "        text-align: right;\n",
       "    }\n",
       "</style>\n",
       "<table border=\"1\" class=\"dataframe\">\n",
       "  <thead>\n",
       "    <tr style=\"text-align: right;\">\n",
       "      <th></th>\n",
       "      <th>index</th>\n",
       "      <th>Gmt time</th>\n",
       "      <th>Open</th>\n",
       "      <th>High</th>\n",
       "      <th>Low</th>\n",
       "      <th>Close</th>\n",
       "      <th>Volume</th>\n",
       "      <th>rejection</th>\n",
       "    </tr>\n",
       "  </thead>\n",
       "  <tbody>\n",
       "    <tr>\n",
       "      <th>26</th>\n",
       "      <td>26</td>\n",
       "      <td>12.06.2017 21:00:00.000</td>\n",
       "      <td>2657</td>\n",
       "      <td>2788</td>\n",
       "      <td>2638</td>\n",
       "      <td>2702</td>\n",
       "      <td>2.226144e+06</td>\n",
       "      <td>1</td>\n",
       "    </tr>\n",
       "    <tr>\n",
       "      <th>28</th>\n",
       "      <td>28</td>\n",
       "      <td>14.06.2017 21:00:00.000</td>\n",
       "      <td>2553</td>\n",
       "      <td>2559</td>\n",
       "      <td>2077</td>\n",
       "      <td>2363</td>\n",
       "      <td>2.589326e+06</td>\n",
       "      <td>2</td>\n",
       "    </tr>\n",
       "    <tr>\n",
       "      <th>38</th>\n",
       "      <td>38</td>\n",
       "      <td>28.06.2017 21:00:00.000</td>\n",
       "      <td>2595</td>\n",
       "      <td>2605</td>\n",
       "      <td>2503</td>\n",
       "      <td>2559</td>\n",
       "      <td>2.302025e+06</td>\n",
       "      <td>2</td>\n",
       "    </tr>\n",
       "    <tr>\n",
       "      <th>41</th>\n",
       "      <td>41</td>\n",
       "      <td>03.07.2017 21:00:00.000</td>\n",
       "      <td>2558</td>\n",
       "      <td>2642</td>\n",
       "      <td>2545</td>\n",
       "      <td>2577</td>\n",
       "      <td>1.820193e+06</td>\n",
       "      <td>1</td>\n",
       "    </tr>\n",
       "    <tr>\n",
       "      <th>80</th>\n",
       "      <td>80</td>\n",
       "      <td>27.08.2017 21:00:00.000</td>\n",
       "      <td>4366</td>\n",
       "      <td>4370</td>\n",
       "      <td>4191</td>\n",
       "      <td>4340</td>\n",
       "      <td>2.018315e+06</td>\n",
       "      <td>2</td>\n",
       "    </tr>\n",
       "    <tr>\n",
       "      <th>...</th>\n",
       "      <td>...</td>\n",
       "      <td>...</td>\n",
       "      <td>...</td>\n",
       "      <td>...</td>\n",
       "      <td>...</td>\n",
       "      <td>...</td>\n",
       "      <td>...</td>\n",
       "      <td>...</td>\n",
       "    </tr>\n",
       "    <tr>\n",
       "      <th>1243</th>\n",
       "      <td>1243</td>\n",
       "      <td>15.08.2021 21:00:00.000</td>\n",
       "      <td>46767</td>\n",
       "      <td>48088</td>\n",
       "      <td>45720</td>\n",
       "      <td>46141</td>\n",
       "      <td>1.292448e+03</td>\n",
       "      <td>1</td>\n",
       "    </tr>\n",
       "    <tr>\n",
       "      <th>1266</th>\n",
       "      <td>1266</td>\n",
       "      <td>07.09.2021 21:00:00.000</td>\n",
       "      <td>46931</td>\n",
       "      <td>47405</td>\n",
       "      <td>44494</td>\n",
       "      <td>46116</td>\n",
       "      <td>2.135367e+03</td>\n",
       "      <td>2</td>\n",
       "    </tr>\n",
       "    <tr>\n",
       "      <th>1283</th>\n",
       "      <td>1283</td>\n",
       "      <td>24.09.2021 21:00:00.000</td>\n",
       "      <td>43028</td>\n",
       "      <td>43264</td>\n",
       "      <td>41754</td>\n",
       "      <td>42720</td>\n",
       "      <td>1.058906e+03</td>\n",
       "      <td>2</td>\n",
       "    </tr>\n",
       "    <tr>\n",
       "      <th>1284</th>\n",
       "      <td>1284</td>\n",
       "      <td>25.09.2021 21:00:00.000</td>\n",
       "      <td>42720</td>\n",
       "      <td>43776</td>\n",
       "      <td>40860</td>\n",
       "      <td>43686</td>\n",
       "      <td>1.162478e+03</td>\n",
       "      <td>2</td>\n",
       "    </tr>\n",
       "    <tr>\n",
       "      <th>1302</th>\n",
       "      <td>1302</td>\n",
       "      <td>13.10.2021 21:00:00.000</td>\n",
       "      <td>57078</td>\n",
       "      <td>58568</td>\n",
       "      <td>56906</td>\n",
       "      <td>57505</td>\n",
       "      <td>2.001020e+03</td>\n",
       "      <td>1</td>\n",
       "    </tr>\n",
       "  </tbody>\n",
       "</table>\n",
       "<p>126 rows × 8 columns</p>\n",
       "</div>"
      ],
      "text/plain": [
       "      index                 Gmt time   Open   High    Low  Close  \\\n",
       "26       26  12.06.2017 21:00:00.000   2657   2788   2638   2702   \n",
       "28       28  14.06.2017 21:00:00.000   2553   2559   2077   2363   \n",
       "38       38  28.06.2017 21:00:00.000   2595   2605   2503   2559   \n",
       "41       41  03.07.2017 21:00:00.000   2558   2642   2545   2577   \n",
       "80       80  27.08.2017 21:00:00.000   4366   4370   4191   4340   \n",
       "...     ...                      ...    ...    ...    ...    ...   \n",
       "1243   1243  15.08.2021 21:00:00.000  46767  48088  45720  46141   \n",
       "1266   1266  07.09.2021 21:00:00.000  46931  47405  44494  46116   \n",
       "1283   1283  24.09.2021 21:00:00.000  43028  43264  41754  42720   \n",
       "1284   1284  25.09.2021 21:00:00.000  42720  43776  40860  43686   \n",
       "1302   1302  13.10.2021 21:00:00.000  57078  58568  56906  57505   \n",
       "\n",
       "            Volume  rejection  \n",
       "26    2.226144e+06          1  \n",
       "28    2.589326e+06          2  \n",
       "38    2.302025e+06          2  \n",
       "41    1.820193e+06          1  \n",
       "80    2.018315e+06          2  \n",
       "...            ...        ...  \n",
       "1243  1.292448e+03          1  \n",
       "1266  2.135367e+03          2  \n",
       "1283  1.058906e+03          2  \n",
       "1284  1.162478e+03          2  \n",
       "1302  2.001020e+03          1  \n",
       "\n",
       "[126 rows x 8 columns]"
      ]
     },
     "execution_count": 10,
     "metadata": {},
     "output_type": "execute_result"
    }
   ],
   "source": [
    "data[data[\"rejection\"]!=0]"
   ]
  },
  {
   "cell_type": "code",
   "execution_count": 11,
   "metadata": {},
   "outputs": [
    {
     "data": {
      "application/vnd.plotly.v1+json": {
       "config": {
        "plotlyServerURL": "https://plot.ly"
       },
       "data": [
        {
         "close": {
          "bdata": "ZwipCH4JpAnDCAMJzAjvCGsJgAlBCjgLswq+ChML8wmOCvkJOwm4CRQKvgpkCnAKlAo0CZoJIwr/CcgJ/gkRCjQKJgrTCVEJGglXCSMJcAh+CC0JzwiqCkIKyAqnCcgJGArECkYLuQqDCt8KEAsODXcNIg1hDQQOpxDoDwAR7BDREJ0P6Q8mEIoQ6RD0EPUR3xGGEoMSDxFsEdkR4BGYEGEQVBA6D0ANjg6nD0IPeA9BDiAOZg9EDzoQRRBNECkRvRBpEPsQ9RA=",
          "dtype": "i2"
         },
         "high": {
          "bdata": "+wjgCJIJ8Qp3CjEJQgkhCboJkglGCn0LRgv9Ci8LuwvkCgML/wneCRsK2QrdCqkKsAoBCqYJJwotCggKGQpSCj8KRgoyCu0JaQluCXIJNAmNCF0JYQmrCtYK8grdCjMKJwoUC00LcAvICvYKPgtjDaENhQ2CDQYO9xBkEQMRfxEHETkQMBCpEKEQZhESESMSIBKhEokSIRLCEVISUxJWEhwRIhF0EHYPDg8fEBwQzg+HD7MOeQ99D2EQtRB+EHYRTxEBEQgRQhE=",
          "dtype": "i2"
         },
         "low": {
          "bdata": "zwfGB5MIsgjDCC0IowhWCOgIRgnICYIKswo0Cr0KkQlOCtsJHQgACZwJGgpNCgsKaArQCN0IfAnHCbIJrAnxCfQJFQq6CTkJ0AjDCAYJaQg/B2EIrAjFCDgKoQqSCWQJlAkYCocKVgpsCloKzQp5DA0NpgzkDEwNkA/iDtsPWRBhEH8Pvg60D/wPehBfEPQQlBHNEXcSRhAqED8RgxEsEBIQ8A+ZDq4Mnwt5DgsP/Q71DbcNUA4PDyMPHxCyDwkRjBBZEDIQyRA=",
          "dtype": "i2"
         },
         "open": {
          "bdata": "5gdoCLoIeAm1CUgICQnVCO8IbQnKCYIKOAu0Cr4KawthCo8K+Qk6CaYJJQq+CmUKcAqpCS0JmgkjCv4Jwwn+CREKNAomCuEJUQkaCVYJIglJB30ILgnPCKoK5ArICqQJyAkYCskKSQu0CoMK3wrCDA8Ndw0sDWENqw+nEOgP5RDoEBcQvw7pDyYQihAOEfQQ9RHfEYYSEhIPEWwR2RH2EcEQZBBUEDoPQA2kDqcPRw93D0IOVg5mD0QPOhBFECQRKBG8EGkQ+xA=",
          "dtype": "i2"
         },
         "type": "candlestick",
         "x": {
          "bdata": "CgsMDQ4PEBESExQVFhcYGRobHB0eHyAhIiMkJSYnKCkqKywtLi8wMTIzNDU2Nzg5Ojs8PT4/QEFCQ0RFRkdISUpLTE1OT1BRUlNUVVZXWFlaW1xdXl9gYWJjZGVmZ2hpamtsbQ==",
          "dtype": "i1"
         }
        },
        {
         "marker": {
          "color": "MediumPurple",
          "size": 8
         },
         "mode": "markers",
         "name": "Signal",
         "type": "scatter",
         "x": {
          "bdata": "CgsMDQ4PEBESExQVFhcYGRobHB0eHyAhIiMkJSYnKCkqKywtLi8wMTIzNDU2Nzg5Ojs8PT4/QEFCQ0RFRkdISUpLTE1OT1BRUlNUVVZXWFlaW1xdXl9gYWJjZGVmZ2hpamtsbQ==",
          "dtype": "i1"
         },
         "y": {
          "bdata": "AAAAAAAA+H8AAAAAAAD4fwAAAAAAAPh/AAAAAAAA+H8AAAAAAAD4fwAAAAAAAPh/AAAAAAAA+H8AAAAAAAD4fwAAAAAAAPh/AAAAAAAA+H8AAAAAAAD4fwAAAAAAAPh/AAAAAAAA+H8AAAAAAAD4fwAAAAAAAPh/AAAAAAAA+H92cRsNAMilQAAAAAAAAPh/io7k8v85oEAAAAAAAAD4fwAAAAAAAPh/AAAAAAAA+H8AAAAAAAD4fwAAAAAAAPh/AAAAAAAA+H8AAAAAAAD4fwAAAAAAAPh/AAAAAAAA+H+KjuTy/42jQAAAAAAAAPh/AAAAAAAA+H92cRsNAKSkQAAAAAAAAPh/AAAAAAAA+H8AAAAAAAD4fwAAAAAAAPh/AAAAAAAA+H8AAAAAAAD4fwAAAAAAAPh/AAAAAAAA+H8AAAAAAAD4fwAAAAAAAPh/AAAAAAAA+H8AAAAAAAD4fwAAAAAAAPh/AAAAAAAA+H8AAAAAAAD4fwAAAAAAAPh/AAAAAAAA+H8AAAAAAAD4fwAAAAAAAPh/AAAAAAAA+H8AAAAAAAD4fwAAAAAAAPh/AAAAAAAA+H8AAAAAAAD4fwAAAAAAAPh/AAAAAAAA+H8AAAAAAAD4fwAAAAAAAPh/AAAAAAAA+H8AAAAAAAD4fwAAAAAAAPh/AAAAAAAA+H8AAAAAAAD4fwAAAAAAAPh/AAAAAAAA+H8AAAAAAAD4fwAAAAAAAPh/AAAAAAAA+H9FR3L5/16wQAAAAAAAAPh/AAAAAAAA+H8AAAAAAAD4fwAAAAAAAPh/AAAAAAAA+H8AAAAAAAD4fwAAAAAAAPh/AAAAAAAA+H8AAAAAAAD4fwAAAAAAAPh/AAAAAAAA+H8AAAAAAAD4fwAAAAAAAPh/AAAAAAAA+H8AAAAAAAD4fwAAAAAAAPh/AAAAAAAA+H8AAAAAAAD4fwAAAAAAAPh/AAAAAAAA+H+KjuTy/x2uQAAAAAAAAPh/AAAAAAAA+H8AAAAAAAD4fwAAAAAAAPh/AAAAAAAA+H8AAAAAAAD4fwAAAAAAAPh/AAAAAAAA+H8=",
          "dtype": "f8"
         }
        }
       ],
       "layout": {
        "autosize": false,
        "height": 800,
        "paper_bgcolor": "black",
        "plot_bgcolor": "black",
        "template": {
         "data": {
          "bar": [
           {
            "error_x": {
             "color": "#2a3f5f"
            },
            "error_y": {
             "color": "#2a3f5f"
            },
            "marker": {
             "line": {
              "color": "#E5ECF6",
              "width": 0.5
             },
             "pattern": {
              "fillmode": "overlay",
              "size": 10,
              "solidity": 0.2
             }
            },
            "type": "bar"
           }
          ],
          "barpolar": [
           {
            "marker": {
             "line": {
              "color": "#E5ECF6",
              "width": 0.5
             },
             "pattern": {
              "fillmode": "overlay",
              "size": 10,
              "solidity": 0.2
             }
            },
            "type": "barpolar"
           }
          ],
          "carpet": [
           {
            "aaxis": {
             "endlinecolor": "#2a3f5f",
             "gridcolor": "white",
             "linecolor": "white",
             "minorgridcolor": "white",
             "startlinecolor": "#2a3f5f"
            },
            "baxis": {
             "endlinecolor": "#2a3f5f",
             "gridcolor": "white",
             "linecolor": "white",
             "minorgridcolor": "white",
             "startlinecolor": "#2a3f5f"
            },
            "type": "carpet"
           }
          ],
          "choropleth": [
           {
            "colorbar": {
             "outlinewidth": 0,
             "ticks": ""
            },
            "type": "choropleth"
           }
          ],
          "contour": [
           {
            "colorbar": {
             "outlinewidth": 0,
             "ticks": ""
            },
            "colorscale": [
             [
              0,
              "#0d0887"
             ],
             [
              0.1111111111111111,
              "#46039f"
             ],
             [
              0.2222222222222222,
              "#7201a8"
             ],
             [
              0.3333333333333333,
              "#9c179e"
             ],
             [
              0.4444444444444444,
              "#bd3786"
             ],
             [
              0.5555555555555556,
              "#d8576b"
             ],
             [
              0.6666666666666666,
              "#ed7953"
             ],
             [
              0.7777777777777778,
              "#fb9f3a"
             ],
             [
              0.8888888888888888,
              "#fdca26"
             ],
             [
              1,
              "#f0f921"
             ]
            ],
            "type": "contour"
           }
          ],
          "contourcarpet": [
           {
            "colorbar": {
             "outlinewidth": 0,
             "ticks": ""
            },
            "type": "contourcarpet"
           }
          ],
          "heatmap": [
           {
            "colorbar": {
             "outlinewidth": 0,
             "ticks": ""
            },
            "colorscale": [
             [
              0,
              "#0d0887"
             ],
             [
              0.1111111111111111,
              "#46039f"
             ],
             [
              0.2222222222222222,
              "#7201a8"
             ],
             [
              0.3333333333333333,
              "#9c179e"
             ],
             [
              0.4444444444444444,
              "#bd3786"
             ],
             [
              0.5555555555555556,
              "#d8576b"
             ],
             [
              0.6666666666666666,
              "#ed7953"
             ],
             [
              0.7777777777777778,
              "#fb9f3a"
             ],
             [
              0.8888888888888888,
              "#fdca26"
             ],
             [
              1,
              "#f0f921"
             ]
            ],
            "type": "heatmap"
           }
          ],
          "histogram": [
           {
            "marker": {
             "pattern": {
              "fillmode": "overlay",
              "size": 10,
              "solidity": 0.2
             }
            },
            "type": "histogram"
           }
          ],
          "histogram2d": [
           {
            "colorbar": {
             "outlinewidth": 0,
             "ticks": ""
            },
            "colorscale": [
             [
              0,
              "#0d0887"
             ],
             [
              0.1111111111111111,
              "#46039f"
             ],
             [
              0.2222222222222222,
              "#7201a8"
             ],
             [
              0.3333333333333333,
              "#9c179e"
             ],
             [
              0.4444444444444444,
              "#bd3786"
             ],
             [
              0.5555555555555556,
              "#d8576b"
             ],
             [
              0.6666666666666666,
              "#ed7953"
             ],
             [
              0.7777777777777778,
              "#fb9f3a"
             ],
             [
              0.8888888888888888,
              "#fdca26"
             ],
             [
              1,
              "#f0f921"
             ]
            ],
            "type": "histogram2d"
           }
          ],
          "histogram2dcontour": [
           {
            "colorbar": {
             "outlinewidth": 0,
             "ticks": ""
            },
            "colorscale": [
             [
              0,
              "#0d0887"
             ],
             [
              0.1111111111111111,
              "#46039f"
             ],
             [
              0.2222222222222222,
              "#7201a8"
             ],
             [
              0.3333333333333333,
              "#9c179e"
             ],
             [
              0.4444444444444444,
              "#bd3786"
             ],
             [
              0.5555555555555556,
              "#d8576b"
             ],
             [
              0.6666666666666666,
              "#ed7953"
             ],
             [
              0.7777777777777778,
              "#fb9f3a"
             ],
             [
              0.8888888888888888,
              "#fdca26"
             ],
             [
              1,
              "#f0f921"
             ]
            ],
            "type": "histogram2dcontour"
           }
          ],
          "mesh3d": [
           {
            "colorbar": {
             "outlinewidth": 0,
             "ticks": ""
            },
            "type": "mesh3d"
           }
          ],
          "parcoords": [
           {
            "line": {
             "colorbar": {
              "outlinewidth": 0,
              "ticks": ""
             }
            },
            "type": "parcoords"
           }
          ],
          "pie": [
           {
            "automargin": true,
            "type": "pie"
           }
          ],
          "scatter": [
           {
            "fillpattern": {
             "fillmode": "overlay",
             "size": 10,
             "solidity": 0.2
            },
            "type": "scatter"
           }
          ],
          "scatter3d": [
           {
            "line": {
             "colorbar": {
              "outlinewidth": 0,
              "ticks": ""
             }
            },
            "marker": {
             "colorbar": {
              "outlinewidth": 0,
              "ticks": ""
             }
            },
            "type": "scatter3d"
           }
          ],
          "scattercarpet": [
           {
            "marker": {
             "colorbar": {
              "outlinewidth": 0,
              "ticks": ""
             }
            },
            "type": "scattercarpet"
           }
          ],
          "scattergeo": [
           {
            "marker": {
             "colorbar": {
              "outlinewidth": 0,
              "ticks": ""
             }
            },
            "type": "scattergeo"
           }
          ],
          "scattergl": [
           {
            "marker": {
             "colorbar": {
              "outlinewidth": 0,
              "ticks": ""
             }
            },
            "type": "scattergl"
           }
          ],
          "scattermap": [
           {
            "marker": {
             "colorbar": {
              "outlinewidth": 0,
              "ticks": ""
             }
            },
            "type": "scattermap"
           }
          ],
          "scattermapbox": [
           {
            "marker": {
             "colorbar": {
              "outlinewidth": 0,
              "ticks": ""
             }
            },
            "type": "scattermapbox"
           }
          ],
          "scatterpolar": [
           {
            "marker": {
             "colorbar": {
              "outlinewidth": 0,
              "ticks": ""
             }
            },
            "type": "scatterpolar"
           }
          ],
          "scatterpolargl": [
           {
            "marker": {
             "colorbar": {
              "outlinewidth": 0,
              "ticks": ""
             }
            },
            "type": "scatterpolargl"
           }
          ],
          "scatterternary": [
           {
            "marker": {
             "colorbar": {
              "outlinewidth": 0,
              "ticks": ""
             }
            },
            "type": "scatterternary"
           }
          ],
          "surface": [
           {
            "colorbar": {
             "outlinewidth": 0,
             "ticks": ""
            },
            "colorscale": [
             [
              0,
              "#0d0887"
             ],
             [
              0.1111111111111111,
              "#46039f"
             ],
             [
              0.2222222222222222,
              "#7201a8"
             ],
             [
              0.3333333333333333,
              "#9c179e"
             ],
             [
              0.4444444444444444,
              "#bd3786"
             ],
             [
              0.5555555555555556,
              "#d8576b"
             ],
             [
              0.6666666666666666,
              "#ed7953"
             ],
             [
              0.7777777777777778,
              "#fb9f3a"
             ],
             [
              0.8888888888888888,
              "#fdca26"
             ],
             [
              1,
              "#f0f921"
             ]
            ],
            "type": "surface"
           }
          ],
          "table": [
           {
            "cells": {
             "fill": {
              "color": "#EBF0F8"
             },
             "line": {
              "color": "white"
             }
            },
            "header": {
             "fill": {
              "color": "#C8D4E3"
             },
             "line": {
              "color": "white"
             }
            },
            "type": "table"
           }
          ]
         },
         "layout": {
          "annotationdefaults": {
           "arrowcolor": "#2a3f5f",
           "arrowhead": 0,
           "arrowwidth": 1
          },
          "autotypenumbers": "strict",
          "coloraxis": {
           "colorbar": {
            "outlinewidth": 0,
            "ticks": ""
           }
          },
          "colorscale": {
           "diverging": [
            [
             0,
             "#8e0152"
            ],
            [
             0.1,
             "#c51b7d"
            ],
            [
             0.2,
             "#de77ae"
            ],
            [
             0.3,
             "#f1b6da"
            ],
            [
             0.4,
             "#fde0ef"
            ],
            [
             0.5,
             "#f7f7f7"
            ],
            [
             0.6,
             "#e6f5d0"
            ],
            [
             0.7,
             "#b8e186"
            ],
            [
             0.8,
             "#7fbc41"
            ],
            [
             0.9,
             "#4d9221"
            ],
            [
             1,
             "#276419"
            ]
           ],
           "sequential": [
            [
             0,
             "#0d0887"
            ],
            [
             0.1111111111111111,
             "#46039f"
            ],
            [
             0.2222222222222222,
             "#7201a8"
            ],
            [
             0.3333333333333333,
             "#9c179e"
            ],
            [
             0.4444444444444444,
             "#bd3786"
            ],
            [
             0.5555555555555556,
             "#d8576b"
            ],
            [
             0.6666666666666666,
             "#ed7953"
            ],
            [
             0.7777777777777778,
             "#fb9f3a"
            ],
            [
             0.8888888888888888,
             "#fdca26"
            ],
            [
             1,
             "#f0f921"
            ]
           ],
           "sequentialminus": [
            [
             0,
             "#0d0887"
            ],
            [
             0.1111111111111111,
             "#46039f"
            ],
            [
             0.2222222222222222,
             "#7201a8"
            ],
            [
             0.3333333333333333,
             "#9c179e"
            ],
            [
             0.4444444444444444,
             "#bd3786"
            ],
            [
             0.5555555555555556,
             "#d8576b"
            ],
            [
             0.6666666666666666,
             "#ed7953"
            ],
            [
             0.7777777777777778,
             "#fb9f3a"
            ],
            [
             0.8888888888888888,
             "#fdca26"
            ],
            [
             1,
             "#f0f921"
            ]
           ]
          },
          "colorway": [
           "#636efa",
           "#EF553B",
           "#00cc96",
           "#ab63fa",
           "#FFA15A",
           "#19d3f3",
           "#FF6692",
           "#B6E880",
           "#FF97FF",
           "#FECB52"
          ],
          "font": {
           "color": "#2a3f5f"
          },
          "geo": {
           "bgcolor": "white",
           "lakecolor": "white",
           "landcolor": "#E5ECF6",
           "showlakes": true,
           "showland": true,
           "subunitcolor": "white"
          },
          "hoverlabel": {
           "align": "left"
          },
          "hovermode": "closest",
          "mapbox": {
           "style": "light"
          },
          "paper_bgcolor": "white",
          "plot_bgcolor": "#E5ECF6",
          "polar": {
           "angularaxis": {
            "gridcolor": "white",
            "linecolor": "white",
            "ticks": ""
           },
           "bgcolor": "#E5ECF6",
           "radialaxis": {
            "gridcolor": "white",
            "linecolor": "white",
            "ticks": ""
           }
          },
          "scene": {
           "xaxis": {
            "backgroundcolor": "#E5ECF6",
            "gridcolor": "white",
            "gridwidth": 2,
            "linecolor": "white",
            "showbackground": true,
            "ticks": "",
            "zerolinecolor": "white"
           },
           "yaxis": {
            "backgroundcolor": "#E5ECF6",
            "gridcolor": "white",
            "gridwidth": 2,
            "linecolor": "white",
            "showbackground": true,
            "ticks": "",
            "zerolinecolor": "white"
           },
           "zaxis": {
            "backgroundcolor": "#E5ECF6",
            "gridcolor": "white",
            "gridwidth": 2,
            "linecolor": "white",
            "showbackground": true,
            "ticks": "",
            "zerolinecolor": "white"
           }
          },
          "shapedefaults": {
           "line": {
            "color": "#2a3f5f"
           }
          },
          "ternary": {
           "aaxis": {
            "gridcolor": "white",
            "linecolor": "white",
            "ticks": ""
           },
           "baxis": {
            "gridcolor": "white",
            "linecolor": "white",
            "ticks": ""
           },
           "bgcolor": "#E5ECF6",
           "caxis": {
            "gridcolor": "white",
            "linecolor": "white",
            "ticks": ""
           }
          },
          "title": {
           "x": 0.05
          },
          "xaxis": {
           "automargin": true,
           "gridcolor": "white",
           "linecolor": "white",
           "ticks": "",
           "title": {
            "standoff": 15
           },
           "zerolinecolor": "white",
           "zerolinewidth": 2
          },
          "yaxis": {
           "automargin": true,
           "gridcolor": "white",
           "linecolor": "white",
           "ticks": "",
           "title": {
            "standoff": 15
           },
           "zerolinecolor": "white",
           "zerolinewidth": 2
          }
         }
        },
        "width": 1000,
        "xaxis": {
         "gridcolor": "black"
        },
        "yaxis": {
         "gridcolor": "black"
        }
       }
      }
     },
     "metadata": {},
     "output_type": "display_data"
    }
   ],
   "source": [
    "def pointpos(x, xsignal):\n",
    "    if x[xsignal]==1:\n",
    "        return x['High']+1e-4\n",
    "    elif x[xsignal]==2:\n",
    "        return x['Low']-1e-4\n",
    "    else:\n",
    "        return np.nan\n",
    "\n",
    "def plot_with_signal(dfpl):\n",
    "\n",
    "    fig = go.Figure(data=[go.Candlestick(x=dfpl.index,\n",
    "                    open=dfpl['Open'],\n",
    "                    high=dfpl['High'],\n",
    "                    low=dfpl['Low'],\n",
    "                    close=dfpl['Close'])])\n",
    "\n",
    "    fig.update_layout(\n",
    "        autosize=False,\n",
    "        width=1000,\n",
    "        height=800, \n",
    "        paper_bgcolor='black',\n",
    "        plot_bgcolor='black')\n",
    "    fig.update_xaxes(gridcolor='black')\n",
    "    fig.update_yaxes(gridcolor='black')\n",
    "    fig.add_scatter(x=dfpl.index, y=dfpl['pointpos'], mode=\"markers\",\n",
    "                    marker=dict(size=8, color=\"MediumPurple\"),\n",
    "                    name=\"Signal\")\n",
    "    fig.show()\n",
    "\n",
    "data['pointpos'] = data.apply(lambda row: pointpos(row,\"rejection\"), axis=1)\n",
    "plot_with_signal(data[10:110])"
   ]
  },
  {
   "cell_type": "markdown",
   "metadata": {},
   "source": [
    "## 2- Support and Resistance FUNCTIONS"
   ]
  },
  {
   "cell_type": "code",
   "execution_count": 12,
   "metadata": {},
   "outputs": [],
   "source": [
    "def support(df1, l, n1, n2): #n1 n2 before and after candle l\n",
    "    if ( df1.Low[l-n1:l].min() < df1.Low[l] or\n",
    "        df1.Low[l+1:l+n2+1].min() < df1.Low[l] ):\n",
    "        return 0\n",
    "    return 1\n",
    "\n",
    "def resistance(df1, l, n1, n2): #n1 n2 before and after candle l\n",
    "    if ( df1.High[l-n1:l].max() > df1.High[l] or\n",
    "       df1.High[l+1:l+n2+1].max() > df1.High[l] ):\n",
    "        return 0\n",
    "    return 1"
   ]
  },
  {
   "cell_type": "markdown",
   "metadata": {},
   "source": [
    "## 3- Close to resistance and support testing"
   ]
  },
  {
   "cell_type": "code",
   "execution_count": 13,
   "metadata": {},
   "outputs": [],
   "source": [
    "def closeResistance(l, levels, lim, df):\n",
    "    if len(levels) == 0:\n",
    "        return 0\n",
    "    c1 = abs(df['High'][l] - min(levels, key=lambda x: abs(x - df['High'][l]))) <= lim\n",
    "    c2 = abs(max(df['Open'][l], df['Close'][l]) - min(levels, key=lambda x: abs(x - df['High'][l]))) <= lim\n",
    "    c3 = min(df['Open'][l], df['Close'][l]) < min(levels, key=lambda x: abs(x - df['High'][l]))\n",
    "    c4 = df['Low'][l] < min(levels, key=lambda x: abs(x - df['High'][l]))\n",
    "    if (c1 or c2) and c3 and c4:\n",
    "        return min(levels, key=lambda x: abs(x - df['High'][l]))\n",
    "    else:\n",
    "        return 0\n",
    "\n",
    "def closeSupport(l, levels, lim, df):\n",
    "    if len(levels) == 0:\n",
    "        return 0\n",
    "    c1 = abs(df['Low'][l] - min(levels, key=lambda x: abs(x - df['Low'][l]))) <= lim\n",
    "    c2 = abs(min(df['Open'][l], df['Close'][l]) - min(levels, key=lambda x: abs(x - df['Low'][l]))) <= lim\n",
    "    c3 = max(df['Open'][l], df['Close'][l]) > min(levels, key=lambda x: abs(x - df['Low'][l]))\n",
    "    c4 = df['High'][l] > min(levels, key=lambda x: abs(x - df['Low'][l]))\n",
    "    if (c1 or c2) and c3 and c4:\n",
    "        return min(levels, key=lambda x: abs(x - df['Low'][l]))\n",
    "    else:\n",
    "        return 0\n",
    "\n",
    "def is_below_resistance(l, level_backCandles, level, df):\n",
    "    return df.loc[l-level_backCandles:l-1, 'High'].max() < level\n",
    "\n",
    "def is_above_support(l, level_backCandles, level, df):\n",
    "    return df.loc[l-level_backCandles:l-1, 'Low'].min() > level"
   ]
  },
  {
   "cell_type": "code",
   "execution_count": 14,
   "metadata": {},
   "outputs": [],
   "source": [
    "def check_candle_signal(l, n1, n2, levelbackCandles, windowbackCandles, df):\n",
    "    ss = []\n",
    "    rr = []\n",
    "    for subrow in range(l-levelbackCandles, l-n2+1):\n",
    "        if support(df, subrow, n1, n2):\n",
    "            ss.append(df.Low[subrow])\n",
    "        if resistance(df, subrow, n1, n2):\n",
    "            rr.append(df.High[subrow])\n",
    "\n",
    "    ss.sort() #keep lowest support when popping a level\n",
    "    for i in range(1,len(ss)):\n",
    "        if(i>=len(ss)):\n",
    "            break\n",
    "        if abs(ss[i]-ss[i-1])/ss[i]<=0.001: # merging close distance levels\n",
    "            ss.pop(i)\n",
    "\n",
    "    rr.sort(reverse=True) # keep highest resistance when popping one\n",
    "    for i in range(1,len(rr)):\n",
    "        if(i>=len(rr)):\n",
    "            break\n",
    "        if abs(rr[i]-rr[i-1])/rr[i]<=0.001: # merging close distance levels\n",
    "            rr.pop(i)\n",
    "\n",
    "    #----------------------------------------------------------------------\n",
    "    # joined levels\n",
    "    rrss = rr+ss\n",
    "    rrss.sort()\n",
    "    for i in range(1,len(rrss)):\n",
    "        if(i>=len(rrss)):\n",
    "            break\n",
    "        if abs(rrss[i]-rrss[i-1])/rrss[i]<=0.001: # merging close distance levels\n",
    "            rrss.pop(i)\n",
    "    cR = closeResistance(l, rrss, df.Close[l]*0.003, df)\n",
    "    cS = closeSupport(l, rrss, df.Close[l]*0.003, df)\n",
    "    #----------------------------------------------------------------------\n",
    "\n",
    "    # cR = closeResistance(l, rr, 150e-5, df)\n",
    "    # cS = closeSupport(l, ss, 150e-5, df)\n",
    "    #print(rrss,df.Close*0.002)\n",
    "    if (df.rejection[l] == 1 and cR and is_below_resistance(l,windowbackCandles,cR, df)):\n",
    "        return 1\n",
    "    elif(df.rejection[l] == 2 and cS and is_above_support(l,windowbackCandles,cS, df)):\n",
    "        return 2\n",
    "    else:\n",
    "        return 0"
   ]
  },
  {
   "cell_type": "code",
   "execution_count": 15,
   "metadata": {},
   "outputs": [
    {
     "name": "stderr",
     "output_type": "stream",
     "text": [
      "  0%|          | 0/1230 [00:00<?, ?it/s]"
     ]
    },
    {
     "name": "stderr",
     "output_type": "stream",
     "text": [
      "100%|██████████| 1230/1230 [00:16<00:00, 74.90it/s] \n"
     ]
    }
   ],
   "source": [
    "from tqdm import tqdm\n",
    "\n",
    "n1 = 8\n",
    "n2 = 8\n",
    "levelbackCandles = 60\n",
    "windowbackCandles = n2\n",
    "\n",
    "signal = [0 for i in range(len(data))]\n",
    "\n",
    "for row in tqdm(range(levelbackCandles+n1, len(data)-n2)):\n",
    "    signal[row] = check_candle_signal(row, n1, n2, levelbackCandles, windowbackCandles, data)\n",
    "\n",
    "data[\"signal\"] = signal"
   ]
  },
  {
   "cell_type": "code",
   "execution_count": 16,
   "metadata": {},
   "outputs": [
    {
     "data": {
      "text/html": [
       "<div>\n",
       "<style scoped>\n",
       "    .dataframe tbody tr th:only-of-type {\n",
       "        vertical-align: middle;\n",
       "    }\n",
       "\n",
       "    .dataframe tbody tr th {\n",
       "        vertical-align: top;\n",
       "    }\n",
       "\n",
       "    .dataframe thead th {\n",
       "        text-align: right;\n",
       "    }\n",
       "</style>\n",
       "<table border=\"1\" class=\"dataframe\">\n",
       "  <thead>\n",
       "    <tr style=\"text-align: right;\">\n",
       "      <th></th>\n",
       "      <th>index</th>\n",
       "      <th>Gmt time</th>\n",
       "      <th>Open</th>\n",
       "      <th>High</th>\n",
       "      <th>Low</th>\n",
       "      <th>Close</th>\n",
       "      <th>Volume</th>\n",
       "      <th>rejection</th>\n",
       "      <th>pointpos</th>\n",
       "      <th>signal</th>\n",
       "    </tr>\n",
       "  </thead>\n",
       "  <tbody>\n",
       "    <tr>\n",
       "      <th>1128</th>\n",
       "      <td>1128</td>\n",
       "      <td>22.04.2021 21:00:00.000</td>\n",
       "      <td>51625</td>\n",
       "      <td>52252</td>\n",
       "      <td>47573</td>\n",
       "      <td>50621</td>\n",
       "      <td>2270.844</td>\n",
       "      <td>2</td>\n",
       "      <td>47572.9999</td>\n",
       "      <td>2</td>\n",
       "    </tr>\n",
       "  </tbody>\n",
       "</table>\n",
       "</div>"
      ],
      "text/plain": [
       "      index                 Gmt time   Open   High    Low  Close    Volume  \\\n",
       "1128   1128  22.04.2021 21:00:00.000  51625  52252  47573  50621  2270.844   \n",
       "\n",
       "      rejection    pointpos  signal  \n",
       "1128          2  47572.9999       2  "
      ]
     },
     "execution_count": 16,
     "metadata": {},
     "output_type": "execute_result"
    }
   ],
   "source": [
    "data[data[\"signal\"]!=0]"
   ]
  },
  {
   "cell_type": "code",
   "execution_count": 17,
   "metadata": {},
   "outputs": [
    {
     "data": {
      "application/vnd.plotly.v1+json": {
       "config": {
        "plotlyServerURL": "https://plot.ly"
       },
       "data": [
        {
         "close": {
          "bdata": "YSJtIuIheiEqI1siVyLVI9gj6h53H+8ekhaAFWITlhUVFagYjxdGGZ0aARqTGlYahRmKGQkZlRpqGngcCRzVHMIcRRvmGhQbmBrMG88bDRsnGwgcrh2oHVcecx4dI7MiVyIUIzUjXiSFJksn9yGyIo4k8iVVJAgmEiatJZsjGyQLI9UiByQhJQUlCSZrJaolciYvJiAmUCbEJrQkMyVFJVAl1iS0JJ4k6CXaJYMkdSQfJBck9SNRJLMjuyOHI3ckYiQSJVAkSSRbJF0kdCQ4JMojCCTmIxMk3iTdJLElsyU0J74qGysOLMcrdCx2Lp0rpiwGLN8thS4rLY4uBSxoLZQtYS5iMDkv/i2SLtctkS1HLQ8uOywxLTssMC07LZAt2i0sL5AsOSqGKYMnFyjAJzknLShYKHMo4ChkKNspiioPK9IqoSptK4EqCSksKQgonin4Kfop/ymPKh0q7CmJKUwpZSm0KQ4qTCm9KagqPSuBLFssSC3ELJgsMS1RLHIszSzuLZYuTjJbM6oyTzMGMw==",
          "dtype": "i2"
         },
         "high": {
          "bdata": "BiVEI/0iiiEtI0QjxyIKJBQkniATIJ4fax+RF3wXuhXyFS4ZTRsTGgYbehvDGgsbphkTGpkZgxzAG9IcXh09HR4d1hwlHIQbVBsUHGIcbhxcGzccih75HbEerB4hIzUlpyM+I9cj6yQoJ5EnDSRKI7UkDSezJhUn3ianJrIlaSSxI2sjPiRzJdElFybIKOIl1Ca8Jn8m0SZLJykngiVFJa4liyU/JQsl+iVwJvglnSSvJCMkSiSMJGok+SOPI8Ek3CQ6JTglYiRqJLckeiR3JEckGCTtI04kFyXwJAcm0SVaJ/UqvyxXLIws9yyILkEsCi3RLAEuwC7BLmcv3i6dLcctji7wMLMweC+sLq4uky1eLWkuRC5QLYQtVi1PLZMtOi5VL00v3CxEKqgpVCiEKOMohSgTKacoCClsKR0q0CpxKzwrOCvCK28rCSs7KWYp8SlCKmQqTCrcKqUqiCrEKr8pginhKS8qSSrQKeYqfisBLcksYy3lLTktdC0yLaUsAC1OLikviTLLM6UzjjNDNA==",
          "dtype": "i2"
         },
         "low": {
          "bdata": "6yGFISshRyFkIQ8iGCJSIl8jDB5zHuIdGBZ9D40ROxPXE80UZhZ1FhEZghm8GfEZGRf/GEcYCRkOGoMa4RvoGwMcmxrwGbMaXRqHGZIboRqxGuQathsfHeEdMx5iHhUhxyGSIYEiFSOOI0AmPiBbIWgibiTqIyglNSWTJJ0iFiP4ITAinSKcI60k4yR1JOokJSWtJeglmCUXJqMjRyT+IuEkSiSRJEokcCSjJSQkVSN9I3MjnSO9IyUjlSOBIxkjMCRIJP4j3iNaJCck0iP/I4MjsCPWI+oj+yN/JNQkPyUhJ84mkimYKpAqGittLQ4rBCtQK5crUi2OLDottSuzK0gsmS06LnEueC3WLZYtWi1ALYctqSszLLIrMCzoLGYtdC1SLc4rGynYJpsmAye0Jt8mlSbdJ/YnPij7JyQokCnCKREqWCqbKicqSiiNKLEn6idRKb0peyntKaEpviniKKUo/yg5KZUpNyk5KT8paiouKx4syStGLDssDyziKx4sZCyvLL4thi6yMdQxcjKCMg==",
          "dtype": "i2"
         },
         "open": {
          "bdata": "4iRhIm0iXCF8ISsjWyJZItYjiiDqHncf7x6SFnEUYhOWFRUVqBhsF0YZnRoBGpMadheKGYoZCRmVGqAaeBwMHNUcwxwUHOYaFBuYGs4bJxwNGycbCByuHSMeVx5zHiEjsyK9IhUjNSNeJIUmViL3IbMikST2JT8mCCYZJrIlmyNjIw8j1SIKJCIlXSUKJmslqyVyJjomIiZQJsQmtCTgJEUlUiXWJLQkmCToJdolhCR2JNAjFyT1I1EksyOBI2sjdiRiJBIlUSRoJEskViR0JDUkySPjIxAkESTbJNoksiVZJ9UmvSooKw4sziukLS8sjSu6LAos7S2RLtUtjS71K2Ytuy2ELmAwNC8ALpAubS1PLc8tBS5ILDEtOiwELWstri3VLSYvkCw5KoYpgydtKMInMyctKFgocyjiKGUo3SmKKhAr0iqhKm0rgioJKSwpCCieKfgp/CkAKo8qHyrsKYkpTCllKbQpDipNKcApqCo9K4IsXixJLcQsmCwxLVEsdSzQLPAtnC5UMlszqjJPMw==",
          "dtype": "i2"
         },
         "type": "candlestick",
         "x": {
          "bdata": "7gLvAvAC8QLyAvMC9AL1AvYC9wL4AvkC+gL7AvwC/QL+Av8CAAMBAwIDAwMEAwUDBgMHAwgDCQMKAwsDDAMNAw4DDwMQAxEDEgMTAxQDFQMWAxcDGAMZAxoDGwMcAx0DHgMfAyADIQMiAyMDJAMlAyYDJwMoAykDKgMrAywDLQMuAy8DMAMxAzIDMwM0AzUDNgM3AzgDOQM6AzsDPAM9Az4DPwNAA0EDQgNDA0QDRQNGA0cDSANJA0oDSwNMA00DTgNPA1ADUQNSA1MDVANVA1YDVwNYA1kDWgNbA1wDXQNeA18DYANhA2IDYwNkA2UDZgNnA2gDaQNqA2sDbANtA24DbwNwA3EDcgNzA3QDdQN2A3cDeAN5A3oDewN8A30DfgN/A4ADgQOCA4MDhAOFA4YDhwOIA4kDigOLA4wDjQOOA48DkAORA5IDkwOUA5UDlgOXA5gDmQOaA5sDnAOdA54DnwOgA6EDogOjA6QDpQOmA6cDqAOpA6oDqwOsA60DrgOvA7ADsQOyA7MDtAO1Aw==",
          "dtype": "i2"
         }
        },
        {
         "marker": {
          "color": "MediumPurple",
          "size": 8
         },
         "mode": "markers",
         "name": "Signal",
         "type": "scatter",
         "x": {
          "bdata": "7gLvAvAC8QLyAvMC9AL1AvYC9wL4AvkC+gL7AvwC/QL+Av8CAAMBAwIDAwMEAwUDBgMHAwgDCQMKAwsDDAMNAw4DDwMQAxEDEgMTAxQDFQMWAxcDGAMZAxoDGwMcAx0DHgMfAyADIQMiAyMDJAMlAyYDJwMoAykDKgMrAywDLQMuAy8DMAMxAzIDMwM0AzUDNgM3AzgDOQM6AzsDPAM9Az4DPwNAA0EDQgNDA0QDRQNGA0cDSANJA0oDSwNMA00DTgNPA1ADUQNSA1MDVANVA1YDVwNYA1kDWgNbA1wDXQNeA18DYANhA2IDYwNkA2UDZgNnA2gDaQNqA2sDbANtA24DbwNwA3EDcgNzA3QDdQN2A3cDeAN5A3oDewN8A30DfgN/A4ADgQOCA4MDhAOFA4YDhwOIA4kDigOLA4wDjQOOA48DkAORA5IDkwOUA5UDlgOXA5gDmQOaA5sDnAOdA54DnwOgA6EDogOjA6QDpQOmA6cDqAOpA6oDqwOsA60DrgOvA7ADsQOyA7MDtAO1Aw==",
          "dtype": "i2"
         },
         "y": {
          "bdata": "AAAAAAAA+H8AAAAAAAD4fwAAAAAAAPh/AAAAAAAA+H8AAAAAAAD4fwAAAAAAAPh/AAAAAAAA+H8AAAAAAAD4fwAAAAAAAPh/AAAAAAAA+H8AAAAAAAD4fwAAAAAAAPh/AAAAAAAA+H8AAAAAAAD4fwAAAAAAAPh/AAAAAAAA+H8AAAAAAAD4fwAAAAAAAPh/AAAAAAAA+H8AAAAAAAD4fwAAAAAAAPh/AAAAAAAA+H8AAAAAAAD4fwAAAAAAAPh/AAAAAAAA+H8AAAAAAAD4fwAAAAAAAPh/AAAAAAAA+H8AAAAAAAD4fwAAAAAAAPh/AAAAAAAA+H8AAAAAAAD4fwAAAAAAAPh/AAAAAAAA+H8AAAAAAAD4fwAAAAAAAPh/AAAAAAAA+H8AAAAAAAD4fwAAAAAAAPh/AAAAAAAA+H8AAAAAAAD4fwAAAAAAAPh/AAAAAAAA+H8AAAAAAAD4fwAAAAAAAPh/AAAAAAAA+H8AAAAAAAD4fwAAAAAAAPh/AAAAAAAA+H8AAAAAAAD4fwAAAAAAAPh/AAAAAAAA+H8AAAAAAAD4fwAAAAAAAPh/AAAAAAAA+H8AAAAAAAD4fwAAAAAAAPh/AAAAAAAA+H8AAAAAAAD4fwAAAAAAAPh/AAAAAAAA+H8AAAAAAAD4fwAAAAAAAPh/AAAAAAAA+H8AAAAAAAD4fwAAAAAAAPh/AAAAAAAA+H8AAAAAAAD4fwAAAAAAAPh/AAAAAAAA+H8AAAAAAAD4fwAAAAAAAPh/AAAAAAAA+H8AAAAAAAD4fwAAAAAAAPh/AAAAAAAA+H8AAAAAAAD4fwAAAAAAAPh/AAAAAAAA+H8AAAAAAAD4fwAAAAAAAPh/AAAAAAAA+H8AAAAAAAD4fwAAAAAAAPh/AAAAAAAA+H8AAAAAAAD4fwAAAAAAAPh/AAAAAAAA+H8AAAAAAAD4fwAAAAAAAPh/AAAAAAAA+H8AAAAAAAD4fwAAAAAAAPh/AAAAAAAA+H8AAAAAAAD4fwAAAAAAAPh/AAAAAAAA+H8AAAAAAAD4fwAAAAAAAPh/AAAAAAAA+H8AAAAAAAD4fwAAAAAAAPh/AAAAAAAA+H8AAAAAAAD4fwAAAAAAAPh/AAAAAAAA+H8AAAAAAAD4fwAAAAAAAPh/AAAAAAAA+H8AAAAAAAD4fwAAAAAAAPh/AAAAAAAA+H8AAAAAAAD4fwAAAAAAAPh/AAAAAAAA+H8AAAAAAAD4fwAAAAAAAPh/AAAAAAAA+H8AAAAAAAD4fwAAAAAAAPh/AAAAAAAA+H8AAAAAAAD4fwAAAAAAAPh/AAAAAAAA+H8AAAAAAAD4fwAAAAAAAPh/AAAAAAAA+H8AAAAAAAD4fwAAAAAAAPh/AAAAAAAA+H8AAAAAAAD4fwAAAAAAAPh/AAAAAAAA+H8AAAAAAAD4fwAAAAAAAPh/AAAAAAAA+H8AAAAAAAD4fwAAAAAAAPh/AAAAAAAA+H8AAAAAAAD4fwAAAAAAAPh/AAAAAAAA+H8AAAAAAAD4fwAAAAAAAPh/AAAAAAAA+H8AAAAAAAD4fwAAAAAAAPh/AAAAAAAA+H8AAAAAAAD4fwAAAAAAAPh/AAAAAAAA+H8AAAAAAAD4fwAAAAAAAPh/AAAAAAAA+H8AAAAAAAD4fwAAAAAAAPh/AAAAAAAA+H8AAAAAAAD4fwAAAAAAAPh/AAAAAAAA+H8AAAAAAAD4fwAAAAAAAPh/AAAAAAAA+H8AAAAAAAD4fwAAAAAAAPh/AAAAAAAA+H8AAAAAAAD4fwAAAAAAAPh/AAAAAAAA+H8AAAAAAAD4fwAAAAAAAPh/AAAAAAAA+H8AAAAAAAD4fwAAAAAAAPh/AAAAAAAA+H8AAAAAAAD4fwAAAAAAAPh/AAAAAAAA+H8AAAAAAAD4fwAAAAAAAPh/AAAAAAAA+H8AAAAAAAD4fwAAAAAAAPh/AAAAAAAA+H8AAAAAAAD4fwAAAAAAAPh/AAAAAAAA+H8AAAAAAAD4fwAAAAAAAPh/AAAAAAAA+H8AAAAAAAD4fwAAAAAAAPh/AAAAAAAA+H8AAAAAAAD4fwAAAAAAAPh/AAAAAAAA+H8AAAAAAAD4fwAAAAAAAPh/AAAAAAAA+H8AAAAAAAD4fw==",
          "dtype": "f8"
         }
        }
       ],
       "layout": {
        "autosize": false,
        "height": 800,
        "paper_bgcolor": "black",
        "plot_bgcolor": "black",
        "template": {
         "data": {
          "bar": [
           {
            "error_x": {
             "color": "#2a3f5f"
            },
            "error_y": {
             "color": "#2a3f5f"
            },
            "marker": {
             "line": {
              "color": "#E5ECF6",
              "width": 0.5
             },
             "pattern": {
              "fillmode": "overlay",
              "size": 10,
              "solidity": 0.2
             }
            },
            "type": "bar"
           }
          ],
          "barpolar": [
           {
            "marker": {
             "line": {
              "color": "#E5ECF6",
              "width": 0.5
             },
             "pattern": {
              "fillmode": "overlay",
              "size": 10,
              "solidity": 0.2
             }
            },
            "type": "barpolar"
           }
          ],
          "carpet": [
           {
            "aaxis": {
             "endlinecolor": "#2a3f5f",
             "gridcolor": "white",
             "linecolor": "white",
             "minorgridcolor": "white",
             "startlinecolor": "#2a3f5f"
            },
            "baxis": {
             "endlinecolor": "#2a3f5f",
             "gridcolor": "white",
             "linecolor": "white",
             "minorgridcolor": "white",
             "startlinecolor": "#2a3f5f"
            },
            "type": "carpet"
           }
          ],
          "choropleth": [
           {
            "colorbar": {
             "outlinewidth": 0,
             "ticks": ""
            },
            "type": "choropleth"
           }
          ],
          "contour": [
           {
            "colorbar": {
             "outlinewidth": 0,
             "ticks": ""
            },
            "colorscale": [
             [
              0,
              "#0d0887"
             ],
             [
              0.1111111111111111,
              "#46039f"
             ],
             [
              0.2222222222222222,
              "#7201a8"
             ],
             [
              0.3333333333333333,
              "#9c179e"
             ],
             [
              0.4444444444444444,
              "#bd3786"
             ],
             [
              0.5555555555555556,
              "#d8576b"
             ],
             [
              0.6666666666666666,
              "#ed7953"
             ],
             [
              0.7777777777777778,
              "#fb9f3a"
             ],
             [
              0.8888888888888888,
              "#fdca26"
             ],
             [
              1,
              "#f0f921"
             ]
            ],
            "type": "contour"
           }
          ],
          "contourcarpet": [
           {
            "colorbar": {
             "outlinewidth": 0,
             "ticks": ""
            },
            "type": "contourcarpet"
           }
          ],
          "heatmap": [
           {
            "colorbar": {
             "outlinewidth": 0,
             "ticks": ""
            },
            "colorscale": [
             [
              0,
              "#0d0887"
             ],
             [
              0.1111111111111111,
              "#46039f"
             ],
             [
              0.2222222222222222,
              "#7201a8"
             ],
             [
              0.3333333333333333,
              "#9c179e"
             ],
             [
              0.4444444444444444,
              "#bd3786"
             ],
             [
              0.5555555555555556,
              "#d8576b"
             ],
             [
              0.6666666666666666,
              "#ed7953"
             ],
             [
              0.7777777777777778,
              "#fb9f3a"
             ],
             [
              0.8888888888888888,
              "#fdca26"
             ],
             [
              1,
              "#f0f921"
             ]
            ],
            "type": "heatmap"
           }
          ],
          "histogram": [
           {
            "marker": {
             "pattern": {
              "fillmode": "overlay",
              "size": 10,
              "solidity": 0.2
             }
            },
            "type": "histogram"
           }
          ],
          "histogram2d": [
           {
            "colorbar": {
             "outlinewidth": 0,
             "ticks": ""
            },
            "colorscale": [
             [
              0,
              "#0d0887"
             ],
             [
              0.1111111111111111,
              "#46039f"
             ],
             [
              0.2222222222222222,
              "#7201a8"
             ],
             [
              0.3333333333333333,
              "#9c179e"
             ],
             [
              0.4444444444444444,
              "#bd3786"
             ],
             [
              0.5555555555555556,
              "#d8576b"
             ],
             [
              0.6666666666666666,
              "#ed7953"
             ],
             [
              0.7777777777777778,
              "#fb9f3a"
             ],
             [
              0.8888888888888888,
              "#fdca26"
             ],
             [
              1,
              "#f0f921"
             ]
            ],
            "type": "histogram2d"
           }
          ],
          "histogram2dcontour": [
           {
            "colorbar": {
             "outlinewidth": 0,
             "ticks": ""
            },
            "colorscale": [
             [
              0,
              "#0d0887"
             ],
             [
              0.1111111111111111,
              "#46039f"
             ],
             [
              0.2222222222222222,
              "#7201a8"
             ],
             [
              0.3333333333333333,
              "#9c179e"
             ],
             [
              0.4444444444444444,
              "#bd3786"
             ],
             [
              0.5555555555555556,
              "#d8576b"
             ],
             [
              0.6666666666666666,
              "#ed7953"
             ],
             [
              0.7777777777777778,
              "#fb9f3a"
             ],
             [
              0.8888888888888888,
              "#fdca26"
             ],
             [
              1,
              "#f0f921"
             ]
            ],
            "type": "histogram2dcontour"
           }
          ],
          "mesh3d": [
           {
            "colorbar": {
             "outlinewidth": 0,
             "ticks": ""
            },
            "type": "mesh3d"
           }
          ],
          "parcoords": [
           {
            "line": {
             "colorbar": {
              "outlinewidth": 0,
              "ticks": ""
             }
            },
            "type": "parcoords"
           }
          ],
          "pie": [
           {
            "automargin": true,
            "type": "pie"
           }
          ],
          "scatter": [
           {
            "fillpattern": {
             "fillmode": "overlay",
             "size": 10,
             "solidity": 0.2
            },
            "type": "scatter"
           }
          ],
          "scatter3d": [
           {
            "line": {
             "colorbar": {
              "outlinewidth": 0,
              "ticks": ""
             }
            },
            "marker": {
             "colorbar": {
              "outlinewidth": 0,
              "ticks": ""
             }
            },
            "type": "scatter3d"
           }
          ],
          "scattercarpet": [
           {
            "marker": {
             "colorbar": {
              "outlinewidth": 0,
              "ticks": ""
             }
            },
            "type": "scattercarpet"
           }
          ],
          "scattergeo": [
           {
            "marker": {
             "colorbar": {
              "outlinewidth": 0,
              "ticks": ""
             }
            },
            "type": "scattergeo"
           }
          ],
          "scattergl": [
           {
            "marker": {
             "colorbar": {
              "outlinewidth": 0,
              "ticks": ""
             }
            },
            "type": "scattergl"
           }
          ],
          "scattermap": [
           {
            "marker": {
             "colorbar": {
              "outlinewidth": 0,
              "ticks": ""
             }
            },
            "type": "scattermap"
           }
          ],
          "scattermapbox": [
           {
            "marker": {
             "colorbar": {
              "outlinewidth": 0,
              "ticks": ""
             }
            },
            "type": "scattermapbox"
           }
          ],
          "scatterpolar": [
           {
            "marker": {
             "colorbar": {
              "outlinewidth": 0,
              "ticks": ""
             }
            },
            "type": "scatterpolar"
           }
          ],
          "scatterpolargl": [
           {
            "marker": {
             "colorbar": {
              "outlinewidth": 0,
              "ticks": ""
             }
            },
            "type": "scatterpolargl"
           }
          ],
          "scatterternary": [
           {
            "marker": {
             "colorbar": {
              "outlinewidth": 0,
              "ticks": ""
             }
            },
            "type": "scatterternary"
           }
          ],
          "surface": [
           {
            "colorbar": {
             "outlinewidth": 0,
             "ticks": ""
            },
            "colorscale": [
             [
              0,
              "#0d0887"
             ],
             [
              0.1111111111111111,
              "#46039f"
             ],
             [
              0.2222222222222222,
              "#7201a8"
             ],
             [
              0.3333333333333333,
              "#9c179e"
             ],
             [
              0.4444444444444444,
              "#bd3786"
             ],
             [
              0.5555555555555556,
              "#d8576b"
             ],
             [
              0.6666666666666666,
              "#ed7953"
             ],
             [
              0.7777777777777778,
              "#fb9f3a"
             ],
             [
              0.8888888888888888,
              "#fdca26"
             ],
             [
              1,
              "#f0f921"
             ]
            ],
            "type": "surface"
           }
          ],
          "table": [
           {
            "cells": {
             "fill": {
              "color": "#EBF0F8"
             },
             "line": {
              "color": "white"
             }
            },
            "header": {
             "fill": {
              "color": "#C8D4E3"
             },
             "line": {
              "color": "white"
             }
            },
            "type": "table"
           }
          ]
         },
         "layout": {
          "annotationdefaults": {
           "arrowcolor": "#2a3f5f",
           "arrowhead": 0,
           "arrowwidth": 1
          },
          "autotypenumbers": "strict",
          "coloraxis": {
           "colorbar": {
            "outlinewidth": 0,
            "ticks": ""
           }
          },
          "colorscale": {
           "diverging": [
            [
             0,
             "#8e0152"
            ],
            [
             0.1,
             "#c51b7d"
            ],
            [
             0.2,
             "#de77ae"
            ],
            [
             0.3,
             "#f1b6da"
            ],
            [
             0.4,
             "#fde0ef"
            ],
            [
             0.5,
             "#f7f7f7"
            ],
            [
             0.6,
             "#e6f5d0"
            ],
            [
             0.7,
             "#b8e186"
            ],
            [
             0.8,
             "#7fbc41"
            ],
            [
             0.9,
             "#4d9221"
            ],
            [
             1,
             "#276419"
            ]
           ],
           "sequential": [
            [
             0,
             "#0d0887"
            ],
            [
             0.1111111111111111,
             "#46039f"
            ],
            [
             0.2222222222222222,
             "#7201a8"
            ],
            [
             0.3333333333333333,
             "#9c179e"
            ],
            [
             0.4444444444444444,
             "#bd3786"
            ],
            [
             0.5555555555555556,
             "#d8576b"
            ],
            [
             0.6666666666666666,
             "#ed7953"
            ],
            [
             0.7777777777777778,
             "#fb9f3a"
            ],
            [
             0.8888888888888888,
             "#fdca26"
            ],
            [
             1,
             "#f0f921"
            ]
           ],
           "sequentialminus": [
            [
             0,
             "#0d0887"
            ],
            [
             0.1111111111111111,
             "#46039f"
            ],
            [
             0.2222222222222222,
             "#7201a8"
            ],
            [
             0.3333333333333333,
             "#9c179e"
            ],
            [
             0.4444444444444444,
             "#bd3786"
            ],
            [
             0.5555555555555556,
             "#d8576b"
            ],
            [
             0.6666666666666666,
             "#ed7953"
            ],
            [
             0.7777777777777778,
             "#fb9f3a"
            ],
            [
             0.8888888888888888,
             "#fdca26"
            ],
            [
             1,
             "#f0f921"
            ]
           ]
          },
          "colorway": [
           "#636efa",
           "#EF553B",
           "#00cc96",
           "#ab63fa",
           "#FFA15A",
           "#19d3f3",
           "#FF6692",
           "#B6E880",
           "#FF97FF",
           "#FECB52"
          ],
          "font": {
           "color": "#2a3f5f"
          },
          "geo": {
           "bgcolor": "white",
           "lakecolor": "white",
           "landcolor": "#E5ECF6",
           "showlakes": true,
           "showland": true,
           "subunitcolor": "white"
          },
          "hoverlabel": {
           "align": "left"
          },
          "hovermode": "closest",
          "mapbox": {
           "style": "light"
          },
          "paper_bgcolor": "white",
          "plot_bgcolor": "#E5ECF6",
          "polar": {
           "angularaxis": {
            "gridcolor": "white",
            "linecolor": "white",
            "ticks": ""
           },
           "bgcolor": "#E5ECF6",
           "radialaxis": {
            "gridcolor": "white",
            "linecolor": "white",
            "ticks": ""
           }
          },
          "scene": {
           "xaxis": {
            "backgroundcolor": "#E5ECF6",
            "gridcolor": "white",
            "gridwidth": 2,
            "linecolor": "white",
            "showbackground": true,
            "ticks": "",
            "zerolinecolor": "white"
           },
           "yaxis": {
            "backgroundcolor": "#E5ECF6",
            "gridcolor": "white",
            "gridwidth": 2,
            "linecolor": "white",
            "showbackground": true,
            "ticks": "",
            "zerolinecolor": "white"
           },
           "zaxis": {
            "backgroundcolor": "#E5ECF6",
            "gridcolor": "white",
            "gridwidth": 2,
            "linecolor": "white",
            "showbackground": true,
            "ticks": "",
            "zerolinecolor": "white"
           }
          },
          "shapedefaults": {
           "line": {
            "color": "#2a3f5f"
           }
          },
          "ternary": {
           "aaxis": {
            "gridcolor": "white",
            "linecolor": "white",
            "ticks": ""
           },
           "baxis": {
            "gridcolor": "white",
            "linecolor": "white",
            "ticks": ""
           },
           "bgcolor": "#E5ECF6",
           "caxis": {
            "gridcolor": "white",
            "linecolor": "white",
            "ticks": ""
           }
          },
          "title": {
           "x": 0.05
          },
          "xaxis": {
           "automargin": true,
           "gridcolor": "white",
           "linecolor": "white",
           "ticks": "",
           "title": {
            "standoff": 15
           },
           "zerolinecolor": "white",
           "zerolinewidth": 2
          },
          "yaxis": {
           "automargin": true,
           "gridcolor": "white",
           "linecolor": "white",
           "ticks": "",
           "title": {
            "standoff": 15
           },
           "zerolinecolor": "white",
           "zerolinewidth": 2
          }
         }
        },
        "width": 1000,
        "xaxis": {
         "gridcolor": "black"
        },
        "yaxis": {
         "gridcolor": "black"
        }
       }
      }
     },
     "metadata": {},
     "output_type": "display_data"
    }
   ],
   "source": [
    "data['pointpos'] = data.apply(lambda row: pointpos(row,\"signal\"), axis=1)\n",
    "plot_with_signal(data[750:950])"
   ]
  },
  {
   "cell_type": "markdown",
   "metadata": {},
   "source": [
    "## 4- Backtesting"
   ]
  },
  {
   "cell_type": "code",
   "execution_count": 18,
   "metadata": {},
   "outputs": [
    {
     "ename": "KeyError",
     "evalue": "\"None of ['Date'] are in the columns\"",
     "output_type": "error",
     "traceback": [
      "\u001b[31m---------------------------------------------------------------------------\u001b[39m",
      "\u001b[31mKeyError\u001b[39m                                  Traceback (most recent call last)",
      "\u001b[32m~\\AppData\\Local\\Temp\\ipykernel_680\\3272596819.py\u001b[39m in \u001b[36m?\u001b[39m\u001b[34m()\u001b[39m\n\u001b[32m----> \u001b[39m\u001b[32m1\u001b[39m data.set_index(\u001b[33m\"Date\"\u001b[39m, inplace=\u001b[38;5;28;01mTrue\u001b[39;00m)\n",
      "\u001b[32md:\\algo trading python\\day4\\.venv\\Lib\\site-packages\\pandas\\core\\frame.py\u001b[39m in \u001b[36m?\u001b[39m\u001b[34m(self, keys, drop, append, inplace, verify_integrity)\u001b[39m\n\u001b[32m   6125\u001b[39m                     \u001b[38;5;28;01mif\u001b[39;00m \u001b[38;5;28;01mnot\u001b[39;00m found:\n\u001b[32m   6126\u001b[39m                         missing.append(col)\n\u001b[32m   6127\u001b[39m \n\u001b[32m   6128\u001b[39m         \u001b[38;5;28;01mif\u001b[39;00m missing:\n\u001b[32m-> \u001b[39m\u001b[32m6129\u001b[39m             \u001b[38;5;28;01mraise\u001b[39;00m KeyError(\u001b[33mf\"None of {missing} are in the columns\"\u001b[39m)\n\u001b[32m   6130\u001b[39m \n\u001b[32m   6131\u001b[39m         \u001b[38;5;28;01mif\u001b[39;00m inplace:\n\u001b[32m   6132\u001b[39m             frame = self\n",
      "\u001b[31mKeyError\u001b[39m: \"None of ['Date'] are in the columns\""
     ]
    }
   ],
   "source": [
    "data.set_index(\"Date\", inplace=True)"
   ]
  },
  {
   "cell_type": "code",
   "execution_count": null,
   "metadata": {},
   "outputs": [
    {
     "data": {
      "text/html": [
       "<div>\n",
       "<style scoped>\n",
       "    .dataframe tbody tr th:only-of-type {\n",
       "        vertical-align: middle;\n",
       "    }\n",
       "\n",
       "    .dataframe tbody tr th {\n",
       "        vertical-align: top;\n",
       "    }\n",
       "\n",
       "    .dataframe thead th {\n",
       "        text-align: right;\n",
       "    }\n",
       "</style>\n",
       "<table border=\"1\" class=\"dataframe\">\n",
       "  <thead>\n",
       "    <tr style=\"text-align: right;\">\n",
       "      <th></th>\n",
       "      <th>Open</th>\n",
       "      <th>High</th>\n",
       "      <th>Low</th>\n",
       "      <th>Close</th>\n",
       "      <th>Adj Close</th>\n",
       "      <th>Volume</th>\n",
       "      <th>rejection</th>\n",
       "      <th>pointpos</th>\n",
       "      <th>signal</th>\n",
       "    </tr>\n",
       "    <tr>\n",
       "      <th>Date</th>\n",
       "      <th></th>\n",
       "      <th></th>\n",
       "      <th></th>\n",
       "      <th></th>\n",
       "      <th></th>\n",
       "      <th></th>\n",
       "      <th></th>\n",
       "      <th></th>\n",
       "      <th></th>\n",
       "    </tr>\n",
       "  </thead>\n",
       "  <tbody>\n",
       "    <tr>\n",
       "      <th>2021-01-27</th>\n",
       "      <td>32564.029297</td>\n",
       "      <td>32564.029297</td>\n",
       "      <td>29367.138672</td>\n",
       "      <td>30432.546875</td>\n",
       "      <td>30432.546875</td>\n",
       "      <td>62576762015</td>\n",
       "      <td>0</td>\n",
       "      <td>NaN</td>\n",
       "      <td>0</td>\n",
       "    </tr>\n",
       "    <tr>\n",
       "      <th>2021-01-28</th>\n",
       "      <td>30441.041016</td>\n",
       "      <td>33858.312500</td>\n",
       "      <td>30023.207031</td>\n",
       "      <td>33466.097656</td>\n",
       "      <td>33466.097656</td>\n",
       "      <td>76517157706</td>\n",
       "      <td>0</td>\n",
       "      <td>NaN</td>\n",
       "      <td>0</td>\n",
       "    </tr>\n",
       "    <tr>\n",
       "      <th>2021-01-29</th>\n",
       "      <td>34318.671875</td>\n",
       "      <td>38406.261719</td>\n",
       "      <td>32064.814453</td>\n",
       "      <td>34316.386719</td>\n",
       "      <td>34316.386719</td>\n",
       "      <td>117894572511</td>\n",
       "      <td>0</td>\n",
       "      <td>NaN</td>\n",
       "      <td>0</td>\n",
       "    </tr>\n",
       "    <tr>\n",
       "      <th>2021-01-30</th>\n",
       "      <td>34295.933594</td>\n",
       "      <td>34834.707031</td>\n",
       "      <td>32940.187500</td>\n",
       "      <td>34269.523438</td>\n",
       "      <td>34269.523438</td>\n",
       "      <td>65141828798</td>\n",
       "      <td>0</td>\n",
       "      <td>NaN</td>\n",
       "      <td>0</td>\n",
       "    </tr>\n",
       "    <tr>\n",
       "      <th>2021-01-31</th>\n",
       "      <td>34270.878906</td>\n",
       "      <td>34288.332031</td>\n",
       "      <td>32270.175781</td>\n",
       "      <td>33114.359375</td>\n",
       "      <td>33114.359375</td>\n",
       "      <td>52754542671</td>\n",
       "      <td>0</td>\n",
       "      <td>NaN</td>\n",
       "      <td>0</td>\n",
       "    </tr>\n",
       "    <tr>\n",
       "      <th>...</th>\n",
       "      <td>...</td>\n",
       "      <td>...</td>\n",
       "      <td>...</td>\n",
       "      <td>...</td>\n",
       "      <td>...</td>\n",
       "      <td>...</td>\n",
       "      <td>...</td>\n",
       "      <td>...</td>\n",
       "      <td>...</td>\n",
       "    </tr>\n",
       "    <tr>\n",
       "      <th>2023-10-19</th>\n",
       "      <td>28332.416016</td>\n",
       "      <td>28892.474609</td>\n",
       "      <td>28177.988281</td>\n",
       "      <td>28719.806641</td>\n",
       "      <td>28719.806641</td>\n",
       "      <td>14448058195</td>\n",
       "      <td>0</td>\n",
       "      <td>NaN</td>\n",
       "      <td>0</td>\n",
       "    </tr>\n",
       "    <tr>\n",
       "      <th>2023-10-20</th>\n",
       "      <td>28732.812500</td>\n",
       "      <td>30104.085938</td>\n",
       "      <td>28601.669922</td>\n",
       "      <td>29682.949219</td>\n",
       "      <td>29682.949219</td>\n",
       "      <td>21536125230</td>\n",
       "      <td>0</td>\n",
       "      <td>NaN</td>\n",
       "      <td>0</td>\n",
       "    </tr>\n",
       "    <tr>\n",
       "      <th>2023-10-21</th>\n",
       "      <td>29683.380859</td>\n",
       "      <td>30287.482422</td>\n",
       "      <td>29481.751953</td>\n",
       "      <td>29918.412109</td>\n",
       "      <td>29918.412109</td>\n",
       "      <td>11541146996</td>\n",
       "      <td>0</td>\n",
       "      <td>NaN</td>\n",
       "      <td>0</td>\n",
       "    </tr>\n",
       "    <tr>\n",
       "      <th>2023-10-22</th>\n",
       "      <td>29918.654297</td>\n",
       "      <td>30199.433594</td>\n",
       "      <td>29720.312500</td>\n",
       "      <td>29993.896484</td>\n",
       "      <td>29993.896484</td>\n",
       "      <td>10446520040</td>\n",
       "      <td>0</td>\n",
       "      <td>NaN</td>\n",
       "      <td>0</td>\n",
       "    </tr>\n",
       "    <tr>\n",
       "      <th>2023-10-23</th>\n",
       "      <td>29950.691406</td>\n",
       "      <td>31659.755859</td>\n",
       "      <td>29909.679688</td>\n",
       "      <td>31659.755859</td>\n",
       "      <td>31659.755859</td>\n",
       "      <td>26760163328</td>\n",
       "      <td>0</td>\n",
       "      <td>NaN</td>\n",
       "      <td>0</td>\n",
       "    </tr>\n",
       "  </tbody>\n",
       "</table>\n",
       "<p>1000 rows × 9 columns</p>\n",
       "</div>"
      ],
      "text/plain": [
       "                    Open          High           Low         Close  \\\n",
       "Date                                                                 \n",
       "2021-01-27  32564.029297  32564.029297  29367.138672  30432.546875   \n",
       "2021-01-28  30441.041016  33858.312500  30023.207031  33466.097656   \n",
       "2021-01-29  34318.671875  38406.261719  32064.814453  34316.386719   \n",
       "2021-01-30  34295.933594  34834.707031  32940.187500  34269.523438   \n",
       "2021-01-31  34270.878906  34288.332031  32270.175781  33114.359375   \n",
       "...                  ...           ...           ...           ...   \n",
       "2023-10-19  28332.416016  28892.474609  28177.988281  28719.806641   \n",
       "2023-10-20  28732.812500  30104.085938  28601.669922  29682.949219   \n",
       "2023-10-21  29683.380859  30287.482422  29481.751953  29918.412109   \n",
       "2023-10-22  29918.654297  30199.433594  29720.312500  29993.896484   \n",
       "2023-10-23  29950.691406  31659.755859  29909.679688  31659.755859   \n",
       "\n",
       "               Adj Close        Volume  rejection  pointpos  signal  \n",
       "Date                                                                 \n",
       "2021-01-27  30432.546875   62576762015          0       NaN       0  \n",
       "2021-01-28  33466.097656   76517157706          0       NaN       0  \n",
       "2021-01-29  34316.386719  117894572511          0       NaN       0  \n",
       "2021-01-30  34269.523438   65141828798          0       NaN       0  \n",
       "2021-01-31  33114.359375   52754542671          0       NaN       0  \n",
       "...                  ...           ...        ...       ...     ...  \n",
       "2023-10-19  28719.806641   14448058195          0       NaN       0  \n",
       "2023-10-20  29682.949219   21536125230          0       NaN       0  \n",
       "2023-10-21  29918.412109   11541146996          0       NaN       0  \n",
       "2023-10-22  29993.896484   10446520040          0       NaN       0  \n",
       "2023-10-23  31659.755859   26760163328          0       NaN       0  \n",
       "\n",
       "[1000 rows x 9 columns]"
      ]
     },
     "execution_count": 24,
     "metadata": {},
     "output_type": "execute_result"
    }
   ],
   "source": [
    "data"
   ]
  },
  {
   "cell_type": "code",
   "execution_count": null,
   "metadata": {},
   "outputs": [],
   "source": [
    "data['ATR'] = pa.atr(high=data.High, low=data.Low, close=data.Close, length=14)\n",
    "data['RSI'] = pa.rsi(data.Close, length=5)"
   ]
  },
  {
   "cell_type": "code",
   "execution_count": null,
   "metadata": {},
   "outputs": [],
   "source": [
    "def SIGNAL():\n",
    "    return data.signal"
   ]
  },
  {
   "cell_type": "code",
   "execution_count": null,
   "metadata": {},
   "outputs": [],
   "source": [
    "#A new strategy needs to extend Strategy class and override its two abstract methods: init() and next().\n",
    "#Method init() is invoked before the strategy is run. Within it, one ideally precomputes in efficient, \n",
    "#vectorized manner whatever indicators and signals the strategy depends on.\n",
    "#Method next() is then iteratively called by the Backtest instance, once for each data point (data frame row), \n",
    "#simulating the incremental availability of each new full candlestick bar.\n",
    "\n",
    "#Note, backtesting.py cannot make decisions / trades within candlesticks — any new orders are executed on the\n",
    "#next candle's open (or the current candle's close if trade_on_close=True). \n",
    "#If you find yourself wishing to trade within candlesticks (e.g. daytrading), you instead need to begin \n",
    "#with more fine-grained (e.g. hourly) data."
   ]
  },
  {
   "cell_type": "markdown",
   "metadata": {},
   "source": [
    "### 4.1- Using Fixed SL and TP rules"
   ]
  },
  {
   "cell_type": "code",
   "execution_count": null,
   "metadata": {},
   "outputs": [
    {
     "data": {
      "text/plain": [
       "Start                     2021-01-27 00:00:00\n",
       "End                       2023-10-23 00:00:00\n",
       "Duration                    999 days 00:00:00\n",
       "Exposure Time [%]                        18.1\n",
       "Equity Final [$]                142788.814766\n",
       "Equity Peak [$]                 142788.814766\n",
       "Return [%]                          42.788815\n",
       "Buy & Hold Return [%]                4.032554\n",
       "Return (Ann.) [%]                   13.884175\n",
       "Volatility (Ann.) [%]               25.641494\n",
       "Sharpe Ratio                         0.541473\n",
       "Sortino Ratio                         0.98902\n",
       "Calmar Ratio                          0.51796\n",
       "Max. Drawdown [%]                  -26.805477\n",
       "Avg. Drawdown [%]                   -6.684569\n",
       "Max. Drawdown Duration      227 days 00:00:00\n",
       "Avg. Drawdown Duration       43 days 00:00:00\n",
       "# Trades                                    6\n",
       "Win Rate [%]                        66.666667\n",
       "Best Trade [%]                      18.378618\n",
       "Worst Trade [%]                     -12.33479\n",
       "Avg. Trade [%]                       6.994045\n",
       "Max. Trade Duration          48 days 00:00:00\n",
       "Avg. Trade Duration          30 days 00:00:00\n",
       "Profit Factor                        2.989627\n",
       "Expectancy [%]                       7.990941\n",
       "SQN                                  1.119297\n",
       "_strategy                      MyCandlesStrat\n",
       "_equity_curve                             ...\n",
       "_trades                      Size  EntryBa...\n",
       "dtype: object"
      ]
     },
     "execution_count": 32,
     "metadata": {},
     "output_type": "execute_result"
    }
   ],
   "source": [
    "# Trader fixed SL and TP\n",
    "from backtesting import Strategy, Backtest\n",
    "\n",
    "class MyCandlesStrat(Strategy):  \n",
    "    def init(self):\n",
    "        super().init()\n",
    "        self.signal1 = self.I(SIGNAL)\n",
    "        self.ratio = 2\n",
    "        self.risk_perc = 0.1\n",
    "\n",
    "    def next(self):\n",
    "        super().next() \n",
    "        if self.signal1==2:\n",
    "            sl1 = self.data.Close[-1] - self.data.Close[-1]*self.risk_perc\n",
    "            tp1 = self.data.Close[-1] + (self.data.Close[-1]*self.risk_perc)*self.ratio\n",
    "            self.buy(sl=sl1, tp=tp1)\n",
    "        elif self.signal1==1:\n",
    "            sl1 = self.data.Close[-1] + self.data.Close[-1]*self.risk_perc\n",
    "            tp1 = self.data.Close[-1] - (self.data.Close[-1]*self.risk_perc)*self.ratio\n",
    "            self.sell(sl=sl1, tp=tp1)\n",
    "bt = Backtest(data, MyCandlesStrat, cash=100_000, commission=.02)\n",
    "stat = bt.run()\n",
    "stat"
   ]
  },
  {
   "cell_type": "code",
   "execution_count": null,
   "metadata": {},
   "outputs": [
    {
     "name": "stderr",
     "output_type": "stream",
     "text": [
      "BokehDeprecationWarning: Passing lists of formats for DatetimeTickFormatter scales was deprecated in Bokeh 3.0. Configure a single string format for each scale\n",
      "f:\\Python\\Lib\\site-packages\\backtesting\\_plotting.py:250: UserWarning:\n",
      "\n",
      "DatetimeFormatter scales now only accept a single format. Using the first provided: '%d %b'\n",
      "\n",
      "BokehDeprecationWarning: Passing lists of formats for DatetimeTickFormatter scales was deprecated in Bokeh 3.0. Configure a single string format for each scale\n",
      "f:\\Python\\Lib\\site-packages\\backtesting\\_plotting.py:250: UserWarning:\n",
      "\n",
      "DatetimeFormatter scales now only accept a single format. Using the first provided: '%m/%Y'\n",
      "\n",
      "f:\\Python\\Lib\\site-packages\\backtesting\\_plotting.py:659: UserWarning:\n",
      "\n",
      "found multiple competing values for 'toolbar.active_drag' property; using the latest value\n",
      "\n",
      "f:\\Python\\Lib\\site-packages\\backtesting\\_plotting.py:659: UserWarning:\n",
      "\n",
      "found multiple competing values for 'toolbar.active_scroll' property; using the latest value\n",
      "\n"
     ]
    },
    {
     "data": {
      "text/html": [
       "<div style=\"display: table;\"><div style=\"display: table-row;\"><div style=\"display: table-cell;\"><b title=\"bokeh.models.plots.GridPlot\">GridPlot</b>(</div><div style=\"display: table-cell;\">id&nbsp;=&nbsp;'p1331', <span id=\"p1360\" style=\"cursor: pointer;\">&hellip;)</span></div></div><div class=\"p1359\" style=\"display: none;\"><div style=\"display: table-cell;\"></div><div style=\"display: table-cell;\">align&nbsp;=&nbsp;'auto',</div></div><div class=\"p1359\" style=\"display: none;\"><div style=\"display: table-cell;\"></div><div style=\"display: table-cell;\">aspect_ratio&nbsp;=&nbsp;None,</div></div><div class=\"p1359\" style=\"display: none;\"><div style=\"display: table-cell;\"></div><div style=\"display: table-cell;\">children&nbsp;=&nbsp;[(figure(id='p1042', ...), 0, 0), (figure(id='p1135', ...), 1, 0), (figure(id='p1002', ...), 2, 0), (figure(id='p1186', ...), 3, 0), (figure(id='p1277', ...), 4, 0)],</div></div><div class=\"p1359\" style=\"display: none;\"><div style=\"display: table-cell;\"></div><div style=\"display: table-cell;\">cols&nbsp;=&nbsp;None,</div></div><div class=\"p1359\" style=\"display: none;\"><div style=\"display: table-cell;\"></div><div style=\"display: table-cell;\">context_menu&nbsp;=&nbsp;None,</div></div><div class=\"p1359\" style=\"display: none;\"><div style=\"display: table-cell;\"></div><div style=\"display: table-cell;\">css_classes&nbsp;=&nbsp;[],</div></div><div class=\"p1359\" style=\"display: none;\"><div style=\"display: table-cell;\"></div><div style=\"display: table-cell;\">disabled&nbsp;=&nbsp;False,</div></div><div class=\"p1359\" style=\"display: none;\"><div style=\"display: table-cell;\"></div><div style=\"display: table-cell;\">flow_mode&nbsp;=&nbsp;'block',</div></div><div class=\"p1359\" style=\"display: none;\"><div style=\"display: table-cell;\"></div><div style=\"display: table-cell;\">height&nbsp;=&nbsp;None,</div></div><div class=\"p1359\" style=\"display: none;\"><div style=\"display: table-cell;\"></div><div style=\"display: table-cell;\">height_policy&nbsp;=&nbsp;'auto',</div></div><div class=\"p1359\" style=\"display: none;\"><div style=\"display: table-cell;\"></div><div style=\"display: table-cell;\">js_event_callbacks&nbsp;=&nbsp;{},</div></div><div class=\"p1359\" style=\"display: none;\"><div style=\"display: table-cell;\"></div><div style=\"display: table-cell;\">js_property_callbacks&nbsp;=&nbsp;{},</div></div><div class=\"p1359\" style=\"display: none;\"><div style=\"display: table-cell;\"></div><div style=\"display: table-cell;\">margin&nbsp;=&nbsp;None,</div></div><div class=\"p1359\" style=\"display: none;\"><div style=\"display: table-cell;\"></div><div style=\"display: table-cell;\">max_height&nbsp;=&nbsp;None,</div></div><div class=\"p1359\" style=\"display: none;\"><div style=\"display: table-cell;\"></div><div style=\"display: table-cell;\">max_width&nbsp;=&nbsp;None,</div></div><div class=\"p1359\" style=\"display: none;\"><div style=\"display: table-cell;\"></div><div style=\"display: table-cell;\">min_height&nbsp;=&nbsp;None,</div></div><div class=\"p1359\" style=\"display: none;\"><div style=\"display: table-cell;\"></div><div style=\"display: table-cell;\">min_width&nbsp;=&nbsp;None,</div></div><div class=\"p1359\" style=\"display: none;\"><div style=\"display: table-cell;\"></div><div style=\"display: table-cell;\">name&nbsp;=&nbsp;None,</div></div><div class=\"p1359\" style=\"display: none;\"><div style=\"display: table-cell;\"></div><div style=\"display: table-cell;\">resizable&nbsp;=&nbsp;False,</div></div><div class=\"p1359\" style=\"display: none;\"><div style=\"display: table-cell;\"></div><div style=\"display: table-cell;\">rows&nbsp;=&nbsp;None,</div></div><div class=\"p1359\" style=\"display: none;\"><div style=\"display: table-cell;\"></div><div style=\"display: table-cell;\">sizing_mode&nbsp;=&nbsp;'stretch_width',</div></div><div class=\"p1359\" style=\"display: none;\"><div style=\"display: table-cell;\"></div><div style=\"display: table-cell;\">spacing&nbsp;=&nbsp;0,</div></div><div class=\"p1359\" style=\"display: none;\"><div style=\"display: table-cell;\"></div><div style=\"display: table-cell;\">styles&nbsp;=&nbsp;{},</div></div><div class=\"p1359\" style=\"display: none;\"><div style=\"display: table-cell;\"></div><div style=\"display: table-cell;\">stylesheets&nbsp;=&nbsp;[],</div></div><div class=\"p1359\" style=\"display: none;\"><div style=\"display: table-cell;\"></div><div style=\"display: table-cell;\">subscribed_events&nbsp;=&nbsp;PropertyValueSet(),</div></div><div class=\"p1359\" style=\"display: none;\"><div style=\"display: table-cell;\"></div><div style=\"display: table-cell;\">syncable&nbsp;=&nbsp;True,</div></div><div class=\"p1359\" style=\"display: none;\"><div style=\"display: table-cell;\"></div><div style=\"display: table-cell;\">tags&nbsp;=&nbsp;[],</div></div><div class=\"p1359\" style=\"display: none;\"><div style=\"display: table-cell;\"></div><div style=\"display: table-cell;\">toolbar&nbsp;=&nbsp;Toolbar(id='p1330', ...),</div></div><div class=\"p1359\" style=\"display: none;\"><div style=\"display: table-cell;\"></div><div style=\"display: table-cell;\">toolbar_location&nbsp;=&nbsp;'right',</div></div><div class=\"p1359\" style=\"display: none;\"><div style=\"display: table-cell;\"></div><div style=\"display: table-cell;\">visible&nbsp;=&nbsp;True,</div></div><div class=\"p1359\" style=\"display: none;\"><div style=\"display: table-cell;\"></div><div style=\"display: table-cell;\">width&nbsp;=&nbsp;None,</div></div><div class=\"p1359\" style=\"display: none;\"><div style=\"display: table-cell;\"></div><div style=\"display: table-cell;\">width_policy&nbsp;=&nbsp;'auto')</div></div></div>\n",
       "<script>\n",
       "(function() {\n",
       "  let expanded = false;\n",
       "  const ellipsis = document.getElementById(\"p1360\");\n",
       "  ellipsis.addEventListener(\"click\", function() {\n",
       "    const rows = document.getElementsByClassName(\"p1359\");\n",
       "    for (let i = 0; i < rows.length; i++) {\n",
       "      const el = rows[i];\n",
       "      el.style.display = expanded ? \"none\" : \"table-row\";\n",
       "    }\n",
       "    ellipsis.innerHTML = expanded ? \"&hellip;)\" : \"&lsaquo;&lsaquo;&lsaquo;\";\n",
       "    expanded = !expanded;\n",
       "  });\n",
       "})();\n",
       "</script>\n"
      ],
      "text/plain": [
       "GridPlot(id='p1331', ...)"
      ]
     },
     "execution_count": 29,
     "metadata": {},
     "output_type": "execute_result"
    }
   ],
   "source": [
    "bt.plot()"
   ]
  },
  {
   "cell_type": "markdown",
   "metadata": {},
   "source": [
    "### 4.2- Using the RSI for Exit Signals"
   ]
  },
  {
   "cell_type": "code",
   "execution_count": null,
   "metadata": {},
   "outputs": [
    {
     "data": {
      "text/plain": [
       "Start                     2021-01-27 00:00:00\n",
       "End                       2023-10-23 00:00:00\n",
       "Duration                    999 days 00:00:00\n",
       "Exposure Time [%]                        14.1\n",
       "Equity Final [$]                137872.424902\n",
       "Equity Peak [$]                 137872.424902\n",
       "Return [%]                          37.872425\n",
       "Buy & Hold Return [%]                4.032554\n",
       "Return (Ann.) [%]                   12.437002\n",
       "Volatility (Ann.) [%]               21.456755\n",
       "Sharpe Ratio                         0.579631\n",
       "Sortino Ratio                        1.144943\n",
       "Calmar Ratio                         1.070366\n",
       "Max. Drawdown [%]                  -11.619395\n",
       "Avg. Drawdown [%]                   -6.296726\n",
       "Max. Drawdown Duration      230 days 00:00:00\n",
       "Avg. Drawdown Duration       59 days 00:00:00\n",
       "# Trades                                    7\n",
       "Win Rate [%]                        85.714286\n",
       "Best Trade [%]                      10.538669\n",
       "Worst Trade [%]                     -1.949456\n",
       "Avg. Trade [%]                       5.557878\n",
       "Max. Trade Duration          41 days 00:00:00\n",
       "Avg. Trade Duration          20 days 00:00:00\n",
       "Profit Factor                        21.33917\n",
       "Expectancy [%]                        5.66433\n",
       "SQN                                  2.831429\n",
       "_strategy                      MyCandlesStrat\n",
       "_equity_curve                             ...\n",
       "_trades                      Size  EntryBa...\n",
       "dtype: object"
      ]
     },
     "execution_count": 77,
     "metadata": {},
     "output_type": "execute_result"
    }
   ],
   "source": [
    "from backtesting import Strategy, Backtest\n",
    "\n",
    "class MyCandlesStrat(Strategy):\n",
    "    ratio = 1.5\n",
    "    risk_perc = 0.1  \n",
    "    def init(self):\n",
    "        super().init()\n",
    "        self.signal1 = self.I(SIGNAL)\n",
    "        #self.ratio\n",
    "        #self.risk_perc\n",
    "\n",
    "    def next(self):\n",
    "        super().next()\n",
    "        \n",
    "        if len(self.trades)>0:\n",
    "            if self.trades[-1].is_long and self.data.RSI[-1]>=80:\n",
    "                self.trades[-1].close()\n",
    "            elif self.trades[-1].is_short and self.data.RSI[-1]<=20:\n",
    "                self.trades[-1].close()\n",
    "\n",
    "        if self.signal1==2 and len(self.trades)==0:\n",
    "            sl1 = self.data.Close[-1] - self.data.Close[-1]*self.risk_perc\n",
    "            tp1 = self.data.Close[-1] + (self.data.Close[-1]*self.risk_perc)*self.ratio\n",
    "            self.buy(sl=sl1, tp=tp1)\n",
    "        elif self.signal1==1 and len(self.trades)==0:\n",
    "            sl1 = self.data.Close[-1] + self.data.Close[-1]*self.risk_perc\n",
    "            tp1 = self.data.Close[-1] - (self.data.Close[-1]*self.risk_perc)*self.ratio\n",
    "            self.sell(sl=sl1, tp=tp1)\n",
    "bt = Backtest(data, MyCandlesStrat, cash=100_000, commission=.05)\n",
    "stat = bt.run()\n",
    "stat"
   ]
  },
  {
   "cell_type": "code",
   "execution_count": null,
   "metadata": {},
   "outputs": [
    {
     "name": "stderr",
     "output_type": "stream",
     "text": [
      "BokehDeprecationWarning: Passing lists of formats for DatetimeTickFormatter scales was deprecated in Bokeh 3.0. Configure a single string format for each scale\n",
      "f:\\Python\\Lib\\site-packages\\backtesting\\_plotting.py:250: UserWarning:\n",
      "\n",
      "DatetimeFormatter scales now only accept a single format. Using the first provided: '%d %b'\n",
      "\n",
      "BokehDeprecationWarning: Passing lists of formats for DatetimeTickFormatter scales was deprecated in Bokeh 3.0. Configure a single string format for each scale\n",
      "f:\\Python\\Lib\\site-packages\\backtesting\\_plotting.py:250: UserWarning:\n",
      "\n",
      "DatetimeFormatter scales now only accept a single format. Using the first provided: '%m/%Y'\n",
      "\n",
      "f:\\Python\\Lib\\site-packages\\backtesting\\_plotting.py:659: UserWarning:\n",
      "\n",
      "found multiple competing values for 'toolbar.active_drag' property; using the latest value\n",
      "\n",
      "f:\\Python\\Lib\\site-packages\\backtesting\\_plotting.py:659: UserWarning:\n",
      "\n",
      "found multiple competing values for 'toolbar.active_scroll' property; using the latest value\n",
      "\n"
     ]
    },
    {
     "data": {
      "text/html": [
       "<div style=\"display: table;\"><div style=\"display: table-row;\"><div style=\"display: table-cell;\"><b title=\"bokeh.models.plots.GridPlot\">GridPlot</b>(</div><div style=\"display: table-cell;\">id&nbsp;=&nbsp;'p1691', <span id=\"p1720\" style=\"cursor: pointer;\">&hellip;)</span></div></div><div class=\"p1719\" style=\"display: none;\"><div style=\"display: table-cell;\"></div><div style=\"display: table-cell;\">align&nbsp;=&nbsp;'auto',</div></div><div class=\"p1719\" style=\"display: none;\"><div style=\"display: table-cell;\"></div><div style=\"display: table-cell;\">aspect_ratio&nbsp;=&nbsp;None,</div></div><div class=\"p1719\" style=\"display: none;\"><div style=\"display: table-cell;\"></div><div style=\"display: table-cell;\">children&nbsp;=&nbsp;[(figure(id='p1402', ...), 0, 0), (figure(id='p1495', ...), 1, 0), (figure(id='p1362', ...), 2, 0), (figure(id='p1546', ...), 3, 0), (figure(id='p1637', ...), 4, 0)],</div></div><div class=\"p1719\" style=\"display: none;\"><div style=\"display: table-cell;\"></div><div style=\"display: table-cell;\">cols&nbsp;=&nbsp;None,</div></div><div class=\"p1719\" style=\"display: none;\"><div style=\"display: table-cell;\"></div><div style=\"display: table-cell;\">context_menu&nbsp;=&nbsp;None,</div></div><div class=\"p1719\" style=\"display: none;\"><div style=\"display: table-cell;\"></div><div style=\"display: table-cell;\">css_classes&nbsp;=&nbsp;[],</div></div><div class=\"p1719\" style=\"display: none;\"><div style=\"display: table-cell;\"></div><div style=\"display: table-cell;\">disabled&nbsp;=&nbsp;False,</div></div><div class=\"p1719\" style=\"display: none;\"><div style=\"display: table-cell;\"></div><div style=\"display: table-cell;\">flow_mode&nbsp;=&nbsp;'block',</div></div><div class=\"p1719\" style=\"display: none;\"><div style=\"display: table-cell;\"></div><div style=\"display: table-cell;\">height&nbsp;=&nbsp;None,</div></div><div class=\"p1719\" style=\"display: none;\"><div style=\"display: table-cell;\"></div><div style=\"display: table-cell;\">height_policy&nbsp;=&nbsp;'auto',</div></div><div class=\"p1719\" style=\"display: none;\"><div style=\"display: table-cell;\"></div><div style=\"display: table-cell;\">js_event_callbacks&nbsp;=&nbsp;{},</div></div><div class=\"p1719\" style=\"display: none;\"><div style=\"display: table-cell;\"></div><div style=\"display: table-cell;\">js_property_callbacks&nbsp;=&nbsp;{},</div></div><div class=\"p1719\" style=\"display: none;\"><div style=\"display: table-cell;\"></div><div style=\"display: table-cell;\">margin&nbsp;=&nbsp;None,</div></div><div class=\"p1719\" style=\"display: none;\"><div style=\"display: table-cell;\"></div><div style=\"display: table-cell;\">max_height&nbsp;=&nbsp;None,</div></div><div class=\"p1719\" style=\"display: none;\"><div style=\"display: table-cell;\"></div><div style=\"display: table-cell;\">max_width&nbsp;=&nbsp;None,</div></div><div class=\"p1719\" style=\"display: none;\"><div style=\"display: table-cell;\"></div><div style=\"display: table-cell;\">min_height&nbsp;=&nbsp;None,</div></div><div class=\"p1719\" style=\"display: none;\"><div style=\"display: table-cell;\"></div><div style=\"display: table-cell;\">min_width&nbsp;=&nbsp;None,</div></div><div class=\"p1719\" style=\"display: none;\"><div style=\"display: table-cell;\"></div><div style=\"display: table-cell;\">name&nbsp;=&nbsp;None,</div></div><div class=\"p1719\" style=\"display: none;\"><div style=\"display: table-cell;\"></div><div style=\"display: table-cell;\">resizable&nbsp;=&nbsp;False,</div></div><div class=\"p1719\" style=\"display: none;\"><div style=\"display: table-cell;\"></div><div style=\"display: table-cell;\">rows&nbsp;=&nbsp;None,</div></div><div class=\"p1719\" style=\"display: none;\"><div style=\"display: table-cell;\"></div><div style=\"display: table-cell;\">sizing_mode&nbsp;=&nbsp;'stretch_width',</div></div><div class=\"p1719\" style=\"display: none;\"><div style=\"display: table-cell;\"></div><div style=\"display: table-cell;\">spacing&nbsp;=&nbsp;0,</div></div><div class=\"p1719\" style=\"display: none;\"><div style=\"display: table-cell;\"></div><div style=\"display: table-cell;\">styles&nbsp;=&nbsp;{},</div></div><div class=\"p1719\" style=\"display: none;\"><div style=\"display: table-cell;\"></div><div style=\"display: table-cell;\">stylesheets&nbsp;=&nbsp;[],</div></div><div class=\"p1719\" style=\"display: none;\"><div style=\"display: table-cell;\"></div><div style=\"display: table-cell;\">subscribed_events&nbsp;=&nbsp;PropertyValueSet(),</div></div><div class=\"p1719\" style=\"display: none;\"><div style=\"display: table-cell;\"></div><div style=\"display: table-cell;\">syncable&nbsp;=&nbsp;True,</div></div><div class=\"p1719\" style=\"display: none;\"><div style=\"display: table-cell;\"></div><div style=\"display: table-cell;\">tags&nbsp;=&nbsp;[],</div></div><div class=\"p1719\" style=\"display: none;\"><div style=\"display: table-cell;\"></div><div style=\"display: table-cell;\">toolbar&nbsp;=&nbsp;Toolbar(id='p1690', ...),</div></div><div class=\"p1719\" style=\"display: none;\"><div style=\"display: table-cell;\"></div><div style=\"display: table-cell;\">toolbar_location&nbsp;=&nbsp;'right',</div></div><div class=\"p1719\" style=\"display: none;\"><div style=\"display: table-cell;\"></div><div style=\"display: table-cell;\">visible&nbsp;=&nbsp;True,</div></div><div class=\"p1719\" style=\"display: none;\"><div style=\"display: table-cell;\"></div><div style=\"display: table-cell;\">width&nbsp;=&nbsp;None,</div></div><div class=\"p1719\" style=\"display: none;\"><div style=\"display: table-cell;\"></div><div style=\"display: table-cell;\">width_policy&nbsp;=&nbsp;'auto')</div></div></div>\n",
       "<script>\n",
       "(function() {\n",
       "  let expanded = false;\n",
       "  const ellipsis = document.getElementById(\"p1720\");\n",
       "  ellipsis.addEventListener(\"click\", function() {\n",
       "    const rows = document.getElementsByClassName(\"p1719\");\n",
       "    for (let i = 0; i < rows.length; i++) {\n",
       "      const el = rows[i];\n",
       "      el.style.display = expanded ? \"none\" : \"table-row\";\n",
       "    }\n",
       "    ellipsis.innerHTML = expanded ? \"&hellip;)\" : \"&lsaquo;&lsaquo;&lsaquo;\";\n",
       "    expanded = !expanded;\n",
       "  });\n",
       "})();\n",
       "</script>\n"
      ],
      "text/plain": [
       "GridPlot(id='p1691', ...)"
      ]
     },
     "execution_count": 35,
     "metadata": {},
     "output_type": "execute_result"
    }
   ],
   "source": [
    "bt.plot()"
   ]
  },
  {
   "cell_type": "code",
   "execution_count": null,
   "metadata": {},
   "outputs": [
    {
     "name": "stderr",
     "output_type": "stream",
     "text": [
      "                                               \r"
     ]
    }
   ],
   "source": [
    "# Define a range of values to test for each parameter\n",
    "param_grid = {'ratio': list(np.arange(1.5, 3.5, 0.5)), 'risk_perc': list(np.arange(0.06, 0.2, 0.02))}\n",
    "# Run the optimization\n",
    "res = bt.optimize(**param_grid, random_state=5)"
   ]
  },
  {
   "cell_type": "code",
   "execution_count": null,
   "metadata": {},
   "outputs": [
    {
     "name": "stdout",
     "output_type": "stream",
     "text": [
      "Best result:  37.87242490234372\n",
      "Parameters for best result:  MyCandlesStrat(ratio=1.5,risk_perc=0.1)\n"
     ]
    }
   ],
   "source": [
    "# Print the best results and the parameters that lead to these results\n",
    "print(\"Best result: \", res['Return [%]'])\n",
    "print(\"Parameters for best result: \", res['_strategy'])"
   ]
  },
  {
   "cell_type": "markdown",
   "metadata": {},
   "source": [
    "### 4.3- ATR based SL and TP"
   ]
  },
  {
   "cell_type": "code",
   "execution_count": null,
   "metadata": {},
   "outputs": [
    {
     "data": {
      "text/plain": [
       "Start                     2021-01-27 00:00:00\n",
       "End                       2023-10-23 00:00:00\n",
       "Duration                    999 days 00:00:00\n",
       "Exposure Time [%]                        30.0\n",
       "Equity Final [$]                131344.601953\n",
       "Equity Peak [$]                  150496.75039\n",
       "Return [%]                          31.344602\n",
       "Buy & Hold Return [%]                4.032554\n",
       "Return (Ann.) [%]                   10.463923\n",
       "Volatility (Ann.) [%]               29.445125\n",
       "Sharpe Ratio                          0.35537\n",
       "Sortino Ratio                        0.595034\n",
       "Calmar Ratio                         0.328157\n",
       "Max. Drawdown [%]                  -31.886966\n",
       "Avg. Drawdown [%]                   -4.634481\n",
       "Max. Drawdown Duration      400 days 00:00:00\n",
       "Avg. Drawdown Duration       37 days 00:00:00\n",
       "# Trades                                    6\n",
       "Win Rate [%]                             50.0\n",
       "Best Trade [%]                      26.795577\n",
       "Worst Trade [%]                    -12.568627\n",
       "Avg. Trade [%]                       4.581537\n",
       "Max. Trade Duration         108 days 00:00:00\n",
       "Avg. Trade Duration          49 days 00:00:00\n",
       "Profit Factor                        2.481962\n",
       "Expectancy [%]                       5.553177\n",
       "SQN                                  0.859682\n",
       "_strategy                      MyCandlesStrat\n",
       "_equity_curve                             ...\n",
       "_trades                      Size  EntryBa...\n",
       "dtype: object"
      ]
     },
     "execution_count": 43,
     "metadata": {},
     "output_type": "execute_result"
    }
   ],
   "source": [
    "# ATR related SL and TP\n",
    "from backtesting import Strategy, Backtest\n",
    "import numpy as np\n",
    "\n",
    "class MyCandlesStrat(Strategy): \n",
    "    atr_f = 3\n",
    "    ratio_f = 2\n",
    "    def init(self):\n",
    "        super().init()\n",
    "        self.signal1 = self.I(SIGNAL)\n",
    "\n",
    "    def next(self):\n",
    "        super().next() \n",
    "        if self.signal1==2:\n",
    "            sl1 = self.data.Close[-1] - self.data.ATR[-1]*self.atr_f\n",
    "            tp1 = self.data.Close[-1] + self.data.ATR[-1]*self.ratio_f*self.atr_f\n",
    "            self.buy(sl=sl1, tp=tp1)\n",
    "        elif self.signal1==1:\n",
    "            sl1 = self.data.Close[-1] + self.data.ATR[-1]*self.atr_f\n",
    "            tp1 = self.data.Close[-1] - self.data.ATR[-1]*self.ratio_f*self.atr_f\n",
    "            self.sell(sl=sl1, tp=tp1)\n",
    "bt = Backtest(data, MyCandlesStrat, cash=100_000, commission=.000)\n",
    "stat = bt.run()\n",
    "stat"
   ]
  },
  {
   "cell_type": "code",
   "execution_count": null,
   "metadata": {},
   "outputs": [
    {
     "name": "stderr",
     "output_type": "stream",
     "text": [
      "BokehDeprecationWarning: Passing lists of formats for DatetimeTickFormatter scales was deprecated in Bokeh 3.0. Configure a single string format for each scale\n",
      "f:\\Python\\Lib\\site-packages\\backtesting\\_plotting.py:250: UserWarning:\n",
      "\n",
      "DatetimeFormatter scales now only accept a single format. Using the first provided: '%d %b'\n",
      "\n",
      "BokehDeprecationWarning: Passing lists of formats for DatetimeTickFormatter scales was deprecated in Bokeh 3.0. Configure a single string format for each scale\n",
      "f:\\Python\\Lib\\site-packages\\backtesting\\_plotting.py:250: UserWarning:\n",
      "\n",
      "DatetimeFormatter scales now only accept a single format. Using the first provided: '%m/%Y'\n",
      "\n",
      "f:\\Python\\Lib\\site-packages\\backtesting\\_plotting.py:659: UserWarning:\n",
      "\n",
      "found multiple competing values for 'toolbar.active_drag' property; using the latest value\n",
      "\n",
      "f:\\Python\\Lib\\site-packages\\backtesting\\_plotting.py:659: UserWarning:\n",
      "\n",
      "found multiple competing values for 'toolbar.active_scroll' property; using the latest value\n",
      "\n"
     ]
    },
    {
     "data": {
      "text/html": [
       "<div style=\"display: table;\"><div style=\"display: table-row;\"><div style=\"display: table-cell;\"><b title=\"bokeh.models.plots.GridPlot\">GridPlot</b>(</div><div style=\"display: table-cell;\">id&nbsp;=&nbsp;'p2051', <span id=\"p2080\" style=\"cursor: pointer;\">&hellip;)</span></div></div><div class=\"p2079\" style=\"display: none;\"><div style=\"display: table-cell;\"></div><div style=\"display: table-cell;\">align&nbsp;=&nbsp;'auto',</div></div><div class=\"p2079\" style=\"display: none;\"><div style=\"display: table-cell;\"></div><div style=\"display: table-cell;\">aspect_ratio&nbsp;=&nbsp;None,</div></div><div class=\"p2079\" style=\"display: none;\"><div style=\"display: table-cell;\"></div><div style=\"display: table-cell;\">children&nbsp;=&nbsp;[(figure(id='p1762', ...), 0, 0), (figure(id='p1855', ...), 1, 0), (figure(id='p1722', ...), 2, 0), (figure(id='p1906', ...), 3, 0), (figure(id='p1997', ...), 4, 0)],</div></div><div class=\"p2079\" style=\"display: none;\"><div style=\"display: table-cell;\"></div><div style=\"display: table-cell;\">cols&nbsp;=&nbsp;None,</div></div><div class=\"p2079\" style=\"display: none;\"><div style=\"display: table-cell;\"></div><div style=\"display: table-cell;\">context_menu&nbsp;=&nbsp;None,</div></div><div class=\"p2079\" style=\"display: none;\"><div style=\"display: table-cell;\"></div><div style=\"display: table-cell;\">css_classes&nbsp;=&nbsp;[],</div></div><div class=\"p2079\" style=\"display: none;\"><div style=\"display: table-cell;\"></div><div style=\"display: table-cell;\">disabled&nbsp;=&nbsp;False,</div></div><div class=\"p2079\" style=\"display: none;\"><div style=\"display: table-cell;\"></div><div style=\"display: table-cell;\">flow_mode&nbsp;=&nbsp;'block',</div></div><div class=\"p2079\" style=\"display: none;\"><div style=\"display: table-cell;\"></div><div style=\"display: table-cell;\">height&nbsp;=&nbsp;None,</div></div><div class=\"p2079\" style=\"display: none;\"><div style=\"display: table-cell;\"></div><div style=\"display: table-cell;\">height_policy&nbsp;=&nbsp;'auto',</div></div><div class=\"p2079\" style=\"display: none;\"><div style=\"display: table-cell;\"></div><div style=\"display: table-cell;\">js_event_callbacks&nbsp;=&nbsp;{},</div></div><div class=\"p2079\" style=\"display: none;\"><div style=\"display: table-cell;\"></div><div style=\"display: table-cell;\">js_property_callbacks&nbsp;=&nbsp;{},</div></div><div class=\"p2079\" style=\"display: none;\"><div style=\"display: table-cell;\"></div><div style=\"display: table-cell;\">margin&nbsp;=&nbsp;None,</div></div><div class=\"p2079\" style=\"display: none;\"><div style=\"display: table-cell;\"></div><div style=\"display: table-cell;\">max_height&nbsp;=&nbsp;None,</div></div><div class=\"p2079\" style=\"display: none;\"><div style=\"display: table-cell;\"></div><div style=\"display: table-cell;\">max_width&nbsp;=&nbsp;None,</div></div><div class=\"p2079\" style=\"display: none;\"><div style=\"display: table-cell;\"></div><div style=\"display: table-cell;\">min_height&nbsp;=&nbsp;None,</div></div><div class=\"p2079\" style=\"display: none;\"><div style=\"display: table-cell;\"></div><div style=\"display: table-cell;\">min_width&nbsp;=&nbsp;None,</div></div><div class=\"p2079\" style=\"display: none;\"><div style=\"display: table-cell;\"></div><div style=\"display: table-cell;\">name&nbsp;=&nbsp;None,</div></div><div class=\"p2079\" style=\"display: none;\"><div style=\"display: table-cell;\"></div><div style=\"display: table-cell;\">resizable&nbsp;=&nbsp;False,</div></div><div class=\"p2079\" style=\"display: none;\"><div style=\"display: table-cell;\"></div><div style=\"display: table-cell;\">rows&nbsp;=&nbsp;None,</div></div><div class=\"p2079\" style=\"display: none;\"><div style=\"display: table-cell;\"></div><div style=\"display: table-cell;\">sizing_mode&nbsp;=&nbsp;'stretch_width',</div></div><div class=\"p2079\" style=\"display: none;\"><div style=\"display: table-cell;\"></div><div style=\"display: table-cell;\">spacing&nbsp;=&nbsp;0,</div></div><div class=\"p2079\" style=\"display: none;\"><div style=\"display: table-cell;\"></div><div style=\"display: table-cell;\">styles&nbsp;=&nbsp;{},</div></div><div class=\"p2079\" style=\"display: none;\"><div style=\"display: table-cell;\"></div><div style=\"display: table-cell;\">stylesheets&nbsp;=&nbsp;[],</div></div><div class=\"p2079\" style=\"display: none;\"><div style=\"display: table-cell;\"></div><div style=\"display: table-cell;\">subscribed_events&nbsp;=&nbsp;PropertyValueSet(),</div></div><div class=\"p2079\" style=\"display: none;\"><div style=\"display: table-cell;\"></div><div style=\"display: table-cell;\">syncable&nbsp;=&nbsp;True,</div></div><div class=\"p2079\" style=\"display: none;\"><div style=\"display: table-cell;\"></div><div style=\"display: table-cell;\">tags&nbsp;=&nbsp;[],</div></div><div class=\"p2079\" style=\"display: none;\"><div style=\"display: table-cell;\"></div><div style=\"display: table-cell;\">toolbar&nbsp;=&nbsp;Toolbar(id='p2050', ...),</div></div><div class=\"p2079\" style=\"display: none;\"><div style=\"display: table-cell;\"></div><div style=\"display: table-cell;\">toolbar_location&nbsp;=&nbsp;'right',</div></div><div class=\"p2079\" style=\"display: none;\"><div style=\"display: table-cell;\"></div><div style=\"display: table-cell;\">visible&nbsp;=&nbsp;True,</div></div><div class=\"p2079\" style=\"display: none;\"><div style=\"display: table-cell;\"></div><div style=\"display: table-cell;\">width&nbsp;=&nbsp;None,</div></div><div class=\"p2079\" style=\"display: none;\"><div style=\"display: table-cell;\"></div><div style=\"display: table-cell;\">width_policy&nbsp;=&nbsp;'auto')</div></div></div>\n",
       "<script>\n",
       "(function() {\n",
       "  let expanded = false;\n",
       "  const ellipsis = document.getElementById(\"p2080\");\n",
       "  ellipsis.addEventListener(\"click\", function() {\n",
       "    const rows = document.getElementsByClassName(\"p2079\");\n",
       "    for (let i = 0; i < rows.length; i++) {\n",
       "      const el = rows[i];\n",
       "      el.style.display = expanded ? \"none\" : \"table-row\";\n",
       "    }\n",
       "    ellipsis.innerHTML = expanded ? \"&hellip;)\" : \"&lsaquo;&lsaquo;&lsaquo;\";\n",
       "    expanded = !expanded;\n",
       "  });\n",
       "})();\n",
       "</script>\n"
      ],
      "text/plain": [
       "GridPlot(id='p2051', ...)"
      ]
     },
     "execution_count": 39,
     "metadata": {},
     "output_type": "execute_result"
    }
   ],
   "source": [
    "bt.plot()"
   ]
  },
  {
   "cell_type": "markdown",
   "metadata": {},
   "source": [
    "### 4.4- Trail Stop"
   ]
  },
  {
   "cell_type": "code",
   "execution_count": null,
   "metadata": {},
   "outputs": [
    {
     "data": {
      "text/plain": [
       "Start                     2021-01-27 00:00:00\n",
       "End                       2023-10-23 00:00:00\n",
       "Duration                    999 days 00:00:00\n",
       "Exposure Time [%]                         4.2\n",
       "Equity Final [$]                118635.360469\n",
       "Equity Peak [$]                 123280.318594\n",
       "Return [%]                           18.63536\n",
       "Buy & Hold Return [%]                4.032554\n",
       "Return (Ann.) [%]                    6.435907\n",
       "Volatility (Ann.) [%]                7.235593\n",
       "Sharpe Ratio                         0.889479\n",
       "Sortino Ratio                        2.294279\n",
       "Calmar Ratio                         1.287354\n",
       "Max. Drawdown [%]                    -4.99933\n",
       "Avg. Drawdown [%]                   -2.600717\n",
       "Max. Drawdown Duration      332 days 00:00:00\n",
       "Avg. Drawdown Duration      156 days 00:00:00\n",
       "# Trades                                    7\n",
       "Win Rate [%]                        42.857143\n",
       "Best Trade [%]                      24.949697\n",
       "Worst Trade [%]                     -2.081687\n",
       "Avg. Trade [%]                       2.908448\n",
       "Max. Trade Duration          18 days 00:00:00\n",
       "Avg. Trade Duration           5 days 00:00:00\n",
       "Profit Factor                        4.165644\n",
       "Expectancy [%]                        3.27106\n",
       "SQN                                  0.849472\n",
       "_strategy                      MyCandlesStrat\n",
       "_equity_curve                             ...\n",
       "_trades                      Size  EntryBa...\n",
       "dtype: object"
      ]
     },
     "execution_count": 44,
     "metadata": {},
     "output_type": "execute_result"
    }
   ],
   "source": [
    "#fixed distance Trailing SL\n",
    "from backtesting import Strategy, Backtest\n",
    "\n",
    "class MyCandlesStrat(Strategy):\n",
    "    def init(self):\n",
    "        super().init()\n",
    "        self.signal1 = self.I(SIGNAL)\n",
    "\n",
    "    def next(self):\n",
    "        super().next()\n",
    "        sltr=self.data.Close[-1]*0.02\n",
    "\n",
    "        for trade in self.trades: \n",
    "            if trade.is_long: \n",
    "                trade.sl = max(trade.sl or -np.inf, self.data.Close[-1] - sltr)\n",
    "            else:\n",
    "                trade.sl = min(trade.sl or np.inf, self.data.Close[-1] + sltr) \n",
    "        \n",
    "        if self.signal1==2 and len(self.trades)==0: \n",
    "            sl1 = self.data.Close[-1] - sltr\n",
    "            self.buy(sl=sl1)\n",
    "        elif self.signal1==1 and len(self.trades)==0: \n",
    "            sl1 = self.data.Close[-1] + sltr\n",
    "            self.sell(sl=sl1)\n",
    "\n",
    "\n",
    "bt = Backtest(data, MyCandlesStrat, cash=100_000, commission=.000)\n",
    "stat = bt.run()\n",
    "stat"
   ]
  },
  {
   "cell_type": "code",
   "execution_count": null,
   "metadata": {},
   "outputs": [
    {
     "name": "stderr",
     "output_type": "stream",
     "text": [
      "BokehDeprecationWarning: Passing lists of formats for DatetimeTickFormatter scales was deprecated in Bokeh 3.0. Configure a single string format for each scale\n",
      "f:\\Python\\Lib\\site-packages\\backtesting\\_plotting.py:250: UserWarning:\n",
      "\n",
      "DatetimeFormatter scales now only accept a single format. Using the first provided: '%d %b'\n",
      "\n",
      "BokehDeprecationWarning: Passing lists of formats for DatetimeTickFormatter scales was deprecated in Bokeh 3.0. Configure a single string format for each scale\n",
      "f:\\Python\\Lib\\site-packages\\backtesting\\_plotting.py:250: UserWarning:\n",
      "\n",
      "DatetimeFormatter scales now only accept a single format. Using the first provided: '%m/%Y'\n",
      "\n",
      "f:\\Python\\Lib\\site-packages\\backtesting\\_plotting.py:659: UserWarning:\n",
      "\n",
      "found multiple competing values for 'toolbar.active_drag' property; using the latest value\n",
      "\n",
      "f:\\Python\\Lib\\site-packages\\backtesting\\_plotting.py:659: UserWarning:\n",
      "\n",
      "found multiple competing values for 'toolbar.active_scroll' property; using the latest value\n",
      "\n"
     ]
    },
    {
     "data": {
      "text/html": [
       "<div style=\"display: table;\"><div style=\"display: table-row;\"><div style=\"display: table-cell;\"><b title=\"bokeh.models.plots.GridPlot\">GridPlot</b>(</div><div style=\"display: table-cell;\">id&nbsp;=&nbsp;'p2411', <span id=\"p2440\" style=\"cursor: pointer;\">&hellip;)</span></div></div><div class=\"p2439\" style=\"display: none;\"><div style=\"display: table-cell;\"></div><div style=\"display: table-cell;\">align&nbsp;=&nbsp;'auto',</div></div><div class=\"p2439\" style=\"display: none;\"><div style=\"display: table-cell;\"></div><div style=\"display: table-cell;\">aspect_ratio&nbsp;=&nbsp;None,</div></div><div class=\"p2439\" style=\"display: none;\"><div style=\"display: table-cell;\"></div><div style=\"display: table-cell;\">children&nbsp;=&nbsp;[(figure(id='p2122', ...), 0, 0), (figure(id='p2215', ...), 1, 0), (figure(id='p2082', ...), 2, 0), (figure(id='p2266', ...), 3, 0), (figure(id='p2357', ...), 4, 0)],</div></div><div class=\"p2439\" style=\"display: none;\"><div style=\"display: table-cell;\"></div><div style=\"display: table-cell;\">cols&nbsp;=&nbsp;None,</div></div><div class=\"p2439\" style=\"display: none;\"><div style=\"display: table-cell;\"></div><div style=\"display: table-cell;\">context_menu&nbsp;=&nbsp;None,</div></div><div class=\"p2439\" style=\"display: none;\"><div style=\"display: table-cell;\"></div><div style=\"display: table-cell;\">css_classes&nbsp;=&nbsp;[],</div></div><div class=\"p2439\" style=\"display: none;\"><div style=\"display: table-cell;\"></div><div style=\"display: table-cell;\">disabled&nbsp;=&nbsp;False,</div></div><div class=\"p2439\" style=\"display: none;\"><div style=\"display: table-cell;\"></div><div style=\"display: table-cell;\">flow_mode&nbsp;=&nbsp;'block',</div></div><div class=\"p2439\" style=\"display: none;\"><div style=\"display: table-cell;\"></div><div style=\"display: table-cell;\">height&nbsp;=&nbsp;None,</div></div><div class=\"p2439\" style=\"display: none;\"><div style=\"display: table-cell;\"></div><div style=\"display: table-cell;\">height_policy&nbsp;=&nbsp;'auto',</div></div><div class=\"p2439\" style=\"display: none;\"><div style=\"display: table-cell;\"></div><div style=\"display: table-cell;\">js_event_callbacks&nbsp;=&nbsp;{},</div></div><div class=\"p2439\" style=\"display: none;\"><div style=\"display: table-cell;\"></div><div style=\"display: table-cell;\">js_property_callbacks&nbsp;=&nbsp;{},</div></div><div class=\"p2439\" style=\"display: none;\"><div style=\"display: table-cell;\"></div><div style=\"display: table-cell;\">margin&nbsp;=&nbsp;None,</div></div><div class=\"p2439\" style=\"display: none;\"><div style=\"display: table-cell;\"></div><div style=\"display: table-cell;\">max_height&nbsp;=&nbsp;None,</div></div><div class=\"p2439\" style=\"display: none;\"><div style=\"display: table-cell;\"></div><div style=\"display: table-cell;\">max_width&nbsp;=&nbsp;None,</div></div><div class=\"p2439\" style=\"display: none;\"><div style=\"display: table-cell;\"></div><div style=\"display: table-cell;\">min_height&nbsp;=&nbsp;None,</div></div><div class=\"p2439\" style=\"display: none;\"><div style=\"display: table-cell;\"></div><div style=\"display: table-cell;\">min_width&nbsp;=&nbsp;None,</div></div><div class=\"p2439\" style=\"display: none;\"><div style=\"display: table-cell;\"></div><div style=\"display: table-cell;\">name&nbsp;=&nbsp;None,</div></div><div class=\"p2439\" style=\"display: none;\"><div style=\"display: table-cell;\"></div><div style=\"display: table-cell;\">resizable&nbsp;=&nbsp;False,</div></div><div class=\"p2439\" style=\"display: none;\"><div style=\"display: table-cell;\"></div><div style=\"display: table-cell;\">rows&nbsp;=&nbsp;None,</div></div><div class=\"p2439\" style=\"display: none;\"><div style=\"display: table-cell;\"></div><div style=\"display: table-cell;\">sizing_mode&nbsp;=&nbsp;'stretch_width',</div></div><div class=\"p2439\" style=\"display: none;\"><div style=\"display: table-cell;\"></div><div style=\"display: table-cell;\">spacing&nbsp;=&nbsp;0,</div></div><div class=\"p2439\" style=\"display: none;\"><div style=\"display: table-cell;\"></div><div style=\"display: table-cell;\">styles&nbsp;=&nbsp;{},</div></div><div class=\"p2439\" style=\"display: none;\"><div style=\"display: table-cell;\"></div><div style=\"display: table-cell;\">stylesheets&nbsp;=&nbsp;[],</div></div><div class=\"p2439\" style=\"display: none;\"><div style=\"display: table-cell;\"></div><div style=\"display: table-cell;\">subscribed_events&nbsp;=&nbsp;PropertyValueSet(),</div></div><div class=\"p2439\" style=\"display: none;\"><div style=\"display: table-cell;\"></div><div style=\"display: table-cell;\">syncable&nbsp;=&nbsp;True,</div></div><div class=\"p2439\" style=\"display: none;\"><div style=\"display: table-cell;\"></div><div style=\"display: table-cell;\">tags&nbsp;=&nbsp;[],</div></div><div class=\"p2439\" style=\"display: none;\"><div style=\"display: table-cell;\"></div><div style=\"display: table-cell;\">toolbar&nbsp;=&nbsp;Toolbar(id='p2410', ...),</div></div><div class=\"p2439\" style=\"display: none;\"><div style=\"display: table-cell;\"></div><div style=\"display: table-cell;\">toolbar_location&nbsp;=&nbsp;'right',</div></div><div class=\"p2439\" style=\"display: none;\"><div style=\"display: table-cell;\"></div><div style=\"display: table-cell;\">visible&nbsp;=&nbsp;True,</div></div><div class=\"p2439\" style=\"display: none;\"><div style=\"display: table-cell;\"></div><div style=\"display: table-cell;\">width&nbsp;=&nbsp;None,</div></div><div class=\"p2439\" style=\"display: none;\"><div style=\"display: table-cell;\"></div><div style=\"display: table-cell;\">width_policy&nbsp;=&nbsp;'auto')</div></div></div>\n",
       "<script>\n",
       "(function() {\n",
       "  let expanded = false;\n",
       "  const ellipsis = document.getElementById(\"p2440\");\n",
       "  ellipsis.addEventListener(\"click\", function() {\n",
       "    const rows = document.getElementsByClassName(\"p2439\");\n",
       "    for (let i = 0; i < rows.length; i++) {\n",
       "      const el = rows[i];\n",
       "      el.style.display = expanded ? \"none\" : \"table-row\";\n",
       "    }\n",
       "    ellipsis.innerHTML = expanded ? \"&hellip;)\" : \"&lsaquo;&lsaquo;&lsaquo;\";\n",
       "    expanded = !expanded;\n",
       "  });\n",
       "})();\n",
       "</script>\n"
      ],
      "text/plain": [
       "GridPlot(id='p2411', ...)"
      ]
     },
     "execution_count": 45,
     "metadata": {},
     "output_type": "execute_result"
    }
   ],
   "source": [
    "bt.plot()"
   ]
  },
  {
   "cell_type": "code",
   "execution_count": null,
   "metadata": {},
   "outputs": [
    {
     "data": {
      "text/plain": [
       "Start                     2021-01-24 00:00:00\n",
       "End                       2023-10-20 00:00:00\n",
       "Duration                    999 days 00:00:00\n",
       "Exposure Time [%]                         8.5\n",
       "Equity Final [$]                114399.742824\n",
       "Equity Peak [$]                 124148.873143\n",
       "Return [%]                          14.399743\n",
       "Buy & Hold Return [%]               -8.648288\n",
       "Return (Ann.) [%]                    5.032848\n",
       "Volatility (Ann.) [%]               12.076801\n",
       "Sharpe Ratio                         0.416737\n",
       "Sortino Ratio                        0.726958\n",
       "Calmar Ratio                         0.399561\n",
       "Max. Drawdown [%]                  -12.595935\n",
       "Avg. Drawdown [%]                   -5.345708\n",
       "Max. Drawdown Duration      325 days 00:00:00\n",
       "Avg. Drawdown Duration      130 days 00:00:00\n",
       "# Trades                                    7\n",
       "Win Rate [%]                        57.142857\n",
       "Best Trade [%]                      24.433671\n",
       "Worst Trade [%]                     -7.018164\n",
       "Avg. Trade [%]                       2.250344\n",
       "Max. Trade Duration          25 days 00:00:00\n",
       "Avg. Trade Duration          12 days 00:00:00\n",
       "Profit Factor                        2.046146\n",
       "Expectancy [%]                       2.729663\n",
       "SQN                                  0.575954\n",
       "_strategy                      MyCandlesStrat\n",
       "_equity_curve                             ...\n",
       "_trades                      Size  EntryBa...\n",
       "dtype: object"
      ]
     },
     "execution_count": 73,
     "metadata": {},
     "output_type": "execute_result"
    }
   ],
   "source": [
    "#ATR based Trailing Stop\n",
    "from backtesting import Strategy, Backtest\n",
    "\n",
    "class MyCandlesStrat(Strategy):\n",
    "    atr_f = 0.6\n",
    "    def init(self):\n",
    "        super().init()\n",
    "        self.signal1 = self.I(SIGNAL)\n",
    "        self.sltr=0\n",
    "\n",
    "    def next(self):\n",
    "        super().next()\n",
    "        \n",
    "        for trade in self.trades: \n",
    "            if trade.is_long: \n",
    "                trade.sl = max(trade.sl or -np.inf, self.data.Close[-1] - self.sltr)\n",
    "            else:\n",
    "                trade.sl = min(trade.sl or np.inf, self.data.Close[-1] + self.sltr)\n",
    "\n",
    "        if self.signal1==2 and len(self.trades)==0: \n",
    "            self.sltr=self.data.ATR[-1]/self.atr_f\n",
    "            sl1 = self.data.Close[-1] - self.data.ATR[-1]/self.atr_f\n",
    "            self.buy(sl=sl1)\n",
    "        elif self.signal1==1 and len(self.trades)==0: \n",
    "            self.sltr=self.data.ATR[-1]/self.atr_f\n",
    "            sl1 = self.data.Close[-1] + self.data.ATR[-1]/self.atr_f\n",
    "            self.sell(sl=sl1)\n",
    "bt = Backtest(data, MyCandlesStrat, cash=100_000, commission=.000)\n",
    "stat = bt.run()\n",
    "stat"
   ]
  },
  {
   "cell_type": "markdown",
   "metadata": {},
   "source": [
    "## 5- Lot sizing and trade management"
   ]
  },
  {
   "cell_type": "code",
   "execution_count": null,
   "metadata": {},
   "outputs": [
    {
     "data": {
      "text/plain": [
       "Start                     2021-01-27 00:00:00\n",
       "End                       2023-10-23 00:00:00\n",
       "Duration                    999 days 00:00:00\n",
       "Exposure Time [%]                        14.8\n",
       "Equity Final [$]                115220.358555\n",
       "Equity Peak [$]                 115220.358555\n",
       "Return [%]                          15.220359\n",
       "Buy & Hold Return [%]                4.032554\n",
       "Return (Ann.) [%]                    5.307224\n",
       "Volatility (Ann.) [%]               12.232895\n",
       "Sharpe Ratio                         0.433849\n",
       "Sortino Ratio                        0.759777\n",
       "Calmar Ratio                         0.526458\n",
       "Max. Drawdown [%]                  -10.080995\n",
       "Avg. Drawdown [%]                   -3.932764\n",
       "Max. Drawdown Duration      228 days 00:00:00\n",
       "Avg. Drawdown Duration       33 days 00:00:00\n",
       "# Trades                                   13\n",
       "Win Rate [%]                        92.307692\n",
       "Best Trade [%]                        7.38121\n",
       "Worst Trade [%]                    -14.284073\n",
       "Avg. Trade [%]                        3.09787\n",
       "Max. Trade Duration          41 days 00:00:00\n",
       "Avg. Trade Duration          20 days 00:00:00\n",
       "Profit Factor                        3.961812\n",
       "Expectancy [%]                       3.254365\n",
       "SQN                                  2.847258\n",
       "_strategy                      MyCandlesStrat\n",
       "_equity_curve                             ...\n",
       "_trades                       Size  EntryB...\n",
       "dtype: object"
      ]
     },
     "execution_count": 47,
     "metadata": {},
     "output_type": "execute_result"
    }
   ],
   "source": [
    "class MyCandlesStrat(Strategy):\n",
    "    lotsize = 1 \n",
    "    def init(self):\n",
    "        super().init()\n",
    "        self.signal1 = self.I(SIGNAL)\n",
    "        self.ratio = 1.\n",
    "        self.risk_perc = 0.1\n",
    "\n",
    "    def next(self):\n",
    "        super().next() \n",
    "        if self.signal1==2 and len(self.trades)==0:\n",
    "            sl1 = self.data.Close[-1] - self.data.Close[-1]*self.risk_perc\n",
    "            tp1 = self.data.Close[-1] + (self.data.Close[-1]*self.risk_perc)*self.ratio*0.8\n",
    "            tp2 = self.data.Close[-1] + (self.data.Close[-1]*self.risk_perc)*self.ratio*1.2\n",
    "            self.buy(sl=sl1, tp=tp1, size=self.lotsize)\n",
    "            self.buy(sl=sl1, tp=tp2, size=self.lotsize)\n",
    "        elif self.signal1==1 and len(self.trades)==0:\n",
    "            sl1 = self.data.Close[-1] + self.data.Close[-1]*self.risk_perc\n",
    "            tp1 = self.data.Close[-1] - (self.data.Close[-1]*self.risk_perc)*self.ratio*0.8\n",
    "            tp2 = self.data.Close[-1] - (self.data.Close[-1]*self.risk_perc)*self.ratio*1.2\n",
    "            self.sell(sl=sl1, tp=tp1, size=self.lotsize)\n",
    "            self.sell(sl=sl1, tp=tp2, size=self.lotsize)\n",
    "bt = Backtest(data, MyCandlesStrat, cash=100_000, margin=1/1, commission=.05)\n",
    "stat = bt.run()\n",
    "stat"
   ]
  },
  {
   "cell_type": "code",
   "execution_count": null,
   "metadata": {},
   "outputs": [],
   "source": []
  }
 ],
 "metadata": {
  "kernelspec": {
   "display_name": ".venv",
   "language": "python",
   "name": "python3"
  },
  "language_info": {
   "codemirror_mode": {
    "name": "ipython",
    "version": 3
   },
   "file_extension": ".py",
   "mimetype": "text/x-python",
   "name": "python",
   "nbconvert_exporter": "python",
   "pygments_lexer": "ipython3",
   "version": "3.11.2"
  }
 },
 "nbformat": 4,
 "nbformat_minor": 2
}
