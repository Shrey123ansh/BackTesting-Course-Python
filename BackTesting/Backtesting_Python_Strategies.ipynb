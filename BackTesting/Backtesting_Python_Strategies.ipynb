{
 "cells": [
  {
   "cell_type": "markdown",
   "metadata": {},
   "source": [
    "# Building And Testing A Complete Trading System"
   ]
  },
  {
   "cell_type": "code",
   "execution_count": 14,
   "metadata": {},
   "outputs": [],
   "source": [
    "import yfinance as yf\n",
    "import pandas_ta as pa\n",
    "import plotly.graph_objects as go\n",
    "import numpy as np\n",
    "import pandas as pd\n",
    "\n",
    "def get_data(symbol: str):\n",
    "    # data = yf.download(tickers=symbol, period='1000d', interval='1d')\n",
    "    data = pd.read_csv(\"BTCUSD_Candlestick_1_D_ASK_08.05.2017-16.10.2021.csv\")\n",
    "    data.reset_index(inplace=True)\n",
    "    return data\n",
    "# Get the data\n",
    "data = get_data('BTC-USD')"
   ]
  },
  {
   "cell_type": "markdown",
   "metadata": {},
   "source": [
    "## 1- Add rejection signal"
   ]
  },
  {
   "cell_type": "code",
   "execution_count": 15,
   "metadata": {},
   "outputs": [],
   "source": [
    "def identify_rejection(data):\n",
    "    # Create a new column for shooting star\n",
    "    data['rejection'] = data.apply(lambda row: 2 if (\n",
    "        ( (min(row['Open'], row['Close']) - row['Low']) > (1.5 * abs(row['Close'] - row['Open']))) and \n",
    "        (row['High'] - max(row['Close'], row['Open'])) < (0.8 * abs(row['Close'] - row['Open'])) and \n",
    "        (abs(row['Open'] - row['Close']) > row['Open'] * 0.001)\n",
    "    ) else 1 if (\n",
    "        (row['High'] - max(row['Open'], row['Close'])) > (1.5 * abs(row['Open'] - row['Close'])) and \n",
    "        (min(row['Close'], row['Open']) - row['Low']) < (0.8 * abs(row['Open'] - row['Close'])) and \n",
    "        (abs(row['Open'] - row['Close']) > row['Open'] * 0.001)\n",
    "    ) else 0, axis=1)\n",
    "\n",
    "    return data\n",
    "\n",
    "data = identify_rejection(data)\n"
   ]
  },
  {
   "cell_type": "code",
   "execution_count": 16,
   "metadata": {},
   "outputs": [
    {
     "data": {
      "text/html": [
       "<div>\n",
       "<style scoped>\n",
       "    .dataframe tbody tr th:only-of-type {\n",
       "        vertical-align: middle;\n",
       "    }\n",
       "\n",
       "    .dataframe tbody tr th {\n",
       "        vertical-align: top;\n",
       "    }\n",
       "\n",
       "    .dataframe thead th {\n",
       "        text-align: right;\n",
       "    }\n",
       "</style>\n",
       "<table border=\"1\" class=\"dataframe\">\n",
       "  <thead>\n",
       "    <tr style=\"text-align: right;\">\n",
       "      <th></th>\n",
       "      <th>index</th>\n",
       "      <th>Gmt time</th>\n",
       "      <th>Open</th>\n",
       "      <th>High</th>\n",
       "      <th>Low</th>\n",
       "      <th>Close</th>\n",
       "      <th>Volume</th>\n",
       "      <th>rejection</th>\n",
       "    </tr>\n",
       "  </thead>\n",
       "  <tbody>\n",
       "    <tr>\n",
       "      <th>26</th>\n",
       "      <td>26</td>\n",
       "      <td>12.06.2017 21:00:00.000</td>\n",
       "      <td>2657</td>\n",
       "      <td>2788</td>\n",
       "      <td>2638</td>\n",
       "      <td>2702</td>\n",
       "      <td>2.226144e+06</td>\n",
       "      <td>1</td>\n",
       "    </tr>\n",
       "    <tr>\n",
       "      <th>28</th>\n",
       "      <td>28</td>\n",
       "      <td>14.06.2017 21:00:00.000</td>\n",
       "      <td>2553</td>\n",
       "      <td>2559</td>\n",
       "      <td>2077</td>\n",
       "      <td>2363</td>\n",
       "      <td>2.589326e+06</td>\n",
       "      <td>2</td>\n",
       "    </tr>\n",
       "    <tr>\n",
       "      <th>38</th>\n",
       "      <td>38</td>\n",
       "      <td>28.06.2017 21:00:00.000</td>\n",
       "      <td>2595</td>\n",
       "      <td>2605</td>\n",
       "      <td>2503</td>\n",
       "      <td>2559</td>\n",
       "      <td>2.302025e+06</td>\n",
       "      <td>2</td>\n",
       "    </tr>\n",
       "    <tr>\n",
       "      <th>41</th>\n",
       "      <td>41</td>\n",
       "      <td>03.07.2017 21:00:00.000</td>\n",
       "      <td>2558</td>\n",
       "      <td>2642</td>\n",
       "      <td>2545</td>\n",
       "      <td>2577</td>\n",
       "      <td>1.820193e+06</td>\n",
       "      <td>1</td>\n",
       "    </tr>\n",
       "    <tr>\n",
       "      <th>80</th>\n",
       "      <td>80</td>\n",
       "      <td>27.08.2017 21:00:00.000</td>\n",
       "      <td>4366</td>\n",
       "      <td>4370</td>\n",
       "      <td>4191</td>\n",
       "      <td>4340</td>\n",
       "      <td>2.018315e+06</td>\n",
       "      <td>2</td>\n",
       "    </tr>\n",
       "    <tr>\n",
       "      <th>...</th>\n",
       "      <td>...</td>\n",
       "      <td>...</td>\n",
       "      <td>...</td>\n",
       "      <td>...</td>\n",
       "      <td>...</td>\n",
       "      <td>...</td>\n",
       "      <td>...</td>\n",
       "      <td>...</td>\n",
       "    </tr>\n",
       "    <tr>\n",
       "      <th>1243</th>\n",
       "      <td>1243</td>\n",
       "      <td>15.08.2021 21:00:00.000</td>\n",
       "      <td>46767</td>\n",
       "      <td>48088</td>\n",
       "      <td>45720</td>\n",
       "      <td>46141</td>\n",
       "      <td>1.292448e+03</td>\n",
       "      <td>1</td>\n",
       "    </tr>\n",
       "    <tr>\n",
       "      <th>1266</th>\n",
       "      <td>1266</td>\n",
       "      <td>07.09.2021 21:00:00.000</td>\n",
       "      <td>46931</td>\n",
       "      <td>47405</td>\n",
       "      <td>44494</td>\n",
       "      <td>46116</td>\n",
       "      <td>2.135367e+03</td>\n",
       "      <td>2</td>\n",
       "    </tr>\n",
       "    <tr>\n",
       "      <th>1283</th>\n",
       "      <td>1283</td>\n",
       "      <td>24.09.2021 21:00:00.000</td>\n",
       "      <td>43028</td>\n",
       "      <td>43264</td>\n",
       "      <td>41754</td>\n",
       "      <td>42720</td>\n",
       "      <td>1.058906e+03</td>\n",
       "      <td>2</td>\n",
       "    </tr>\n",
       "    <tr>\n",
       "      <th>1284</th>\n",
       "      <td>1284</td>\n",
       "      <td>25.09.2021 21:00:00.000</td>\n",
       "      <td>42720</td>\n",
       "      <td>43776</td>\n",
       "      <td>40860</td>\n",
       "      <td>43686</td>\n",
       "      <td>1.162478e+03</td>\n",
       "      <td>2</td>\n",
       "    </tr>\n",
       "    <tr>\n",
       "      <th>1302</th>\n",
       "      <td>1302</td>\n",
       "      <td>13.10.2021 21:00:00.000</td>\n",
       "      <td>57078</td>\n",
       "      <td>58568</td>\n",
       "      <td>56906</td>\n",
       "      <td>57505</td>\n",
       "      <td>2.001020e+03</td>\n",
       "      <td>1</td>\n",
       "    </tr>\n",
       "  </tbody>\n",
       "</table>\n",
       "<p>126 rows × 8 columns</p>\n",
       "</div>"
      ],
      "text/plain": [
       "      index                 Gmt time   Open   High    Low  Close  \\\n",
       "26       26  12.06.2017 21:00:00.000   2657   2788   2638   2702   \n",
       "28       28  14.06.2017 21:00:00.000   2553   2559   2077   2363   \n",
       "38       38  28.06.2017 21:00:00.000   2595   2605   2503   2559   \n",
       "41       41  03.07.2017 21:00:00.000   2558   2642   2545   2577   \n",
       "80       80  27.08.2017 21:00:00.000   4366   4370   4191   4340   \n",
       "...     ...                      ...    ...    ...    ...    ...   \n",
       "1243   1243  15.08.2021 21:00:00.000  46767  48088  45720  46141   \n",
       "1266   1266  07.09.2021 21:00:00.000  46931  47405  44494  46116   \n",
       "1283   1283  24.09.2021 21:00:00.000  43028  43264  41754  42720   \n",
       "1284   1284  25.09.2021 21:00:00.000  42720  43776  40860  43686   \n",
       "1302   1302  13.10.2021 21:00:00.000  57078  58568  56906  57505   \n",
       "\n",
       "            Volume  rejection  \n",
       "26    2.226144e+06          1  \n",
       "28    2.589326e+06          2  \n",
       "38    2.302025e+06          2  \n",
       "41    1.820193e+06          1  \n",
       "80    2.018315e+06          2  \n",
       "...            ...        ...  \n",
       "1243  1.292448e+03          1  \n",
       "1266  2.135367e+03          2  \n",
       "1283  1.058906e+03          2  \n",
       "1284  1.162478e+03          2  \n",
       "1302  2.001020e+03          1  \n",
       "\n",
       "[126 rows x 8 columns]"
      ]
     },
     "execution_count": 16,
     "metadata": {},
     "output_type": "execute_result"
    }
   ],
   "source": [
    "data[data[\"rejection\"]!=0]"
   ]
  },
  {
   "cell_type": "code",
   "execution_count": 17,
   "metadata": {},
   "outputs": [
    {
     "data": {
      "application/vnd.plotly.v1+json": {
       "config": {
        "plotlyServerURL": "https://plot.ly"
       },
       "data": [
        {
         "close": {
          "bdata": "ZwipCH4JpAnDCAMJzAjvCGsJgAlBCjgLswq+ChML8wmOCvkJOwm4CRQKvgpkCnAKlAo0CZoJIwr/CcgJ/gkRCjQKJgrTCVEJGglXCSMJcAh+CC0JzwiqCkIKyAqnCcgJGArECkYLuQqDCt8KEAsODXcNIg1hDQQOpxDoDwAR7BDREJ0P6Q8mEIoQ6RD0EPUR3xGGEoMSDxFsEdkR4BGYEGEQVBA6D0ANjg6nD0IPeA9BDiAOZg9EDzoQRRBNECkRvRBpEPsQ9RA=",
          "dtype": "i2"
         },
         "high": {
          "bdata": "+wjgCJIJ8Qp3CjEJQgkhCboJkglGCn0LRgv9Ci8LuwvkCgML/wneCRsK2QrdCqkKsAoBCqYJJwotCggKGQpSCj8KRgoyCu0JaQluCXIJNAmNCF0JYQmrCtYK8grdCjMKJwoUC00LcAvICvYKPgtjDaENhQ2CDQYO9xBkEQMRfxEHETkQMBCpEKEQZhESESMSIBKhEokSIRLCEVISUxJWEhwRIhF0EHYPDg8fEBwQzg+HD7MOeQ99D2EQtRB+EHYRTxEBEQgRQhE=",
          "dtype": "i2"
         },
         "low": {
          "bdata": "zwfGB5MIsgjDCC0IowhWCOgIRgnICYIKswo0Cr0KkQlOCtsJHQgACZwJGgpNCgsKaArQCN0IfAnHCbIJrAnxCfQJFQq6CTkJ0AjDCAYJaQg/B2EIrAjFCDgKoQqSCWQJlAkYCocKVgpsCloKzQp5DA0NpgzkDEwNkA/iDtsPWRBhEH8Pvg60D/wPehBfEPQQlBHNEXcSRhAqED8RgxEsEBIQ8A+ZDq4Mnwt5DgsP/Q71DbcNUA4PDyMPHxCyDwkRjBBZEDIQyRA=",
          "dtype": "i2"
         },
         "open": {
          "bdata": "5gdoCLoIeAm1CUgICQnVCO8IbQnKCYIKOAu0Cr4KawthCo8K+Qk6CaYJJQq+CmUKcAqpCS0JmgkjCv4Jwwn+CREKNAomCuEJUQkaCVYJIglJB30ILgnPCKoK5ArICqQJyAkYCskKSQu0CoMK3wrCDA8Ndw0sDWENqw+nEOgP5RDoEBcQvw7pDyYQihAOEfQQ9RHfEYYSEhIPEWwR2RH2EcEQZBBUEDoPQA2kDqcPRw93D0IOVg5mD0QPOhBFECQRKBG8EGkQ+xA=",
          "dtype": "i2"
         },
         "type": "candlestick",
         "x": {
          "bdata": "CgsMDQ4PEBESExQVFhcYGRobHB0eHyAhIiMkJSYnKCkqKywtLi8wMTIzNDU2Nzg5Ojs8PT4/QEFCQ0RFRkdISUpLTE1OT1BRUlNUVVZXWFlaW1xdXl9gYWJjZGVmZ2hpamtsbQ==",
          "dtype": "i1"
         }
        },
        {
         "marker": {
          "color": "MediumPurple",
          "size": 8
         },
         "mode": "markers",
         "name": "Signal",
         "type": "scatter",
         "x": {
          "bdata": "CgsMDQ4PEBESExQVFhcYGRobHB0eHyAhIiMkJSYnKCkqKywtLi8wMTIzNDU2Nzg5Ojs8PT4/QEFCQ0RFRkdISUpLTE1OT1BRUlNUVVZXWFlaW1xdXl9gYWJjZGVmZ2hpamtsbQ==",
          "dtype": "i1"
         },
         "y": {
          "bdata": "AAAAAAAA+H8AAAAAAAD4fwAAAAAAAPh/AAAAAAAA+H8AAAAAAAD4fwAAAAAAAPh/AAAAAAAA+H8AAAAAAAD4fwAAAAAAAPh/AAAAAAAA+H8AAAAAAAD4fwAAAAAAAPh/AAAAAAAA+H8AAAAAAAD4fwAAAAAAAPh/AAAAAAAA+H92cRsNAMilQAAAAAAAAPh/io7k8v85oEAAAAAAAAD4fwAAAAAAAPh/AAAAAAAA+H8AAAAAAAD4fwAAAAAAAPh/AAAAAAAA+H8AAAAAAAD4fwAAAAAAAPh/AAAAAAAA+H+KjuTy/42jQAAAAAAAAPh/AAAAAAAA+H92cRsNAKSkQAAAAAAAAPh/AAAAAAAA+H8AAAAAAAD4fwAAAAAAAPh/AAAAAAAA+H8AAAAAAAD4fwAAAAAAAPh/AAAAAAAA+H8AAAAAAAD4fwAAAAAAAPh/AAAAAAAA+H8AAAAAAAD4fwAAAAAAAPh/AAAAAAAA+H8AAAAAAAD4fwAAAAAAAPh/AAAAAAAA+H8AAAAAAAD4fwAAAAAAAPh/AAAAAAAA+H8AAAAAAAD4fwAAAAAAAPh/AAAAAAAA+H8AAAAAAAD4fwAAAAAAAPh/AAAAAAAA+H8AAAAAAAD4fwAAAAAAAPh/AAAAAAAA+H8AAAAAAAD4fwAAAAAAAPh/AAAAAAAA+H8AAAAAAAD4fwAAAAAAAPh/AAAAAAAA+H8AAAAAAAD4fwAAAAAAAPh/AAAAAAAA+H9FR3L5/16wQAAAAAAAAPh/AAAAAAAA+H8AAAAAAAD4fwAAAAAAAPh/AAAAAAAA+H8AAAAAAAD4fwAAAAAAAPh/AAAAAAAA+H8AAAAAAAD4fwAAAAAAAPh/AAAAAAAA+H8AAAAAAAD4fwAAAAAAAPh/AAAAAAAA+H8AAAAAAAD4fwAAAAAAAPh/AAAAAAAA+H8AAAAAAAD4fwAAAAAAAPh/AAAAAAAA+H+KjuTy/x2uQAAAAAAAAPh/AAAAAAAA+H8AAAAAAAD4fwAAAAAAAPh/AAAAAAAA+H8AAAAAAAD4fwAAAAAAAPh/AAAAAAAA+H8=",
          "dtype": "f8"
         }
        }
       ],
       "layout": {
        "autosize": false,
        "height": 800,
        "paper_bgcolor": "black",
        "plot_bgcolor": "black",
        "template": {
         "data": {
          "bar": [
           {
            "error_x": {
             "color": "#2a3f5f"
            },
            "error_y": {
             "color": "#2a3f5f"
            },
            "marker": {
             "line": {
              "color": "#E5ECF6",
              "width": 0.5
             },
             "pattern": {
              "fillmode": "overlay",
              "size": 10,
              "solidity": 0.2
             }
            },
            "type": "bar"
           }
          ],
          "barpolar": [
           {
            "marker": {
             "line": {
              "color": "#E5ECF6",
              "width": 0.5
             },
             "pattern": {
              "fillmode": "overlay",
              "size": 10,
              "solidity": 0.2
             }
            },
            "type": "barpolar"
           }
          ],
          "carpet": [
           {
            "aaxis": {
             "endlinecolor": "#2a3f5f",
             "gridcolor": "white",
             "linecolor": "white",
             "minorgridcolor": "white",
             "startlinecolor": "#2a3f5f"
            },
            "baxis": {
             "endlinecolor": "#2a3f5f",
             "gridcolor": "white",
             "linecolor": "white",
             "minorgridcolor": "white",
             "startlinecolor": "#2a3f5f"
            },
            "type": "carpet"
           }
          ],
          "choropleth": [
           {
            "colorbar": {
             "outlinewidth": 0,
             "ticks": ""
            },
            "type": "choropleth"
           }
          ],
          "contour": [
           {
            "colorbar": {
             "outlinewidth": 0,
             "ticks": ""
            },
            "colorscale": [
             [
              0,
              "#0d0887"
             ],
             [
              0.1111111111111111,
              "#46039f"
             ],
             [
              0.2222222222222222,
              "#7201a8"
             ],
             [
              0.3333333333333333,
              "#9c179e"
             ],
             [
              0.4444444444444444,
              "#bd3786"
             ],
             [
              0.5555555555555556,
              "#d8576b"
             ],
             [
              0.6666666666666666,
              "#ed7953"
             ],
             [
              0.7777777777777778,
              "#fb9f3a"
             ],
             [
              0.8888888888888888,
              "#fdca26"
             ],
             [
              1,
              "#f0f921"
             ]
            ],
            "type": "contour"
           }
          ],
          "contourcarpet": [
           {
            "colorbar": {
             "outlinewidth": 0,
             "ticks": ""
            },
            "type": "contourcarpet"
           }
          ],
          "heatmap": [
           {
            "colorbar": {
             "outlinewidth": 0,
             "ticks": ""
            },
            "colorscale": [
             [
              0,
              "#0d0887"
             ],
             [
              0.1111111111111111,
              "#46039f"
             ],
             [
              0.2222222222222222,
              "#7201a8"
             ],
             [
              0.3333333333333333,
              "#9c179e"
             ],
             [
              0.4444444444444444,
              "#bd3786"
             ],
             [
              0.5555555555555556,
              "#d8576b"
             ],
             [
              0.6666666666666666,
              "#ed7953"
             ],
             [
              0.7777777777777778,
              "#fb9f3a"
             ],
             [
              0.8888888888888888,
              "#fdca26"
             ],
             [
              1,
              "#f0f921"
             ]
            ],
            "type": "heatmap"
           }
          ],
          "histogram": [
           {
            "marker": {
             "pattern": {
              "fillmode": "overlay",
              "size": 10,
              "solidity": 0.2
             }
            },
            "type": "histogram"
           }
          ],
          "histogram2d": [
           {
            "colorbar": {
             "outlinewidth": 0,
             "ticks": ""
            },
            "colorscale": [
             [
              0,
              "#0d0887"
             ],
             [
              0.1111111111111111,
              "#46039f"
             ],
             [
              0.2222222222222222,
              "#7201a8"
             ],
             [
              0.3333333333333333,
              "#9c179e"
             ],
             [
              0.4444444444444444,
              "#bd3786"
             ],
             [
              0.5555555555555556,
              "#d8576b"
             ],
             [
              0.6666666666666666,
              "#ed7953"
             ],
             [
              0.7777777777777778,
              "#fb9f3a"
             ],
             [
              0.8888888888888888,
              "#fdca26"
             ],
             [
              1,
              "#f0f921"
             ]
            ],
            "type": "histogram2d"
           }
          ],
          "histogram2dcontour": [
           {
            "colorbar": {
             "outlinewidth": 0,
             "ticks": ""
            },
            "colorscale": [
             [
              0,
              "#0d0887"
             ],
             [
              0.1111111111111111,
              "#46039f"
             ],
             [
              0.2222222222222222,
              "#7201a8"
             ],
             [
              0.3333333333333333,
              "#9c179e"
             ],
             [
              0.4444444444444444,
              "#bd3786"
             ],
             [
              0.5555555555555556,
              "#d8576b"
             ],
             [
              0.6666666666666666,
              "#ed7953"
             ],
             [
              0.7777777777777778,
              "#fb9f3a"
             ],
             [
              0.8888888888888888,
              "#fdca26"
             ],
             [
              1,
              "#f0f921"
             ]
            ],
            "type": "histogram2dcontour"
           }
          ],
          "mesh3d": [
           {
            "colorbar": {
             "outlinewidth": 0,
             "ticks": ""
            },
            "type": "mesh3d"
           }
          ],
          "parcoords": [
           {
            "line": {
             "colorbar": {
              "outlinewidth": 0,
              "ticks": ""
             }
            },
            "type": "parcoords"
           }
          ],
          "pie": [
           {
            "automargin": true,
            "type": "pie"
           }
          ],
          "scatter": [
           {
            "fillpattern": {
             "fillmode": "overlay",
             "size": 10,
             "solidity": 0.2
            },
            "type": "scatter"
           }
          ],
          "scatter3d": [
           {
            "line": {
             "colorbar": {
              "outlinewidth": 0,
              "ticks": ""
             }
            },
            "marker": {
             "colorbar": {
              "outlinewidth": 0,
              "ticks": ""
             }
            },
            "type": "scatter3d"
           }
          ],
          "scattercarpet": [
           {
            "marker": {
             "colorbar": {
              "outlinewidth": 0,
              "ticks": ""
             }
            },
            "type": "scattercarpet"
           }
          ],
          "scattergeo": [
           {
            "marker": {
             "colorbar": {
              "outlinewidth": 0,
              "ticks": ""
             }
            },
            "type": "scattergeo"
           }
          ],
          "scattergl": [
           {
            "marker": {
             "colorbar": {
              "outlinewidth": 0,
              "ticks": ""
             }
            },
            "type": "scattergl"
           }
          ],
          "scattermap": [
           {
            "marker": {
             "colorbar": {
              "outlinewidth": 0,
              "ticks": ""
             }
            },
            "type": "scattermap"
           }
          ],
          "scattermapbox": [
           {
            "marker": {
             "colorbar": {
              "outlinewidth": 0,
              "ticks": ""
             }
            },
            "type": "scattermapbox"
           }
          ],
          "scatterpolar": [
           {
            "marker": {
             "colorbar": {
              "outlinewidth": 0,
              "ticks": ""
             }
            },
            "type": "scatterpolar"
           }
          ],
          "scatterpolargl": [
           {
            "marker": {
             "colorbar": {
              "outlinewidth": 0,
              "ticks": ""
             }
            },
            "type": "scatterpolargl"
           }
          ],
          "scatterternary": [
           {
            "marker": {
             "colorbar": {
              "outlinewidth": 0,
              "ticks": ""
             }
            },
            "type": "scatterternary"
           }
          ],
          "surface": [
           {
            "colorbar": {
             "outlinewidth": 0,
             "ticks": ""
            },
            "colorscale": [
             [
              0,
              "#0d0887"
             ],
             [
              0.1111111111111111,
              "#46039f"
             ],
             [
              0.2222222222222222,
              "#7201a8"
             ],
             [
              0.3333333333333333,
              "#9c179e"
             ],
             [
              0.4444444444444444,
              "#bd3786"
             ],
             [
              0.5555555555555556,
              "#d8576b"
             ],
             [
              0.6666666666666666,
              "#ed7953"
             ],
             [
              0.7777777777777778,
              "#fb9f3a"
             ],
             [
              0.8888888888888888,
              "#fdca26"
             ],
             [
              1,
              "#f0f921"
             ]
            ],
            "type": "surface"
           }
          ],
          "table": [
           {
            "cells": {
             "fill": {
              "color": "#EBF0F8"
             },
             "line": {
              "color": "white"
             }
            },
            "header": {
             "fill": {
              "color": "#C8D4E3"
             },
             "line": {
              "color": "white"
             }
            },
            "type": "table"
           }
          ]
         },
         "layout": {
          "annotationdefaults": {
           "arrowcolor": "#2a3f5f",
           "arrowhead": 0,
           "arrowwidth": 1
          },
          "autotypenumbers": "strict",
          "coloraxis": {
           "colorbar": {
            "outlinewidth": 0,
            "ticks": ""
           }
          },
          "colorscale": {
           "diverging": [
            [
             0,
             "#8e0152"
            ],
            [
             0.1,
             "#c51b7d"
            ],
            [
             0.2,
             "#de77ae"
            ],
            [
             0.3,
             "#f1b6da"
            ],
            [
             0.4,
             "#fde0ef"
            ],
            [
             0.5,
             "#f7f7f7"
            ],
            [
             0.6,
             "#e6f5d0"
            ],
            [
             0.7,
             "#b8e186"
            ],
            [
             0.8,
             "#7fbc41"
            ],
            [
             0.9,
             "#4d9221"
            ],
            [
             1,
             "#276419"
            ]
           ],
           "sequential": [
            [
             0,
             "#0d0887"
            ],
            [
             0.1111111111111111,
             "#46039f"
            ],
            [
             0.2222222222222222,
             "#7201a8"
            ],
            [
             0.3333333333333333,
             "#9c179e"
            ],
            [
             0.4444444444444444,
             "#bd3786"
            ],
            [
             0.5555555555555556,
             "#d8576b"
            ],
            [
             0.6666666666666666,
             "#ed7953"
            ],
            [
             0.7777777777777778,
             "#fb9f3a"
            ],
            [
             0.8888888888888888,
             "#fdca26"
            ],
            [
             1,
             "#f0f921"
            ]
           ],
           "sequentialminus": [
            [
             0,
             "#0d0887"
            ],
            [
             0.1111111111111111,
             "#46039f"
            ],
            [
             0.2222222222222222,
             "#7201a8"
            ],
            [
             0.3333333333333333,
             "#9c179e"
            ],
            [
             0.4444444444444444,
             "#bd3786"
            ],
            [
             0.5555555555555556,
             "#d8576b"
            ],
            [
             0.6666666666666666,
             "#ed7953"
            ],
            [
             0.7777777777777778,
             "#fb9f3a"
            ],
            [
             0.8888888888888888,
             "#fdca26"
            ],
            [
             1,
             "#f0f921"
            ]
           ]
          },
          "colorway": [
           "#636efa",
           "#EF553B",
           "#00cc96",
           "#ab63fa",
           "#FFA15A",
           "#19d3f3",
           "#FF6692",
           "#B6E880",
           "#FF97FF",
           "#FECB52"
          ],
          "font": {
           "color": "#2a3f5f"
          },
          "geo": {
           "bgcolor": "white",
           "lakecolor": "white",
           "landcolor": "#E5ECF6",
           "showlakes": true,
           "showland": true,
           "subunitcolor": "white"
          },
          "hoverlabel": {
           "align": "left"
          },
          "hovermode": "closest",
          "mapbox": {
           "style": "light"
          },
          "paper_bgcolor": "white",
          "plot_bgcolor": "#E5ECF6",
          "polar": {
           "angularaxis": {
            "gridcolor": "white",
            "linecolor": "white",
            "ticks": ""
           },
           "bgcolor": "#E5ECF6",
           "radialaxis": {
            "gridcolor": "white",
            "linecolor": "white",
            "ticks": ""
           }
          },
          "scene": {
           "xaxis": {
            "backgroundcolor": "#E5ECF6",
            "gridcolor": "white",
            "gridwidth": 2,
            "linecolor": "white",
            "showbackground": true,
            "ticks": "",
            "zerolinecolor": "white"
           },
           "yaxis": {
            "backgroundcolor": "#E5ECF6",
            "gridcolor": "white",
            "gridwidth": 2,
            "linecolor": "white",
            "showbackground": true,
            "ticks": "",
            "zerolinecolor": "white"
           },
           "zaxis": {
            "backgroundcolor": "#E5ECF6",
            "gridcolor": "white",
            "gridwidth": 2,
            "linecolor": "white",
            "showbackground": true,
            "ticks": "",
            "zerolinecolor": "white"
           }
          },
          "shapedefaults": {
           "line": {
            "color": "#2a3f5f"
           }
          },
          "ternary": {
           "aaxis": {
            "gridcolor": "white",
            "linecolor": "white",
            "ticks": ""
           },
           "baxis": {
            "gridcolor": "white",
            "linecolor": "white",
            "ticks": ""
           },
           "bgcolor": "#E5ECF6",
           "caxis": {
            "gridcolor": "white",
            "linecolor": "white",
            "ticks": ""
           }
          },
          "title": {
           "x": 0.05
          },
          "xaxis": {
           "automargin": true,
           "gridcolor": "white",
           "linecolor": "white",
           "ticks": "",
           "title": {
            "standoff": 15
           },
           "zerolinecolor": "white",
           "zerolinewidth": 2
          },
          "yaxis": {
           "automargin": true,
           "gridcolor": "white",
           "linecolor": "white",
           "ticks": "",
           "title": {
            "standoff": 15
           },
           "zerolinecolor": "white",
           "zerolinewidth": 2
          }
         }
        },
        "width": 1000,
        "xaxis": {
         "gridcolor": "black"
        },
        "yaxis": {
         "gridcolor": "black"
        }
       }
      }
     },
     "metadata": {},
     "output_type": "display_data"
    }
   ],
   "source": [
    "def pointpos(x, xsignal):\n",
    "    if x[xsignal]==1:\n",
    "        return x['High']+1e-4\n",
    "    elif x[xsignal]==2:\n",
    "        return x['Low']-1e-4\n",
    "    else:\n",
    "        return np.nan\n",
    "\n",
    "def plot_with_signal(dfpl):\n",
    "\n",
    "    fig = go.Figure(data=[go.Candlestick(x=dfpl.index,\n",
    "                    open=dfpl['Open'],\n",
    "                    high=dfpl['High'],\n",
    "                    low=dfpl['Low'],\n",
    "                    close=dfpl['Close'])])\n",
    "\n",
    "    fig.update_layout(\n",
    "        autosize=False,\n",
    "        width=1000,\n",
    "        height=800, \n",
    "        paper_bgcolor='black',\n",
    "        plot_bgcolor='black')\n",
    "    fig.update_xaxes(gridcolor='black')\n",
    "    fig.update_yaxes(gridcolor='black')\n",
    "    fig.add_scatter(x=dfpl.index, y=dfpl['pointpos'], mode=\"markers\",\n",
    "                    marker=dict(size=8, color=\"MediumPurple\"),\n",
    "                    name=\"Signal\")\n",
    "    fig.show()\n",
    "\n",
    "data['pointpos'] = data.apply(lambda row: pointpos(row,\"rejection\"), axis=1)\n",
    "plot_with_signal(data[10:110])"
   ]
  },
  {
   "cell_type": "markdown",
   "metadata": {},
   "source": [
    "## 2- Support and Resistance FUNCTIONS"
   ]
  },
  {
   "cell_type": "code",
   "execution_count": 18,
   "metadata": {},
   "outputs": [],
   "source": [
    "def support(df1, l, n1, n2): #n1 n2 before and after candle l\n",
    "    if ( df1.Low[l-n1:l].min() < df1.Low[l] or\n",
    "        df1.Low[l+1:l+n2+1].min() < df1.Low[l] ):\n",
    "        return 0\n",
    "    return 1\n",
    "\n",
    "def resistance(df1, l, n1, n2): #n1 n2 before and after candle l\n",
    "    if ( df1.High[l-n1:l].max() > df1.High[l] or\n",
    "       df1.High[l+1:l+n2+1].max() > df1.High[l] ):\n",
    "        return 0\n",
    "    return 1"
   ]
  },
  {
   "cell_type": "markdown",
   "metadata": {},
   "source": [
    "## 3- Close to resistance and support testing"
   ]
  },
  {
   "cell_type": "code",
   "execution_count": 19,
   "metadata": {},
   "outputs": [],
   "source": [
    "def closeResistance(l, levels, lim, df):\n",
    "    if len(levels) == 0:\n",
    "        return 0\n",
    "    c1 = abs(df['High'][l] - min(levels, key=lambda x: abs(x - df['High'][l]))) <= lim\n",
    "    c2 = abs(max(df['Open'][l], df['Close'][l]) - min(levels, key=lambda x: abs(x - df['High'][l]))) <= lim\n",
    "    c3 = min(df['Open'][l], df['Close'][l]) < min(levels, key=lambda x: abs(x - df['High'][l]))\n",
    "    c4 = df['Low'][l] < min(levels, key=lambda x: abs(x - df['High'][l]))\n",
    "    if (c1 or c2) and c3 and c4:\n",
    "        return min(levels, key=lambda x: abs(x - df['High'][l]))\n",
    "    else:\n",
    "        return 0\n",
    "\n",
    "def closeSupport(l, levels, lim, df):\n",
    "    if len(levels) == 0:\n",
    "        return 0\n",
    "    c1 = abs(df['Low'][l] - min(levels, key=lambda x: abs(x - df['Low'][l]))) <= lim\n",
    "    c2 = abs(min(df['Open'][l], df['Close'][l]) - min(levels, key=lambda x: abs(x - df['Low'][l]))) <= lim\n",
    "    c3 = max(df['Open'][l], df['Close'][l]) > min(levels, key=lambda x: abs(x - df['Low'][l]))\n",
    "    c4 = df['High'][l] > min(levels, key=lambda x: abs(x - df['Low'][l]))\n",
    "    if (c1 or c2) and c3 and c4:\n",
    "        return min(levels, key=lambda x: abs(x - df['Low'][l]))\n",
    "    else:\n",
    "        return 0\n",
    "\n",
    "def is_below_resistance(l, level_backCandles, level, df):\n",
    "    return df.loc[l-level_backCandles:l-1, 'High'].max() < level\n",
    "\n",
    "def is_above_support(l, level_backCandles, level, df):\n",
    "    return df.loc[l-level_backCandles:l-1, 'Low'].min() > level"
   ]
  },
  {
   "cell_type": "code",
   "execution_count": 20,
   "metadata": {},
   "outputs": [],
   "source": [
    "def check_candle_signal(l, n1, n2, levelbackCandles, windowbackCandles, df):\n",
    "    ss = []\n",
    "    rr = []\n",
    "    for subrow in range(l-levelbackCandles, l-n2+1):\n",
    "        if support(df, subrow, n1, n2):\n",
    "            ss.append(df.Low[subrow])\n",
    "        if resistance(df, subrow, n1, n2):\n",
    "            rr.append(df.High[subrow])\n",
    "\n",
    "    ss.sort() #keep lowest support when popping a level\n",
    "    for i in range(1,len(ss)):\n",
    "        if(i>=len(ss)):\n",
    "            break\n",
    "        if abs(ss[i]-ss[i-1])/ss[i]<=0.001: # merging close distance levels\n",
    "            ss.pop(i)\n",
    "\n",
    "    rr.sort(reverse=True) # keep highest resistance when popping one\n",
    "    for i in range(1,len(rr)):\n",
    "        if(i>=len(rr)):\n",
    "            break\n",
    "        if abs(rr[i]-rr[i-1])/rr[i]<=0.001: # merging close distance levels\n",
    "            rr.pop(i)\n",
    "\n",
    "    #----------------------------------------------------------------------\n",
    "    # joined levels\n",
    "    rrss = rr+ss\n",
    "    rrss.sort()\n",
    "    for i in range(1,len(rrss)):\n",
    "        if(i>=len(rrss)):\n",
    "            break\n",
    "        if abs(rrss[i]-rrss[i-1])/rrss[i]<=0.001: # merging close distance levels\n",
    "            rrss.pop(i)\n",
    "    cR = closeResistance(l, rrss, df.Close[l]*0.003, df)\n",
    "    cS = closeSupport(l, rrss, df.Close[l]*0.003, df)\n",
    "    #----------------------------------------------------------------------\n",
    "\n",
    "    # cR = closeResistance(l, rr, 150e-5, df)\n",
    "    # cS = closeSupport(l, ss, 150e-5, df)\n",
    "    #print(rrss,df.Close*0.002)\n",
    "    if (df.rejection[l] == 1 and cR and is_below_resistance(l,windowbackCandles,cR, df)):\n",
    "        return 1\n",
    "    elif(df.rejection[l] == 2 and cS and is_above_support(l,windowbackCandles,cS, df)):\n",
    "        return 2\n",
    "    else:\n",
    "        return 0"
   ]
  },
  {
   "cell_type": "code",
   "execution_count": 21,
   "metadata": {},
   "outputs": [
    {
     "name": "stderr",
     "output_type": "stream",
     "text": [
      "100%|██████████| 1230/1230 [00:15<00:00, 78.49it/s] \n"
     ]
    }
   ],
   "source": [
    "from tqdm import tqdm\n",
    "\n",
    "n1 = 8\n",
    "n2 = 8\n",
    "levelbackCandles = 60\n",
    "windowbackCandles = n2\n",
    "\n",
    "signal = [0 for i in range(len(data))]\n",
    "\n",
    "for row in tqdm(range(levelbackCandles+n1, len(data)-n2)):\n",
    "    signal[row] = check_candle_signal(row, n1, n2, levelbackCandles, windowbackCandles, data)\n",
    "\n",
    "data[\"signal\"] = signal"
   ]
  },
  {
   "cell_type": "code",
   "execution_count": 22,
   "metadata": {},
   "outputs": [
    {
     "data": {
      "text/html": [
       "<div>\n",
       "<style scoped>\n",
       "    .dataframe tbody tr th:only-of-type {\n",
       "        vertical-align: middle;\n",
       "    }\n",
       "\n",
       "    .dataframe tbody tr th {\n",
       "        vertical-align: top;\n",
       "    }\n",
       "\n",
       "    .dataframe thead th {\n",
       "        text-align: right;\n",
       "    }\n",
       "</style>\n",
       "<table border=\"1\" class=\"dataframe\">\n",
       "  <thead>\n",
       "    <tr style=\"text-align: right;\">\n",
       "      <th></th>\n",
       "      <th>index</th>\n",
       "      <th>Gmt time</th>\n",
       "      <th>Open</th>\n",
       "      <th>High</th>\n",
       "      <th>Low</th>\n",
       "      <th>Close</th>\n",
       "      <th>Volume</th>\n",
       "      <th>rejection</th>\n",
       "      <th>pointpos</th>\n",
       "      <th>signal</th>\n",
       "    </tr>\n",
       "  </thead>\n",
       "  <tbody>\n",
       "    <tr>\n",
       "      <th>1128</th>\n",
       "      <td>1128</td>\n",
       "      <td>22.04.2021 21:00:00.000</td>\n",
       "      <td>51625</td>\n",
       "      <td>52252</td>\n",
       "      <td>47573</td>\n",
       "      <td>50621</td>\n",
       "      <td>2270.844</td>\n",
       "      <td>2</td>\n",
       "      <td>47572.9999</td>\n",
       "      <td>2</td>\n",
       "    </tr>\n",
       "  </tbody>\n",
       "</table>\n",
       "</div>"
      ],
      "text/plain": [
       "      index                 Gmt time   Open   High    Low  Close    Volume  \\\n",
       "1128   1128  22.04.2021 21:00:00.000  51625  52252  47573  50621  2270.844   \n",
       "\n",
       "      rejection    pointpos  signal  \n",
       "1128          2  47572.9999       2  "
      ]
     },
     "execution_count": 22,
     "metadata": {},
     "output_type": "execute_result"
    }
   ],
   "source": [
    "data[data[\"signal\"]!=0]"
   ]
  },
  {
   "cell_type": "code",
   "execution_count": 25,
   "metadata": {},
   "outputs": [
    {
     "data": {
      "application/vnd.plotly.v1+json": {
       "config": {
        "plotlyServerURL": "https://plot.ly"
       },
       "data": [
        {
         "close": {
          "bdata": "nRTvFPYT8BPYE3kUoBT2FNIUMhUFFnYVsRUlFEMUrxT1FFgVdRZ5Fg0XRRf7F88Y8x5kHiQgMh78G38f1B/UHgIf8R9tIioiACJGIXIhpiEeHm8eQh4aH0QfMh/0H34gQiFyJN8jBiSTJQwnoCqhLPkx7SnzLygpDSqtLAMuVCvqL6wwPC7GK8AugSq2JRMmtClbKY4o2Sf+JcomoiZjJX8lYyfmKN8oBS64LZIuhC2RLtEstirtJ70o1SjvKQsq3yf7J7MoUCjYJ/0lbyXVJbwl3ygQKr4pUSmwKDUoeyerJ5UoWCgdKEUoCyhLKNInXya4IXYh1x+2H2Yg7iBjIAsgICBRIPsfxiG+Ic4g0CAHIGwfpx9EH0cg9B97HVodsiErJR8lGiQ1JDUk/iMZJcQknSQ0JJkiiiNWInUiaiIDIk0hpCFSIOQf0B/gHdocwRtjHAEctx3FHXseDh3OHNscShwOHUgdsx34HG4cUBxaHJEcChwTGxAaFRwrHGEcKB3OHIccYxxOHGUcFx2EHDAcaRxoG8gc/BzRHY8ffh+kHsMf3x/9H14iryIhIt0iSSIZIkoi+SH3IFQhwiErI40jxSSNJZIkxCQbJXMk6yMSJkMmOyaXJ8UmOijPKAEovShlJucl6CfHJcQlLybXJr8l4iQ=",
          "dtype": "i2"
         },
         "high": {
          "bdata": "+hSOFRkVMhR/FKgUyxT/FCMVdBUvFi8WwBW2FX4U3xQlFWcV3Ra2FokXUhcIGFUZXh/JIIIg+yBQH6IgAiDqHwIfLSAmI8sibiKyI3whcyKuIS4f+B79H8sfsB+IIJ8gTSEDJTwlMiS4JRUnJiwHLVY2VzSnMNMs3SppLU8vFy5DMFIyvjPaL8gu/yp9KzwnESpZKvMpyCjbJwAoEycrJlQmyCc0KeEp5S5WMKgvXy9KL24t6SzBKtEoZSmIKgArlCouKB0p2CnTKF4oSyYXJtUlFilQKoUqAir2KlwpzChHKMAoGinBKJsoTSi0KIAolCeJJpQiBCL9H98giSEWIRkhniCxIM8gLCIJIqMiCCETISgg8x/vH84gsyD0H48ddCIAJ5ElOSX6JDwlBySGJUElHiXTJFokkSPCI9EivCKKInYiriGiIVYgUCDsH1Qe9hsEHeAcMR4fHu8eFB1RHSkdhh54Hewdvx0dHhIdnByvHLscExwcHE0baxwyHWkcOB1BHjodiRw4HY0cHx05HbwccBxoHCEdPx3rHTggSCHmH/0fCSA4INAi+iLWImgjZiJgInoijyIUInUhxCFUIxUkDSWTJZYlxCQeJb8luCReJrgmxSajJwsoyCgqKUQpzih5JkonWSh3KCQmYiblJmEnBiY=",
          "dtype": "i2"
         },
         "low": {
          "bdata": "VxRhFKkTbROPE8oTdBSQFIgUsBQnFToVPhW3ExAUKBSvFOMUMhX3FWcWWBYTF/cXCxvPHQMeMh6kGdUdnB5LHmwdsR7zIa8hKSEOIX0fxSCMHVEdXh1AHpMdXR7JHq8fMCASIyAjMiPtIzMlbymcKqAseSgRKTgn7iWdKWssUSp8LIsvsS0cK3krwCY9JbMjhiS+J4onwiZmJfUl9SXVI9skayXVJpUobypJLQIsDC1+LQosNipoJ0MlSiZYKH4ptSZaJnkn7SZjJ5UlpSTKJLwl3iVrKMkoFykbKJAnBSfDJmwn6ieUJ9InnCfNJYcnDyarH1ogcB7zHlgeOyApIM0fjx+SHuof8h9BIZkgUyDYHyMfPB/IHhggwx/BHPccHx1uJLojYSM3I5sjsSPfIxokYyS4IxsifCPSIaohPCKqIfIghiGbH3gflh8eHcQauBu5Gaob/Ro8HQodzxw1HIMc7hsvHMYcqh2rHDEcERzkG0gc/hvjGugZXBm3G98bFB21HDEcXBw3HNEb+BxaHAUcMBw0GwMb/BzMHNEd+h58HjQe2h+kH+AfqCHAIRMi+SFfIV4htiGPIFYgpCGSIeUihiMaJCgkkiQJJT4kryPlI3El7SWDJ0kmKiYoKJwnsSddJjslxSWeJPAkoiXXJkclWCQ=",
          "dtype": "i2"
         },
         "open": {
          "bdata": "wRSgFO8U+hMYFNsTfRSgFPgUsBQ1FQkWehW1FUEURxSwFPgUWRWwFnoWDRdIF/wXKRz3HmUeJiAwHssfhR/XH9QeBR/+IWwiLCIBIkYhJiKoISAebx5EHlseSB81H/YfgSAdI3Ik4SMJJJclTCugKqEs/DHtKbcsKCkNKq0sAy4vLeovrjA7LscrzCmBKrYlEya0KUYpkCjZJ/4lyiZdJWMlgCVjJ+YoBSsFLrgtki6ELc4s0Sy1Ku0nvSiqKO8pCyreJ/0nQidQKNcn/SVwJdUl4yXfKBAqvilRKbUoNih7J6snlShdKB0oRSgLKEsoUydfJrchdiHYH4QfZiDuIGMgCyAdH1Eg+x/GIb4hcyDQIAYgbR+nH1ogRyD0H3sdWh3QJSslHyUaJDYkAST8IxklxCSgJDQkhSOKI1YidSJqIgMiiyGiIVYg5B/QH+Adyhu/G2McARy2HcUd9RwLHc4c2xxKHA4dqh2xHfgcbhxQHFocExwJHBQbERoVHCscNR0pHc4ciBxhHE0cGR0XHYQcMBxoHGgbPx36HNEdjx9+H6QeAiDcH/0fXyKvIiEi+yFIIhkiSiL5IfcgpSHBISwjjCPFJI4lkiQVJRsldiTsIxQmQyaFJ5UnxiY+KNIoAShvJmIm5yXoJ8clxCXZJtcmvyU=",
          "dtype": "i2"
         },
         "type": "candlestick",
         "x": {
          "bdata": "9AH1AfYB9wH4AfkB+gH7AfwB/QH+Af8BAAIBAgICAwIEAgUCBgIHAggCCQIKAgsCDAINAg4CDwIQAhECEgITAhQCFQIWAhcCGAIZAhoCGwIcAh0CHgIfAiACIQIiAiMCJAIlAiYCJwIoAikCKgIrAiwCLQIuAi8CMAIxAjICMwI0AjUCNgI3AjgCOQI6AjsCPAI9Aj4CPwJAAkECQgJDAkQCRQJGAkcCSAJJAkoCSwJMAk0CTgJPAlACUQJSAlMCVAJVAlYCVwJYAlkCWgJbAlwCXQJeAl8CYAJhAmICYwJkAmUCZgJnAmgCaQJqAmsCbAJtAm4CbwJwAnECcgJzAnQCdQJ2AncCeAJ5AnoCewJ8An0CfgJ/AoACgQKCAoMChAKFAoYChwKIAokCigKLAowCjQKOAo8CkAKRApICkwKUApUClgKXApgCmQKaApsCnAKdAp4CnwKgAqECogKjAqQCpQKmAqcCqAKpAqoCqwKsAq0CrgKvArACsQKyArMCtAK1ArYCtwK4ArkCugK7ArwCvQK+Ar8CwALBAsICwwLEAsUCxgLHAsgCyQLKAssCzALNAs4CzwLQAtEC0gLTAtQC1QLWAtcC2ALZAtoC2wLcAt0C3gLfAuAC4QLiAuMC5ALlAuYC5wLoAukC6gLrAuwC7QI=",
          "dtype": "i2"
         }
        },
        {
         "marker": {
          "color": "MediumPurple",
          "size": 8
         },
         "mode": "markers",
         "name": "Signal",
         "type": "scatter",
         "x": {
          "bdata": "9AH1AfYB9wH4AfkB+gH7AfwB/QH+Af8BAAIBAgICAwIEAgUCBgIHAggCCQIKAgsCDAINAg4CDwIQAhECEgITAhQCFQIWAhcCGAIZAhoCGwIcAh0CHgIfAiACIQIiAiMCJAIlAiYCJwIoAikCKgIrAiwCLQIuAi8CMAIxAjICMwI0AjUCNgI3AjgCOQI6AjsCPAI9Aj4CPwJAAkECQgJDAkQCRQJGAkcCSAJJAkoCSwJMAk0CTgJPAlACUQJSAlMCVAJVAlYCVwJYAlkCWgJbAlwCXQJeAl8CYAJhAmICYwJkAmUCZgJnAmgCaQJqAmsCbAJtAm4CbwJwAnECcgJzAnQCdQJ2AncCeAJ5AnoCewJ8An0CfgJ/AoACgQKCAoMChAKFAoYChwKIAokCigKLAowCjQKOAo8CkAKRApICkwKUApUClgKXApgCmQKaApsCnAKdAp4CnwKgAqECogKjAqQCpQKmAqcCqAKpAqoCqwKsAq0CrgKvArACsQKyArMCtAK1ArYCtwK4ArkCugK7ArwCvQK+Ar8CwALBAsICwwLEAsUCxgLHAsgCyQLKAssCzALNAs4CzwLQAtEC0gLTAtQC1QLWAtcC2ALZAtoC2wLcAt0C3gLfAuAC4QLiAuMC5ALlAuYC5wLoAukC6gLrAuwC7QI=",
          "dtype": "i2"
         },
         "y": {
          "bdata": "AAAAAAAA+H8AAAAAAAD4fwAAAAAAAPh/AAAAAAAA+H8AAAAAAAD4fwAAAAAAAPh/AAAAAAAA+H8AAAAAAAD4fwAAAAAAAPh/AAAAAAAA+H8AAAAAAAD4fwAAAAAAAPh/AAAAAAAA+H8AAAAAAAD4fwAAAAAAAPh/AAAAAAAA+H8AAAAAAAD4fwAAAAAAAPh/AAAAAAAA+H8AAAAAAAD4fwAAAAAAAPh/AAAAAAAA+H8AAAAAAAD4fwAAAAAAAPh/AAAAAAAA+H8AAAAAAAD4fwAAAAAAAPh/AAAAAAAA+H8AAAAAAAD4fwAAAAAAAPh/AAAAAAAA+H8AAAAAAAD4fwAAAAAAAPh/AAAAAAAA+H8AAAAAAAD4fwAAAAAAAPh/AAAAAAAA+H8AAAAAAAD4fwAAAAAAAPh/AAAAAAAA+H8AAAAAAAD4fwAAAAAAAPh/AAAAAAAA+H8AAAAAAAD4fwAAAAAAAPh/AAAAAAAA+H8AAAAAAAD4fwAAAAAAAPh/AAAAAAAA+H8AAAAAAAD4fwAAAAAAAPh/AAAAAAAA+H8AAAAAAAD4fwAAAAAAAPh/AAAAAAAA+H8AAAAAAAD4fwAAAAAAAPh/AAAAAAAA+H8AAAAAAAD4fwAAAAAAAPh/AAAAAAAA+H8AAAAAAAD4fwAAAAAAAPh/AAAAAAAA+H8AAAAAAAD4fwAAAAAAAPh/AAAAAAAA+H8AAAAAAAD4fwAAAAAAAPh/AAAAAAAA+H8AAAAAAAD4fwAAAAAAAPh/AAAAAAAA+H8AAAAAAAD4fwAAAAAAAPh/AAAAAAAA+H8AAAAAAAD4fwAAAAAAAPh/AAAAAAAA+H8AAAAAAAD4fwAAAAAAAPh/AAAAAAAA+H8AAAAAAAD4fwAAAAAAAPh/AAAAAAAA+H8AAAAAAAD4fwAAAAAAAPh/AAAAAAAA+H8AAAAAAAD4fwAAAAAAAPh/AAAAAAAA+H8AAAAAAAD4fwAAAAAAAPh/AAAAAAAA+H8AAAAAAAD4fwAAAAAAAPh/AAAAAAAA+H8AAAAAAAD4fwAAAAAAAPh/AAAAAAAA+H8AAAAAAAD4fwAAAAAAAPh/AAAAAAAA+H8AAAAAAAD4fwAAAAAAAPh/AAAAAAAA+H8AAAAAAAD4fwAAAAAAAPh/AAAAAAAA+H8AAAAAAAD4fwAAAAAAAPh/AAAAAAAA+H8AAAAAAAD4fwAAAAAAAPh/AAAAAAAA+H8AAAAAAAD4fwAAAAAAAPh/AAAAAAAA+H8AAAAAAAD4fwAAAAAAAPh/AAAAAAAA+H8AAAAAAAD4fwAAAAAAAPh/AAAAAAAA+H8AAAAAAAD4fwAAAAAAAPh/AAAAAAAA+H8AAAAAAAD4fwAAAAAAAPh/AAAAAAAA+H8AAAAAAAD4fwAAAAAAAPh/AAAAAAAA+H8AAAAAAAD4fwAAAAAAAPh/AAAAAAAA+H8AAAAAAAD4fwAAAAAAAPh/AAAAAAAA+H8AAAAAAAD4fwAAAAAAAPh/AAAAAAAA+H8AAAAAAAD4fwAAAAAAAPh/AAAAAAAA+H8AAAAAAAD4fwAAAAAAAPh/AAAAAAAA+H8AAAAAAAD4fwAAAAAAAPh/AAAAAAAA+H8AAAAAAAD4fwAAAAAAAPh/AAAAAAAA+H8AAAAAAAD4fwAAAAAAAPh/AAAAAAAA+H8AAAAAAAD4fwAAAAAAAPh/AAAAAAAA+H8AAAAAAAD4fwAAAAAAAPh/AAAAAAAA+H8AAAAAAAD4fwAAAAAAAPh/AAAAAAAA+H8AAAAAAAD4fwAAAAAAAPh/AAAAAAAA+H8AAAAAAAD4fwAAAAAAAPh/AAAAAAAA+H8AAAAAAAD4fwAAAAAAAPh/AAAAAAAA+H8AAAAAAAD4fwAAAAAAAPh/AAAAAAAA+H8AAAAAAAD4fwAAAAAAAPh/AAAAAAAA+H8AAAAAAAD4fwAAAAAAAPh/AAAAAAAA+H8AAAAAAAD4fwAAAAAAAPh/AAAAAAAA+H8AAAAAAAD4fwAAAAAAAPh/AAAAAAAA+H8AAAAAAAD4fwAAAAAAAPh/AAAAAAAA+H8AAAAAAAD4fwAAAAAAAPh/AAAAAAAA+H8AAAAAAAD4fwAAAAAAAPh/AAAAAAAA+H8AAAAAAAD4fwAAAAAAAPh/AAAAAAAA+H8AAAAAAAD4fwAAAAAAAPh/AAAAAAAA+H8AAAAAAAD4fwAAAAAAAPh/AAAAAAAA+H8AAAAAAAD4fwAAAAAAAPh/AAAAAAAA+H8AAAAAAAD4fwAAAAAAAPh/AAAAAAAA+H8AAAAAAAD4fwAAAAAAAPh/AAAAAAAA+H8AAAAAAAD4fwAAAAAAAPh/AAAAAAAA+H8AAAAAAAD4fwAAAAAAAPh/AAAAAAAA+H8AAAAAAAD4fwAAAAAAAPh/AAAAAAAA+H8AAAAAAAD4fwAAAAAAAPh/AAAAAAAA+H8AAAAAAAD4fwAAAAAAAPh/AAAAAAAA+H8AAAAAAAD4fwAAAAAAAPh/AAAAAAAA+H8AAAAAAAD4fwAAAAAAAPh/AAAAAAAA+H8AAAAAAAD4fwAAAAAAAPh/AAAAAAAA+H8AAAAAAAD4fwAAAAAAAPh/AAAAAAAA+H8AAAAAAAD4fwAAAAAAAPh/AAAAAAAA+H8AAAAAAAD4fwAAAAAAAPh/AAAAAAAA+H8=",
          "dtype": "f8"
         }
        }
       ],
       "layout": {
        "autosize": false,
        "height": 800,
        "paper_bgcolor": "black",
        "plot_bgcolor": "black",
        "template": {
         "data": {
          "bar": [
           {
            "error_x": {
             "color": "#2a3f5f"
            },
            "error_y": {
             "color": "#2a3f5f"
            },
            "marker": {
             "line": {
              "color": "#E5ECF6",
              "width": 0.5
             },
             "pattern": {
              "fillmode": "overlay",
              "size": 10,
              "solidity": 0.2
             }
            },
            "type": "bar"
           }
          ],
          "barpolar": [
           {
            "marker": {
             "line": {
              "color": "#E5ECF6",
              "width": 0.5
             },
             "pattern": {
              "fillmode": "overlay",
              "size": 10,
              "solidity": 0.2
             }
            },
            "type": "barpolar"
           }
          ],
          "carpet": [
           {
            "aaxis": {
             "endlinecolor": "#2a3f5f",
             "gridcolor": "white",
             "linecolor": "white",
             "minorgridcolor": "white",
             "startlinecolor": "#2a3f5f"
            },
            "baxis": {
             "endlinecolor": "#2a3f5f",
             "gridcolor": "white",
             "linecolor": "white",
             "minorgridcolor": "white",
             "startlinecolor": "#2a3f5f"
            },
            "type": "carpet"
           }
          ],
          "choropleth": [
           {
            "colorbar": {
             "outlinewidth": 0,
             "ticks": ""
            },
            "type": "choropleth"
           }
          ],
          "contour": [
           {
            "colorbar": {
             "outlinewidth": 0,
             "ticks": ""
            },
            "colorscale": [
             [
              0,
              "#0d0887"
             ],
             [
              0.1111111111111111,
              "#46039f"
             ],
             [
              0.2222222222222222,
              "#7201a8"
             ],
             [
              0.3333333333333333,
              "#9c179e"
             ],
             [
              0.4444444444444444,
              "#bd3786"
             ],
             [
              0.5555555555555556,
              "#d8576b"
             ],
             [
              0.6666666666666666,
              "#ed7953"
             ],
             [
              0.7777777777777778,
              "#fb9f3a"
             ],
             [
              0.8888888888888888,
              "#fdca26"
             ],
             [
              1,
              "#f0f921"
             ]
            ],
            "type": "contour"
           }
          ],
          "contourcarpet": [
           {
            "colorbar": {
             "outlinewidth": 0,
             "ticks": ""
            },
            "type": "contourcarpet"
           }
          ],
          "heatmap": [
           {
            "colorbar": {
             "outlinewidth": 0,
             "ticks": ""
            },
            "colorscale": [
             [
              0,
              "#0d0887"
             ],
             [
              0.1111111111111111,
              "#46039f"
             ],
             [
              0.2222222222222222,
              "#7201a8"
             ],
             [
              0.3333333333333333,
              "#9c179e"
             ],
             [
              0.4444444444444444,
              "#bd3786"
             ],
             [
              0.5555555555555556,
              "#d8576b"
             ],
             [
              0.6666666666666666,
              "#ed7953"
             ],
             [
              0.7777777777777778,
              "#fb9f3a"
             ],
             [
              0.8888888888888888,
              "#fdca26"
             ],
             [
              1,
              "#f0f921"
             ]
            ],
            "type": "heatmap"
           }
          ],
          "histogram": [
           {
            "marker": {
             "pattern": {
              "fillmode": "overlay",
              "size": 10,
              "solidity": 0.2
             }
            },
            "type": "histogram"
           }
          ],
          "histogram2d": [
           {
            "colorbar": {
             "outlinewidth": 0,
             "ticks": ""
            },
            "colorscale": [
             [
              0,
              "#0d0887"
             ],
             [
              0.1111111111111111,
              "#46039f"
             ],
             [
              0.2222222222222222,
              "#7201a8"
             ],
             [
              0.3333333333333333,
              "#9c179e"
             ],
             [
              0.4444444444444444,
              "#bd3786"
             ],
             [
              0.5555555555555556,
              "#d8576b"
             ],
             [
              0.6666666666666666,
              "#ed7953"
             ],
             [
              0.7777777777777778,
              "#fb9f3a"
             ],
             [
              0.8888888888888888,
              "#fdca26"
             ],
             [
              1,
              "#f0f921"
             ]
            ],
            "type": "histogram2d"
           }
          ],
          "histogram2dcontour": [
           {
            "colorbar": {
             "outlinewidth": 0,
             "ticks": ""
            },
            "colorscale": [
             [
              0,
              "#0d0887"
             ],
             [
              0.1111111111111111,
              "#46039f"
             ],
             [
              0.2222222222222222,
              "#7201a8"
             ],
             [
              0.3333333333333333,
              "#9c179e"
             ],
             [
              0.4444444444444444,
              "#bd3786"
             ],
             [
              0.5555555555555556,
              "#d8576b"
             ],
             [
              0.6666666666666666,
              "#ed7953"
             ],
             [
              0.7777777777777778,
              "#fb9f3a"
             ],
             [
              0.8888888888888888,
              "#fdca26"
             ],
             [
              1,
              "#f0f921"
             ]
            ],
            "type": "histogram2dcontour"
           }
          ],
          "mesh3d": [
           {
            "colorbar": {
             "outlinewidth": 0,
             "ticks": ""
            },
            "type": "mesh3d"
           }
          ],
          "parcoords": [
           {
            "line": {
             "colorbar": {
              "outlinewidth": 0,
              "ticks": ""
             }
            },
            "type": "parcoords"
           }
          ],
          "pie": [
           {
            "automargin": true,
            "type": "pie"
           }
          ],
          "scatter": [
           {
            "fillpattern": {
             "fillmode": "overlay",
             "size": 10,
             "solidity": 0.2
            },
            "type": "scatter"
           }
          ],
          "scatter3d": [
           {
            "line": {
             "colorbar": {
              "outlinewidth": 0,
              "ticks": ""
             }
            },
            "marker": {
             "colorbar": {
              "outlinewidth": 0,
              "ticks": ""
             }
            },
            "type": "scatter3d"
           }
          ],
          "scattercarpet": [
           {
            "marker": {
             "colorbar": {
              "outlinewidth": 0,
              "ticks": ""
             }
            },
            "type": "scattercarpet"
           }
          ],
          "scattergeo": [
           {
            "marker": {
             "colorbar": {
              "outlinewidth": 0,
              "ticks": ""
             }
            },
            "type": "scattergeo"
           }
          ],
          "scattergl": [
           {
            "marker": {
             "colorbar": {
              "outlinewidth": 0,
              "ticks": ""
             }
            },
            "type": "scattergl"
           }
          ],
          "scattermap": [
           {
            "marker": {
             "colorbar": {
              "outlinewidth": 0,
              "ticks": ""
             }
            },
            "type": "scattermap"
           }
          ],
          "scattermapbox": [
           {
            "marker": {
             "colorbar": {
              "outlinewidth": 0,
              "ticks": ""
             }
            },
            "type": "scattermapbox"
           }
          ],
          "scatterpolar": [
           {
            "marker": {
             "colorbar": {
              "outlinewidth": 0,
              "ticks": ""
             }
            },
            "type": "scatterpolar"
           }
          ],
          "scatterpolargl": [
           {
            "marker": {
             "colorbar": {
              "outlinewidth": 0,
              "ticks": ""
             }
            },
            "type": "scatterpolargl"
           }
          ],
          "scatterternary": [
           {
            "marker": {
             "colorbar": {
              "outlinewidth": 0,
              "ticks": ""
             }
            },
            "type": "scatterternary"
           }
          ],
          "surface": [
           {
            "colorbar": {
             "outlinewidth": 0,
             "ticks": ""
            },
            "colorscale": [
             [
              0,
              "#0d0887"
             ],
             [
              0.1111111111111111,
              "#46039f"
             ],
             [
              0.2222222222222222,
              "#7201a8"
             ],
             [
              0.3333333333333333,
              "#9c179e"
             ],
             [
              0.4444444444444444,
              "#bd3786"
             ],
             [
              0.5555555555555556,
              "#d8576b"
             ],
             [
              0.6666666666666666,
              "#ed7953"
             ],
             [
              0.7777777777777778,
              "#fb9f3a"
             ],
             [
              0.8888888888888888,
              "#fdca26"
             ],
             [
              1,
              "#f0f921"
             ]
            ],
            "type": "surface"
           }
          ],
          "table": [
           {
            "cells": {
             "fill": {
              "color": "#EBF0F8"
             },
             "line": {
              "color": "white"
             }
            },
            "header": {
             "fill": {
              "color": "#C8D4E3"
             },
             "line": {
              "color": "white"
             }
            },
            "type": "table"
           }
          ]
         },
         "layout": {
          "annotationdefaults": {
           "arrowcolor": "#2a3f5f",
           "arrowhead": 0,
           "arrowwidth": 1
          },
          "autotypenumbers": "strict",
          "coloraxis": {
           "colorbar": {
            "outlinewidth": 0,
            "ticks": ""
           }
          },
          "colorscale": {
           "diverging": [
            [
             0,
             "#8e0152"
            ],
            [
             0.1,
             "#c51b7d"
            ],
            [
             0.2,
             "#de77ae"
            ],
            [
             0.3,
             "#f1b6da"
            ],
            [
             0.4,
             "#fde0ef"
            ],
            [
             0.5,
             "#f7f7f7"
            ],
            [
             0.6,
             "#e6f5d0"
            ],
            [
             0.7,
             "#b8e186"
            ],
            [
             0.8,
             "#7fbc41"
            ],
            [
             0.9,
             "#4d9221"
            ],
            [
             1,
             "#276419"
            ]
           ],
           "sequential": [
            [
             0,
             "#0d0887"
            ],
            [
             0.1111111111111111,
             "#46039f"
            ],
            [
             0.2222222222222222,
             "#7201a8"
            ],
            [
             0.3333333333333333,
             "#9c179e"
            ],
            [
             0.4444444444444444,
             "#bd3786"
            ],
            [
             0.5555555555555556,
             "#d8576b"
            ],
            [
             0.6666666666666666,
             "#ed7953"
            ],
            [
             0.7777777777777778,
             "#fb9f3a"
            ],
            [
             0.8888888888888888,
             "#fdca26"
            ],
            [
             1,
             "#f0f921"
            ]
           ],
           "sequentialminus": [
            [
             0,
             "#0d0887"
            ],
            [
             0.1111111111111111,
             "#46039f"
            ],
            [
             0.2222222222222222,
             "#7201a8"
            ],
            [
             0.3333333333333333,
             "#9c179e"
            ],
            [
             0.4444444444444444,
             "#bd3786"
            ],
            [
             0.5555555555555556,
             "#d8576b"
            ],
            [
             0.6666666666666666,
             "#ed7953"
            ],
            [
             0.7777777777777778,
             "#fb9f3a"
            ],
            [
             0.8888888888888888,
             "#fdca26"
            ],
            [
             1,
             "#f0f921"
            ]
           ]
          },
          "colorway": [
           "#636efa",
           "#EF553B",
           "#00cc96",
           "#ab63fa",
           "#FFA15A",
           "#19d3f3",
           "#FF6692",
           "#B6E880",
           "#FF97FF",
           "#FECB52"
          ],
          "font": {
           "color": "#2a3f5f"
          },
          "geo": {
           "bgcolor": "white",
           "lakecolor": "white",
           "landcolor": "#E5ECF6",
           "showlakes": true,
           "showland": true,
           "subunitcolor": "white"
          },
          "hoverlabel": {
           "align": "left"
          },
          "hovermode": "closest",
          "mapbox": {
           "style": "light"
          },
          "paper_bgcolor": "white",
          "plot_bgcolor": "#E5ECF6",
          "polar": {
           "angularaxis": {
            "gridcolor": "white",
            "linecolor": "white",
            "ticks": ""
           },
           "bgcolor": "#E5ECF6",
           "radialaxis": {
            "gridcolor": "white",
            "linecolor": "white",
            "ticks": ""
           }
          },
          "scene": {
           "xaxis": {
            "backgroundcolor": "#E5ECF6",
            "gridcolor": "white",
            "gridwidth": 2,
            "linecolor": "white",
            "showbackground": true,
            "ticks": "",
            "zerolinecolor": "white"
           },
           "yaxis": {
            "backgroundcolor": "#E5ECF6",
            "gridcolor": "white",
            "gridwidth": 2,
            "linecolor": "white",
            "showbackground": true,
            "ticks": "",
            "zerolinecolor": "white"
           },
           "zaxis": {
            "backgroundcolor": "#E5ECF6",
            "gridcolor": "white",
            "gridwidth": 2,
            "linecolor": "white",
            "showbackground": true,
            "ticks": "",
            "zerolinecolor": "white"
           }
          },
          "shapedefaults": {
           "line": {
            "color": "#2a3f5f"
           }
          },
          "ternary": {
           "aaxis": {
            "gridcolor": "white",
            "linecolor": "white",
            "ticks": ""
           },
           "baxis": {
            "gridcolor": "white",
            "linecolor": "white",
            "ticks": ""
           },
           "bgcolor": "#E5ECF6",
           "caxis": {
            "gridcolor": "white",
            "linecolor": "white",
            "ticks": ""
           }
          },
          "title": {
           "x": 0.05
          },
          "xaxis": {
           "automargin": true,
           "gridcolor": "white",
           "linecolor": "white",
           "ticks": "",
           "title": {
            "standoff": 15
           },
           "zerolinecolor": "white",
           "zerolinewidth": 2
          },
          "yaxis": {
           "automargin": true,
           "gridcolor": "white",
           "linecolor": "white",
           "ticks": "",
           "title": {
            "standoff": 15
           },
           "zerolinecolor": "white",
           "zerolinewidth": 2
          }
         }
        },
        "width": 1000,
        "xaxis": {
         "gridcolor": "black"
        },
        "yaxis": {
         "gridcolor": "black"
        }
       }
      }
     },
     "metadata": {},
     "output_type": "display_data"
    }
   ],
   "source": [
    "data['pointpos'] = data.apply(lambda row: pointpos(row,\"signal\"), axis=1)\n",
    "plot_with_signal(data[500:750])"
   ]
  },
  {
   "cell_type": "markdown",
   "metadata": {},
   "source": [
    "## 4- Backtesting"
   ]
  },
  {
   "cell_type": "code",
   "execution_count": 24,
   "metadata": {},
   "outputs": [
    {
     "ename": "KeyError",
     "evalue": "\"None of ['Date'] are in the columns\"",
     "output_type": "error",
     "traceback": [
      "\u001b[31m---------------------------------------------------------------------------\u001b[39m",
      "\u001b[31mKeyError\u001b[39m                                  Traceback (most recent call last)",
      "\u001b[32m~\\AppData\\Local\\Temp\\ipykernel_23256\\3272596819.py\u001b[39m in \u001b[36m?\u001b[39m\u001b[34m()\u001b[39m\n\u001b[32m----> \u001b[39m\u001b[32m1\u001b[39m data.set_index(\u001b[33m\"Date\"\u001b[39m, inplace=\u001b[38;5;28;01mTrue\u001b[39;00m)\n",
      "\u001b[32md:\\algo trading python\\day4\\.venv\\Lib\\site-packages\\pandas\\core\\frame.py\u001b[39m in \u001b[36m?\u001b[39m\u001b[34m(self, keys, drop, append, inplace, verify_integrity)\u001b[39m\n\u001b[32m   6125\u001b[39m                     \u001b[38;5;28;01mif\u001b[39;00m \u001b[38;5;28;01mnot\u001b[39;00m found:\n\u001b[32m   6126\u001b[39m                         missing.append(col)\n\u001b[32m   6127\u001b[39m \n\u001b[32m   6128\u001b[39m         \u001b[38;5;28;01mif\u001b[39;00m missing:\n\u001b[32m-> \u001b[39m\u001b[32m6129\u001b[39m             \u001b[38;5;28;01mraise\u001b[39;00m KeyError(\u001b[33mf\"None of {missing} are in the columns\"\u001b[39m)\n\u001b[32m   6130\u001b[39m \n\u001b[32m   6131\u001b[39m         \u001b[38;5;28;01mif\u001b[39;00m inplace:\n\u001b[32m   6132\u001b[39m             frame = self\n",
      "\u001b[31mKeyError\u001b[39m: \"None of ['Date'] are in the columns\""
     ]
    }
   ],
   "source": [
    "data.set_index(\"Date\", inplace=True)"
   ]
  },
  {
   "cell_type": "code",
   "execution_count": null,
   "metadata": {},
   "outputs": [
    {
     "data": {
      "text/html": [
       "<div>\n",
       "<style scoped>\n",
       "    .dataframe tbody tr th:only-of-type {\n",
       "        vertical-align: middle;\n",
       "    }\n",
       "\n",
       "    .dataframe tbody tr th {\n",
       "        vertical-align: top;\n",
       "    }\n",
       "\n",
       "    .dataframe thead th {\n",
       "        text-align: right;\n",
       "    }\n",
       "</style>\n",
       "<table border=\"1\" class=\"dataframe\">\n",
       "  <thead>\n",
       "    <tr style=\"text-align: right;\">\n",
       "      <th></th>\n",
       "      <th>Open</th>\n",
       "      <th>High</th>\n",
       "      <th>Low</th>\n",
       "      <th>Close</th>\n",
       "      <th>Adj Close</th>\n",
       "      <th>Volume</th>\n",
       "      <th>rejection</th>\n",
       "      <th>pointpos</th>\n",
       "      <th>signal</th>\n",
       "    </tr>\n",
       "    <tr>\n",
       "      <th>Date</th>\n",
       "      <th></th>\n",
       "      <th></th>\n",
       "      <th></th>\n",
       "      <th></th>\n",
       "      <th></th>\n",
       "      <th></th>\n",
       "      <th></th>\n",
       "      <th></th>\n",
       "      <th></th>\n",
       "    </tr>\n",
       "  </thead>\n",
       "  <tbody>\n",
       "    <tr>\n",
       "      <th>2021-01-25</th>\n",
       "      <td>32285.798828</td>\n",
       "      <td>34802.742188</td>\n",
       "      <td>32087.787109</td>\n",
       "      <td>32366.392578</td>\n",
       "      <td>32366.392578</td>\n",
       "      <td>59897054838</td>\n",
       "      <td>0</td>\n",
       "      <td>NaN</td>\n",
       "      <td>0</td>\n",
       "    </tr>\n",
       "    <tr>\n",
       "      <th>2021-01-26</th>\n",
       "      <td>32358.613281</td>\n",
       "      <td>32794.550781</td>\n",
       "      <td>31030.265625</td>\n",
       "      <td>32569.849609</td>\n",
       "      <td>32569.849609</td>\n",
       "      <td>60255421470</td>\n",
       "      <td>0</td>\n",
       "      <td>NaN</td>\n",
       "      <td>0</td>\n",
       "    </tr>\n",
       "    <tr>\n",
       "      <th>2021-01-27</th>\n",
       "      <td>32564.029297</td>\n",
       "      <td>32564.029297</td>\n",
       "      <td>29367.138672</td>\n",
       "      <td>30432.546875</td>\n",
       "      <td>30432.546875</td>\n",
       "      <td>62576762015</td>\n",
       "      <td>0</td>\n",
       "      <td>NaN</td>\n",
       "      <td>0</td>\n",
       "    </tr>\n",
       "    <tr>\n",
       "      <th>2021-01-28</th>\n",
       "      <td>30441.041016</td>\n",
       "      <td>33858.312500</td>\n",
       "      <td>30023.207031</td>\n",
       "      <td>33466.097656</td>\n",
       "      <td>33466.097656</td>\n",
       "      <td>76517157706</td>\n",
       "      <td>0</td>\n",
       "      <td>NaN</td>\n",
       "      <td>0</td>\n",
       "    </tr>\n",
       "    <tr>\n",
       "      <th>2021-01-29</th>\n",
       "      <td>34318.671875</td>\n",
       "      <td>38406.261719</td>\n",
       "      <td>32064.814453</td>\n",
       "      <td>34316.386719</td>\n",
       "      <td>34316.386719</td>\n",
       "      <td>117894572511</td>\n",
       "      <td>0</td>\n",
       "      <td>NaN</td>\n",
       "      <td>0</td>\n",
       "    </tr>\n",
       "    <tr>\n",
       "      <th>...</th>\n",
       "      <td>...</td>\n",
       "      <td>...</td>\n",
       "      <td>...</td>\n",
       "      <td>...</td>\n",
       "      <td>...</td>\n",
       "      <td>...</td>\n",
       "      <td>...</td>\n",
       "      <td>...</td>\n",
       "      <td>...</td>\n",
       "    </tr>\n",
       "    <tr>\n",
       "      <th>2023-10-17</th>\n",
       "      <td>28522.097656</td>\n",
       "      <td>28618.751953</td>\n",
       "      <td>28110.185547</td>\n",
       "      <td>28415.748047</td>\n",
       "      <td>28415.748047</td>\n",
       "      <td>14872527508</td>\n",
       "      <td>0</td>\n",
       "      <td>NaN</td>\n",
       "      <td>0</td>\n",
       "    </tr>\n",
       "    <tr>\n",
       "      <th>2023-10-18</th>\n",
       "      <td>28413.531250</td>\n",
       "      <td>28889.009766</td>\n",
       "      <td>28174.251953</td>\n",
       "      <td>28328.341797</td>\n",
       "      <td>28328.341797</td>\n",
       "      <td>12724128586</td>\n",
       "      <td>0</td>\n",
       "      <td>NaN</td>\n",
       "      <td>0</td>\n",
       "    </tr>\n",
       "    <tr>\n",
       "      <th>2023-10-19</th>\n",
       "      <td>28332.416016</td>\n",
       "      <td>28892.474609</td>\n",
       "      <td>28177.988281</td>\n",
       "      <td>28719.806641</td>\n",
       "      <td>28719.806641</td>\n",
       "      <td>14448058195</td>\n",
       "      <td>0</td>\n",
       "      <td>NaN</td>\n",
       "      <td>0</td>\n",
       "    </tr>\n",
       "    <tr>\n",
       "      <th>2023-10-20</th>\n",
       "      <td>28732.812500</td>\n",
       "      <td>30104.085938</td>\n",
       "      <td>28601.669922</td>\n",
       "      <td>29682.949219</td>\n",
       "      <td>29682.949219</td>\n",
       "      <td>21536125230</td>\n",
       "      <td>0</td>\n",
       "      <td>NaN</td>\n",
       "      <td>0</td>\n",
       "    </tr>\n",
       "    <tr>\n",
       "      <th>2023-10-21</th>\n",
       "      <td>29677.050781</td>\n",
       "      <td>29850.392578</td>\n",
       "      <td>29483.230469</td>\n",
       "      <td>29830.730469</td>\n",
       "      <td>29830.730469</td>\n",
       "      <td>13195635712</td>\n",
       "      <td>0</td>\n",
       "      <td>NaN</td>\n",
       "      <td>0</td>\n",
       "    </tr>\n",
       "  </tbody>\n",
       "</table>\n",
       "<p>1000 rows × 9 columns</p>\n",
       "</div>"
      ],
      "text/plain": [
       "                    Open          High           Low         Close  \\\n",
       "Date                                                                 \n",
       "2021-01-25  32285.798828  34802.742188  32087.787109  32366.392578   \n",
       "2021-01-26  32358.613281  32794.550781  31030.265625  32569.849609   \n",
       "2021-01-27  32564.029297  32564.029297  29367.138672  30432.546875   \n",
       "2021-01-28  30441.041016  33858.312500  30023.207031  33466.097656   \n",
       "2021-01-29  34318.671875  38406.261719  32064.814453  34316.386719   \n",
       "...                  ...           ...           ...           ...   \n",
       "2023-10-17  28522.097656  28618.751953  28110.185547  28415.748047   \n",
       "2023-10-18  28413.531250  28889.009766  28174.251953  28328.341797   \n",
       "2023-10-19  28332.416016  28892.474609  28177.988281  28719.806641   \n",
       "2023-10-20  28732.812500  30104.085938  28601.669922  29682.949219   \n",
       "2023-10-21  29677.050781  29850.392578  29483.230469  29830.730469   \n",
       "\n",
       "               Adj Close        Volume  rejection  pointpos  signal  \n",
       "Date                                                                 \n",
       "2021-01-25  32366.392578   59897054838          0       NaN       0  \n",
       "2021-01-26  32569.849609   60255421470          0       NaN       0  \n",
       "2021-01-27  30432.546875   62576762015          0       NaN       0  \n",
       "2021-01-28  33466.097656   76517157706          0       NaN       0  \n",
       "2021-01-29  34316.386719  117894572511          0       NaN       0  \n",
       "...                  ...           ...        ...       ...     ...  \n",
       "2023-10-17  28415.748047   14872527508          0       NaN       0  \n",
       "2023-10-18  28328.341797   12724128586          0       NaN       0  \n",
       "2023-10-19  28719.806641   14448058195          0       NaN       0  \n",
       "2023-10-20  29682.949219   21536125230          0       NaN       0  \n",
       "2023-10-21  29830.730469   13195635712          0       NaN       0  \n",
       "\n",
       "[1000 rows x 9 columns]"
      ]
     },
     "execution_count": 14,
     "metadata": {},
     "output_type": "execute_result"
    }
   ],
   "source": [
    "data"
   ]
  },
  {
   "cell_type": "code",
   "execution_count": null,
   "metadata": {},
   "outputs": [],
   "source": [
    "data['ATR'] = pa.atr(high=data.High, low=data.Low, close=data.Close, length=14)\n",
    "data['RSI'] = pa.rsi(data.Close, length=5)"
   ]
  },
  {
   "cell_type": "code",
   "execution_count": null,
   "metadata": {},
   "outputs": [],
   "source": [
    "def SIGNAL():\n",
    "    return data.signal"
   ]
  },
  {
   "cell_type": "code",
   "execution_count": null,
   "metadata": {},
   "outputs": [],
   "source": [
    "#A new strategy needs to extend Strategy class and override its two abstract methods: init() and next().\n",
    "#Method init() is invoked before the strategy is run. Within it, one ideally precomputes in efficient, \n",
    "#vectorized manner whatever indicators and signals the strategy depends on.\n",
    "#Method next() is then iteratively called by the Backtest instance, once for each data point (data frame row), \n",
    "#simulating the incremental availability of each new full candlestick bar.\n",
    "\n",
    "#Note, backtesting.py cannot make decisions / trades within candlesticks — any new orders are executed on the\n",
    "#next candle's open (or the current candle's close if trade_on_close=True). \n",
    "#If you find yourself wishing to trade within candlesticks (e.g. daytrading), you instead need to begin \n",
    "#with more fine-grained (e.g. hourly) data."
   ]
  },
  {
   "cell_type": "markdown",
   "metadata": {},
   "source": [
    "### 4.1- Using Fixed SL and TP rules"
   ]
  },
  {
   "cell_type": "code",
   "execution_count": null,
   "metadata": {},
   "outputs": [
    {
     "name": "stderr",
     "output_type": "stream",
     "text": [
      "f:\\Python\\Lib\\site-packages\\tqdm\\auto.py:21: TqdmWarning:\n",
      "\n",
      "IProgress not found. Please update jupyter and ipywidgets. See https://ipywidgets.readthedocs.io/en/stable/user_install.html\n",
      "\n"
     ]
    },
    {
     "data": {
      "text/plain": [
       "Start                     2021-01-25 00:00:00\n",
       "End                       2023-10-21 00:00:00\n",
       "Duration                    999 days 00:00:00\n",
       "Exposure Time [%]                        18.1\n",
       "Equity Final [$]                160010.730469\n",
       "Equity Peak [$]                 160010.730469\n",
       "Return [%]                           60.01073\n",
       "Buy & Hold Return [%]               -7.834244\n",
       "Return (Ann.) [%]                   18.717413\n",
       "Volatility (Ann.) [%]               26.194894\n",
       "Sharpe Ratio                         0.714544\n",
       "Sortino Ratio                        1.392739\n",
       "Calmar Ratio                         0.752692\n",
       "Max. Drawdown [%]                  -24.867308\n",
       "Avg. Drawdown [%]                   -5.295798\n",
       "Max. Drawdown Duration      214 days 00:00:00\n",
       "Avg. Drawdown Duration       31 days 00:00:00\n",
       "# Trades                                    6\n",
       "Win Rate [%]                        66.666667\n",
       "Best Trade [%]                      20.011045\n",
       "Worst Trade [%]                    -10.088094\n",
       "Avg. Trade [%]                        9.01197\n",
       "Max. Trade Duration          48 days 00:00:00\n",
       "Avg. Trade Duration          30 days 00:00:00\n",
       "Profit Factor                        3.983517\n",
       "Expectancy [%]                       9.988005\n",
       "SQN                                  1.490466\n",
       "_strategy                      MyCandlesStrat\n",
       "_equity_curve                             ...\n",
       "_trades                      Size  EntryBa...\n",
       "dtype: object"
      ]
     },
     "execution_count": 18,
     "metadata": {},
     "output_type": "execute_result"
    }
   ],
   "source": [
    "# Trader fixed SL and TP\n",
    "from backtesting import Strategy, Backtest\n",
    "class MyCandlesStrat(Strategy):  \n",
    "    def init(self):\n",
    "        super().init()\n",
    "        self.signal1 = self.I(SIGNAL)\n",
    "        self.ratio = 2\n",
    "        self.risk_perc = 0.1\n",
    "\n",
    "    def next(self):\n",
    "        super().next() \n",
    "        if self.signal1==2:\n",
    "            sl1 = self.data.Close[-1] - self.data.Close[-1]*self.risk_perc\n",
    "            tp1 = self.data.Close[-1] + (self.data.Close[-1]*self.risk_perc)*self.ratio\n",
    "            self.buy(sl=sl1, tp=tp1)\n",
    "        elif self.signal1==1:\n",
    "            sl1 = self.data.Close[-1] + self.data.Close[-1]*self.risk_perc\n",
    "            tp1 = self.data.Close[-1] - (self.data.Close[-1]*self.risk_perc)*self.ratio\n",
    "            self.sell(sl=sl1, tp=tp1)\n",
    "bt = Backtest(data, MyCandlesStrat, cash=100_000, commission=.000)\n",
    "stat = bt.run()\n",
    "stat"
   ]
  },
  {
   "cell_type": "code",
   "execution_count": null,
   "metadata": {},
   "outputs": [
    {
     "name": "stderr",
     "output_type": "stream",
     "text": [
      "f:\\Python\\Lib\\site-packages\\backtesting\\_plotting.py:659: UserWarning:\n",
      "\n",
      "found multiple competing values for 'toolbar.active_drag' property; using the latest value\n",
      "\n",
      "f:\\Python\\Lib\\site-packages\\backtesting\\_plotting.py:659: UserWarning:\n",
      "\n",
      "found multiple competing values for 'toolbar.active_scroll' property; using the latest value\n",
      "\n"
     ]
    },
    {
     "data": {
      "text/html": [
       "<div style=\"display: table;\"><div style=\"display: table-row;\"><div style=\"display: table-cell;\"><b title=\"bokeh.models.plots.GridPlot\">GridPlot</b>(</div><div style=\"display: table-cell;\">id&nbsp;=&nbsp;'p1307', <span id=\"p1330\" style=\"cursor: pointer;\">&hellip;)</span></div></div><div class=\"p1329\" style=\"display: none;\"><div style=\"display: table-cell;\"></div><div style=\"display: table-cell;\">align&nbsp;=&nbsp;'auto',</div></div><div class=\"p1329\" style=\"display: none;\"><div style=\"display: table-cell;\"></div><div style=\"display: table-cell;\">aspect_ratio&nbsp;=&nbsp;None,</div></div><div class=\"p1329\" style=\"display: none;\"><div style=\"display: table-cell;\"></div><div style=\"display: table-cell;\">children&nbsp;=&nbsp;[(figure(id='p1040', ...), 0, 0), (figure(id='p1133', ...), 1, 0), (figure(id='p1002', ...), 2, 0), (figure(id='p1184', ...), 3, 0), (figure(id='p1253', ...), 4, 0)],</div></div><div class=\"p1329\" style=\"display: none;\"><div style=\"display: table-cell;\"></div><div style=\"display: table-cell;\">cols&nbsp;=&nbsp;None,</div></div><div class=\"p1329\" style=\"display: none;\"><div style=\"display: table-cell;\"></div><div style=\"display: table-cell;\">context_menu&nbsp;=&nbsp;None,</div></div><div class=\"p1329\" style=\"display: none;\"><div style=\"display: table-cell;\"></div><div style=\"display: table-cell;\">css_classes&nbsp;=&nbsp;[],</div></div><div class=\"p1329\" style=\"display: none;\"><div style=\"display: table-cell;\"></div><div style=\"display: table-cell;\">disabled&nbsp;=&nbsp;False,</div></div><div class=\"p1329\" style=\"display: none;\"><div style=\"display: table-cell;\"></div><div style=\"display: table-cell;\">flow_mode&nbsp;=&nbsp;'block',</div></div><div class=\"p1329\" style=\"display: none;\"><div style=\"display: table-cell;\"></div><div style=\"display: table-cell;\">height&nbsp;=&nbsp;None,</div></div><div class=\"p1329\" style=\"display: none;\"><div style=\"display: table-cell;\"></div><div style=\"display: table-cell;\">height_policy&nbsp;=&nbsp;'auto',</div></div><div class=\"p1329\" style=\"display: none;\"><div style=\"display: table-cell;\"></div><div style=\"display: table-cell;\">js_event_callbacks&nbsp;=&nbsp;{},</div></div><div class=\"p1329\" style=\"display: none;\"><div style=\"display: table-cell;\"></div><div style=\"display: table-cell;\">js_property_callbacks&nbsp;=&nbsp;{},</div></div><div class=\"p1329\" style=\"display: none;\"><div style=\"display: table-cell;\"></div><div style=\"display: table-cell;\">margin&nbsp;=&nbsp;None,</div></div><div class=\"p1329\" style=\"display: none;\"><div style=\"display: table-cell;\"></div><div style=\"display: table-cell;\">max_height&nbsp;=&nbsp;None,</div></div><div class=\"p1329\" style=\"display: none;\"><div style=\"display: table-cell;\"></div><div style=\"display: table-cell;\">max_width&nbsp;=&nbsp;None,</div></div><div class=\"p1329\" style=\"display: none;\"><div style=\"display: table-cell;\"></div><div style=\"display: table-cell;\">min_height&nbsp;=&nbsp;None,</div></div><div class=\"p1329\" style=\"display: none;\"><div style=\"display: table-cell;\"></div><div style=\"display: table-cell;\">min_width&nbsp;=&nbsp;None,</div></div><div class=\"p1329\" style=\"display: none;\"><div style=\"display: table-cell;\"></div><div style=\"display: table-cell;\">name&nbsp;=&nbsp;None,</div></div><div class=\"p1329\" style=\"display: none;\"><div style=\"display: table-cell;\"></div><div style=\"display: table-cell;\">resizable&nbsp;=&nbsp;False,</div></div><div class=\"p1329\" style=\"display: none;\"><div style=\"display: table-cell;\"></div><div style=\"display: table-cell;\">rows&nbsp;=&nbsp;None,</div></div><div class=\"p1329\" style=\"display: none;\"><div style=\"display: table-cell;\"></div><div style=\"display: table-cell;\">sizing_mode&nbsp;=&nbsp;'stretch_width',</div></div><div class=\"p1329\" style=\"display: none;\"><div style=\"display: table-cell;\"></div><div style=\"display: table-cell;\">spacing&nbsp;=&nbsp;0,</div></div><div class=\"p1329\" style=\"display: none;\"><div style=\"display: table-cell;\"></div><div style=\"display: table-cell;\">styles&nbsp;=&nbsp;{},</div></div><div class=\"p1329\" style=\"display: none;\"><div style=\"display: table-cell;\"></div><div style=\"display: table-cell;\">stylesheets&nbsp;=&nbsp;[],</div></div><div class=\"p1329\" style=\"display: none;\"><div style=\"display: table-cell;\"></div><div style=\"display: table-cell;\">subscribed_events&nbsp;=&nbsp;PropertyValueSet(),</div></div><div class=\"p1329\" style=\"display: none;\"><div style=\"display: table-cell;\"></div><div style=\"display: table-cell;\">syncable&nbsp;=&nbsp;True,</div></div><div class=\"p1329\" style=\"display: none;\"><div style=\"display: table-cell;\"></div><div style=\"display: table-cell;\">tags&nbsp;=&nbsp;[],</div></div><div class=\"p1329\" style=\"display: none;\"><div style=\"display: table-cell;\"></div><div style=\"display: table-cell;\">toolbar&nbsp;=&nbsp;Toolbar(id='p1306', ...),</div></div><div class=\"p1329\" style=\"display: none;\"><div style=\"display: table-cell;\"></div><div style=\"display: table-cell;\">toolbar_location&nbsp;=&nbsp;'right',</div></div><div class=\"p1329\" style=\"display: none;\"><div style=\"display: table-cell;\"></div><div style=\"display: table-cell;\">visible&nbsp;=&nbsp;True,</div></div><div class=\"p1329\" style=\"display: none;\"><div style=\"display: table-cell;\"></div><div style=\"display: table-cell;\">width&nbsp;=&nbsp;None,</div></div><div class=\"p1329\" style=\"display: none;\"><div style=\"display: table-cell;\"></div><div style=\"display: table-cell;\">width_policy&nbsp;=&nbsp;'auto')</div></div></div>\n",
       "<script>\n",
       "(function() {\n",
       "  let expanded = false;\n",
       "  const ellipsis = document.getElementById(\"p1330\");\n",
       "  ellipsis.addEventListener(\"click\", function() {\n",
       "    const rows = document.getElementsByClassName(\"p1329\");\n",
       "    for (let i = 0; i < rows.length; i++) {\n",
       "      const el = rows[i];\n",
       "      el.style.display = expanded ? \"none\" : \"table-row\";\n",
       "    }\n",
       "    ellipsis.innerHTML = expanded ? \"&hellip;)\" : \"&lsaquo;&lsaquo;&lsaquo;\";\n",
       "    expanded = !expanded;\n",
       "  });\n",
       "})();\n",
       "</script>\n"
      ],
      "text/plain": [
       "GridPlot(id='p1307', ...)"
      ]
     },
     "execution_count": 16,
     "metadata": {},
     "output_type": "execute_result"
    }
   ],
   "source": [
    "bt.plot()"
   ]
  },
  {
   "cell_type": "markdown",
   "metadata": {},
   "source": [
    "### 4.2- Using the RSI for Exit Signals"
   ]
  },
  {
   "cell_type": "code",
   "execution_count": null,
   "metadata": {},
   "outputs": [
    {
     "data": {
      "text/plain": [
       "Start                     2021-01-24 00:00:00\n",
       "End                       2023-10-20 00:00:00\n",
       "Duration                    999 days 00:00:00\n",
       "Exposure Time [%]                        14.4\n",
       "Equity Final [$]                179547.597656\n",
       "Equity Peak [$]                 179547.597656\n",
       "Return [%]                          79.547598\n",
       "Buy & Hold Return [%]               -8.648288\n",
       "Return (Ann.) [%]                   23.815653\n",
       "Volatility (Ann.) [%]                19.53769\n",
       "Sharpe Ratio                          1.21896\n",
       "Sortino Ratio                        3.299022\n",
       "Calmar Ratio                         2.606954\n",
       "Max. Drawdown [%]                   -9.135433\n",
       "Avg. Drawdown [%]                   -2.203931\n",
       "Max. Drawdown Duration      189 days 00:00:00\n",
       "Avg. Drawdown Duration       15 days 00:00:00\n",
       "# Trades                                    7\n",
       "Win Rate [%]                            100.0\n",
       "Best Trade [%]                      17.469269\n",
       "Worst Trade [%]                      2.953071\n",
       "Avg. Trade [%]                      10.083486\n",
       "Max. Trade Duration          42 days 00:00:00\n",
       "Avg. Trade Duration          20 days 00:00:00\n",
       "Profit Factor                             NaN\n",
       "Expectancy [%]                      10.179628\n",
       "SQN                                  6.704204\n",
       "_strategy                      MyCandlesStrat\n",
       "_equity_curve                             ...\n",
       "_trades                      Size  EntryBa...\n",
       "dtype: object"
      ]
     },
     "execution_count": 52,
     "metadata": {},
     "output_type": "execute_result"
    }
   ],
   "source": [
    "from backtesting import Strategy, Backtest\n",
    "\n",
    "class MyCandlesStrat(Strategy):  \n",
    "    def init(self):\n",
    "        super().init()\n",
    "        self.signal1 = self.I(SIGNAL)\n",
    "        self.ratio = 2\n",
    "        self.risk_perc = 0.1\n",
    "\n",
    "    def next(self):\n",
    "        super().next()\n",
    "        \n",
    "        if len(self.trades)>0:\n",
    "            if self.trades[-1].is_long and self.data.RSI[-1]>=80:\n",
    "                self.trades[-1].close()\n",
    "            elif self.trades[-1].is_short and self.data.RSI[-1]<=20:\n",
    "                self.trades[-1].close()\n",
    "\n",
    "        if self.signal1==2 and len(self.trades)==0:\n",
    "            sl1 = self.data.Close[-1] - self.data.Close[-1]*self.risk_perc\n",
    "            tp1 = self.data.Close[-1] + (self.data.Close[-1]*self.risk_perc)*self.ratio\n",
    "            self.buy(sl=sl1, tp=tp1)\n",
    "        elif self.signal1==1 and len(self.trades)==0:\n",
    "            sl1 = self.data.Close[-1] + self.data.Close[-1]*self.risk_perc\n",
    "            tp1 = self.data.Close[-1] - (self.data.Close[-1]*self.risk_perc)*self.ratio\n",
    "            self.sell(sl=sl1, tp=tp1)\n",
    "bt = Backtest(data, MyCandlesStrat, cash=100_000, commission=.000)\n",
    "stat = bt.run()\n",
    "stat"
   ]
  },
  {
   "cell_type": "code",
   "execution_count": null,
   "metadata": {},
   "outputs": [
    {
     "name": "stderr",
     "output_type": "stream",
     "text": [
      "f:\\Python\\Lib\\site-packages\\backtesting\\_plotting.py:659: UserWarning:\n",
      "\n",
      "found multiple competing values for 'toolbar.active_drag' property; using the latest value\n",
      "\n",
      "f:\\Python\\Lib\\site-packages\\backtesting\\_plotting.py:659: UserWarning:\n",
      "\n",
      "found multiple competing values for 'toolbar.active_scroll' property; using the latest value\n",
      "\n"
     ]
    },
    {
     "data": {
      "text/html": [
       "<div style=\"display: table;\"><div style=\"display: table-row;\"><div style=\"display: table-cell;\"><b title=\"bokeh.models.plots.GridPlot\">GridPlot</b>(</div><div style=\"display: table-cell;\">id&nbsp;=&nbsp;'p1637', <span id=\"p1660\" style=\"cursor: pointer;\">&hellip;)</span></div></div><div class=\"p1659\" style=\"display: none;\"><div style=\"display: table-cell;\"></div><div style=\"display: table-cell;\">align&nbsp;=&nbsp;'auto',</div></div><div class=\"p1659\" style=\"display: none;\"><div style=\"display: table-cell;\"></div><div style=\"display: table-cell;\">aspect_ratio&nbsp;=&nbsp;None,</div></div><div class=\"p1659\" style=\"display: none;\"><div style=\"display: table-cell;\"></div><div style=\"display: table-cell;\">children&nbsp;=&nbsp;[(figure(id='p1370', ...), 0, 0), (figure(id='p1463', ...), 1, 0), (figure(id='p1332', ...), 2, 0), (figure(id='p1514', ...), 3, 0), (figure(id='p1583', ...), 4, 0)],</div></div><div class=\"p1659\" style=\"display: none;\"><div style=\"display: table-cell;\"></div><div style=\"display: table-cell;\">cols&nbsp;=&nbsp;None,</div></div><div class=\"p1659\" style=\"display: none;\"><div style=\"display: table-cell;\"></div><div style=\"display: table-cell;\">context_menu&nbsp;=&nbsp;None,</div></div><div class=\"p1659\" style=\"display: none;\"><div style=\"display: table-cell;\"></div><div style=\"display: table-cell;\">css_classes&nbsp;=&nbsp;[],</div></div><div class=\"p1659\" style=\"display: none;\"><div style=\"display: table-cell;\"></div><div style=\"display: table-cell;\">disabled&nbsp;=&nbsp;False,</div></div><div class=\"p1659\" style=\"display: none;\"><div style=\"display: table-cell;\"></div><div style=\"display: table-cell;\">flow_mode&nbsp;=&nbsp;'block',</div></div><div class=\"p1659\" style=\"display: none;\"><div style=\"display: table-cell;\"></div><div style=\"display: table-cell;\">height&nbsp;=&nbsp;None,</div></div><div class=\"p1659\" style=\"display: none;\"><div style=\"display: table-cell;\"></div><div style=\"display: table-cell;\">height_policy&nbsp;=&nbsp;'auto',</div></div><div class=\"p1659\" style=\"display: none;\"><div style=\"display: table-cell;\"></div><div style=\"display: table-cell;\">js_event_callbacks&nbsp;=&nbsp;{},</div></div><div class=\"p1659\" style=\"display: none;\"><div style=\"display: table-cell;\"></div><div style=\"display: table-cell;\">js_property_callbacks&nbsp;=&nbsp;{},</div></div><div class=\"p1659\" style=\"display: none;\"><div style=\"display: table-cell;\"></div><div style=\"display: table-cell;\">margin&nbsp;=&nbsp;None,</div></div><div class=\"p1659\" style=\"display: none;\"><div style=\"display: table-cell;\"></div><div style=\"display: table-cell;\">max_height&nbsp;=&nbsp;None,</div></div><div class=\"p1659\" style=\"display: none;\"><div style=\"display: table-cell;\"></div><div style=\"display: table-cell;\">max_width&nbsp;=&nbsp;None,</div></div><div class=\"p1659\" style=\"display: none;\"><div style=\"display: table-cell;\"></div><div style=\"display: table-cell;\">min_height&nbsp;=&nbsp;None,</div></div><div class=\"p1659\" style=\"display: none;\"><div style=\"display: table-cell;\"></div><div style=\"display: table-cell;\">min_width&nbsp;=&nbsp;None,</div></div><div class=\"p1659\" style=\"display: none;\"><div style=\"display: table-cell;\"></div><div style=\"display: table-cell;\">name&nbsp;=&nbsp;None,</div></div><div class=\"p1659\" style=\"display: none;\"><div style=\"display: table-cell;\"></div><div style=\"display: table-cell;\">resizable&nbsp;=&nbsp;False,</div></div><div class=\"p1659\" style=\"display: none;\"><div style=\"display: table-cell;\"></div><div style=\"display: table-cell;\">rows&nbsp;=&nbsp;None,</div></div><div class=\"p1659\" style=\"display: none;\"><div style=\"display: table-cell;\"></div><div style=\"display: table-cell;\">sizing_mode&nbsp;=&nbsp;'stretch_width',</div></div><div class=\"p1659\" style=\"display: none;\"><div style=\"display: table-cell;\"></div><div style=\"display: table-cell;\">spacing&nbsp;=&nbsp;0,</div></div><div class=\"p1659\" style=\"display: none;\"><div style=\"display: table-cell;\"></div><div style=\"display: table-cell;\">styles&nbsp;=&nbsp;{},</div></div><div class=\"p1659\" style=\"display: none;\"><div style=\"display: table-cell;\"></div><div style=\"display: table-cell;\">stylesheets&nbsp;=&nbsp;[],</div></div><div class=\"p1659\" style=\"display: none;\"><div style=\"display: table-cell;\"></div><div style=\"display: table-cell;\">subscribed_events&nbsp;=&nbsp;PropertyValueSet(),</div></div><div class=\"p1659\" style=\"display: none;\"><div style=\"display: table-cell;\"></div><div style=\"display: table-cell;\">syncable&nbsp;=&nbsp;True,</div></div><div class=\"p1659\" style=\"display: none;\"><div style=\"display: table-cell;\"></div><div style=\"display: table-cell;\">tags&nbsp;=&nbsp;[],</div></div><div class=\"p1659\" style=\"display: none;\"><div style=\"display: table-cell;\"></div><div style=\"display: table-cell;\">toolbar&nbsp;=&nbsp;Toolbar(id='p1636', ...),</div></div><div class=\"p1659\" style=\"display: none;\"><div style=\"display: table-cell;\"></div><div style=\"display: table-cell;\">toolbar_location&nbsp;=&nbsp;'right',</div></div><div class=\"p1659\" style=\"display: none;\"><div style=\"display: table-cell;\"></div><div style=\"display: table-cell;\">visible&nbsp;=&nbsp;True,</div></div><div class=\"p1659\" style=\"display: none;\"><div style=\"display: table-cell;\"></div><div style=\"display: table-cell;\">width&nbsp;=&nbsp;None,</div></div><div class=\"p1659\" style=\"display: none;\"><div style=\"display: table-cell;\"></div><div style=\"display: table-cell;\">width_policy&nbsp;=&nbsp;'auto')</div></div></div>\n",
       "<script>\n",
       "(function() {\n",
       "  let expanded = false;\n",
       "  const ellipsis = document.getElementById(\"p1660\");\n",
       "  ellipsis.addEventListener(\"click\", function() {\n",
       "    const rows = document.getElementsByClassName(\"p1659\");\n",
       "    for (let i = 0; i < rows.length; i++) {\n",
       "      const el = rows[i];\n",
       "      el.style.display = expanded ? \"none\" : \"table-row\";\n",
       "    }\n",
       "    ellipsis.innerHTML = expanded ? \"&hellip;)\" : \"&lsaquo;&lsaquo;&lsaquo;\";\n",
       "    expanded = !expanded;\n",
       "  });\n",
       "})();\n",
       "</script>\n"
      ],
      "text/plain": [
       "GridPlot(id='p1637', ...)"
      ]
     },
     "execution_count": 23,
     "metadata": {},
     "output_type": "execute_result"
    }
   ],
   "source": [
    "bt.plot()"
   ]
  },
  {
   "cell_type": "markdown",
   "metadata": {},
   "source": [
    "### 4.3- ATR based SL and TP"
   ]
  },
  {
   "cell_type": "code",
   "execution_count": null,
   "metadata": {},
   "outputs": [
    {
     "data": {
      "text/plain": [
       "Start                     2021-01-24 00:00:00\n",
       "End                       2023-10-20 00:00:00\n",
       "Duration                    999 days 00:00:00\n",
       "Exposure Time [%]                         9.5\n",
       "Equity Final [$]                119953.300358\n",
       "Equity Peak [$]                 143069.498096\n",
       "Return [%]                            19.9533\n",
       "Buy & Hold Return [%]               -8.648288\n",
       "Return (Ann.) [%]                    6.865975\n",
       "Volatility (Ann.) [%]               15.570828\n",
       "Sharpe Ratio                         0.440951\n",
       "Sortino Ratio                        0.882598\n",
       "Calmar Ratio                         0.424945\n",
       "Max. Drawdown [%]                  -16.157321\n",
       "Avg. Drawdown [%]                   -3.905962\n",
       "Max. Drawdown Duration      215 days 00:00:00\n",
       "Avg. Drawdown Duration       34 days 00:00:00\n",
       "# Trades                                    7\n",
       "Win Rate [%]                        57.142857\n",
       "Best Trade [%]                      13.404692\n",
       "Worst Trade [%]                     -7.526474\n",
       "Avg. Trade [%]                       2.725213\n",
       "Max. Trade Duration          22 days 00:00:00\n",
       "Avg. Trade Duration          13 days 00:00:00\n",
       "Profit Factor                         2.11021\n",
       "Expectancy [%]                        3.08911\n",
       "SQN                                  0.782218\n",
       "_strategy                      MyCandlesStrat\n",
       "_equity_curve                             ...\n",
       "_trades                      Size  EntryBa...\n",
       "dtype: object"
      ]
     },
     "execution_count": 59,
     "metadata": {},
     "output_type": "execute_result"
    }
   ],
   "source": [
    "# ATR related SL and TP\n",
    "from backtesting import Strategy, Backtest\n",
    "import numpy as np\n",
    "\n",
    "class MyCandlesStrat(Strategy): \n",
    "    atr_f = 0.5\n",
    "    ratio_f = 1.5\n",
    "    def init(self):\n",
    "        super().init()\n",
    "        self.signal1 = self.I(SIGNAL)\n",
    "\n",
    "    def next(self):\n",
    "        super().next() \n",
    "        if self.signal1==2:\n",
    "            sl1 = self.data.Close[-1] - self.data.ATR[-1]/self.atr_f\n",
    "            tp1 = self.data.Close[-1] + self.data.ATR[-1]*self.ratio_f/self.atr_f\n",
    "            self.buy(sl=sl1, tp=tp1)\n",
    "        elif self.signal1==1:\n",
    "            sl1 = self.data.Close[-1] + self.data.ATR[-1]/self.atr_f\n",
    "            tp1 = self.data.Close[-1] - self.data.ATR[-1]*self.ratio_f/self.atr_f\n",
    "            self.sell(sl=sl1, tp=tp1)\n",
    "bt = Backtest(data, MyCandlesStrat, cash=100_000, commission=.000)\n",
    "stat = bt.run()\n",
    "stat"
   ]
  },
  {
   "cell_type": "code",
   "execution_count": null,
   "metadata": {},
   "outputs": [
    {
     "name": "stderr",
     "output_type": "stream",
     "text": [
      "BokehDeprecationWarning: Passing lists of formats for DatetimeTickFormatter scales was deprecated in Bokeh 3.0. Configure a single string format for each scale\n",
      "f:\\Python\\Lib\\site-packages\\backtesting\\_plotting.py:250: UserWarning:\n",
      "\n",
      "DatetimeFormatter scales now only accept a single format. Using the first provided: '%d %b'\n",
      "\n",
      "BokehDeprecationWarning: Passing lists of formats for DatetimeTickFormatter scales was deprecated in Bokeh 3.0. Configure a single string format for each scale\n",
      "f:\\Python\\Lib\\site-packages\\backtesting\\_plotting.py:250: UserWarning:\n",
      "\n",
      "DatetimeFormatter scales now only accept a single format. Using the first provided: '%m/%Y'\n",
      "\n",
      "f:\\Python\\Lib\\site-packages\\backtesting\\_plotting.py:659: UserWarning:\n",
      "\n",
      "found multiple competing values for 'toolbar.active_drag' property; using the latest value\n",
      "\n",
      "f:\\Python\\Lib\\site-packages\\backtesting\\_plotting.py:659: UserWarning:\n",
      "\n",
      "found multiple competing values for 'toolbar.active_scroll' property; using the latest value\n",
      "\n"
     ]
    },
    {
     "data": {
      "text/html": [
       "<div style=\"display: table;\"><div style=\"display: table-row;\"><div style=\"display: table-cell;\"><b title=\"bokeh.models.plots.GridPlot\">GridPlot</b>(</div><div style=\"display: table-cell;\">id&nbsp;=&nbsp;'p2201', <span id=\"p2230\" style=\"cursor: pointer;\">&hellip;)</span></div></div><div class=\"p2229\" style=\"display: none;\"><div style=\"display: table-cell;\"></div><div style=\"display: table-cell;\">align&nbsp;=&nbsp;'auto',</div></div><div class=\"p2229\" style=\"display: none;\"><div style=\"display: table-cell;\"></div><div style=\"display: table-cell;\">aspect_ratio&nbsp;=&nbsp;None,</div></div><div class=\"p2229\" style=\"display: none;\"><div style=\"display: table-cell;\"></div><div style=\"display: table-cell;\">children&nbsp;=&nbsp;[(figure(id='p1912', ...), 0, 0), (figure(id='p2005', ...), 1, 0), (figure(id='p1872', ...), 2, 0), (figure(id='p2056', ...), 3, 0), (figure(id='p2147', ...), 4, 0)],</div></div><div class=\"p2229\" style=\"display: none;\"><div style=\"display: table-cell;\"></div><div style=\"display: table-cell;\">cols&nbsp;=&nbsp;None,</div></div><div class=\"p2229\" style=\"display: none;\"><div style=\"display: table-cell;\"></div><div style=\"display: table-cell;\">context_menu&nbsp;=&nbsp;None,</div></div><div class=\"p2229\" style=\"display: none;\"><div style=\"display: table-cell;\"></div><div style=\"display: table-cell;\">css_classes&nbsp;=&nbsp;[],</div></div><div class=\"p2229\" style=\"display: none;\"><div style=\"display: table-cell;\"></div><div style=\"display: table-cell;\">disabled&nbsp;=&nbsp;False,</div></div><div class=\"p2229\" style=\"display: none;\"><div style=\"display: table-cell;\"></div><div style=\"display: table-cell;\">flow_mode&nbsp;=&nbsp;'block',</div></div><div class=\"p2229\" style=\"display: none;\"><div style=\"display: table-cell;\"></div><div style=\"display: table-cell;\">height&nbsp;=&nbsp;None,</div></div><div class=\"p2229\" style=\"display: none;\"><div style=\"display: table-cell;\"></div><div style=\"display: table-cell;\">height_policy&nbsp;=&nbsp;'auto',</div></div><div class=\"p2229\" style=\"display: none;\"><div style=\"display: table-cell;\"></div><div style=\"display: table-cell;\">js_event_callbacks&nbsp;=&nbsp;{},</div></div><div class=\"p2229\" style=\"display: none;\"><div style=\"display: table-cell;\"></div><div style=\"display: table-cell;\">js_property_callbacks&nbsp;=&nbsp;{},</div></div><div class=\"p2229\" style=\"display: none;\"><div style=\"display: table-cell;\"></div><div style=\"display: table-cell;\">margin&nbsp;=&nbsp;None,</div></div><div class=\"p2229\" style=\"display: none;\"><div style=\"display: table-cell;\"></div><div style=\"display: table-cell;\">max_height&nbsp;=&nbsp;None,</div></div><div class=\"p2229\" style=\"display: none;\"><div style=\"display: table-cell;\"></div><div style=\"display: table-cell;\">max_width&nbsp;=&nbsp;None,</div></div><div class=\"p2229\" style=\"display: none;\"><div style=\"display: table-cell;\"></div><div style=\"display: table-cell;\">min_height&nbsp;=&nbsp;None,</div></div><div class=\"p2229\" style=\"display: none;\"><div style=\"display: table-cell;\"></div><div style=\"display: table-cell;\">min_width&nbsp;=&nbsp;None,</div></div><div class=\"p2229\" style=\"display: none;\"><div style=\"display: table-cell;\"></div><div style=\"display: table-cell;\">name&nbsp;=&nbsp;None,</div></div><div class=\"p2229\" style=\"display: none;\"><div style=\"display: table-cell;\"></div><div style=\"display: table-cell;\">resizable&nbsp;=&nbsp;False,</div></div><div class=\"p2229\" style=\"display: none;\"><div style=\"display: table-cell;\"></div><div style=\"display: table-cell;\">rows&nbsp;=&nbsp;None,</div></div><div class=\"p2229\" style=\"display: none;\"><div style=\"display: table-cell;\"></div><div style=\"display: table-cell;\">sizing_mode&nbsp;=&nbsp;'stretch_width',</div></div><div class=\"p2229\" style=\"display: none;\"><div style=\"display: table-cell;\"></div><div style=\"display: table-cell;\">spacing&nbsp;=&nbsp;0,</div></div><div class=\"p2229\" style=\"display: none;\"><div style=\"display: table-cell;\"></div><div style=\"display: table-cell;\">styles&nbsp;=&nbsp;{},</div></div><div class=\"p2229\" style=\"display: none;\"><div style=\"display: table-cell;\"></div><div style=\"display: table-cell;\">stylesheets&nbsp;=&nbsp;[],</div></div><div class=\"p2229\" style=\"display: none;\"><div style=\"display: table-cell;\"></div><div style=\"display: table-cell;\">subscribed_events&nbsp;=&nbsp;PropertyValueSet(),</div></div><div class=\"p2229\" style=\"display: none;\"><div style=\"display: table-cell;\"></div><div style=\"display: table-cell;\">syncable&nbsp;=&nbsp;True,</div></div><div class=\"p2229\" style=\"display: none;\"><div style=\"display: table-cell;\"></div><div style=\"display: table-cell;\">tags&nbsp;=&nbsp;[],</div></div><div class=\"p2229\" style=\"display: none;\"><div style=\"display: table-cell;\"></div><div style=\"display: table-cell;\">toolbar&nbsp;=&nbsp;Toolbar(id='p2200', ...),</div></div><div class=\"p2229\" style=\"display: none;\"><div style=\"display: table-cell;\"></div><div style=\"display: table-cell;\">toolbar_location&nbsp;=&nbsp;'right',</div></div><div class=\"p2229\" style=\"display: none;\"><div style=\"display: table-cell;\"></div><div style=\"display: table-cell;\">visible&nbsp;=&nbsp;True,</div></div><div class=\"p2229\" style=\"display: none;\"><div style=\"display: table-cell;\"></div><div style=\"display: table-cell;\">width&nbsp;=&nbsp;None,</div></div><div class=\"p2229\" style=\"display: none;\"><div style=\"display: table-cell;\"></div><div style=\"display: table-cell;\">width_policy&nbsp;=&nbsp;'auto')</div></div></div>\n",
       "<script>\n",
       "(function() {\n",
       "  let expanded = false;\n",
       "  const ellipsis = document.getElementById(\"p2230\");\n",
       "  ellipsis.addEventListener(\"click\", function() {\n",
       "    const rows = document.getElementsByClassName(\"p2229\");\n",
       "    for (let i = 0; i < rows.length; i++) {\n",
       "      const el = rows[i];\n",
       "      el.style.display = expanded ? \"none\" : \"table-row\";\n",
       "    }\n",
       "    ellipsis.innerHTML = expanded ? \"&hellip;)\" : \"&lsaquo;&lsaquo;&lsaquo;\";\n",
       "    expanded = !expanded;\n",
       "  });\n",
       "})();\n",
       "</script>\n"
      ],
      "text/plain": [
       "GridPlot(id='p2201', ...)"
      ]
     },
     "execution_count": 60,
     "metadata": {},
     "output_type": "execute_result"
    }
   ],
   "source": [
    "bt.plot()"
   ]
  },
  {
   "cell_type": "markdown",
   "metadata": {},
   "source": [
    "### 4.4- Trail Stop"
   ]
  },
  {
   "cell_type": "code",
   "execution_count": null,
   "metadata": {},
   "outputs": [
    {
     "data": {
      "text/plain": [
       "Start                     2021-01-24 00:00:00\n",
       "End                       2023-10-20 00:00:00\n",
       "Duration                    999 days 00:00:00\n",
       "Exposure Time [%]                         4.2\n",
       "Equity Final [$]                118635.360469\n",
       "Equity Peak [$]                 123280.318594\n",
       "Return [%]                           18.63536\n",
       "Buy & Hold Return [%]               -8.648288\n",
       "Return (Ann.) [%]                    6.435907\n",
       "Volatility (Ann.) [%]                7.235593\n",
       "Sharpe Ratio                         0.889479\n",
       "Sortino Ratio                        2.294279\n",
       "Calmar Ratio                         1.287354\n",
       "Max. Drawdown [%]                    -4.99933\n",
       "Avg. Drawdown [%]                   -2.600717\n",
       "Max. Drawdown Duration      332 days 00:00:00\n",
       "Avg. Drawdown Duration      155 days 00:00:00\n",
       "# Trades                                    7\n",
       "Win Rate [%]                        42.857143\n",
       "Best Trade [%]                      24.949697\n",
       "Worst Trade [%]                     -2.081687\n",
       "Avg. Trade [%]                       2.908448\n",
       "Max. Trade Duration          18 days 00:00:00\n",
       "Avg. Trade Duration           5 days 00:00:00\n",
       "Profit Factor                        4.165644\n",
       "Expectancy [%]                        3.27106\n",
       "SQN                                  0.849472\n",
       "_strategy                      MyCandlesStrat\n",
       "_equity_curve                             ...\n",
       "_trades                      Size  EntryBa...\n",
       "dtype: object"
      ]
     },
     "execution_count": 67,
     "metadata": {},
     "output_type": "execute_result"
    }
   ],
   "source": [
    "#fixed distance Trailing SL\n",
    "from backtesting import Strategy, Backtest\n",
    "\n",
    "class MyCandlesStrat(Strategy):\n",
    "    def init(self):\n",
    "        super().init()\n",
    "        self.signal1 = self.I(SIGNAL)\n",
    "\n",
    "    def next(self):\n",
    "        super().next()\n",
    "        sltr=self.data.Close[-1]*0.02\n",
    "\n",
    "        for trade in self.trades: \n",
    "            if trade.is_long: \n",
    "                trade.sl = max(trade.sl or -np.inf, self.data.Close[-1] - sltr)\n",
    "            else:\n",
    "                trade.sl = min(trade.sl or np.inf, self.data.Close[-1] + sltr) \n",
    "        \n",
    "        if self.signal1==2 and len(self.trades)==0: \n",
    "            sl1 = self.data.Close[-1] - sltr\n",
    "            self.buy(sl=sl1)\n",
    "        elif self.signal1==1 and len(self.trades)==0: \n",
    "            sl1 = self.data.Close[-1] + sltr\n",
    "            self.sell(sl=sl1)\n",
    "\n",
    "\n",
    "bt = Backtest(data, MyCandlesStrat, cash=100_000, commission=.000)\n",
    "stat = bt.run()\n",
    "stat"
   ]
  },
  {
   "cell_type": "code",
   "execution_count": null,
   "metadata": {},
   "outputs": [
    {
     "name": "stderr",
     "output_type": "stream",
     "text": [
      "BokehDeprecationWarning: Passing lists of formats for DatetimeTickFormatter scales was deprecated in Bokeh 3.0. Configure a single string format for each scale\n",
      "f:\\Python\\Lib\\site-packages\\backtesting\\_plotting.py:250: UserWarning:\n",
      "\n",
      "DatetimeFormatter scales now only accept a single format. Using the first provided: '%d %b'\n",
      "\n",
      "BokehDeprecationWarning: Passing lists of formats for DatetimeTickFormatter scales was deprecated in Bokeh 3.0. Configure a single string format for each scale\n",
      "f:\\Python\\Lib\\site-packages\\backtesting\\_plotting.py:250: UserWarning:\n",
      "\n",
      "DatetimeFormatter scales now only accept a single format. Using the first provided: '%m/%Y'\n",
      "\n",
      "f:\\Python\\Lib\\site-packages\\backtesting\\_plotting.py:659: UserWarning:\n",
      "\n",
      "found multiple competing values for 'toolbar.active_drag' property; using the latest value\n",
      "\n",
      "f:\\Python\\Lib\\site-packages\\backtesting\\_plotting.py:659: UserWarning:\n",
      "\n",
      "found multiple competing values for 'toolbar.active_scroll' property; using the latest value\n",
      "\n"
     ]
    },
    {
     "data": {
      "text/html": [
       "<div style=\"display: table;\"><div style=\"display: table-row;\"><div style=\"display: table-cell;\"><b title=\"bokeh.models.plots.GridPlot\">GridPlot</b>(</div><div style=\"display: table-cell;\">id&nbsp;=&nbsp;'p2561', <span id=\"p2590\" style=\"cursor: pointer;\">&hellip;)</span></div></div><div class=\"p2589\" style=\"display: none;\"><div style=\"display: table-cell;\"></div><div style=\"display: table-cell;\">align&nbsp;=&nbsp;'auto',</div></div><div class=\"p2589\" style=\"display: none;\"><div style=\"display: table-cell;\"></div><div style=\"display: table-cell;\">aspect_ratio&nbsp;=&nbsp;None,</div></div><div class=\"p2589\" style=\"display: none;\"><div style=\"display: table-cell;\"></div><div style=\"display: table-cell;\">children&nbsp;=&nbsp;[(figure(id='p2272', ...), 0, 0), (figure(id='p2365', ...), 1, 0), (figure(id='p2232', ...), 2, 0), (figure(id='p2416', ...), 3, 0), (figure(id='p2507', ...), 4, 0)],</div></div><div class=\"p2589\" style=\"display: none;\"><div style=\"display: table-cell;\"></div><div style=\"display: table-cell;\">cols&nbsp;=&nbsp;None,</div></div><div class=\"p2589\" style=\"display: none;\"><div style=\"display: table-cell;\"></div><div style=\"display: table-cell;\">context_menu&nbsp;=&nbsp;None,</div></div><div class=\"p2589\" style=\"display: none;\"><div style=\"display: table-cell;\"></div><div style=\"display: table-cell;\">css_classes&nbsp;=&nbsp;[],</div></div><div class=\"p2589\" style=\"display: none;\"><div style=\"display: table-cell;\"></div><div style=\"display: table-cell;\">disabled&nbsp;=&nbsp;False,</div></div><div class=\"p2589\" style=\"display: none;\"><div style=\"display: table-cell;\"></div><div style=\"display: table-cell;\">flow_mode&nbsp;=&nbsp;'block',</div></div><div class=\"p2589\" style=\"display: none;\"><div style=\"display: table-cell;\"></div><div style=\"display: table-cell;\">height&nbsp;=&nbsp;None,</div></div><div class=\"p2589\" style=\"display: none;\"><div style=\"display: table-cell;\"></div><div style=\"display: table-cell;\">height_policy&nbsp;=&nbsp;'auto',</div></div><div class=\"p2589\" style=\"display: none;\"><div style=\"display: table-cell;\"></div><div style=\"display: table-cell;\">js_event_callbacks&nbsp;=&nbsp;{},</div></div><div class=\"p2589\" style=\"display: none;\"><div style=\"display: table-cell;\"></div><div style=\"display: table-cell;\">js_property_callbacks&nbsp;=&nbsp;{},</div></div><div class=\"p2589\" style=\"display: none;\"><div style=\"display: table-cell;\"></div><div style=\"display: table-cell;\">margin&nbsp;=&nbsp;None,</div></div><div class=\"p2589\" style=\"display: none;\"><div style=\"display: table-cell;\"></div><div style=\"display: table-cell;\">max_height&nbsp;=&nbsp;None,</div></div><div class=\"p2589\" style=\"display: none;\"><div style=\"display: table-cell;\"></div><div style=\"display: table-cell;\">max_width&nbsp;=&nbsp;None,</div></div><div class=\"p2589\" style=\"display: none;\"><div style=\"display: table-cell;\"></div><div style=\"display: table-cell;\">min_height&nbsp;=&nbsp;None,</div></div><div class=\"p2589\" style=\"display: none;\"><div style=\"display: table-cell;\"></div><div style=\"display: table-cell;\">min_width&nbsp;=&nbsp;None,</div></div><div class=\"p2589\" style=\"display: none;\"><div style=\"display: table-cell;\"></div><div style=\"display: table-cell;\">name&nbsp;=&nbsp;None,</div></div><div class=\"p2589\" style=\"display: none;\"><div style=\"display: table-cell;\"></div><div style=\"display: table-cell;\">resizable&nbsp;=&nbsp;False,</div></div><div class=\"p2589\" style=\"display: none;\"><div style=\"display: table-cell;\"></div><div style=\"display: table-cell;\">rows&nbsp;=&nbsp;None,</div></div><div class=\"p2589\" style=\"display: none;\"><div style=\"display: table-cell;\"></div><div style=\"display: table-cell;\">sizing_mode&nbsp;=&nbsp;'stretch_width',</div></div><div class=\"p2589\" style=\"display: none;\"><div style=\"display: table-cell;\"></div><div style=\"display: table-cell;\">spacing&nbsp;=&nbsp;0,</div></div><div class=\"p2589\" style=\"display: none;\"><div style=\"display: table-cell;\"></div><div style=\"display: table-cell;\">styles&nbsp;=&nbsp;{},</div></div><div class=\"p2589\" style=\"display: none;\"><div style=\"display: table-cell;\"></div><div style=\"display: table-cell;\">stylesheets&nbsp;=&nbsp;[],</div></div><div class=\"p2589\" style=\"display: none;\"><div style=\"display: table-cell;\"></div><div style=\"display: table-cell;\">subscribed_events&nbsp;=&nbsp;PropertyValueSet(),</div></div><div class=\"p2589\" style=\"display: none;\"><div style=\"display: table-cell;\"></div><div style=\"display: table-cell;\">syncable&nbsp;=&nbsp;True,</div></div><div class=\"p2589\" style=\"display: none;\"><div style=\"display: table-cell;\"></div><div style=\"display: table-cell;\">tags&nbsp;=&nbsp;[],</div></div><div class=\"p2589\" style=\"display: none;\"><div style=\"display: table-cell;\"></div><div style=\"display: table-cell;\">toolbar&nbsp;=&nbsp;Toolbar(id='p2560', ...),</div></div><div class=\"p2589\" style=\"display: none;\"><div style=\"display: table-cell;\"></div><div style=\"display: table-cell;\">toolbar_location&nbsp;=&nbsp;'right',</div></div><div class=\"p2589\" style=\"display: none;\"><div style=\"display: table-cell;\"></div><div style=\"display: table-cell;\">visible&nbsp;=&nbsp;True,</div></div><div class=\"p2589\" style=\"display: none;\"><div style=\"display: table-cell;\"></div><div style=\"display: table-cell;\">width&nbsp;=&nbsp;None,</div></div><div class=\"p2589\" style=\"display: none;\"><div style=\"display: table-cell;\"></div><div style=\"display: table-cell;\">width_policy&nbsp;=&nbsp;'auto')</div></div></div>\n",
       "<script>\n",
       "(function() {\n",
       "  let expanded = false;\n",
       "  const ellipsis = document.getElementById(\"p2590\");\n",
       "  ellipsis.addEventListener(\"click\", function() {\n",
       "    const rows = document.getElementsByClassName(\"p2589\");\n",
       "    for (let i = 0; i < rows.length; i++) {\n",
       "      const el = rows[i];\n",
       "      el.style.display = expanded ? \"none\" : \"table-row\";\n",
       "    }\n",
       "    ellipsis.innerHTML = expanded ? \"&hellip;)\" : \"&lsaquo;&lsaquo;&lsaquo;\";\n",
       "    expanded = !expanded;\n",
       "  });\n",
       "})();\n",
       "</script>\n"
      ],
      "text/plain": [
       "GridPlot(id='p2561', ...)"
      ]
     },
     "execution_count": 64,
     "metadata": {},
     "output_type": "execute_result"
    }
   ],
   "source": [
    "bt.plot()"
   ]
  },
  {
   "cell_type": "code",
   "execution_count": null,
   "metadata": {},
   "outputs": [
    {
     "data": {
      "text/plain": [
       "Start                     2021-01-24 00:00:00\n",
       "End                       2023-10-20 00:00:00\n",
       "Duration                    999 days 00:00:00\n",
       "Exposure Time [%]                         8.5\n",
       "Equity Final [$]                114399.742824\n",
       "Equity Peak [$]                 124148.873143\n",
       "Return [%]                          14.399743\n",
       "Buy & Hold Return [%]               -8.648288\n",
       "Return (Ann.) [%]                    5.032848\n",
       "Volatility (Ann.) [%]               12.076801\n",
       "Sharpe Ratio                         0.416737\n",
       "Sortino Ratio                        0.726958\n",
       "Calmar Ratio                         0.399561\n",
       "Max. Drawdown [%]                  -12.595935\n",
       "Avg. Drawdown [%]                   -5.345708\n",
       "Max. Drawdown Duration      325 days 00:00:00\n",
       "Avg. Drawdown Duration      130 days 00:00:00\n",
       "# Trades                                    7\n",
       "Win Rate [%]                        57.142857\n",
       "Best Trade [%]                      24.433671\n",
       "Worst Trade [%]                     -7.018164\n",
       "Avg. Trade [%]                       2.250344\n",
       "Max. Trade Duration          25 days 00:00:00\n",
       "Avg. Trade Duration          12 days 00:00:00\n",
       "Profit Factor                        2.046146\n",
       "Expectancy [%]                       2.729663\n",
       "SQN                                  0.575954\n",
       "_strategy                      MyCandlesStrat\n",
       "_equity_curve                             ...\n",
       "_trades                      Size  EntryBa...\n",
       "dtype: object"
      ]
     },
     "execution_count": 73,
     "metadata": {},
     "output_type": "execute_result"
    }
   ],
   "source": [
    "#ATR based Trailing Stop\n",
    "from backtesting import Strategy, Backtest\n",
    "\n",
    "class MyCandlesStrat(Strategy):\n",
    "    atr_f = 0.6\n",
    "    def init(self):\n",
    "        super().init()\n",
    "        self.signal1 = self.I(SIGNAL)\n",
    "        self.sltr=0\n",
    "\n",
    "    def next(self):\n",
    "        super().next()\n",
    "        \n",
    "        for trade in self.trades: \n",
    "            if trade.is_long: \n",
    "                trade.sl = max(trade.sl or -np.inf, self.data.Close[-1] - self.sltr)\n",
    "            else:\n",
    "                trade.sl = min(trade.sl or np.inf, self.data.Close[-1] + self.sltr)\n",
    "\n",
    "        if self.signal1==2 and len(self.trades)==0: \n",
    "            self.sltr=self.data.ATR[-1]/self.atr_f\n",
    "            sl1 = self.data.Close[-1] - self.data.ATR[-1]/self.atr_f\n",
    "            self.buy(sl=sl1)\n",
    "        elif self.signal1==1 and len(self.trades)==0: \n",
    "            self.sltr=self.data.ATR[-1]/self.atr_f\n",
    "            sl1 = self.data.Close[-1] + self.data.ATR[-1]/self.atr_f\n",
    "            self.sell(sl=sl1)\n",
    "bt = Backtest(data, MyCandlesStrat, cash=100_000, commission=.000)\n",
    "stat = bt.run()\n",
    "stat"
   ]
  },
  {
   "cell_type": "markdown",
   "metadata": {},
   "source": [
    "## 5- Lot sizing and trade management"
   ]
  },
  {
   "cell_type": "code",
   "execution_count": null,
   "metadata": {},
   "outputs": [
    {
     "data": {
      "text/plain": [
       "Start                     2021-01-25 00:00:00\n",
       "End                       2023-10-21 00:00:00\n",
       "Duration                    999 days 00:00:00\n",
       "Exposure Time [%]                        14.8\n",
       "Equity Final [$]                127516.368555\n",
       "Equity Peak [$]                 127516.368555\n",
       "Return [%]                          27.516369\n",
       "Buy & Hold Return [%]               -7.834244\n",
       "Return (Ann.) [%]                    9.277705\n",
       "Volatility (Ann.) [%]               11.232617\n",
       "Sharpe Ratio                         0.825961\n",
       "Sortino Ratio                         1.73729\n",
       "Calmar Ratio                         1.273648\n",
       "Max. Drawdown [%]                   -7.284353\n",
       "Avg. Drawdown [%]                    -2.22581\n",
       "Max. Drawdown Duration      204 days 00:00:00\n",
       "Avg. Drawdown Duration       21 days 00:00:00\n",
       "# Trades                                   13\n",
       "Win Rate [%]                        92.307692\n",
       "Best Trade [%]                      10.216479\n",
       "Worst Trade [%]                    -11.763017\n",
       "Avg. Trade [%]                       6.037568\n",
       "Max. Trade Duration          41 days 00:00:00\n",
       "Avg. Trade Duration          20 days 00:00:00\n",
       "Profit Factor                        7.847304\n",
       "Expectancy [%]                       6.195765\n",
       "SQN                                  4.458649\n",
       "_strategy                      MyCandlesStrat\n",
       "_equity_curve                             ...\n",
       "_trades                       Size  EntryB...\n",
       "dtype: object"
      ]
     },
     "execution_count": 49,
     "metadata": {},
     "output_type": "execute_result"
    }
   ],
   "source": [
    "class MyCandlesStrat(Strategy):\n",
    "    lotsize = 1 \n",
    "    def init(self):\n",
    "        super().init()\n",
    "        self.signal1 = self.I(SIGNAL)\n",
    "        self.ratio = 1.\n",
    "        self.risk_perc = 0.1\n",
    "\n",
    "    def next(self):\n",
    "        super().next() \n",
    "        if self.signal1==2 and len(self.trades)==0:\n",
    "            sl1 = self.data.Close[-1] - self.data.Close[-1]*self.risk_perc\n",
    "            tp1 = self.data.Close[-1] + (self.data.Close[-1]*self.risk_perc)*self.ratio*0.8\n",
    "            tp2 = self.data.Close[-1] + (self.data.Close[-1]*self.risk_perc)*self.ratio*1.2\n",
    "            self.buy(sl=sl1, tp=tp1, size=self.lotsize)\n",
    "            self.buy(sl=sl1, tp=tp2, size=self.lotsize)\n",
    "        elif self.signal1==1 and len(self.trades)==0:\n",
    "            sl1 = self.data.Close[-1] + self.data.Close[-1]*self.risk_perc\n",
    "            tp1 = self.data.Close[-1] - (self.data.Close[-1]*self.risk_perc)*self.ratio*0.8\n",
    "            tp2 = self.data.Close[-1] - (self.data.Close[-1]*self.risk_perc)*self.ratio*1.2\n",
    "            self.sell(sl=sl1, tp=tp1, size=self.lotsize)\n",
    "            self.sell(sl=sl1, tp=tp2, size=self.lotsize)\n",
    "bt = Backtest(data, MyCandlesStrat, cash=100_000, margin=1/1, commission=.02)\n",
    "stat = bt.run()\n",
    "stat"
   ]
  },
  {
   "cell_type": "code",
   "execution_count": null,
   "metadata": {},
   "outputs": [],
   "source": []
  }
 ],
 "metadata": {
  "kernelspec": {
   "display_name": ".venv",
   "language": "python",
   "name": "python3"
  },
  "language_info": {
   "codemirror_mode": {
    "name": "ipython",
    "version": 3
   },
   "file_extension": ".py",
   "mimetype": "text/x-python",
   "name": "python",
   "nbconvert_exporter": "python",
   "pygments_lexer": "ipython3",
   "version": "3.11.2"
  }
 },
 "nbformat": 4,
 "nbformat_minor": 2
}
